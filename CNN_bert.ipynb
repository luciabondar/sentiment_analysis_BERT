{
  "cells": [
    {
      "cell_type": "code",
      "execution_count": null,
      "metadata": {
        "colab": {
          "base_uri": "https://localhost:8080/"
        },
        "id": "jnwGDmMpb_4z",
        "outputId": "b8a36ccf-b971-4311-ee87-2db02869d466"
      },
      "outputs": [
        {
          "output_type": "execute_result",
          "data": {
            "text/plain": [
              "device(type='cuda')"
            ]
          },
          "metadata": {},
          "execution_count": 29
        }
      ],
      "source": [
        "import torch\n",
        "from torchtext import data\n",
        "from torchtext import datasets\n",
        "import random\n",
        "import numpy as np\n",
        "\n",
        "SEED = 1234\n",
        "\n",
        "random.seed(SEED)\n",
        "np.random.seed(SEED)\n",
        "torch.manual_seed(SEED)\n",
        "torch.backends.cudnn.deterministic = True\n",
        "\n",
        "device = torch.device(\"cuda\") if torch.cuda.is_available() else torch.device(\"cpu\")\n",
        "device"
      ]
    },
    {
      "cell_type": "code",
      "execution_count": null,
      "metadata": {
        "colab": {
          "base_uri": "https://localhost:8080/"
        },
        "id": "IpMhmJZgcL8x",
        "outputId": "5428e6cc-b8a0-48f8-f8a1-223009022a8f"
      },
      "outputs": [
        {
          "output_type": "stream",
          "name": "stdout",
          "text": [
            "Drive already mounted at /drive; to attempt to forcibly remount, call drive.mount(\"/drive\", force_remount=True).\n"
          ]
        }
      ],
      "source": [
        "from google.colab import drive\n",
        "import pandas as pd\n",
        "\n",
        "drive.mount('/drive')"
      ]
    },
    {
      "cell_type": "code",
      "execution_count": null,
      "metadata": {
        "colab": {
          "base_uri": "https://localhost:8080/",
          "height": 35
        },
        "id": "cPvnZetocPoI",
        "outputId": "4fd1ab42-903b-4188-cbcb-2736afa7deb8"
      },
      "outputs": [
        {
          "output_type": "execute_result",
          "data": {
            "text/plain": [
              "'/drive/MyDrive/inflation_reports'"
            ],
            "application/vnd.google.colaboratory.intrinsic+json": {
              "type": "string"
            }
          },
          "metadata": {},
          "execution_count": 31
        }
      ],
      "source": [
        "import os\n",
        "\n",
        "os.chdir(\"/drive/MyDrive/inflation_reports\") \n",
        "os.getcwd()"
      ]
    },
    {
      "cell_type": "code",
      "execution_count": null,
      "metadata": {
        "id": "9pjujyNncS3s"
      },
      "outputs": [],
      "source": [
        "path = \"/drive/MyDrive/inflation_reports/dataset/data.csv\"\n",
        "df = pd.read_csv(path, encoding='latin-1')"
      ]
    },
    {
      "cell_type": "code",
      "execution_count": null,
      "metadata": {
        "id": "nVunUeTccbMx"
      },
      "outputs": [],
      "source": [
        "def to_sentiment(rating):\n",
        "\n",
        "  if rating == 'negative':\n",
        "    return 0\n",
        "  elif rating == 'neutral':\n",
        "    return 1\n",
        "  elif rating == 'positive':\n",
        "    return 2\n",
        "\n",
        "df['score'] = df.sentiment.apply(to_sentiment)"
      ]
    },
    {
      "cell_type": "code",
      "execution_count": null,
      "metadata": {
        "id": "u5Rvtrmecofm"
      },
      "outputs": [],
      "source": [
        "from sklearn.model_selection import train_test_split\n",
        "RANDOM_SEED = 42\n",
        "\n",
        "df_train, df_test = train_test_split(df, test_size=0.2, random_state=RANDOM_SEED)"
      ]
    },
    {
      "cell_type": "code",
      "execution_count": null,
      "metadata": {
        "id": "7utDRTFCc8QL"
      },
      "outputs": [],
      "source": [
        "train_sentences = list(df_train['sentence'].values)\n",
        "train_labels = list(df_train['score'].values)\n",
        "\n",
        "dev_sentences = list(df_test['sentence'].values)\n",
        "dev_labels = list(df_test['score'].values)"
      ]
    },
    {
      "cell_type": "code",
      "execution_count": null,
      "metadata": {
        "id": "FRrO15dBdXcU"
      },
      "outputs": [],
      "source": [
        "!pip install -qq transformers\n",
        "\n",
        "import transformers\n",
        "from transformers import BertModel, BertTokenizer, AdamW\n",
        "\n",
        "PRE_TRAINED_MODEL_NAME = 'bert-base-cased'\n",
        "tokenizer = BertTokenizer.from_pretrained(PRE_TRAINED_MODEL_NAME, return_dict = False)"
      ]
    },
    {
      "cell_type": "code",
      "execution_count": null,
      "metadata": {
        "colab": {
          "base_uri": "https://localhost:8080/"
        },
        "id": "1MAxsj-sdqQx",
        "outputId": "269f25f7-43ff-4dd8-fcc4-73490f1a3838"
      },
      "outputs": [
        {
          "output_type": "execute_result",
          "data": {
            "text/plain": [
              "[(26, 141),\n",
              " (25, 137),\n",
              " (22, 133),\n",
              " (23, 131),\n",
              " (24, 123),\n",
              " (18, 119),\n",
              " (28, 119),\n",
              " (20, 118),\n",
              " (21, 115),\n",
              " (15, 113),\n",
              " (27, 111),\n",
              " (19, 109),\n",
              " (16, 107),\n",
              " (17, 107),\n",
              " (30, 103),\n",
              " (29, 100),\n",
              " (31, 98),\n",
              " (32, 96),\n",
              " (14, 95),\n",
              " (33, 88),\n",
              " (35, 82),\n",
              " (12, 82),\n",
              " (34, 81),\n",
              " (13, 80),\n",
              " (39, 65),\n",
              " (38, 63),\n",
              " (36, 62),\n",
              " (40, 57),\n",
              " (10, 56),\n",
              " (37, 56),\n",
              " (41, 53),\n",
              " (11, 51),\n",
              " (45, 50),\n",
              " (42, 48),\n",
              " (50, 46),\n",
              " (46, 44),\n",
              " (48, 44),\n",
              " (47, 43),\n",
              " (43, 39),\n",
              " (49, 35),\n",
              " (51, 35),\n",
              " (44, 27),\n",
              " (54, 26),\n",
              " (55, 25),\n",
              " (8, 25),\n",
              " (57, 22),\n",
              " (9, 21),\n",
              " (56, 20),\n",
              " (52, 18),\n",
              " (59, 18),\n",
              " (7, 18),\n",
              " (53, 18),\n",
              " (61, 17),\n",
              " (58, 16),\n",
              " (6, 14),\n",
              " (66, 14),\n",
              " (62, 14),\n",
              " (64, 14),\n",
              " (65, 12),\n",
              " (68, 11),\n",
              " (60, 11),\n",
              " (69, 11),\n",
              " (63, 10),\n",
              " (70, 9),\n",
              " (5, 6),\n",
              " (72, 5),\n",
              " (77, 5),\n",
              " (67, 5),\n",
              " (71, 4),\n",
              " (76, 4),\n",
              " (4, 3),\n",
              " (74, 3),\n",
              " (73, 2),\n",
              " (75, 2),\n",
              " (79, 1),\n",
              " (80, 1),\n",
              " (96, 1),\n",
              " (3, 1),\n",
              " (98, 1),\n",
              " (109, 1),\n",
              " (90, 1),\n",
              " (83, 1),\n",
              " (92, 1),\n",
              " (153, 1),\n",
              " (122, 1)]"
            ]
          },
          "metadata": {},
          "execution_count": 37
        }
      ],
      "source": [
        "#choose max_length for bert model based on the input length\n",
        "\n",
        "max_length = 0\n",
        "list_len=[]\n",
        "for sentence in train_sentences:\n",
        "    #print(sentence)\n",
        "    length = len(tokenizer.tokenize(sentence))\n",
        "    list_len.append(length)\n",
        "    \n",
        "from collections import Counter\n",
        "Counter(list_len).most_common(100)"
      ]
    },
    {
      "cell_type": "code",
      "execution_count": null,
      "metadata": {
        "id": "TIEBir-CduNZ"
      },
      "outputs": [],
      "source": [
        "from sklearn import preprocessing\n",
        "\n",
        "le = preprocessing.LabelEncoder()\n",
        "le.fit(train_labels)\n",
        "encoded_labels = le.transform(train_labels)\n",
        "encoded_test_labels = le.transform(dev_labels)"
      ]
    },
    {
      "cell_type": "code",
      "execution_count": null,
      "metadata": {
        "colab": {
          "base_uri": "https://localhost:8080/"
        },
        "id": "ciq4K4Zwdxfy",
        "outputId": "b986219e-68f9-4b34-8e2a-9506a0e99966"
      },
      "outputs": [
        {
          "output_type": "stream",
          "name": "stderr",
          "text": [
            "/usr/local/lib/python3.7/dist-packages/transformers/tokenization_utils_base.py:2291: FutureWarning: The `pad_to_max_length` argument is deprecated and will be removed in a future version, use `padding=True` or `padding='longest'` to pad to the longest sequence in the batch, or use `padding='max_length'` to pad to a max length. In this case, you can give a specific length with `max_length` (e.g. `max_length=45`) or leave max_length to None to pad to the maximal input size of the model (e.g. 512 for Bert).\n",
            "  FutureWarning,\n"
          ]
        },
        {
          "output_type": "stream",
          "name": "stdout",
          "text": [
            "Original:  In Russia , Raisio 's Food Division 's home market stretches all the way to Vladivostok .\n",
            "Token IDs: tensor([  101,  1130,  2733,   117, 20089, 23652,   112,   188,  6702,  1784,\n",
            "          112,   188,  1313,  2319, 14664,  1155,  1103,  1236,  1106, 20868,\n",
            "        15435, 12223,  1377,   119,   102,     0,     0,     0,     0,     0,\n",
            "            0,     0,     0,     0,     0,     0,     0,     0,     0,     0,\n",
            "            0,     0,     0,     0,     0,     0,     0,     0,     0,     0,\n",
            "            0,     0,     0,     0,     0,     0,     0,     0,     0,     0,\n",
            "            0,     0,     0,     0,     0,     0,     0,     0,     0,     0,\n",
            "            0,     0,     0,     0,     0,     0,     0,     0,     0,     0,\n",
            "            0,     0,     0,     0,     0,     0,     0,     0,     0,     0,\n",
            "            0,     0,     0,     0,     0,     0,     0,     0,     0,     0,\n",
            "            0,     0,     0,     0,     0,     0,     0,     0,     0,     0,\n",
            "            0,     0,     0,     0,     0,     0,     0,     0,     0,     0,\n",
            "            0,     0,     0,     0,     0,     0,     0,     0,     0,     0,\n",
            "            0,     0,     0,     0,     0,     0,     0,     0,     0,     0,\n",
            "            0,     0,     0,     0,     0,     0,     0,     0,     0,     0,\n",
            "            0,     0,     0,     0,     0,     0,     0,     0,     0,     0,\n",
            "            0,     0,     0,     0,     0,     0,     0,     0,     0,     0,\n",
            "            0,     0,     0,     0,     0,     0,     0,     0,     0,     0,\n",
            "            0,     0,     0,     0,     0,     0,     0,     0,     0,     0,\n",
            "            0,     0,     0,     0,     0,     0,     0,     0,     0,     0,\n",
            "            0,     0,     0,     0,     0,     0,     0,     0,     0,     0,\n",
            "            0,     0,     0,     0,     0,     0,     0,     0,     0,     0,\n",
            "            0,     0,     0,     0,     0,     0,     0,     0,     0,     0,\n",
            "            0,     0,     0,     0,     0,     0,     0,     0,     0,     0,\n",
            "            0,     0,     0,     0,     0,     0,     0,     0,     0,     0,\n",
            "            0,     0,     0,     0,     0,     0,     0,     0,     0,     0,\n",
            "            0,     0,     0,     0,     0,     0,     0,     0,     0,     0,\n",
            "            0,     0,     0,     0,     0,     0,     0,     0,     0,     0,\n",
            "            0,     0,     0,     0,     0,     0,     0,     0,     0,     0,\n",
            "            0,     0,     0,     0,     0,     0,     0,     0,     0,     0,\n",
            "            0,     0,     0,     0,     0,     0,     0,     0,     0,     0,\n",
            "            0,     0,     0,     0,     0,     0,     0,     0,     0,     0,\n",
            "            0,     0,     0,     0,     0,     0,     0,     0,     0,     0,\n",
            "            0,     0,     0,     0,     0,     0,     0,     0,     0,     0,\n",
            "            0,     0,     0,     0,     0,     0,     0,     0,     0,     0,\n",
            "            0,     0,     0,     0,     0,     0,     0,     0,     0,     0,\n",
            "            0,     0,     0,     0,     0,     0,     0,     0,     0,     0,\n",
            "            0,     0,     0,     0,     0,     0,     0,     0,     0,     0,\n",
            "            0,     0,     0,     0,     0,     0,     0,     0,     0,     0,\n",
            "            0,     0,     0,     0,     0,     0,     0,     0,     0,     0,\n",
            "            0,     0,     0,     0,     0,     0,     0,     0,     0,     0,\n",
            "            0,     0,     0,     0,     0,     0,     0,     0,     0,     0,\n",
            "            0,     0,     0,     0,     0,     0,     0,     0,     0,     0,\n",
            "            0,     0,     0,     0,     0,     0,     0,     0,     0,     0,\n",
            "            0,     0,     0,     0,     0,     0,     0,     0,     0,     0,\n",
            "            0,     0,     0,     0,     0,     0,     0,     0,     0,     0,\n",
            "            0,     0,     0,     0,     0,     0,     0,     0,     0,     0,\n",
            "            0,     0,     0,     0,     0,     0,     0,     0,     0,     0,\n",
            "            0,     0,     0,     0,     0,     0,     0,     0,     0,     0,\n",
            "            0,     0,     0,     0,     0,     0,     0,     0,     0,     0])\n"
          ]
        }
      ],
      "source": [
        "def encoder_generator(sentences,labels):\n",
        "    \n",
        "    sent_index = []\n",
        "    input_ids = []\n",
        "    attention_masks =[]\n",
        "\n",
        "    for index,sent in enumerate(sentences):\n",
        "        \n",
        "        sent_index.append(index)\n",
        "        \n",
        "        encoded_dict = tokenizer.encode_plus(sent,\n",
        "                                             add_special_tokens=True,\n",
        "                                             max_length=500,\n",
        "                                             pad_to_max_length=True,\n",
        "                                             truncation = True,\n",
        "                                             return_attention_mask=True,\n",
        "                                             return_tensors='pt')\n",
        "        input_ids.append(encoded_dict['input_ids'])\n",
        "\n",
        "        attention_masks.append(encoded_dict['attention_mask'])\n",
        "\n",
        "    input_ids = torch.cat(input_ids,dim=0)\n",
        "    attention_masks = torch.cat(attention_masks,dim=0)\n",
        "    labels = torch.tensor(labels)\n",
        "    sent_index = torch.tensor(sent_index)\n",
        "\n",
        "    return sent_index,input_ids,attention_masks,labels\n",
        "\n",
        "train_sent_index,train_input_ids,train_attention_masks,train_encoded_label_tensors = encoder_generator(train_sentences,encoded_labels)\n",
        "dev_sent_index,dev_input_ids,dev_attention_masks,dev_encoded_label_tensors = encoder_generator(dev_sentences,encoded_test_labels)\n",
        "print('Original: ', train_sentences[0])\n",
        "print('Token IDs:', train_input_ids[0])"
      ]
    },
    {
      "cell_type": "code",
      "execution_count": null,
      "metadata": {
        "colab": {
          "base_uri": "https://localhost:8080/"
        },
        "id": "P1UHmJyNd4KI",
        "outputId": "64218246-97fa-47e9-ab13-cb17066be536"
      },
      "outputs": [
        {
          "output_type": "stream",
          "name": "stdout",
          "text": [
            "train data samples is 3876\n",
            "valid data samples is 970\n"
          ]
        }
      ],
      "source": [
        "from torch.utils.data import TensorDataset,random_split\n",
        "\n",
        "train_dataset = TensorDataset(train_input_ids,train_attention_masks,train_encoded_label_tensors)\n",
        "dev_dataset = TensorDataset(dev_input_ids,dev_attention_masks,dev_encoded_label_tensors)\n",
        "\n",
        "\n",
        "print('train data samples is {}'.format(len(train_dataset)))\n",
        "print(\"valid data samples is {}\".format(len(dev_dataset)))"
      ]
    },
    {
      "cell_type": "code",
      "execution_count": null,
      "metadata": {
        "id": "GDoCN6Jpd7TJ"
      },
      "outputs": [],
      "source": [
        "from torch.utils.data import DataLoader,RandomSampler,SequentialSampler\n",
        "\n",
        "bs=4\n",
        "\n",
        "train_data_loader = DataLoader(train_dataset,\n",
        "                              sampler=RandomSampler(train_dataset),\n",
        "                              batch_size=bs)\n",
        "valid_data_loader = DataLoader(dev_dataset,\n",
        "                              sampler=RandomSampler(dev_dataset),\n",
        "                              batch_size=bs)"
      ]
    },
    {
      "cell_type": "code",
      "execution_count": null,
      "metadata": {
        "colab": {
          "base_uri": "https://localhost:8080/"
        },
        "id": "reCHIzGod-8P",
        "outputId": "eac21611-c3b4-4076-fcaa-6cb7fd238687"
      },
      "outputs": [
        {
          "output_type": "stream",
          "name": "stderr",
          "text": [
            "Some weights of the model checkpoint at bert-base-cased were not used when initializing BertModel: ['cls.seq_relationship.weight', 'cls.seq_relationship.bias', 'cls.predictions.bias', 'cls.predictions.transform.dense.bias', 'cls.predictions.decoder.weight', 'cls.predictions.transform.LayerNorm.bias', 'cls.predictions.transform.LayerNorm.weight', 'cls.predictions.transform.dense.weight']\n",
            "- This IS expected if you are initializing BertModel from the checkpoint of a model trained on another task or with another architecture (e.g. initializing a BertForSequenceClassification model from a BertForPreTraining model).\n",
            "- This IS NOT expected if you are initializing BertModel from the checkpoint of a model that you expect to be exactly identical (initializing a BertForSequenceClassification model from a BertForSequenceClassification model).\n"
          ]
        }
      ],
      "source": [
        "bert_model = BertModel.from_pretrained(PRE_TRAINED_MODEL_NAME, return_dict = False)\n",
        "bert_model = bert_model.to(device)"
      ]
    },
    {
      "cell_type": "code",
      "source": [
        "class BERTGRUSentiment(nn.Module):\n",
        "    def __init__(self,\n",
        "                 bert,\n",
        "                 hidden_dim,\n",
        "                 output_dim,\n",
        "                 n_layers,\n",
        "                 bidirectional,\n",
        "                 dropout):\n",
        "        \n",
        "        super().__init__()\n",
        "        \n",
        "        self.bert = bert\n",
        "        \n",
        "        embedding_dim = bert.config.to_dict()['hidden_size']\n",
        "        \n",
        "        self.rnn = nn.GRU(embedding_dim,\n",
        "                          hidden_dim,\n",
        "                          num_layers = n_layers,\n",
        "                          bidirectional = bidirectional,\n",
        "                          batch_first = True,\n",
        "                          dropout = 0 if n_layers < 2 else dropout)\n",
        "        \n",
        "        self.out = nn.Linear(hidden_dim * 2 if bidirectional else hidden_dim, output_dim)\n",
        "        \n",
        "        self.dropout = nn.Dropout(dropout)\n",
        "        \n",
        "    def forward(self, text):\n",
        "        \n",
        "        #text = [batch size, sent len]\n",
        "                \n",
        "        with torch.no_grad():\n",
        "            embedded = self.bert(text)[0]\n",
        "                \n",
        "        #embedded = [batch size, sent len, emb dim]\n",
        "        \n",
        "        _, hidden = self.rnn(embedded)\n",
        "        \n",
        "        #hidden = [n layers * n directions, batch size, emb dim]\n",
        "        \n",
        "        if self.rnn.bidirectional:\n",
        "            hidden = self.dropout(torch.cat((hidden[-2,:,:], hidden[-1,:,:]), dim = 1))\n",
        "        else:\n",
        "            hidden = self.dropout(hidden[-1,:,:])\n",
        "                \n",
        "        #hidden = [batch size, hid dim]\n",
        "        \n",
        "        output = self.out(hidden)\n",
        "        \n",
        "        #output = [batch size, out dim]\n",
        "        \n",
        "        return output"
      ],
      "metadata": {
        "id": "oRXimZ7d6C4i"
      },
      "execution_count": null,
      "outputs": []
    },
    {
      "cell_type": "code",
      "execution_count": null,
      "metadata": {
        "id": "aUM89npSfU6I"
      },
      "outputs": [],
      "source": [
        "import torch.nn as nn\n",
        "import torch.nn.functional as F\n",
        "\n",
        "class CNN(nn.Module):\n",
        "    def __init__(self, embedding_dim, n_filters, filter_sizes, output_dim, \n",
        "                 dropout, pad_idx):\n",
        "        \n",
        "        super().__init__()\n",
        "        \n",
        "        self.fc_input = nn.Linear(embedding_dim,embedding_dim)\n",
        "        \n",
        "        self.conv_0 = nn.Conv1d(in_channels = embedding_dim, \n",
        "                                out_channels = n_filters, \n",
        "                                kernel_size = filter_sizes[0])\n",
        "        \n",
        "        self.conv_1 = nn.Conv1d(in_channels = embedding_dim, \n",
        "                                out_channels = n_filters, \n",
        "                                kernel_size = filter_sizes[1])\n",
        "        \n",
        "        self.conv_2 = nn.Conv1d(in_channels = embedding_dim, \n",
        "                                out_channels = n_filters, \n",
        "                                kernel_size = filter_sizes[2])\n",
        "        \n",
        "        self.fc = nn.Linear(len(filter_sizes) * n_filters, output_dim)\n",
        "        \n",
        "        self.dropout = nn.Dropout(dropout)\n",
        "        \n",
        "    def forward(self, encoded):\n",
        "                \n",
        "        #embedded = [batch size, sent len, emb dim]\n",
        "        embedded = self.fc_input(encoded)\n",
        "        #print(embedded.shape)\n",
        "        \n",
        "        embedded = embedded.permute(0, 2, 1)\n",
        "        #print(embedded.shape)\n",
        "        \n",
        "        #embedded = [batch size, emb dim, sent len]\n",
        "        \n",
        "        conved_0 = F.relu(self.conv_0(embedded))\n",
        "        conved_1 = F.relu(self.conv_1(embedded))\n",
        "        conved_2 = F.relu(self.conv_2(embedded))\n",
        "            \n",
        "        #conved_n = [batch size, n_filters, sent len - filter_sizes[n] + 1]\n",
        "        \n",
        "        pooled_0 = F.max_pool1d(conved_0, conved_0.shape[2]).squeeze(2)\n",
        "        pooled_1 = F.max_pool1d(conved_1, conved_1.shape[2]).squeeze(2)\n",
        "        pooled_2 = F.max_pool1d(conved_2, conved_2.shape[2]).squeeze(2)\n",
        "        \n",
        "        #pooled_n = [batch size, n_fibatlters]\n",
        "        \n",
        "        cat = self.dropout(torch.cat((pooled_0, pooled_1, pooled_2), dim = 1))\n",
        "\n",
        "        #cat = [batch size, n_filters * len(filter_sizes)]\n",
        "            \n",
        "        result =  self.fc(cat)\n",
        "        \n",
        "        #print(result.shape)\n",
        "        \n",
        "        return result"
      ]
    },
    {
      "cell_type": "code",
      "execution_count": null,
      "metadata": {
        "id": "Ym1bBZmpfWK3",
        "colab": {
          "base_uri": "https://localhost:8080/",
          "height": 383
        },
        "outputId": "f431df5d-83e3-4c1b-81fc-e89456ac2b06"
      },
      "outputs": [
        {
          "output_type": "error",
          "ename": "TypeError",
          "evalue": "ignored",
          "traceback": [
            "\u001b[0;31m---------------------------------------------------------------------------\u001b[0m",
            "\u001b[0;31mTypeError\u001b[0m                                 Traceback (most recent call last)",
            "\u001b[0;32m<ipython-input-56-77d53ba22367>\u001b[0m in \u001b[0;36m<module>\u001b[0;34m()\u001b[0m\n\u001b[1;32m      9\u001b[0m \u001b[0mcnn\u001b[0m \u001b[0;34m=\u001b[0m \u001b[0mcnn\u001b[0m\u001b[0;34m.\u001b[0m\u001b[0mto\u001b[0m\u001b[0;34m(\u001b[0m\u001b[0mdevice\u001b[0m\u001b[0;34m)\u001b[0m\u001b[0;34m\u001b[0m\u001b[0;34m\u001b[0m\u001b[0m\n\u001b[1;32m     10\u001b[0m \u001b[0;34m\u001b[0m\u001b[0m\n\u001b[0;32m---> 11\u001b[0;31m \u001b[0mltsm\u001b[0m \u001b[0;34m=\u001b[0m \u001b[0mBertLSTM\u001b[0m\u001b[0;34m(\u001b[0m\u001b[0;36m768\u001b[0m\u001b[0;34m,\u001b[0m \u001b[0;36m3\u001b[0m\u001b[0;34m,\u001b[0m \u001b[0;36m300\u001b[0m\u001b[0;34m,\u001b[0m \u001b[0;36m2\u001b[0m\u001b[0;34m,\u001b[0m \u001b[0;32mTrue\u001b[0m\u001b[0;34m,\u001b[0m \u001b[0;36m0.3\u001b[0m\u001b[0;34m)\u001b[0m\u001b[0;34m\u001b[0m\u001b[0;34m\u001b[0m\u001b[0m\n\u001b[0m\u001b[1;32m     12\u001b[0m \u001b[0mltsm\u001b[0m \u001b[0;34m=\u001b[0m \u001b[0mltsm\u001b[0m\u001b[0;34m.\u001b[0m\u001b[0mto\u001b[0m\u001b[0;34m(\u001b[0m\u001b[0mdevice\u001b[0m\u001b[0;34m)\u001b[0m\u001b[0;34m\u001b[0m\u001b[0;34m\u001b[0m\u001b[0m\n",
            "\u001b[0;32m<ipython-input-55-f9a5d58fbe8a>\u001b[0m in \u001b[0;36m__init__\u001b[0;34m(self, config, num_labels, rnn_hidden_size, num_layers, bidirectional, dropout)\u001b[0m\n\u001b[1;32m      2\u001b[0m \u001b[0;34m\u001b[0m\u001b[0m\n\u001b[1;32m      3\u001b[0m     \u001b[0;32mdef\u001b[0m \u001b[0m__init__\u001b[0m\u001b[0;34m(\u001b[0m\u001b[0mself\u001b[0m\u001b[0;34m,\u001b[0m \u001b[0mconfig\u001b[0m\u001b[0;34m,\u001b[0m \u001b[0mnum_labels\u001b[0m\u001b[0;34m,\u001b[0m \u001b[0mrnn_hidden_size\u001b[0m\u001b[0;34m,\u001b[0m \u001b[0mnum_layers\u001b[0m\u001b[0;34m,\u001b[0m \u001b[0mbidirectional\u001b[0m\u001b[0;34m,\u001b[0m \u001b[0mdropout\u001b[0m\u001b[0;34m)\u001b[0m\u001b[0;34m:\u001b[0m\u001b[0;34m\u001b[0m\u001b[0;34m\u001b[0m\u001b[0m\n\u001b[0;32m----> 4\u001b[0;31m         \u001b[0msuper\u001b[0m\u001b[0;34m(\u001b[0m\u001b[0mBertLSTM\u001b[0m\u001b[0;34m,\u001b[0m \u001b[0mself\u001b[0m\u001b[0;34m)\u001b[0m\u001b[0;34m.\u001b[0m\u001b[0m__init__\u001b[0m\u001b[0;34m(\u001b[0m\u001b[0mconfig\u001b[0m\u001b[0;34m)\u001b[0m\u001b[0;34m\u001b[0m\u001b[0;34m\u001b[0m\u001b[0m\n\u001b[0m\u001b[1;32m      5\u001b[0m         \u001b[0mself\u001b[0m\u001b[0;34m.\u001b[0m\u001b[0mnum_labels\u001b[0m \u001b[0;34m=\u001b[0m \u001b[0mnum_labels\u001b[0m\u001b[0;34m\u001b[0m\u001b[0;34m\u001b[0m\u001b[0m\n\u001b[1;32m      6\u001b[0m         \u001b[0mself\u001b[0m\u001b[0;34m.\u001b[0m\u001b[0mbert\u001b[0m \u001b[0;34m=\u001b[0m \u001b[0mBertModel\u001b[0m\u001b[0;34m(\u001b[0m\u001b[0mconfig\u001b[0m\u001b[0;34m)\u001b[0m\u001b[0;34m\u001b[0m\u001b[0;34m\u001b[0m\u001b[0m\n",
            "\u001b[0;31mTypeError\u001b[0m: __init__() takes 1 positional argument but 2 were given"
          ]
        }
      ],
      "source": [
        "EMBEDDING_DIM = 768\n",
        "N_FILTERS = 100\n",
        "FILTER_SIZES = [2,3,5]\n",
        "OUTPUT_DIM = len(le.classes_)\n",
        "DROPOUT = 0.3\n",
        "PAD_IDX = tokenizer.pad_token_id\n",
        "\n",
        "cnn = CNN(EMBEDDING_DIM, N_FILTERS, FILTER_SIZES, OUTPUT_DIM, DROPOUT, PAD_IDX)\n",
        "cnn = cnn.to(device)"
      ]
    },
    {
      "cell_type": "code",
      "execution_count": null,
      "metadata": {
        "id": "Cha9dMarfZ31"
      },
      "outputs": [],
      "source": [
        "import torch.optim as optim\n",
        "\n",
        "model_prameters = list(bert_model.parameters())+list(cnn.parameters())\n",
        "\n",
        "optimizer = optim.Adam(model_prameters,lr=2e-5,eps=1e-8)\n",
        "\n",
        "criterion = nn.CrossEntropyLoss()\n",
        "\n",
        "criterion = criterion.to(device)"
      ]
    },
    {
      "cell_type": "code",
      "execution_count": null,
      "metadata": {
        "id": "PcgqCwGofw6X"
      },
      "outputs": [],
      "source": [
        "def categorical_accuracy(preds, y):\n",
        "    \"\"\"\n",
        "    Returns accuracy per batch, i.e. if you get 8/10 right, this returns 0.8, NOT 8\n",
        "    \"\"\"\n",
        "    max_preds = preds.argmax(dim = 1, keepdim = True) # get the index of the max probability\n",
        "    correct = max_preds.squeeze(1).eq(y)\n",
        "    return correct.sum() / torch.FloatTensor([y.shape[0]]).cuda()"
      ]
    },
    {
      "cell_type": "code",
      "execution_count": null,
      "metadata": {
        "id": "fvQ-49QDf1A1"
      },
      "outputs": [],
      "source": [
        "from tqdm import tqdm\n",
        "\n",
        "def train():\n",
        "    \n",
        "    epoch_loss = 0\n",
        "    epoch_acc = 0\n",
        "    \n",
        "    bert_model.train()\n",
        "    cnn.train()\n",
        "    \n",
        "    for batch in tqdm(train_data_loader):\n",
        "        b_input_ids = batch[0].to(device)\n",
        "        b_input_mask = batch[1].to(device)\n",
        "        b_labels = batch[2].to(device)\n",
        "        \n",
        "        optimizer.zero_grad()\n",
        "        \n",
        "        embedded = bert_model(b_input_ids,b_input_mask)[0]\n",
        "        \n",
        "        predictions = cnn(embedded)\n",
        "        #print(predictions.shape)\n",
        "        #print(b_labels.shape)\n",
        "        \n",
        "        loss = criterion(predictions, b_labels)\n",
        "        \n",
        "        acc = categorical_accuracy(predictions, b_labels)\n",
        "        #print(acc)\n",
        "        \n",
        "        loss.backward()\n",
        "        \n",
        "        optimizer.step()\n",
        "        \n",
        "        epoch_loss += loss.item()\n",
        "        epoch_acc += acc.item()\n",
        "        \n",
        "    return epoch_loss / len(train_data_loader), epoch_acc / len(train_data_loader)"
      ]
    },
    {
      "cell_type": "code",
      "execution_count": null,
      "metadata": {
        "id": "NNDah6MxgYZL"
      },
      "outputs": [],
      "source": [
        "import numpy as np\n",
        "\n",
        "def predictions_labels(preds,labels):\n",
        "    pred = np.argmax(preds,axis=1).flatten()\n",
        "    label = labels.flatten()\n",
        "    return pred,label"
      ]
    },
    {
      "cell_type": "code",
      "execution_count": null,
      "metadata": {
        "id": "M7nIlTXrgbTa"
      },
      "outputs": [],
      "source": [
        "from sklearn.metrics import classification_report,accuracy_score,f1_score\n",
        "def eval():\n",
        "    epoch_loss = 0\n",
        "    \n",
        "    total_predictions = []\n",
        "    total_true = []\n",
        "    \n",
        "    all_true_labels = []\n",
        "    all_pred_labels = []\n",
        "    \n",
        "    bert_model.eval()\n",
        "    cnn.eval()\n",
        "    \n",
        "    with torch.no_grad():\n",
        "    \n",
        "        for batch in tqdm(valid_data_loader):\n",
        "            b_input_ids = batch[0].to(device)\n",
        "            b_input_mask = batch[1].to(device)\n",
        "            b_labels = batch[2].to(device)\n",
        "\n",
        "            embedded = bert_model(b_input_ids,b_input_mask)[0]\n",
        "            predictions = cnn(embedded)\n",
        "            #print(predictions.shape)\n",
        "            #print(b_labels.shape)\n",
        "\n",
        "            loss = criterion(predictions, b_labels)\n",
        "            epoch_loss += loss.item()\n",
        "            \n",
        "            predictions = predictions.detach().cpu().numpy()\n",
        "\n",
        "            label_ids = b_labels.to('cpu').numpy()\n",
        "    \n",
        "            pred,true = predictions_labels(predictions,label_ids)\n",
        "        \n",
        "            all_pred_labels.extend(pred)\n",
        "            all_true_labels.extend(true)\n",
        "\n",
        "    print(classification_report(all_pred_labels,all_true_labels))\n",
        "    avg_val_accuracy = accuracy_score(all_pred_labels,all_true_labels)\n",
        "    macro_f1_score = f1_score(all_pred_labels,all_true_labels,average='macro')\n",
        "    \n",
        "    avg_val_loss = epoch_loss/len(valid_data_loader)\n",
        "\n",
        "    print(\"accuracy = {0:.2f}\".format(avg_val_accuracy))\n",
        "            \n",
        "    return avg_val_loss,avg_val_accuracy,macro_f1_score"
      ]
    },
    {
      "cell_type": "code",
      "execution_count": null,
      "metadata": {
        "id": "JartbHHwgd2b"
      },
      "outputs": [],
      "source": [
        "import time\n",
        "def epoch_time(start_time, end_time):\n",
        "    elapsed_time = end_time - start_time\n",
        "    elapsed_mins = int(elapsed_time / 60)\n",
        "    elapsed_secs = int(elapsed_time - (elapsed_mins * 60))\n",
        "    return elapsed_mins, elapsed_secs"
      ]
    },
    {
      "cell_type": "code",
      "execution_count": null,
      "metadata": {
        "colab": {
          "base_uri": "https://localhost:8080/"
        },
        "id": "fgWZ6lQJgh2K",
        "outputId": "7a210edc-7a35-4262-d63f-fd6d3d45f33e"
      },
      "outputs": [
        {
          "output_type": "stream",
          "name": "stderr",
          "text": [
            "100%|██████████| 969/969 [03:55<00:00,  4.11it/s]\n",
            "100%|██████████| 243/243 [00:18<00:00, 13.31it/s]\n"
          ]
        },
        {
          "output_type": "stream",
          "name": "stdout",
          "text": [
            "              precision    recall  f1-score   support\n",
            "\n",
            "           0       0.84      0.79      0.81       116\n",
            "           1       0.87      0.91      0.89       544\n",
            "           2       0.84      0.78      0.81       310\n",
            "\n",
            "    accuracy                           0.86       970\n",
            "   macro avg       0.85      0.83      0.84       970\n",
            "weighted avg       0.85      0.86      0.85       970\n",
            "\n",
            "accuracy = 0.86\n",
            "Epoch: 01 | Epoch Time: 4m 14s\n",
            "\tTrain Loss: 0.524 | Train Acc: 78.41%\n",
            "\t Val. Loss: 0.365 |  Val. Acc: 85.57%\n"
          ]
        },
        {
          "output_type": "stream",
          "name": "stderr",
          "text": [
            "100%|██████████| 969/969 [03:55<00:00,  4.11it/s]\n",
            "100%|██████████| 243/243 [00:18<00:00, 13.33it/s]\n"
          ]
        },
        {
          "output_type": "stream",
          "name": "stdout",
          "text": [
            "              precision    recall  f1-score   support\n",
            "\n",
            "           0       0.89      0.80      0.84       123\n",
            "           1       0.82      0.92      0.87       512\n",
            "           2       0.85      0.73      0.79       335\n",
            "\n",
            "    accuracy                           0.84       970\n",
            "   macro avg       0.85      0.82      0.83       970\n",
            "weighted avg       0.84      0.84      0.84       970\n",
            "\n",
            "accuracy = 0.84\n",
            "Epoch: 02 | Epoch Time: 4m 14s\n",
            "\tTrain Loss: 0.260 | Train Acc: 90.40%\n",
            "\t Val. Loss: 0.391 |  Val. Acc: 83.81%\n"
          ]
        },
        {
          "output_type": "stream",
          "name": "stderr",
          "text": [
            "100%|██████████| 969/969 [03:55<00:00,  4.11it/s]\n",
            "100%|██████████| 243/243 [00:18<00:00, 13.32it/s]\n"
          ]
        },
        {
          "output_type": "stream",
          "name": "stdout",
          "text": [
            "              precision    recall  f1-score   support\n",
            "\n",
            "           0       0.86      0.81      0.83       118\n",
            "           1       0.89      0.91      0.90       559\n",
            "           2       0.83      0.82      0.82       293\n",
            "\n",
            "    accuracy                           0.87       970\n",
            "   macro avg       0.86      0.84      0.85       970\n",
            "weighted avg       0.87      0.87      0.87       970\n",
            "\n",
            "accuracy = 0.87\n",
            "Epoch: 03 | Epoch Time: 4m 14s\n",
            "\tTrain Loss: 0.130 | Train Acc: 95.72%\n",
            "\t Val. Loss: 0.409 |  Val. Acc: 86.60%\n"
          ]
        },
        {
          "output_type": "stream",
          "name": "stderr",
          "text": [
            "100%|██████████| 969/969 [03:55<00:00,  4.11it/s]\n",
            "100%|██████████| 243/243 [00:18<00:00, 13.35it/s]\n"
          ]
        },
        {
          "output_type": "stream",
          "name": "stdout",
          "text": [
            "              precision    recall  f1-score   support\n",
            "\n",
            "           0       0.87      0.83      0.85       116\n",
            "           1       0.91      0.89      0.90       584\n",
            "           2       0.79      0.84      0.82       270\n",
            "\n",
            "    accuracy                           0.87       970\n",
            "   macro avg       0.86      0.85      0.85       970\n",
            "weighted avg       0.87      0.87      0.87       970\n",
            "\n",
            "accuracy = 0.87\n",
            "Epoch: 04 | Epoch Time: 4m 14s\n",
            "\tTrain Loss: 0.092 | Train Acc: 97.14%\n",
            "\t Val. Loss: 0.427 |  Val. Acc: 86.80%\n"
          ]
        },
        {
          "output_type": "stream",
          "name": "stderr",
          "text": [
            "100%|██████████| 969/969 [03:55<00:00,  4.11it/s]\n",
            "100%|██████████| 243/243 [00:18<00:00, 13.31it/s]\n"
          ]
        },
        {
          "output_type": "stream",
          "name": "stdout",
          "text": [
            "              precision    recall  f1-score   support\n",
            "\n",
            "           0       0.80      0.85      0.83       103\n",
            "           1       0.96      0.81      0.88       675\n",
            "           2       0.62      0.93      0.74       192\n",
            "\n",
            "    accuracy                           0.84       970\n",
            "   macro avg       0.79      0.87      0.82       970\n",
            "weighted avg       0.88      0.84      0.85       970\n",
            "\n",
            "accuracy = 0.84\n",
            "Epoch: 05 | Epoch Time: 4m 14s\n",
            "\tTrain Loss: 0.064 | Train Acc: 98.07%\n",
            "\t Val. Loss: 0.760 |  Val. Acc: 84.12%\n"
          ]
        },
        {
          "output_type": "stream",
          "name": "stderr",
          "text": [
            "100%|██████████| 969/969 [03:55<00:00,  4.11it/s]\n",
            "100%|██████████| 243/243 [00:18<00:00, 13.27it/s]\n"
          ]
        },
        {
          "output_type": "stream",
          "name": "stdout",
          "text": [
            "              precision    recall  f1-score   support\n",
            "\n",
            "           0       0.73      0.93      0.82        86\n",
            "           1       0.94      0.86      0.89       623\n",
            "           2       0.77      0.85      0.81       261\n",
            "\n",
            "    accuracy                           0.86       970\n",
            "   macro avg       0.81      0.88      0.84       970\n",
            "weighted avg       0.87      0.86      0.86       970\n",
            "\n",
            "accuracy = 0.86\n",
            "Epoch: 06 | Epoch Time: 4m 14s\n",
            "\tTrain Loss: 0.055 | Train Acc: 98.12%\n",
            "\t Val. Loss: 0.574 |  Val. Acc: 86.19%\n"
          ]
        },
        {
          "output_type": "stream",
          "name": "stderr",
          "text": [
            "100%|██████████| 969/969 [03:55<00:00,  4.11it/s]\n",
            "100%|██████████| 243/243 [00:18<00:00, 13.28it/s]\n"
          ]
        },
        {
          "output_type": "stream",
          "name": "stdout",
          "text": [
            "              precision    recall  f1-score   support\n",
            "\n",
            "           0       0.75      0.88      0.81        94\n",
            "           1       0.91      0.86      0.89       606\n",
            "           2       0.76      0.81      0.79       270\n",
            "\n",
            "    accuracy                           0.85       970\n",
            "   macro avg       0.81      0.85      0.83       970\n",
            "weighted avg       0.86      0.85      0.85       970\n",
            "\n",
            "accuracy = 0.85\n",
            "Epoch: 07 | Epoch Time: 4m 14s\n",
            "\tTrain Loss: 0.041 | Train Acc: 98.81%\n",
            "\t Val. Loss: 0.613 |  Val. Acc: 84.95%\n"
          ]
        },
        {
          "output_type": "stream",
          "name": "stderr",
          "text": [
            "100%|██████████| 969/969 [03:55<00:00,  4.11it/s]\n",
            "100%|██████████| 243/243 [00:18<00:00, 13.33it/s]\n"
          ]
        },
        {
          "output_type": "stream",
          "name": "stdout",
          "text": [
            "              precision    recall  f1-score   support\n",
            "\n",
            "           0       0.80      0.88      0.84       100\n",
            "           1       0.93      0.86      0.90       616\n",
            "           2       0.76      0.87      0.81       254\n",
            "\n",
            "    accuracy                           0.87       970\n",
            "   macro avg       0.83      0.87      0.85       970\n",
            "weighted avg       0.87      0.87      0.87       970\n",
            "\n",
            "accuracy = 0.87\n",
            "Epoch: 08 | Epoch Time: 4m 14s\n",
            "\tTrain Loss: 0.037 | Train Acc: 98.76%\n",
            "\t Val. Loss: 0.551 |  Val. Acc: 86.60%\n"
          ]
        },
        {
          "output_type": "stream",
          "name": "stderr",
          "text": [
            "100%|██████████| 969/969 [03:55<00:00,  4.11it/s]\n",
            "100%|██████████| 243/243 [00:18<00:00, 13.33it/s]\n"
          ]
        },
        {
          "output_type": "stream",
          "name": "stdout",
          "text": [
            "              precision    recall  f1-score   support\n",
            "\n",
            "           0       0.81      0.87      0.84       102\n",
            "           1       0.87      0.90      0.89       554\n",
            "           2       0.84      0.77      0.81       314\n",
            "\n",
            "    accuracy                           0.86       970\n",
            "   macro avg       0.84      0.85      0.84       970\n",
            "weighted avg       0.86      0.86      0.85       970\n",
            "\n",
            "accuracy = 0.86\n",
            "Epoch: 09 | Epoch Time: 4m 14s\n",
            "\tTrain Loss: 0.031 | Train Acc: 99.02%\n",
            "\t Val. Loss: 0.661 |  Val. Acc: 85.57%\n"
          ]
        },
        {
          "output_type": "stream",
          "name": "stderr",
          "text": [
            "100%|██████████| 969/969 [03:55<00:00,  4.11it/s]\n",
            "100%|██████████| 243/243 [00:18<00:00, 13.36it/s]\n"
          ]
        },
        {
          "output_type": "stream",
          "name": "stdout",
          "text": [
            "              precision    recall  f1-score   support\n",
            "\n",
            "           0       0.85      0.79      0.82       117\n",
            "           1       0.91      0.89      0.90       584\n",
            "           2       0.79      0.85      0.82       269\n",
            "\n",
            "    accuracy                           0.87       970\n",
            "   macro avg       0.85      0.84      0.85       970\n",
            "weighted avg       0.87      0.87      0.87       970\n",
            "\n",
            "accuracy = 0.87\n",
            "Epoch: 10 | Epoch Time: 4m 13s\n",
            "\tTrain Loss: 0.042 | Train Acc: 98.66%\n",
            "\t Val. Loss: 0.630 |  Val. Acc: 86.70%\n"
          ]
        }
      ],
      "source": [
        "from collections import defaultdict\n",
        "epochs = 10\n",
        "\n",
        "best_macro_f1 = float('0')\n",
        "\n",
        "history = defaultdict(list)\n",
        "\n",
        "for epoch in range(epochs):\n",
        "    \n",
        "    start_time = time.time()\n",
        "    train_loss,train_acc = train()\n",
        "    valid_loss,valid_acc,macro_f1 = eval()\n",
        "    end_time = time.time()\n",
        "    \n",
        "        \n",
        "    epoch_mins, epoch_secs = epoch_time(start_time, end_time)\n",
        "        \n",
        "    if macro_f1 > best_macro_f1:\n",
        "        best_macro_f1 = macro_f1\n",
        "    \n",
        "    print(f'Epoch: {epoch+1:02} | Epoch Time: {epoch_mins}m {epoch_secs}s')\n",
        "    print(f'\\tTrain Loss: {train_loss:.3f} | Train Acc: {train_acc*100:.2f}%')\n",
        "    print(f'\\t Val. Loss: {valid_loss:.3f} |  Val. Acc: {valid_acc*100:.2f}%')\n",
        "\n",
        "    history['train_acc'].append(train_acc)\n",
        "    history['train_loss'].append(train_loss)\n",
        "    history['val_acc'].append(valid_acc.item())\n",
        "    history['val_loss'].append(valid_loss)"
      ]
    },
    {
      "cell_type": "code",
      "execution_count": null,
      "metadata": {
        "colab": {
          "base_uri": "https://localhost:8080/",
          "height": 386
        },
        "id": "ZxGwMXCbmvON",
        "outputId": "a73e5f78-b56c-49e2-a59b-2bb6aa82d5ea"
      },
      "outputs": [
        {
          "output_type": "stream",
          "name": "stdout",
          "text": [
            "[0.7840557275541795, 0.9040247678018576, 0.957172342621259, 0.9713622291021672, 0.9806501547987616, 0.9811661506707946, 0.9881320949432405, 0.9876160990712074, 0.9901960784313726, 0.9865841073271414]\n",
            "[0.8556701030927835, 0.8381443298969072, 0.865979381443299, 0.8680412371134021, 0.8412371134020619, 0.8618556701030928, 0.8494845360824742, 0.865979381443299, 0.8556701030927835, 0.8670103092783505]\n",
            "tensor([0.7841, 0.9040, 0.9572, 0.9714, 0.9807, 0.9812, 0.9881, 0.9876, 0.9902,\n",
            "        0.9866])\n"
          ]
        },
        {
          "output_type": "display_data",
          "data": {
            "text/plain": [
              "<Figure size 432x288 with 1 Axes>"
            ],
            "image/png": "[encoded data removed]"
          },
          "metadata": {
            "needs_background": "light"
          }
        }
      ],
      "source": [
        "import matplotlib.pyplot as plt\n",
        "print(history['train_acc'])\n",
        "print(history['val_acc'])\n",
        "\n",
        "new_tensor = torch.tensor(history['train_acc'], device = 'cpu')\n",
        "print(new_tensor)\n",
        "\n",
        "plt.plot(new_tensor, label='train accuracy')\n",
        "plt.plot(history['val_acc'], label='validation accuracy')\n",
        "plt.title('Training history')\n",
        "plt.ylabel('Accuracy')\n",
        "plt.xlabel('Epoch')\n",
        "plt.legend()\n",
        "plt.ylim([0.5, 1]);"
      ]
    }
  ],
  "metadata": {
    "accelerator": "GPU",
    "colab": {
      "name": "CNN bert.ipynb",
      "provenance": []
    },
    "kernelspec": {
      "display_name": "Python 3",
      "name": "python3"
    },
    "language_info": {
      "name": "python"
    }
  },
  "nbformat": 4,
  "nbformat_minor": 0
}