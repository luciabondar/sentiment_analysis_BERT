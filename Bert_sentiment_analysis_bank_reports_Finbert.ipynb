{
  "cells": [
    {
      "cell_type": "code",
      "execution_count": 1,
      "metadata": {
        "id": "aPvbF0DNOFtE",
        "colab": {
          "base_uri": "https://localhost:8080/"
        },
        "outputId": "37a11e93-a5b6-4d6b-ec6b-6374f1f70e4c"
      },
      "outputs": [
        {
          "output_type": "stream",
          "name": "stdout",
          "text": [
            "\u001b[K     |████████████████████████████████| 4.2 MB 8.6 MB/s \n",
            "\u001b[K     |████████████████████████████████| 86 kB 6.1 MB/s \n",
            "\u001b[K     |████████████████████████████████| 6.6 MB 47.9 MB/s \n",
            "\u001b[K     |████████████████████████████████| 596 kB 69.1 MB/s \n",
            "\u001b[?25h"
          ]
        }
      ],
      "source": [
        "!pip install -q -U watermark\n",
        "!pip install -qq transformers"
      ]
    },
    {
      "cell_type": "code",
      "execution_count": 2,
      "metadata": {
        "colab": {
          "base_uri": "https://localhost:8080/"
        },
        "id": "dS7om91SRvrT",
        "outputId": "db52643f-14d5-4ffa-f341-fac547e305dc"
      },
      "outputs": [
        {
          "output_type": "stream",
          "name": "stdout",
          "text": [
            "Python implementation: CPython\n",
            "Python version       : 3.7.13\n",
            "IPython version      : 5.5.0\n",
            "\n",
            "numpy       : 1.21.6\n",
            "pandas      : 1.3.5\n",
            "torch       : 1.11.0+cu113\n",
            "transformers: 4.19.4\n",
            "\n"
          ]
        }
      ],
      "source": [
        "%reload_ext watermark\n",
        "%watermark -v -p numpy,pandas,torch,transformers"
      ]
    },
    {
      "cell_type": "code",
      "execution_count": 3,
      "metadata": {
        "colab": {
          "base_uri": "https://localhost:8080/"
        },
        "id": "nJ9p1NGzXHII",
        "outputId": "22cc42e9-60fd-42f5-b3f4-4802339149c7"
      },
      "outputs": [
        {
          "output_type": "stream",
          "name": "stdout",
          "text": [
            "Mounted at /drive\n"
          ]
        }
      ],
      "source": [
        "from google.colab import drive\n",
        "import pandas as pd\n",
        "\n",
        "drive.mount('/drive')"
      ]
    },
    {
      "cell_type": "code",
      "execution_count": 4,
      "metadata": {
        "colab": {
          "base_uri": "https://localhost:8080/",
          "height": 36
        },
        "id": "L8gz8gnfXHLf",
        "outputId": "36a18a49-641f-4d49-8e3b-8878cd7cc00b"
      },
      "outputs": [
        {
          "output_type": "execute_result",
          "data": {
            "text/plain": [
              "'/drive/MyDrive/inflation_reports'"
            ],
            "application/vnd.google.colaboratory.intrinsic+json": {
              "type": "string"
            }
          },
          "metadata": {},
          "execution_count": 4
        }
      ],
      "source": [
        "import os\n",
        "\n",
        "os.chdir(\"/drive/MyDrive/inflation_reports\") \n",
        "os.getcwd()"
      ]
    },
    {
      "cell_type": "code",
      "execution_count": 5,
      "metadata": {
        "colab": {
          "base_uri": "https://localhost:8080/"
        },
        "id": "4lltpebpZZL1",
        "outputId": "c6d7bc40-0622-43d7-a925-0defd82a02be"
      },
      "outputs": [
        {
          "output_type": "stream",
          "name": "stdout",
          "text": [
            "['Miniconda3-py37_4.8.2-Linux-x86_64.sh.3', 'Miniconda3-py37_4.8.2-Linux-x86_64.sh.1', 'Miniconda3-py37_4.8.2-Linux-x86_64.sh', 'Miniconda3-py37_4.8.2-Linux-x86_64.sh.2', 'feb_2011.pdf', 'may_2011.pdf', 'dataset', 'mini.sh', 'best_model_state.bin', 'model.png']\n"
          ]
        }
      ],
      "source": [
        "print(os.listdir() )"
      ]
    },
    {
      "cell_type": "code",
      "execution_count": 6,
      "metadata": {
        "id": "h83CuZM_YlbZ"
      },
      "outputs": [],
      "source": [
        "path = \"/drive/MyDrive/inflation_reports/dataset/data.csv\"\n",
        "df = pd.read_csv(path, encoding='latin-1')"
      ]
    },
    {
      "cell_type": "code",
      "execution_count": 7,
      "metadata": {
        "colab": {
          "base_uri": "https://localhost:8080/",
          "height": 206
        },
        "id": "k6PBdK8AZzVj",
        "outputId": "724ad08c-f012-43bd-cc6c-88c75124ad11"
      },
      "outputs": [
        {
          "output_type": "execute_result",
          "data": {
            "text/plain": [
              "  sentiment                                           sentence\n",
              "0   neutral  According to Gran , the company has no plans t...\n",
              "1   neutral  Technopolis plans to develop in stages an area...\n",
              "2  negative  The international electronic industry company ...\n",
              "3  positive  With the new production plant the company woul...\n",
              "4  positive  According to the company 's updated strategy f..."
            ],
            "text/html": [
              "\n",
              "  <div id=\"df-bf54cac0-1db0-46d2-9134-f666c0148391\">\n",
              "    <div class=\"colab-df-container\">\n",
              "      <div>\n",
              "<style scoped>\n",
              "    .dataframe tbody tr th:only-of-type {\n",
              "        vertical-align: middle;\n",
              "    }\n",
              "\n",
              "    .dataframe tbody tr th {\n",
              "        vertical-align: top;\n",
              "    }\n",
              "\n",
              "    .dataframe thead th {\n",
              "        text-align: right;\n",
              "    }\n",
              "</style>\n",
              "<table border=\"1\" class=\"dataframe\">\n",
              "  <thead>\n",
              "    <tr style=\"text-align: right;\">\n",
              "      <th></th>\n",
              "      <th>sentiment</th>\n",
              "      <th>sentence</th>\n",
              "    </tr>\n",
              "  </thead>\n",
              "  <tbody>\n",
              "    <tr>\n",
              "      <th>0</th>\n",
              "      <td>neutral</td>\n",
              "      <td>According to Gran , the company has no plans t...</td>\n",
              "    </tr>\n",
              "    <tr>\n",
              "      <th>1</th>\n",
              "      <td>neutral</td>\n",
              "      <td>Technopolis plans to develop in stages an area...</td>\n",
              "    </tr>\n",
              "    <tr>\n",
              "      <th>2</th>\n",
              "      <td>negative</td>\n",
              "      <td>The international electronic industry company ...</td>\n",
              "    </tr>\n",
              "    <tr>\n",
              "      <th>3</th>\n",
              "      <td>positive</td>\n",
              "      <td>With the new production plant the company woul...</td>\n",
              "    </tr>\n",
              "    <tr>\n",
              "      <th>4</th>\n",
              "      <td>positive</td>\n",
              "      <td>According to the company 's updated strategy f...</td>\n",
              "    </tr>\n",
              "  </tbody>\n",
              "</table>\n",
              "</div>\n",
              "      <button class=\"colab-df-convert\" onclick=\"convertToInteractive('df-bf54cac0-1db0-46d2-9134-f666c0148391')\"\n",
              "              title=\"Convert this dataframe to an interactive table.\"\n",
              "              style=\"display:none;\">\n",
              "        \n",
              "  <svg xmlns=\"http://www.w3.org/2000/svg\" height=\"24px\"viewBox=\"0 0 24 24\"\n",
              "       width=\"24px\">\n",
              "    <path d=\"M0 0h24v24H0V0z\" fill=\"none\"/>\n",
              "    <path d=\"M18.56 5.44l.94 2.06.94-2.06 2.06-.94-2.06-.94-.94-2.06-.94 2.06-2.06.94zm-11 1L8.5 8.5l.94-2.06 2.06-.94-2.06-.94L8.5 2.5l-.94 2.06-2.06.94zm10 10l.94 2.06.94-2.06 2.06-.94-2.06-.94-.94-2.06-.94 2.06-2.06.94z\"/><path d=\"M17.41 7.96l-1.37-1.37c-.4-.4-.92-.59-1.43-.59-.52 0-1.04.2-1.43.59L10.3 9.45l-7.72 7.72c-.78.78-.78 2.05 0 2.83L4 21.41c.39.39.9.59 1.41.59.51 0 1.02-.2 1.41-.59l7.78-7.78 2.81-2.81c.8-.78.8-2.07 0-2.86zM5.41 20L4 18.59l7.72-7.72 1.47 1.35L5.41 20z\"/>\n",
              "  </svg>\n",
              "      </button>\n",
              "      \n",
              "  <style>\n",
              "    .colab-df-container {\n",
              "      display:flex;\n",
              "      flex-wrap:wrap;\n",
              "      gap: 12px;\n",
              "    }\n",
              "\n",
              "    .colab-df-convert {\n",
              "      background-color: #E8F0FE;\n",
              "      border: none;\n",
              "      border-radius: 50%;\n",
              "      cursor: pointer;\n",
              "      display: none;\n",
              "      fill: #1967D2;\n",
              "      height: 32px;\n",
              "      padding: 0 0 0 0;\n",
              "      width: 32px;\n",
              "    }\n",
              "\n",
              "    .colab-df-convert:hover {\n",
              "      background-color: #E2EBFA;\n",
              "      box-shadow: 0px 1px 2px rgba(60, 64, 67, 0.3), 0px 1px 3px 1px rgba(60, 64, 67, 0.15);\n",
              "      fill: #174EA6;\n",
              "    }\n",
              "\n",
              "    [theme=dark] .colab-df-convert {\n",
              "      background-color: #3B4455;\n",
              "      fill: #D2E3FC;\n",
              "    }\n",
              "\n",
              "    [theme=dark] .colab-df-convert:hover {\n",
              "      background-color: #434B5C;\n",
              "      box-shadow: 0px 1px 3px 1px rgba(0, 0, 0, 0.15);\n",
              "      filter: drop-shadow(0px 1px 2px rgba(0, 0, 0, 0.3));\n",
              "      fill: #FFFFFF;\n",
              "    }\n",
              "  </style>\n",
              "\n",
              "      <script>\n",
              "        const buttonEl =\n",
              "          document.querySelector('#df-bf54cac0-1db0-46d2-9134-f666c0148391 button.colab-df-convert');\n",
              "        buttonEl.style.display =\n",
              "          google.colab.kernel.accessAllowed ? 'block' : 'none';\n",
              "\n",
              "        async function convertToInteractive(key) {\n",
              "          const element = document.querySelector('#df-bf54cac0-1db0-46d2-9134-f666c0148391');\n",
              "          const dataTable =\n",
              "            await google.colab.kernel.invokeFunction('convertToInteractive',\n",
              "                                                     [key], {});\n",
              "          if (!dataTable) return;\n",
              "\n",
              "          const docLinkHtml = 'Like what you see? Visit the ' +\n",
              "            '<a target=\"_blank\" href=https://colab.research.google.com/notebooks/data_table.ipynb>data table notebook</a>'\n",
              "            + ' to learn more about interactive tables.';\n",
              "          element.innerHTML = '';\n",
              "          dataTable['output_type'] = 'display_data';\n",
              "          await google.colab.output.renderOutput(dataTable, element);\n",
              "          const docLink = document.createElement('div');\n",
              "          docLink.innerHTML = docLinkHtml;\n",
              "          element.appendChild(docLink);\n",
              "        }\n",
              "      </script>\n",
              "    </div>\n",
              "  </div>\n",
              "  "
            ]
          },
          "metadata": {},
          "execution_count": 7
        }
      ],
      "source": [
        "df.head()"
      ]
    },
    {
      "cell_type": "code",
      "execution_count": 8,
      "metadata": {
        "colab": {
          "base_uri": "https://localhost:8080/"
        },
        "id": "cZpFiXS7nXdM",
        "outputId": "f5d15c60-fadb-4c8e-d7b2-e5453fbb2e89"
      },
      "outputs": [
        {
          "output_type": "execute_result",
          "data": {
            "text/plain": [
              "(4846, 2)"
            ]
          },
          "metadata": {},
          "execution_count": 8
        }
      ],
      "source": [
        "df.shape"
      ]
    },
    {
      "cell_type": "code",
      "execution_count": 9,
      "metadata": {
        "colab": {
          "base_uri": "https://localhost:8080/"
        },
        "id": "HFIATjsMoILN",
        "outputId": "9a71f8b1-ced2-4861-ee54-b71a74c08816"
      },
      "outputs": [
        {
          "output_type": "stream",
          "name": "stdout",
          "text": [
            "<class 'pandas.core.frame.DataFrame'>\n",
            "RangeIndex: 4846 entries, 0 to 4845\n",
            "Data columns (total 2 columns):\n",
            " #   Column     Non-Null Count  Dtype \n",
            "---  ------     --------------  ----- \n",
            " 0   sentiment  4846 non-null   object\n",
            " 1   sentence   4846 non-null   object\n",
            "dtypes: object(2)\n",
            "memory usage: 75.8+ KB\n"
          ]
        }
      ],
      "source": [
        "# check for missing values\n",
        "df.info()"
      ]
    },
    {
      "cell_type": "code",
      "execution_count": 10,
      "metadata": {
        "colab": {
          "base_uri": "https://localhost:8080/"
        },
        "id": "QvFQu4osoeP6",
        "outputId": "db693c4e-4227-4d62-b2ee-ce18fd8ace1b"
      },
      "outputs": [
        {
          "output_type": "execute_result",
          "data": {
            "text/plain": [
              "device(type='cuda', index=0)"
            ]
          },
          "metadata": {},
          "execution_count": 10
        }
      ],
      "source": [
        "#@title Setup & Config\n",
        "import transformers\n",
        "from transformers import BertModel, BertTokenizer, AdamW, get_linear_schedule_with_warmup\n",
        "import torch\n",
        "\n",
        "import numpy as np\n",
        "import pandas as pd\n",
        "import seaborn as sns\n",
        "from pylab import rcParams\n",
        "import matplotlib.pyplot as plt\n",
        "from matplotlib import rc\n",
        "from sklearn.model_selection import train_test_split\n",
        "from sklearn.metrics import confusion_matrix, classification_report\n",
        "from collections import defaultdict\n",
        "from textwrap import wrap\n",
        "\n",
        "from torch import nn, optim\n",
        "from torch.utils.data import Dataset, DataLoader\n",
        "import torch.nn.functional as F\n",
        "\n",
        "%matplotlib inline\n",
        "%config InlineBackend.figure_format='retina'\n",
        "\n",
        "sns.set(style='whitegrid', palette='muted', font_scale=1.2)\n",
        "\n",
        "HAPPY_COLORS_PALETTE = [\"#01BEFE\", \"#FFDD00\", \"#FF7D00\", \"#FF006D\", \"#ADFF02\", \"#8F00FF\"]\n",
        "\n",
        "sns.set_palette(sns.color_palette(HAPPY_COLORS_PALETTE))\n",
        "\n",
        "rcParams['figure.figsize'] = 12, 8\n",
        "\n",
        "RANDOM_SEED = 42\n",
        "np.random.seed(RANDOM_SEED)\n",
        "torch.manual_seed(RANDOM_SEED)\n",
        "torch.cuda.empty_cache()\n",
        "\n",
        "device = torch.device(\"cuda:0\" if torch.cuda.is_available() else \"cpu\")\n",
        "device"
      ]
    },
    {
      "cell_type": "code",
      "execution_count": 11,
      "metadata": {
        "colab": {
          "base_uri": "https://localhost:8080/",
          "height": 564
        },
        "id": "Dpj-76phoQo2",
        "outputId": "812da8b6-d70b-43d4-87ae-a5fbe85f64b5"
      },
      "outputs": [
        {
          "output_type": "stream",
          "name": "stderr",
          "text": [
            "/usr/local/lib/python3.7/dist-packages/seaborn/_decorators.py:43: FutureWarning: Pass the following variable as a keyword arg: x. From version 0.12, the only valid positional argument will be `data`, and passing other arguments without an explicit keyword will result in an error or misinterpretation.\n",
            "  FutureWarning\n"
          ]
        },
        {
          "output_type": "display_data",
          "data": {
            "text/plain": [
              "<Figure size 864x576 with 1 Axes>"
            ],
            "image/png": "[encoded data removed]"
          },
          "metadata": {
            "image/png": {
              "width": 745,
              "height": 491
            }
          }
        }
      ],
      "source": [
        "sns.countplot(df.sentiment)\n",
        "plt.xlabel('Sentiment');"
      ]
    },
    {
      "cell_type": "code",
      "execution_count": 12,
      "metadata": {
        "id": "xAq3IDdAv-3a"
      },
      "outputs": [],
      "source": [
        "def to_sentiment(rating):\n",
        "\n",
        "  if rating == 'negative':\n",
        "    return 0\n",
        "  elif rating == 'neutral':\n",
        "    return 1\n",
        "  elif rating == 'positive':\n",
        "    return 2\n",
        "\n",
        "df['score'] = df.sentiment.apply(to_sentiment)"
      ]
    },
    {
      "cell_type": "code",
      "execution_count": 13,
      "metadata": {
        "id": "orFrHXwaovXO"
      },
      "outputs": [],
      "source": [
        "PRE_TRAINED_MODEL_NAME = 'ProsusAI/finbert'\n",
        "#PRE_TRAINED_MODEL_NAME = 'bert-base-cased'"
      ]
    },
    {
      "cell_type": "code",
      "execution_count": 14,
      "metadata": {
        "id": "mC9P056FoxRp",
        "colab": {
          "base_uri": "https://localhost:8080/",
          "height": 145,
          "referenced_widgets": [
            "46ec0d980d2846e2a7534928d07189e0",
            "1f8b75825dcb4048a84dd2b743141cd7",
            "11aaaa0c9c2343c698c5e242f50f1717",
            "739fdb4b804b47308522203c83218101",
            "3153f514cf054bb1959644605d204ad0",
            "6505305412bd4d2fbc9f920f5c7e9ba8",
            "ac8f5a766cab4b2a8eda7a9d005c206e",
            "6f9081837f4840e99250cc41f9434ffe",
            "816f77910cc5478abd277426e5536d71",
            "e470f139fcf14a3fafa811e448cc49fc",
            "93758c16435844a2988ecff5353ab360",
            "cd5466e1ed3d4fb78fc5e0be3b47335a",
            "27e86133faab431eb81c48102c9fa1fb",
            "20fd02bfa8d14084b59915e8cf9e2ebc",
            "4c8738f5861d48d9bfc57a2ee22f00ae",
            "c0c9b666da534e1fb220f765262d9f53",
            "55f439ac0f524e73a203bcadf6f884e9",
            "78b54bd592a9490987fd45db96aecb1d",
            "3d4bdf7045404c8b9a8d5ccddc7b67ec",
            "464badf3b0be47608955e1fe2221cdef",
            "a74e500a5d34448885fd446de43785b1",
            "9e652da3e419470481e836ec815da148",
            "f029597172cb4b549343842c3a11faf0",
            "d7ecb71a4b1f48d5b91acbe015b5858c",
            "15e5284fba6a485bbc2f0b99af579652",
            "f094d85459d54f6c9724d973da958ae4",
            "da593a8ab3174844bca490b290faec34",
            "a5f406227c7a460fbc4ef6c640185148",
            "999f71f3cff648908b82969eea643650",
            "d477f88fac4847f08a2b32fed62e9c69",
            "ea2d740f19334595b27b3e14c108a827",
            "1a9de3de4d6a4d07a25dd3c618a32460",
            "3bc4c01918534f5e8fa08c6f1d39a222",
            "c838c727c34041e5adaec6e0b1fb6a32",
            "8e4ac1d4ae4049a8956e4f26e0dce1fd",
            "7a5165868e994667b5834fdcef601681",
            "9f7a5565a3a04cc9bd27d68a23f743bc",
            "fe48e862d6c444e8a752cede31678153",
            "43618fe39f044c96ac2ade8e039c1092",
            "fa01c2c578544c9bafff7a3b4e033337",
            "77d7e991bf0c46e08484f81802651a13",
            "fb6c200ed00a4c8ba3b2814f6f1a6116",
            "86b85283ceab47c79c6e516a4c0151c4",
            "c597f61dbf9b44b9be4494a427b92b60"
          ]
        },
        "outputId": "4549a291-5097-43c6-affd-a84e86680ac5"
      },
      "outputs": [
        {
          "output_type": "display_data",
          "data": {
            "text/plain": [
              "Downloading:   0%|          | 0.00/226k [00:00<?, ?B/s]"
            ],
            "application/vnd.jupyter.widget-view+json": {
              "version_major": 2,
              "version_minor": 0,
              "model_id": "46ec0d980d2846e2a7534928d07189e0"
            }
          },
          "metadata": {}
        },
        {
          "output_type": "display_data",
          "data": {
            "text/plain": [
              "Downloading:   0%|          | 0.00/112 [00:00<?, ?B/s]"
            ],
            "application/vnd.jupyter.widget-view+json": {
              "version_major": 2,
              "version_minor": 0,
              "model_id": "cd5466e1ed3d4fb78fc5e0be3b47335a"
            }
          },
          "metadata": {}
        },
        {
          "output_type": "display_data",
          "data": {
            "text/plain": [
              "Downloading:   0%|          | 0.00/252 [00:00<?, ?B/s]"
            ],
            "application/vnd.jupyter.widget-view+json": {
              "version_major": 2,
              "version_minor": 0,
              "model_id": "f029597172cb4b549343842c3a11faf0"
            }
          },
          "metadata": {}
        },
        {
          "output_type": "display_data",
          "data": {
            "text/plain": [
              "Downloading:   0%|          | 0.00/758 [00:00<?, ?B/s]"
            ],
            "application/vnd.jupyter.widget-view+json": {
              "version_major": 2,
              "version_minor": 0,
              "model_id": "c838c727c34041e5adaec6e0b1fb6a32"
            }
          },
          "metadata": {}
        }
      ],
      "source": [
        "tokenizer = BertTokenizer.from_pretrained(PRE_TRAINED_MODEL_NAME, return_dict = False) "
      ]
    },
    {
      "cell_type": "code",
      "execution_count": 15,
      "metadata": {
        "colab": {
          "base_uri": "https://localhost:8080/"
        },
        "id": "RJOly-ZGp3J_",
        "outputId": "b9a39d1a-020d-4361-bf35-8749e78f4a98"
      },
      "outputs": [
        {
          "output_type": "stream",
          "name": "stderr",
          "text": [
            "Truncation was not explicitly activated but `max_length` is provided a specific value, please use `truncation=True` to explicitly truncate examples to max length. Defaulting to 'longest_first' truncation strategy. If you encode pairs of sequences (GLUE-style) with the tokenizer you can select this strategy more precisely by providing a specific strategy to `truncation`.\n"
          ]
        },
        {
          "output_type": "stream",
          "name": "stdout",
          "text": [
            "0       According to Gran , the company has no plans t...\n",
            "1       Technopolis plans to develop in stages an area...\n",
            "2       The international electronic industry company ...\n",
            "3       With the new production plant the company woul...\n",
            "4       According to the company 's updated strategy f...\n",
            "                              ...                        \n",
            "4841    LONDON MarketWatch -- Share prices ended lower...\n",
            "4842    Rinkuskiai 's beer sales fell by 6.5 per cent ...\n",
            "4843    Operating profit fell to EUR 35.4 mn from EUR ...\n",
            "4844    Net sales of the Paper segment decreased to EU...\n",
            "4845    Sales in Finland decreased by 10.5 % in Januar...\n",
            "Name: sentence, Length: 4846, dtype: object\n"
          ]
        }
      ],
      "source": [
        "token_lens = []\n",
        "print(df.sentence)\n",
        "\n",
        "#store the token length of each sentence\n",
        "# word to vec\n",
        "for txt in df.sentence:\n",
        "  tokens = tokenizer.encode(txt, max_length=512) \n",
        "  token_lens.append(len(tokens))"
      ]
    },
    {
      "cell_type": "code",
      "execution_count": 16,
      "metadata": {
        "colab": {
          "base_uri": "https://localhost:8080/",
          "height": 562
        },
        "id": "cNsmeC11r9Nx",
        "outputId": "3aef9991-41aa-47f8-86a9-f9229c7275de"
      },
      "outputs": [
        {
          "output_type": "stream",
          "name": "stderr",
          "text": [
            "/usr/local/lib/python3.7/dist-packages/seaborn/distributions.py:2619: FutureWarning: `distplot` is a deprecated function and will be removed in a future version. Please adapt your code to use either `displot` (a figure-level function with similar flexibility) or `histplot` (an axes-level function for histograms).\n",
            "  warnings.warn(msg, FutureWarning)\n"
          ]
        },
        {
          "output_type": "display_data",
          "data": {
            "text/plain": [
              "<Figure size 864x576 with 1 Axes>"
            ],
            "image/png": "[encoded data removed]"
          },
          "metadata": {
            "image/png": {
              "width": 749,
              "height": 489
            }
          }
        }
      ],
      "source": [
        "sns.distplot(token_lens)\n",
        "plt.xlim([0, 256]);\n",
        "plt.xlabel('Token count');"
      ]
    },
    {
      "cell_type": "code",
      "execution_count": 17,
      "metadata": {
        "id": "MTqL80OusPlz"
      },
      "outputs": [],
      "source": [
        "MAX_LEN = 160"
      ]
    },
    {
      "cell_type": "code",
      "execution_count": 18,
      "metadata": {
        "id": "LFkr-gHbsRug"
      },
      "outputs": [],
      "source": [
        "class GPReviewDataset(Dataset):\n",
        "\n",
        "  def __init__(self, sentences, labels, tokenizer, max_len):\n",
        "    self.sentences = sentences\n",
        "    self.labels = labels\n",
        "    self.tokenizer = tokenizer\n",
        "    self.max_len = max_len\n",
        "  \n",
        "  def __len__(self):\n",
        "    return len(self.sentences)\n",
        "  \n",
        "  def __getitem__(self, item):\n",
        "    sentence = str(self.sentences[item])\n",
        "    label = self.labels[item]\n",
        "\n",
        "    encoding = self.tokenizer.encode_plus(\n",
        "      sentence,\n",
        "      add_special_tokens=True,\n",
        "      max_length=self.max_len,\n",
        "      return_token_type_ids=False,\n",
        "      padding = 'max_length',\n",
        "      return_attention_mask=True,\n",
        "      return_tensors='pt',\n",
        "    )\n",
        "\n",
        "    return {\n",
        "      'financiar_text': sentence,\n",
        "      'input_ids': encoding['input_ids'].flatten(),\n",
        "      'attention_mask': encoding['attention_mask'].flatten(),\n",
        "      'label': torch.tensor(label, dtype=torch.long)\n",
        "    }"
      ]
    },
    {
      "cell_type": "code",
      "execution_count": 19,
      "metadata": {
        "colab": {
          "base_uri": "https://localhost:8080/"
        },
        "id": "tKEGdExssyga",
        "outputId": "d2e211fd-48b1-4db8-a5b4-ab999262d949"
      },
      "outputs": [
        {
          "output_type": "execute_result",
          "data": {
            "text/plain": [
              "((3876, 3), (485, 3), (485, 3))"
            ]
          },
          "metadata": {},
          "execution_count": 19
        }
      ],
      "source": [
        "# split the data\n",
        "df_train, df_test = train_test_split(df, test_size=0.2, random_state=RANDOM_SEED)\n",
        "df_val, df_test = train_test_split(df_test, test_size=0.5, random_state=RANDOM_SEED)\n",
        "\n",
        "df_train.shape, df_val.shape, df_test.shape"
      ]
    },
    {
      "cell_type": "code",
      "execution_count": 20,
      "metadata": {
        "id": "MY7Gil3yufBD"
      },
      "outputs": [],
      "source": [
        "# create data loaders\n",
        "def create_data_loader(df, tokenizer, max_len, batch_size):\n",
        "  ds = GPReviewDataset(\n",
        "    sentences=df.sentence.to_numpy(),\n",
        "    labels=df.score.to_numpy(),\n",
        "    tokenizer=tokenizer,\n",
        "    max_len=max_len\n",
        "  )\n",
        "\n",
        "\n",
        "  return DataLoader(\n",
        "    ds,\n",
        "    batch_size=batch_size,\n",
        "    num_workers=4\n",
        "  )"
      ]
    },
    {
      "cell_type": "code",
      "execution_count": 21,
      "metadata": {
        "id": "aZ456gdXuhfY",
        "colab": {
          "base_uri": "https://localhost:8080/"
        },
        "outputId": "e43a894f-9686-4677-ca8e-2499e6e05a18"
      },
      "outputs": [
        {
          "output_type": "stream",
          "name": "stderr",
          "text": [
            "/usr/local/lib/python3.7/dist-packages/torch/utils/data/dataloader.py:490: UserWarning: This DataLoader will create 4 worker processes in total. Our suggested max number of worker in current system is 2, which is smaller than what this DataLoader is going to create. Please be aware that excessive worker creation might get DataLoader running slow or even freeze, lower the worker number to avoid potential slowness/freeze if necessary.\n",
            "  cpuset_checked))\n"
          ]
        }
      ],
      "source": [
        "BATCH_SIZE = 16\n",
        "\n",
        "train_data_loader = create_data_loader(df_train, tokenizer, MAX_LEN, BATCH_SIZE)\n",
        "val_data_loader = create_data_loader(df_val, tokenizer, MAX_LEN, BATCH_SIZE)\n",
        "test_data_loader = create_data_loader(df_test, tokenizer, MAX_LEN, BATCH_SIZE)"
      ]
    },
    {
      "cell_type": "code",
      "execution_count": 22,
      "metadata": {
        "colab": {
          "base_uri": "https://localhost:8080/"
        },
        "id": "1y_BkyaputXy",
        "outputId": "794f45b1-b1da-4fcf-fb45-01e0246db4b3"
      },
      "outputs": [
        {
          "output_type": "stream",
          "name": "stderr",
          "text": [
            "/usr/local/lib/python3.7/dist-packages/torch/utils/data/dataloader.py:490: UserWarning: This DataLoader will create 4 worker processes in total. Our suggested max number of worker in current system is 2, which is smaller than what this DataLoader is going to create. Please be aware that excessive worker creation might get DataLoader running slow or even freeze, lower the worker number to avoid potential slowness/freeze if necessary.\n",
            "  cpuset_checked))\n"
          ]
        },
        {
          "output_type": "execute_result",
          "data": {
            "text/plain": [
              "dict_keys(['financiar_text', 'input_ids', 'attention_mask', 'label'])"
            ]
          },
          "metadata": {},
          "execution_count": 22
        }
      ],
      "source": [
        "data = next(iter(train_data_loader))\n",
        "data.keys()"
      ]
    },
    {
      "cell_type": "code",
      "execution_count": 23,
      "metadata": {
        "colab": {
          "base_uri": "https://localhost:8080/"
        },
        "id": "OJFfJMFfxKQH",
        "outputId": "fe5af533-5af5-4572-dfd9-0adfd754756c"
      },
      "outputs": [
        {
          "output_type": "stream",
          "name": "stdout",
          "text": [
            "torch.Size([16, 160])\n",
            "torch.Size([16, 160])\n",
            "torch.Size([16])\n"
          ]
        }
      ],
      "source": [
        "print(data['input_ids'].shape)\n",
        "print(data['attention_mask'].shape)\n",
        "print(data['label'].shape)"
      ]
    },
    {
      "cell_type": "code",
      "execution_count": 24,
      "metadata": {
        "colab": {
          "base_uri": "https://localhost:8080/",
          "height": 103,
          "referenced_widgets": [
            "b0c13b8e375240709e4b2b1d7de43df7",
            "18b18a6bdd1e468a9f3b4eec7c6161c6",
            "2a16d4ed39cc47139e0ade70b2273a4c",
            "a9d8986d0d7b431c8ae435fedd6b6de7",
            "b2223afb9ad644c9845ffa048c8af4af",
            "f871b4bef20d446fba15ac58817f64d2",
            "07bc0a0b434c4a3daeb1f56a0cbe7442",
            "46fadcbfeca14e72b629d2396e2d0171",
            "4b10abdfe067437183ec6145d67ac694",
            "d65dd367ecb741fe9f59ef46efcbdb0a",
            "86e501e90a414dd4b7e8285b7ad0c14c"
          ]
        },
        "id": "_2rTvyeVxShy",
        "outputId": "dd87781f-1e1e-434c-99a9-bb9f35008e4d"
      },
      "outputs": [
        {
          "output_type": "display_data",
          "data": {
            "text/plain": [
              "Downloading:   0%|          | 0.00/418M [00:00<?, ?B/s]"
            ],
            "application/vnd.jupyter.widget-view+json": {
              "version_major": 2,
              "version_minor": 0,
              "model_id": "b0c13b8e375240709e4b2b1d7de43df7"
            }
          },
          "metadata": {}
        },
        {
          "output_type": "stream",
          "name": "stderr",
          "text": [
            "Some weights of the model checkpoint at ProsusAI/finbert were not used when initializing BertModel: ['classifier.bias', 'classifier.weight']\n",
            "- This IS expected if you are initializing BertModel from the checkpoint of a model trained on another task or with another architecture (e.g. initializing a BertForSequenceClassification model from a BertForPreTraining model).\n",
            "- This IS NOT expected if you are initializing BertModel from the checkpoint of a model that you expect to be exactly identical (initializing a BertForSequenceClassification model from a BertForSequenceClassification model).\n"
          ]
        }
      ],
      "source": [
        "bert_model = BertModel.from_pretrained(PRE_TRAINED_MODEL_NAME, return_dict = False)\n",
        "\n",
        "for param in bert_model.parameters():\n",
        "    param.requires_grad = False"
      ]
    },
    {
      "cell_type": "code",
      "execution_count": 25,
      "metadata": {
        "id": "_VqlwaCixUqw"
      },
      "outputs": [],
      "source": [
        "#create a classifier that uses the BERT model\n",
        "class SentimentClassifier(nn.Module):\n",
        "\n",
        "  def __init__(self, n_classes):\n",
        "    super(SentimentClassifier, self).__init__()\n",
        "    self.bert = BertModel.from_pretrained(PRE_TRAINED_MODEL_NAME, return_dict = False)\n",
        "    for param in self.bert.parameters():\n",
        "        param.requires_grad = False\n",
        "    print(self.bert.config.hidden_size);\n",
        "    self.classifier = nn.Sequential(\n",
        "            nn.Linear(self.bert.config.hidden_size, 1024), \n",
        "            nn.ReLU(),\n",
        "            nn.Dropout(0.3),\n",
        "            nn.Linear(1024, 128), # set not trainable\n",
        "            nn.ReLU(),\n",
        "            nn.Linear(128, 3)\n",
        "        )\n",
        "\n",
        "  \n",
        "  def forward(self, input_ids, attention_mask):\n",
        "    _, pooled_output = self.bert(\n",
        "      input_ids=input_ids,\n",
        "      attention_mask=attention_mask\n",
        "    )\n",
        "    #print(attention_mask,input_ids)\n",
        "    return self.classifier(pooled_output)"
      ]
    },
    {
      "cell_type": "code",
      "execution_count": 26,
      "metadata": {
        "colab": {
          "base_uri": "https://localhost:8080/"
        },
        "id": "fZJqbyZZxn8F",
        "outputId": "ecbe59a2-1ca0-474f-93e0-5138d369682c"
      },
      "outputs": [
        {
          "output_type": "stream",
          "name": "stderr",
          "text": [
            "Some weights of the model checkpoint at ProsusAI/finbert were not used when initializing BertModel: ['classifier.bias', 'classifier.weight']\n",
            "- This IS expected if you are initializing BertModel from the checkpoint of a model trained on another task or with another architecture (e.g. initializing a BertForSequenceClassification model from a BertForPreTraining model).\n",
            "- This IS NOT expected if you are initializing BertModel from the checkpoint of a model that you expect to be exactly identical (initializing a BertForSequenceClassification model from a BertForSequenceClassification model).\n"
          ]
        },
        {
          "output_type": "stream",
          "name": "stdout",
          "text": [
            "768\n"
          ]
        }
      ],
      "source": [
        "class_names = ['negative', 'neutral', 'positive']\n",
        "# create an instance and move it to the GPU\n",
        "model = SentimentClassifier(len(class_names))\n",
        "model = model.to(device)"
      ]
    },
    {
      "cell_type": "code",
      "execution_count": 27,
      "metadata": {
        "colab": {
          "base_uri": "https://localhost:8080/"
        },
        "id": "qS1xcL25yJwv",
        "outputId": "5a40646e-95ce-4877-ee4e-5e0dacf1fc75"
      },
      "outputs": [
        {
          "output_type": "stream",
          "name": "stdout",
          "text": [
            "torch.Size([16, 160])\n",
            "torch.Size([16, 160])\n"
          ]
        }
      ],
      "source": [
        "input_ids = data['input_ids'].to(device)\n",
        "attention_mask = data['attention_mask'].to(device)\n",
        "\n",
        "print(input_ids.shape) # batch size x seq length\n",
        "print(attention_mask.shape) # batch size x seq length"
      ]
    },
    {
      "cell_type": "code",
      "execution_count": 28,
      "metadata": {
        "colab": {
          "base_uri": "https://localhost:8080/"
        },
        "id": "Vi5qrwWFyNje",
        "outputId": "6eaad6af-5f4e-49ab-c9ce-ac0e8c5256ff"
      },
      "outputs": [
        {
          "output_type": "execute_result",
          "data": {
            "text/plain": [
              "tensor([[0.3399, 0.3086, 0.3515],\n",
              "        [0.3409, 0.3017, 0.3574],\n",
              "        [0.3243, 0.3183, 0.3575],\n",
              "        [0.3661, 0.2990, 0.3350],\n",
              "        [0.3446, 0.3173, 0.3381],\n",
              "        [0.3434, 0.3145, 0.3421],\n",
              "        [0.3508, 0.3001, 0.3491],\n",
              "        [0.3481, 0.3050, 0.3469],\n",
              "        [0.3415, 0.2935, 0.3650],\n",
              "        [0.3689, 0.2898, 0.3413],\n",
              "        [0.3496, 0.3016, 0.3488],\n",
              "        [0.3290, 0.3067, 0.3643],\n",
              "        [0.3686, 0.3119, 0.3195],\n",
              "        [0.3313, 0.2907, 0.3779],\n",
              "        [0.3514, 0.3124, 0.3362],\n",
              "        [0.3538, 0.2934, 0.3528]], device='cuda:0', grad_fn=<SoftmaxBackward0>)"
            ]
          },
          "metadata": {},
          "execution_count": 28
        }
      ],
      "source": [
        "F.softmax(model(input_ids, attention_mask), dim=1)"
      ]
    },
    {
      "cell_type": "code",
      "execution_count": 29,
      "metadata": {
        "id": "zGlpqyrNySS7",
        "colab": {
          "base_uri": "https://localhost:8080/"
        },
        "outputId": "1949a285-763c-4a8b-b8eb-5297e6fa79d1"
      },
      "outputs": [
        {
          "output_type": "stream",
          "name": "stderr",
          "text": [
            "/usr/local/lib/python3.7/dist-packages/transformers/optimization.py:309: FutureWarning: This implementation of AdamW is deprecated and will be removed in a future version. Use the PyTorch implementation torch.optim.AdamW instead, or set `no_deprecation_warning=True` to disable this warning\n",
            "  FutureWarning,\n"
          ]
        }
      ],
      "source": [
        "# Training\n",
        "\n",
        "# BERT recommendations for fine-tuning:\n",
        "\n",
        "# Batch size: 16, 32\n",
        "# Learning rate (Adam): 5e-5, 3e-5, 2e-5\n",
        "# Number of epochs: 2, 3, 4\n",
        "\n",
        "# increasing the batch size reduces the training time significantly, but gives you lower accuracy\n",
        "\n",
        "EPOCHS = 10\n",
        "\n",
        "optimizer = AdamW(model.parameters(), lr=2e-5, correct_bias=False)\n",
        "total_steps = len(train_data_loader) * EPOCHS\n",
        "\n",
        "scheduler = get_linear_schedule_with_warmup(\n",
        "  optimizer,\n",
        "  num_warmup_steps=0,\n",
        "  num_training_steps=total_steps\n",
        ")\n",
        "\n",
        "loss_fn = nn.CrossEntropyLoss().to(device)"
      ]
    },
    {
      "cell_type": "code",
      "execution_count": 30,
      "metadata": {
        "id": "0xEhR7LIyWmK"
      },
      "outputs": [],
      "source": [
        "def train_epoch(\n",
        "  model, \n",
        "  data_loader, \n",
        "  loss_fn, \n",
        "  optimizer, \n",
        "  device, \n",
        "  scheduler, \n",
        "  n_examples\n",
        "):\n",
        "  model = model.train()\n",
        "\n",
        "  losses = []\n",
        "  correct_predictions = 0\n",
        "  \n",
        "  for d in data_loader:\n",
        "    input_ids = d[\"input_ids\"].to(device)\n",
        "    attention_mask = d[\"attention_mask\"].to(device)\n",
        "    labels = d[\"label\"].to(device)\n",
        "\n",
        "    outputs = model(\n",
        "      input_ids=input_ids,\n",
        "      attention_mask=attention_mask\n",
        "    )\n",
        "\n",
        "    _, preds = torch.max(outputs, dim=1)\n",
        "    loss = loss_fn(outputs, labels)\n",
        "\n",
        "    correct_predictions += torch.sum(preds == labels)\n",
        "    losses.append(loss.item())\n",
        "\n",
        "    loss.backward()\n",
        "    nn.utils.clip_grad_norm_(model.parameters(), max_norm=1.0)\n",
        "    optimizer.step()\n",
        "    scheduler.step()\n",
        "    optimizer.zero_grad()\n",
        "\n",
        "  return correct_predictions.double() / n_examples, np.mean(losses)"
      ]
    },
    {
      "cell_type": "code",
      "execution_count": 31,
      "metadata": {
        "id": "cCLs8CPByeem"
      },
      "outputs": [],
      "source": [
        "def eval_model(model, data_loader, loss_fn, device, n_examples):\n",
        "  model = model.eval()\n",
        "\n",
        "  losses = []\n",
        "  correct_predictions = 0\n",
        "\n",
        "  with torch.no_grad():\n",
        "    for d in data_loader:\n",
        "      input_ids = d[\"input_ids\"].to(device)\n",
        "      attention_mask = d[\"attention_mask\"].to(device)\n",
        "      labels = d[\"label\"].to(device)\n",
        "\n",
        "      outputs = model(\n",
        "        input_ids=input_ids,\n",
        "        attention_mask=attention_mask\n",
        "      )\n",
        "      _, preds = torch.max(outputs, dim=1)\n",
        "\n",
        "      loss = loss_fn(outputs, labels)\n",
        "\n",
        "      correct_predictions += torch.sum(preds == labels)\n",
        "      losses.append(loss.item())\n",
        "\n",
        "  return correct_predictions.double() / n_examples, np.mean(losses)"
      ]
    },
    {
      "cell_type": "code",
      "source": [
        "!pip install torch-summary\n",
        "\n",
        "from torchsummary import summary"
      ],
      "metadata": {
        "id": "Zc8HgBStgOuu",
        "colab": {
          "base_uri": "https://localhost:8080/"
        },
        "outputId": "2dc31ec0-70c5-437b-ed39-24bcd6cf7810"
      },
      "execution_count": 32,
      "outputs": [
        {
          "output_type": "stream",
          "name": "stdout",
          "text": [
            "Looking in indexes: https://pypi.org/simple, https://us-python.pkg.dev/colab-wheels/public/simple/\n",
            "Collecting torch-summary\n",
            "  Downloading torch_summary-1.4.5-py3-none-any.whl (16 kB)\n",
            "Installing collected packages: torch-summary\n",
            "Successfully installed torch-summary-1.4.5\n"
          ]
        }
      ]
    },
    {
      "cell_type": "code",
      "source": [
        "# print network summary\n",
        "summary(model,input_size=(768,),depth=5,batch_dim=1, dtypes=['torch.IntTensor'])"
      ],
      "metadata": {
        "id": "g8wOdCyipigm",
        "colab": {
          "base_uri": "https://localhost:8080/"
        },
        "outputId": "021eb72a-1580-4fb9-b963-292afd26c70d"
      },
      "execution_count": 33,
      "outputs": [
        {
          "output_type": "stream",
          "name": "stdout",
          "text": [
            "================================================================================\n",
            "Layer (type:depth-idx)                                  Param #\n",
            "================================================================================\n",
            "├─BertModel: 1-1                                        --\n",
            "|    └─BertEmbeddings: 2-1                              --\n",
            "|    |    └─Embedding: 3-1                              (23,440,896)\n",
            "|    |    └─Embedding: 3-2                              (393,216)\n",
            "|    |    └─Embedding: 3-3                              (1,536)\n",
            "|    |    └─LayerNorm: 3-4                              (1,536)\n",
            "|    |    └─Dropout: 3-5                                --\n",
            "|    └─BertEncoder: 2-2                                 --\n",
            "|    |    └─ModuleList: 3-6                             --\n",
            "|    |    |    └─BertLayer: 4-1                         --\n",
            "|    |    |    |    └─BertAttention: 5-1                (2,363,904)\n",
            "|    |    |    |    └─BertIntermediate: 5-2             (2,362,368)\n",
            "|    |    |    |    └─BertOutput: 5-3                   (2,361,600)\n",
            "|    |    |    └─BertLayer: 4-2                         --\n",
            "|    |    |    |    └─BertAttention: 5-4                (2,363,904)\n",
            "|    |    |    |    └─BertIntermediate: 5-5             (2,362,368)\n",
            "|    |    |    |    └─BertOutput: 5-6                   (2,361,600)\n",
            "|    |    |    └─BertLayer: 4-3                         --\n",
            "|    |    |    |    └─BertAttention: 5-7                (2,363,904)\n",
            "|    |    |    |    └─BertIntermediate: 5-8             (2,362,368)\n",
            "|    |    |    |    └─BertOutput: 5-9                   (2,361,600)\n",
            "|    |    |    └─BertLayer: 4-4                         --\n",
            "|    |    |    |    └─BertAttention: 5-10               (2,363,904)\n",
            "|    |    |    |    └─BertIntermediate: 5-11            (2,362,368)\n",
            "|    |    |    |    └─BertOutput: 5-12                  (2,361,600)\n",
            "|    |    |    └─BertLayer: 4-5                         --\n",
            "|    |    |    |    └─BertAttention: 5-13               (2,363,904)\n",
            "|    |    |    |    └─BertIntermediate: 5-14            (2,362,368)\n",
            "|    |    |    |    └─BertOutput: 5-15                  (2,361,600)\n",
            "|    |    |    └─BertLayer: 4-6                         --\n",
            "|    |    |    |    └─BertAttention: 5-16               (2,363,904)\n",
            "|    |    |    |    └─BertIntermediate: 5-17            (2,362,368)\n",
            "|    |    |    |    └─BertOutput: 5-18                  (2,361,600)\n",
            "|    |    |    └─BertLayer: 4-7                         --\n",
            "|    |    |    |    └─BertAttention: 5-19               (2,363,904)\n",
            "|    |    |    |    └─BertIntermediate: 5-20            (2,362,368)\n",
            "|    |    |    |    └─BertOutput: 5-21                  (2,361,600)\n",
            "|    |    |    └─BertLayer: 4-8                         --\n",
            "|    |    |    |    └─BertAttention: 5-22               (2,363,904)\n",
            "|    |    |    |    └─BertIntermediate: 5-23            (2,362,368)\n",
            "|    |    |    |    └─BertOutput: 5-24                  (2,361,600)\n",
            "|    |    |    └─BertLayer: 4-9                         --\n",
            "|    |    |    |    └─BertAttention: 5-25               (2,363,904)\n",
            "|    |    |    |    └─BertIntermediate: 5-26            (2,362,368)\n",
            "|    |    |    |    └─BertOutput: 5-27                  (2,361,600)\n",
            "|    |    |    └─BertLayer: 4-10                        --\n",
            "|    |    |    |    └─BertAttention: 5-28               (2,363,904)\n",
            "|    |    |    |    └─BertIntermediate: 5-29            (2,362,368)\n",
            "|    |    |    |    └─BertOutput: 5-30                  (2,361,600)\n",
            "|    |    |    └─BertLayer: 4-11                        --\n",
            "|    |    |    |    └─BertAttention: 5-31               (2,363,904)\n",
            "|    |    |    |    └─BertIntermediate: 5-32            (2,362,368)\n",
            "|    |    |    |    └─BertOutput: 5-33                  (2,361,600)\n",
            "|    |    |    └─BertLayer: 4-12                        --\n",
            "|    |    |    |    └─BertAttention: 5-34               (2,363,904)\n",
            "|    |    |    |    └─BertIntermediate: 5-35            (2,362,368)\n",
            "|    |    |    |    └─BertOutput: 5-36                  (2,361,600)\n",
            "|    └─BertPooler: 2-3                                  --\n",
            "|    |    └─Linear: 3-7                                 (590,592)\n",
            "|    |    └─Tanh: 3-8                                   --\n",
            "├─Sequential: 1-2                                       --\n",
            "|    └─Linear: 2-4                                      787,456\n",
            "|    └─ReLU: 2-5                                        --\n",
            "|    └─Dropout: 2-6                                     --\n",
            "|    └─Linear: 2-7                                      131,200\n",
            "|    └─ReLU: 2-8                                        --\n",
            "|    └─Linear: 2-9                                      387\n",
            "================================================================================\n",
            "Total params: 110,401,283\n",
            "Trainable params: 919,043\n",
            "Non-trainable params: 109,482,240\n",
            "================================================================================\n"
          ]
        },
        {
          "output_type": "execute_result",
          "data": {
            "text/plain": [
              "================================================================================\n",
              "Layer (type:depth-idx)                                  Param #\n",
              "================================================================================\n",
              "├─BertModel: 1-1                                        --\n",
              "|    └─BertEmbeddings: 2-1                              --\n",
              "|    |    └─Embedding: 3-1                              (23,440,896)\n",
              "|    |    └─Embedding: 3-2                              (393,216)\n",
              "|    |    └─Embedding: 3-3                              (1,536)\n",
              "|    |    └─LayerNorm: 3-4                              (1,536)\n",
              "|    |    └─Dropout: 3-5                                --\n",
              "|    └─BertEncoder: 2-2                                 --\n",
              "|    |    └─ModuleList: 3-6                             --\n",
              "|    |    |    └─BertLayer: 4-1                         --\n",
              "|    |    |    |    └─BertAttention: 5-1                (2,363,904)\n",
              "|    |    |    |    └─BertIntermediate: 5-2             (2,362,368)\n",
              "|    |    |    |    └─BertOutput: 5-3                   (2,361,600)\n",
              "|    |    |    └─BertLayer: 4-2                         --\n",
              "|    |    |    |    └─BertAttention: 5-4                (2,363,904)\n",
              "|    |    |    |    └─BertIntermediate: 5-5             (2,362,368)\n",
              "|    |    |    |    └─BertOutput: 5-6                   (2,361,600)\n",
              "|    |    |    └─BertLayer: 4-3                         --\n",
              "|    |    |    |    └─BertAttention: 5-7                (2,363,904)\n",
              "|    |    |    |    └─BertIntermediate: 5-8             (2,362,368)\n",
              "|    |    |    |    └─BertOutput: 5-9                   (2,361,600)\n",
              "|    |    |    └─BertLayer: 4-4                         --\n",
              "|    |    |    |    └─BertAttention: 5-10               (2,363,904)\n",
              "|    |    |    |    └─BertIntermediate: 5-11            (2,362,368)\n",
              "|    |    |    |    └─BertOutput: 5-12                  (2,361,600)\n",
              "|    |    |    └─BertLayer: 4-5                         --\n",
              "|    |    |    |    └─BertAttention: 5-13               (2,363,904)\n",
              "|    |    |    |    └─BertIntermediate: 5-14            (2,362,368)\n",
              "|    |    |    |    └─BertOutput: 5-15                  (2,361,600)\n",
              "|    |    |    └─BertLayer: 4-6                         --\n",
              "|    |    |    |    └─BertAttention: 5-16               (2,363,904)\n",
              "|    |    |    |    └─BertIntermediate: 5-17            (2,362,368)\n",
              "|    |    |    |    └─BertOutput: 5-18                  (2,361,600)\n",
              "|    |    |    └─BertLayer: 4-7                         --\n",
              "|    |    |    |    └─BertAttention: 5-19               (2,363,904)\n",
              "|    |    |    |    └─BertIntermediate: 5-20            (2,362,368)\n",
              "|    |    |    |    └─BertOutput: 5-21                  (2,361,600)\n",
              "|    |    |    └─BertLayer: 4-8                         --\n",
              "|    |    |    |    └─BertAttention: 5-22               (2,363,904)\n",
              "|    |    |    |    └─BertIntermediate: 5-23            (2,362,368)\n",
              "|    |    |    |    └─BertOutput: 5-24                  (2,361,600)\n",
              "|    |    |    └─BertLayer: 4-9                         --\n",
              "|    |    |    |    └─BertAttention: 5-25               (2,363,904)\n",
              "|    |    |    |    └─BertIntermediate: 5-26            (2,362,368)\n",
              "|    |    |    |    └─BertOutput: 5-27                  (2,361,600)\n",
              "|    |    |    └─BertLayer: 4-10                        --\n",
              "|    |    |    |    └─BertAttention: 5-28               (2,363,904)\n",
              "|    |    |    |    └─BertIntermediate: 5-29            (2,362,368)\n",
              "|    |    |    |    └─BertOutput: 5-30                  (2,361,600)\n",
              "|    |    |    └─BertLayer: 4-11                        --\n",
              "|    |    |    |    └─BertAttention: 5-31               (2,363,904)\n",
              "|    |    |    |    └─BertIntermediate: 5-32            (2,362,368)\n",
              "|    |    |    |    └─BertOutput: 5-33                  (2,361,600)\n",
              "|    |    |    └─BertLayer: 4-12                        --\n",
              "|    |    |    |    └─BertAttention: 5-34               (2,363,904)\n",
              "|    |    |    |    └─BertIntermediate: 5-35            (2,362,368)\n",
              "|    |    |    |    └─BertOutput: 5-36                  (2,361,600)\n",
              "|    └─BertPooler: 2-3                                  --\n",
              "|    |    └─Linear: 3-7                                 (590,592)\n",
              "|    |    └─Tanh: 3-8                                   --\n",
              "├─Sequential: 1-2                                       --\n",
              "|    └─Linear: 2-4                                      787,456\n",
              "|    └─ReLU: 2-5                                        --\n",
              "|    └─Dropout: 2-6                                     --\n",
              "|    └─Linear: 2-7                                      131,200\n",
              "|    └─ReLU: 2-8                                        --\n",
              "|    └─Linear: 2-9                                      387\n",
              "================================================================================\n",
              "Total params: 110,401,283\n",
              "Trainable params: 919,043\n",
              "Non-trainable params: 109,482,240\n",
              "================================================================================"
            ]
          },
          "metadata": {},
          "execution_count": 33
        }
      ]
    },
    {
      "cell_type": "code",
      "execution_count": 34,
      "metadata": {
        "id": "orT3UeHXypOm",
        "colab": {
          "base_uri": "https://localhost:8080/"
        },
        "outputId": "62a47e29-3619-411f-e3c2-4d7cf04eaee9"
      },
      "outputs": [
        {
          "output_type": "stream",
          "name": "stdout",
          "text": [
            "Epoch 1/10\n",
            "----------\n",
            "<torch.utils.data.dataloader.DataLoader object at 0x7fcdb4d9dbd0>\n"
          ]
        },
        {
          "output_type": "stream",
          "name": "stderr",
          "text": [
            "/usr/local/lib/python3.7/dist-packages/torch/utils/data/dataloader.py:490: UserWarning: This DataLoader will create 4 worker processes in total. Our suggested max number of worker in current system is 2, which is smaller than what this DataLoader is going to create. Please be aware that excessive worker creation might get DataLoader running slow or even freeze, lower the worker number to avoid potential slowness/freeze if necessary.\n",
            "  cpuset_checked))\n"
          ]
        },
        {
          "output_type": "stream",
          "name": "stdout",
          "text": [
            "Train loss 0.30582160962584576 accuracy 0.8924148606811145\n",
            "Val   loss 0.26911572787550186 accuracy 0.9010309278350516\n",
            "\n",
            "Epoch 2/10\n",
            "----------\n",
            "<torch.utils.data.dataloader.DataLoader object at 0x7fcdb4d9dbd0>\n",
            "Train loss 0.27133620666041053 accuracy 0.8970588235294117\n",
            "Val   loss 0.26366136475436147 accuracy 0.9010309278350516\n",
            "\n",
            "Epoch 3/10\n",
            "----------\n",
            "<torch.utils.data.dataloader.DataLoader object at 0x7fcdb4d9dbd0>\n",
            "Train loss 0.27400142911039754 accuracy 0.8949948400412796\n",
            "Val   loss 0.2560862498658319 accuracy 0.9030927835051547\n",
            "\n",
            "Epoch 4/10\n",
            "----------\n",
            "<torch.utils.data.dataloader.DataLoader object at 0x7fcdb4d9dbd0>\n",
            "Train loss 0.26829588296727386 accuracy 0.8962848297213621\n",
            "Val   loss 0.2554021028261031 accuracy 0.9051546391752577\n",
            "\n",
            "Epoch 5/10\n",
            "----------\n",
            "<torch.utils.data.dataloader.DataLoader object at 0x7fcdb4d9dbd0>\n",
            "Train loss 0.2624417592315272 accuracy 0.9001547987616099\n",
            "Val   loss 0.25648138515891566 accuracy 0.9051546391752577\n",
            "\n",
            "Epoch 6/10\n",
            "----------\n",
            "<torch.utils.data.dataloader.DataLoader object at 0x7fcdb4d9dbd0>\n",
            "Train loss 0.26742638019009385 accuracy 0.8975748194014447\n",
            "Val   loss 0.2534135395000058 accuracy 0.9072164948453608\n",
            "\n",
            "Epoch 7/10\n",
            "----------\n",
            "<torch.utils.data.dataloader.DataLoader object at 0x7fcdb4d9dbd0>\n",
            "Train loss 0.2648907198106924 accuracy 0.8970588235294117\n",
            "Val   loss 0.2523358110939303 accuracy 0.9072164948453608\n",
            "\n",
            "Epoch 8/10\n",
            "----------\n",
            "<torch.utils.data.dataloader.DataLoader object at 0x7fcdb4d9dbd0>\n",
            "Train loss 0.2694984688711019 accuracy 0.8962848297213621\n",
            "Val   loss 0.25191601041343903 accuracy 0.9051546391752577\n",
            "\n",
            "Epoch 9/10\n",
            "----------\n",
            "<torch.utils.data.dataloader.DataLoader object at 0x7fcdb4d9dbd0>\n",
            "Train loss 0.2621912746057834 accuracy 0.8980908152734778\n",
            "Val   loss 0.25205675176074427 accuracy 0.9072164948453608\n",
            "\n",
            "Epoch 10/10\n",
            "----------\n",
            "<torch.utils.data.dataloader.DataLoader object at 0x7fcdb4d9dbd0>\n",
            "Train loss 0.2654140826483322 accuracy 0.8991228070175438\n",
            "Val   loss 0.25181334429690916 accuracy 0.9030927835051547\n",
            "\n",
            "CPU times: user 4min 6s, sys: 6.23 s, total: 4min 12s\n",
            "Wall time: 4min 36s\n"
          ]
        }
      ],
      "source": [
        "%%time\n",
        "\n",
        "history = defaultdict(list)\n",
        "best_accuracy = 0\n",
        "\n",
        "for epoch in range(EPOCHS):\n",
        "\n",
        "  print(f'Epoch {epoch + 1}/{EPOCHS}')\n",
        "  print('-' * 10)\n",
        "\n",
        "  print(train_data_loader)\n",
        "  \n",
        "  train_acc, train_loss = train_epoch(\n",
        "    model,\n",
        "    train_data_loader,    \n",
        "    loss_fn, \n",
        "    optimizer, \n",
        "    device, \n",
        "    scheduler, \n",
        "    len(df_train)\n",
        "  )\n",
        "\n",
        "  print(f'Train loss {train_loss} accuracy {train_acc}')\n",
        "\n",
        "  val_acc, val_loss = eval_model(\n",
        "    model,\n",
        "    val_data_loader,\n",
        "    loss_fn, \n",
        "    device, \n",
        "    len(df_val)\n",
        "  )\n",
        "\n",
        "  print(f'Val   loss {val_loss} accuracy {val_acc}')\n",
        "  print()\n",
        "\n",
        "  history['train_acc'].append(train_acc)\n",
        "  history['train_loss'].append(train_loss.item())\n",
        "  history['val_acc'].append(val_acc.item())\n",
        "  history['val_loss'].append(val_loss)\n",
        "\n",
        "  if val_acc > best_accuracy:\n",
        "    torch.save(model.state_dict(), 'best_model_state.bin')\n",
        "    best_accuracy = val_acc"
      ]
    },
    {
      "cell_type": "code",
      "execution_count": 35,
      "metadata": {
        "id": "4dHBXyzDQxxM",
        "colab": {
          "base_uri": "https://localhost:8080/",
          "height": 615
        },
        "outputId": "81af8381-5bd5-4b20-c494-16be9ed8d35a"
      },
      "outputs": [
        {
          "output_type": "stream",
          "name": "stdout",
          "text": [
            "[tensor(0.8924, device='cuda:0', dtype=torch.float64), tensor(0.8971, device='cuda:0', dtype=torch.float64), tensor(0.8950, device='cuda:0', dtype=torch.float64), tensor(0.8963, device='cuda:0', dtype=torch.float64), tensor(0.9002, device='cuda:0', dtype=torch.float64), tensor(0.8976, device='cuda:0', dtype=torch.float64), tensor(0.8971, device='cuda:0', dtype=torch.float64), tensor(0.8963, device='cuda:0', dtype=torch.float64), tensor(0.8981, device='cuda:0', dtype=torch.float64), tensor(0.8991, device='cuda:0', dtype=torch.float64)]\n",
            "[0.9010309278350516, 0.9010309278350516, 0.9030927835051547, 0.9051546391752577, 0.9051546391752577, 0.9072164948453608, 0.9072164948453608, 0.9051546391752577, 0.9072164948453608, 0.9030927835051547]\n",
            "tensor([0.8924, 0.8971, 0.8950, 0.8963, 0.9002, 0.8976, 0.8971, 0.8963, 0.8981,\n",
            "        0.8991], dtype=torch.float64)\n"
          ]
        },
        {
          "output_type": "display_data",
          "data": {
            "text/plain": [
              "<Figure size 864x576 with 1 Axes>"
            ],
            "image/png": "[encoded data removed]"
          },
          "metadata": {
            "image/png": {
              "width": 732,
              "height": 506
            }
          }
        }
      ],
      "source": [
        "print(history['train_acc'])\n",
        "print(history['val_acc'])\n",
        "\n",
        "new_tensor = torch.tensor(history['train_acc'], device = 'cpu')\n",
        "print(new_tensor)\n",
        "\n",
        "plt.plot(new_tensor, label='train accuracy')\n",
        "plt.plot(history['val_acc'], label='validation accuracy')\n",
        "plt.title('Training history')\n",
        "plt.ylabel('Accuracy')\n",
        "plt.xlabel('Epoch')\n",
        "plt.legend()\n",
        "plt.ylim([0.5, 1]);"
      ]
    },
    {
      "cell_type": "code",
      "execution_count": 36,
      "metadata": {
        "id": "dtibMXlzKR0B",
        "colab": {
          "base_uri": "https://localhost:8080/"
        },
        "outputId": "d37b0f9c-7f04-4b0e-a2ba-0ee29f1cc5c7"
      },
      "outputs": [
        {
          "output_type": "stream",
          "name": "stderr",
          "text": [
            "/usr/local/lib/python3.7/dist-packages/torch/utils/data/dataloader.py:490: UserWarning: This DataLoader will create 4 worker processes in total. Our suggested max number of worker in current system is 2, which is smaller than what this DataLoader is going to create. Please be aware that excessive worker creation might get DataLoader running slow or even freeze, lower the worker number to avoid potential slowness/freeze if necessary.\n",
            "  cpuset_checked))\n"
          ]
        },
        {
          "output_type": "execute_result",
          "data": {
            "text/plain": [
              "0.9072164948453608"
            ]
          },
          "metadata": {},
          "execution_count": 36
        }
      ],
      "source": [
        "# calculating the accuracy on the test data\n",
        "test_acc, _ = eval_model(\n",
        "  model,\n",
        "  test_data_loader,\n",
        "  loss_fn,\n",
        "  device,\n",
        "  len(df_test)\n",
        ")\n",
        "\n",
        "test_acc.item()"
      ]
    },
    {
      "cell_type": "code",
      "execution_count": 37,
      "metadata": {
        "id": "TC6XQWGXS7gW"
      },
      "outputs": [],
      "source": [
        "# This is similar to the evaluation function, \n",
        "# except that we're storing the text and the predicted probabilities \n",
        "# (by applying the softmax on the model outputs)\n",
        "\n",
        "def get_predictions(model, data_loader):\n",
        "  model = model.eval()\n",
        "  \n",
        "  financiar_texts = []\n",
        "  predictions = []\n",
        "  prediction_probs = []\n",
        "  real_values = []\n",
        "\n",
        "  with torch.no_grad():\n",
        "    for d in data_loader:\n",
        "\n",
        "      texts = d[\"financiar_text\"]\n",
        "      input_ids = d[\"input_ids\"].to(device)\n",
        "      attention_mask = d[\"attention_mask\"].to(device)\n",
        "      targets = d[\"label\"].to(device)\n",
        "\n",
        "      outputs = model(\n",
        "        input_ids=input_ids,\n",
        "        attention_mask=attention_mask\n",
        "      )\n",
        "      _, preds = torch.max(outputs, dim=1)\n",
        "\n",
        "      probs = F.softmax(outputs, dim=1)\n",
        "\n",
        "      financiar_texts.extend(texts)\n",
        "      predictions.extend(preds)\n",
        "      prediction_probs.extend(probs)\n",
        "      real_values.extend(targets)\n",
        "\n",
        "  predictions = torch.stack(predictions).cpu()\n",
        "  prediction_probs = torch.stack(prediction_probs).cpu()\n",
        "  real_values = torch.stack(real_values).cpu()\n",
        "  return financiar_texts, predictions, prediction_probs, real_values"
      ]
    },
    {
      "cell_type": "code",
      "execution_count": 38,
      "metadata": {
        "id": "rjHPPJJFTYwb",
        "colab": {
          "base_uri": "https://localhost:8080/"
        },
        "outputId": "e2cfb8ef-7f6b-4079-aaed-017c4f7937bc"
      },
      "outputs": [
        {
          "output_type": "stream",
          "name": "stderr",
          "text": [
            "/usr/local/lib/python3.7/dist-packages/torch/utils/data/dataloader.py:490: UserWarning: This DataLoader will create 4 worker processes in total. Our suggested max number of worker in current system is 2, which is smaller than what this DataLoader is going to create. Please be aware that excessive worker creation might get DataLoader running slow or even freeze, lower the worker number to avoid potential slowness/freeze if necessary.\n",
            "  cpuset_checked))\n"
          ]
        }
      ],
      "source": [
        "y_review_texts, y_pred, y_pred_probs, y_test = get_predictions(\n",
        "  model,\n",
        "  test_data_loader\n",
        ")"
      ]
    },
    {
      "cell_type": "code",
      "execution_count": 39,
      "metadata": {
        "id": "b9IhX9feTtlN",
        "colab": {
          "base_uri": "https://localhost:8080/"
        },
        "outputId": "8f1a4e53-b42f-4414-d221-af32a038c84f"
      },
      "outputs": [
        {
          "output_type": "stream",
          "name": "stdout",
          "text": [
            "              precision    recall  f1-score   support\n",
            "\n",
            "    negative       0.92      0.96      0.94        56\n",
            "     neutral       0.94      0.90      0.92       285\n",
            "    positive       0.84      0.90      0.87       144\n",
            "\n",
            "    accuracy                           0.91       485\n",
            "   macro avg       0.90      0.92      0.91       485\n",
            "weighted avg       0.91      0.91      0.91       485\n",
            "\n"
          ]
        }
      ],
      "source": [
        "print(classification_report(y_test, y_pred, target_names=class_names))"
      ]
    },
    {
      "cell_type": "code",
      "execution_count": 40,
      "metadata": {
        "id": "QxZKPNL-TzIb",
        "colab": {
          "base_uri": "https://localhost:8080/",
          "height": 533
        },
        "outputId": "c474875a-50ac-4af0-a35e-5414d274c8da"
      },
      "outputs": [
        {
          "output_type": "display_data",
          "data": {
            "text/plain": [
              "<Figure size 864x576 with 2 Axes>"
            ],
            "image/png": "[encoded data removed]"
          },
          "metadata": {
            "image/png": {
              "width": 725,
              "height": 516
            }
          }
        }
      ],
      "source": [
        "def show_confusion_matrix(confusion_matrix):\n",
        "  hmap = sns.heatmap(confusion_matrix, annot=True, fmt=\"d\", cmap=\"Blues\")\n",
        "  hmap.yaxis.set_ticklabels(hmap.yaxis.get_ticklabels(), rotation=0, ha='right')\n",
        "  hmap.xaxis.set_ticklabels(hmap.xaxis.get_ticklabels(), rotation=30, ha='right')\n",
        "  plt.ylabel('True sentiment')\n",
        "  plt.xlabel('Predicted sentiment');\n",
        "\n",
        "cm = confusion_matrix(y_test, y_pred)\n",
        "df_cm = pd.DataFrame(cm, index=class_names, columns=class_names)\n",
        "show_confusion_matrix(df_cm)"
      ]
    },
    {
      "cell_type": "code",
      "execution_count": 41,
      "metadata": {
        "id": "jFnuwPbtT1ep"
      },
      "outputs": [],
      "source": [
        "idx = 2\n",
        "\n",
        "review_text = y_review_texts[idx]\n",
        "true_sentiment = y_test[idx]\n",
        "pred_df = pd.DataFrame({\n",
        "  'class_names': class_names,\n",
        "  'values': y_pred_probs[idx]\n",
        "})"
      ]
    },
    {
      "cell_type": "code",
      "execution_count": 42,
      "metadata": {
        "id": "GczxuQMuT5H8",
        "colab": {
          "base_uri": "https://localhost:8080/"
        },
        "outputId": "1ef12477-8c25-459c-fc67-f8b952743e2f"
      },
      "outputs": [
        {
          "output_type": "stream",
          "name": "stdout",
          "text": [
            "As the world leaders in developing UV technology for municipal\n",
            "wastewater , drinking water , and industrial water treatment systems ,\n",
            "Trojan Technologies was a logical partner in providing W+Ærtsil+Æ with\n",
            "UV technology for ballast water treatment .\n",
            "\n",
            "True sentiment: neutral\n"
          ]
        }
      ],
      "source": [
        "print(\"\\n\".join(wrap(review_text)))\n",
        "print()\n",
        "print(f'True sentiment: {class_names[true_sentiment]}')"
      ]
    },
    {
      "cell_type": "code",
      "execution_count": 43,
      "metadata": {
        "id": "_an75A5GT9PD",
        "colab": {
          "base_uri": "https://localhost:8080/",
          "height": 506
        },
        "outputId": "f04d13ff-b9cb-4444-8b1b-b98773dd79af"
      },
      "outputs": [
        {
          "output_type": "display_data",
          "data": {
            "text/plain": [
              "<Figure size 864x576 with 1 Axes>"
            ],
            "image/png": "[encoded data removed]"
          },
          "metadata": {
            "image/png": {
              "width": 779,
              "height": 489
            }
          }
        }
      ],
      "source": [
        "sns.barplot(x='values', y='class_names', data=pred_df, orient='h')\n",
        "plt.ylabel('sentiment')\n",
        "plt.xlabel('probability')\n",
        "plt.xlim([0, 1]);"
      ]
    },
    {
      "cell_type": "code",
      "execution_count": 44,
      "metadata": {
        "id": "wiM0l_ulUJtA"
      },
      "outputs": [],
      "source": [
        "review_text = \"In March 2011, the annual CPI inflation rate stood at 8.01 percent, 0.05 percentage points above the level seen in December 2010 and 1.2 percentage points above that forecasted in the February 2011 Inflation Report. The major factor which prevented inflation from declining in 2011 Q1, as envisaged in the baseline scenario presented in the previous Inflation Report, was that some of the significant risks mentioned in that Report materialised. Specifically, substantial increases in international food and fuel prices were recorded, which fed through to domestic consumer prices.\""
      ]
    },
    {
      "cell_type": "code",
      "execution_count": 45,
      "metadata": {
        "id": "tClfKD9_UMk1"
      },
      "outputs": [],
      "source": [
        "encoded_review = tokenizer.encode_plus(\n",
        "  review_text,\n",
        "  max_length=MAX_LEN,\n",
        "  add_special_tokens=True,\n",
        "  return_token_type_ids=False,\n",
        "  padding = 'max_length',\n",
        "  return_attention_mask=True,\n",
        "  return_tensors='pt',\n",
        ")"
      ]
    },
    {
      "cell_type": "code",
      "execution_count": 46,
      "metadata": {
        "id": "sXauJiMNUPhq",
        "colab": {
          "base_uri": "https://localhost:8080/"
        },
        "outputId": "11654fcc-98c2-4be5-b9dd-ea009c865398"
      },
      "outputs": [
        {
          "output_type": "stream",
          "name": "stdout",
          "text": [
            "Review text: In March 2011, the annual CPI inflation rate stood at 8.01 percent, 0.05 percentage points above the level seen in December 2010 and 1.2 percentage points above that forecasted in the February 2011 Inflation Report. The major factor which prevented inflation from declining in 2011 Q1, as envisaged in the baseline scenario presented in the previous Inflation Report, was that some of the significant risks mentioned in that Report materialised. Specifically, substantial increases in international food and fuel prices were recorded, which fed through to domestic consumer prices.\n",
            "Sentiment  : neutral\n"
          ]
        }
      ],
      "source": [
        "input_ids = encoded_review['input_ids'].to(device)\n",
        "attention_mask = encoded_review['attention_mask'].to(device)\n",
        "\n",
        "output = model(input_ids, attention_mask)\n",
        "_, prediction = torch.max(output, dim=1)\n",
        "\n",
        "print(f'Review text: {review_text}')\n",
        "print(f'Sentiment  : {class_names[prediction]}')"
      ]
    }
  ],
  "metadata": {
    "accelerator": "GPU",
    "colab": {
      "collapsed_sections": [],
      "name": "Bert_sentiment_analysis_bank_reports_Finbert.ipynb",
      "provenance": []
    },
    "kernelspec": {
      "display_name": "Python 3",
      "name": "python3"
    },
    "language_info": {
      "name": "python"
    },
    "widgets": {
      "application/vnd.jupyter.widget-state+json": {
        "46ec0d980d2846e2a7534928d07189e0": {
          "model_module": "@jupyter-widgets/controls",
          "model_name": "HBoxModel",
          "model_module_version": "1.5.0",
          "state": {
            "_dom_classes": [],
            "_model_module": "@jupyter-widgets/controls",
            "_model_module_version": "1.5.0",
            "_model_name": "HBoxModel",
            "_view_count": null,
            "_view_module": "@jupyter-widgets/controls",
            "_view_module_version": "1.5.0",
            "_view_name": "HBoxView",
            "box_style": "",
            "children": [
              "IPY_MODEL_1f8b75825dcb4048a84dd2b743141cd7",
              "IPY_MODEL_11aaaa0c9c2343c698c5e242f50f1717",
              "IPY_MODEL_739fdb4b804b47308522203c83218101"
            ],
            "layout": "IPY_MODEL_3153f514cf054bb1959644605d204ad0"
          }
        },
        "1f8b75825dcb4048a84dd2b743141cd7": {
          "model_module": "@jupyter-widgets/controls",
          "model_name": "HTMLModel",
          "model_module_version": "1.5.0",
          "state": {
            "_dom_classes": [],
            "_model_module": "@jupyter-widgets/controls",
            "_model_module_version": "1.5.0",
            "_model_name": "HTMLModel",
            "_view_count": null,
            "_view_module": "@jupyter-widgets/controls",
            "_view_module_version": "1.5.0",
            "_view_name": "HTMLView",
            "description": "",
            "description_tooltip": null,
            "layout": "IPY_MODEL_6505305412bd4d2fbc9f920f5c7e9ba8",
            "placeholder": "​",
            "style": "IPY_MODEL_ac8f5a766cab4b2a8eda7a9d005c206e",
            "value": "Downloading: 100%"
          }
        },
        "11aaaa0c9c2343c698c5e242f50f1717": {
          "model_module": "@jupyter-widgets/controls",
          "model_name": "FloatProgressModel",
          "model_module_version": "1.5.0",
          "state": {
            "_dom_classes": [],
            "_model_module": "@jupyter-widgets/controls",
            "_model_module_version": "1.5.0",
            "_model_name": "FloatProgressModel",
            "_view_count": null,
            "_view_module": "@jupyter-widgets/controls",
            "_view_module_version": "1.5.0",
            "_view_name": "ProgressView",
            "bar_style": "success",
            "description": "",
            "description_tooltip": null,
            "layout": "IPY_MODEL_6f9081837f4840e99250cc41f9434ffe",
            "max": 231508,
            "min": 0,
            "orientation": "horizontal",
            "style": "IPY_MODEL_816f77910cc5478abd277426e5536d71",
            "value": 231508
          }
        },
        "739fdb4b804b47308522203c83218101": {
          "model_module": "@jupyter-widgets/controls",
          "model_name": "HTMLModel",
          "model_module_version": "1.5.0",
          "state": {
            "_dom_classes": [],
            "_model_module": "@jupyter-widgets/controls",
            "_model_module_version": "1.5.0",
            "_model_name": "HTMLModel",
            "_view_count": null,
            "_view_module": "@jupyter-widgets/controls",
            "_view_module_version": "1.5.0",
            "_view_name": "HTMLView",
            "description": "",
            "description_tooltip": null,
            "layout": "IPY_MODEL_e470f139fcf14a3fafa811e448cc49fc",
            "placeholder": "​",
            "style": "IPY_MODEL_93758c16435844a2988ecff5353ab360",
            "value": " 226k/226k [00:00&lt;00:00, 734kB/s]"
          }
        },
        "3153f514cf054bb1959644605d204ad0": {
          "model_module": "@jupyter-widgets/base",
          "model_name": "LayoutModel",
          "model_module_version": "1.2.0",
          "state": {
            "_model_module": "@jupyter-widgets/base",
            "_model_module_version": "1.2.0",
            "_model_name": "LayoutModel",
            "_view_count": null,
            "_view_module": "@jupyter-widgets/base",
            "_view_module_version": "1.2.0",
            "_view_name": "LayoutView",
            "align_content": null,
            "align_items": null,
            "align_self": null,
            "border": null,
            "bottom": null,
            "display": null,
            "flex": null,
            "flex_flow": null,
            "grid_area": null,
            "grid_auto_columns": null,
            "grid_auto_flow": null,
            "grid_auto_rows": null,
            "grid_column": null,
            "grid_gap": null,
            "grid_row": null,
            "grid_template_areas": null,
            "grid_template_columns": null,
            "grid_template_rows": null,
            "height": null,
            "justify_content": null,
            "justify_items": null,
            "left": null,
            "margin": null,
            "max_height": null,
            "max_width": null,
            "min_height": null,
            "min_width": null,
            "object_fit": null,
            "object_position": null,
            "order": null,
            "overflow": null,
            "overflow_x": null,
            "overflow_y": null,
            "padding": null,
            "right": null,
            "top": null,
            "visibility": null,
            "width": null
          }
        },
        "6505305412bd4d2fbc9f920f5c7e9ba8": {
          "model_module": "@jupyter-widgets/base",
          "model_name": "LayoutModel",
          "model_module_version": "1.2.0",
          "state": {
            "_model_module": "@jupyter-widgets/base",
            "_model_module_version": "1.2.0",
            "_model_name": "LayoutModel",
            "_view_count": null,
            "_view_module": "@jupyter-widgets/base",
            "_view_module_version": "1.2.0",
            "_view_name": "LayoutView",
            "align_content": null,
            "align_items": null,
            "align_self": null,
            "border": null,
            "bottom": null,
            "display": null,
            "flex": null,
            "flex_flow": null,
            "grid_area": null,
            "grid_auto_columns": null,
            "grid_auto_flow": null,
            "grid_auto_rows": null,
            "grid_column": null,
            "grid_gap": null,
            "grid_row": null,
            "grid_template_areas": null,
            "grid_template_columns": null,
            "grid_template_rows": null,
            "height": null,
            "justify_content": null,
            "justify_items": null,
            "left": null,
            "margin": null,
            "max_height": null,
            "max_width": null,
            "min_height": null,
            "min_width": null,
            "object_fit": null,
            "object_position": null,
            "order": null,
            "overflow": null,
            "overflow_x": null,
            "overflow_y": null,
            "padding": null,
            "right": null,
            "top": null,
            "visibility": null,
            "width": null
          }
        },
        "ac8f5a766cab4b2a8eda7a9d005c206e": {
          "model_module": "@jupyter-widgets/controls",
          "model_name": "DescriptionStyleModel",
          "model_module_version": "1.5.0",
          "state": {
            "_model_module": "@jupyter-widgets/controls",
            "_model_module_version": "1.5.0",
            "_model_name": "DescriptionStyleModel",
            "_view_count": null,
            "_view_module": "@jupyter-widgets/base",
            "_view_module_version": "1.2.0",
            "_view_name": "StyleView",
            "description_width": ""
          }
        },
        "6f9081837f4840e99250cc41f9434ffe": {
          "model_module": "@jupyter-widgets/base",
          "model_name": "LayoutModel",
          "model_module_version": "1.2.0",
          "state": {
            "_model_module": "@jupyter-widgets/base",
            "_model_module_version": "1.2.0",
            "_model_name": "LayoutModel",
            "_view_count": null,
            "_view_module": "@jupyter-widgets/base",
            "_view_module_version": "1.2.0",
            "_view_name": "LayoutView",
            "align_content": null,
            "align_items": null,
            "align_self": null,
            "border": null,
            "bottom": null,
            "display": null,
            "flex": null,
            "flex_flow": null,
            "grid_area": null,
            "grid_auto_columns": null,
            "grid_auto_flow": null,
            "grid_auto_rows": null,
            "grid_column": null,
            "grid_gap": null,
            "grid_row": null,
            "grid_template_areas": null,
            "grid_template_columns": null,
            "grid_template_rows": null,
            "height": null,
            "justify_content": null,
            "justify_items": null,
            "left": null,
            "margin": null,
            "max_height": null,
            "max_width": null,
            "min_height": null,
            "min_width": null,
            "object_fit": null,
            "object_position": null,
            "order": null,
            "overflow": null,
            "overflow_x": null,
            "overflow_y": null,
            "padding": null,
            "right": null,
            "top": null,
            "visibility": null,
            "width": null
          }
        },
        "816f77910cc5478abd277426e5536d71": {
          "model_module": "@jupyter-widgets/controls",
          "model_name": "ProgressStyleModel",
          "model_module_version": "1.5.0",
          "state": {
            "_model_module": "@jupyter-widgets/controls",
            "_model_module_version": "1.5.0",
            "_model_name": "ProgressStyleModel",
            "_view_count": null,
            "_view_module": "@jupyter-widgets/base",
            "_view_module_version": "1.2.0",
            "_view_name": "StyleView",
            "bar_color": null,
            "description_width": ""
          }
        },
        "e470f139fcf14a3fafa811e448cc49fc": {
          "model_module": "@jupyter-widgets/base",
          "model_name": "LayoutModel",
          "model_module_version": "1.2.0",
          "state": {
            "_model_module": "@jupyter-widgets/base",
            "_model_module_version": "1.2.0",
            "_model_name": "LayoutModel",
            "_view_count": null,
            "_view_module": "@jupyter-widgets/base",
            "_view_module_version": "1.2.0",
            "_view_name": "LayoutView",
            "align_content": null,
            "align_items": null,
            "align_self": null,
            "border": null,
            "bottom": null,
            "display": null,
            "flex": null,
            "flex_flow": null,
            "grid_area": null,
            "grid_auto_columns": null,
            "grid_auto_flow": null,
            "grid_auto_rows": null,
            "grid_column": null,
            "grid_gap": null,
            "grid_row": null,
            "grid_template_areas": null,
            "grid_template_columns": null,
            "grid_template_rows": null,
            "height": null,
            "justify_content": null,
            "justify_items": null,
            "left": null,
            "margin": null,
            "max_height": null,
            "max_width": null,
            "min_height": null,
            "min_width": null,
            "object_fit": null,
            "object_position": null,
            "order": null,
            "overflow": null,
            "overflow_x": null,
            "overflow_y": null,
            "padding": null,
            "right": null,
            "top": null,
            "visibility": null,
            "width": null
          }
        },
        "93758c16435844a2988ecff5353ab360": {
          "model_module": "@jupyter-widgets/controls",
          "model_name": "DescriptionStyleModel",
          "model_module_version": "1.5.0",
          "state": {
            "_model_module": "@jupyter-widgets/controls",
            "_model_module_version": "1.5.0",
            "_model_name": "DescriptionStyleModel",
            "_view_count": null,
            "_view_module": "@jupyter-widgets/base",
            "_view_module_version": "1.2.0",
            "_view_name": "StyleView",
            "description_width": ""
          }
        },
        "cd5466e1ed3d4fb78fc5e0be3b47335a": {
          "model_module": "@jupyter-widgets/controls",
          "model_name": "HBoxModel",
          "model_module_version": "1.5.0",
          "state": {
            "_dom_classes": [],
            "_model_module": "@jupyter-widgets/controls",
            "_model_module_version": "1.5.0",
            "_model_name": "HBoxModel",
            "_view_count": null,
            "_view_module": "@jupyter-widgets/controls",
            "_view_module_version": "1.5.0",
            "_view_name": "HBoxView",
            "box_style": "",
            "children": [
              "IPY_MODEL_27e86133faab431eb81c48102c9fa1fb",
              "IPY_MODEL_20fd02bfa8d14084b59915e8cf9e2ebc",
              "IPY_MODEL_4c8738f5861d48d9bfc57a2ee22f00ae"
            ],
            "layout": "IPY_MODEL_c0c9b666da534e1fb220f765262d9f53"
          }
        },
        "27e86133faab431eb81c48102c9fa1fb": {
          "model_module": "@jupyter-widgets/controls",
          "model_name": "HTMLModel",
          "model_module_version": "1.5.0",
          "state": {
            "_dom_classes": [],
            "_model_module": "@jupyter-widgets/controls",
            "_model_module_version": "1.5.0",
            "_model_name": "HTMLModel",
            "_view_count": null,
            "_view_module": "@jupyter-widgets/controls",
            "_view_module_version": "1.5.0",
            "_view_name": "HTMLView",
            "description": "",
            "description_tooltip": null,
            "layout": "IPY_MODEL_55f439ac0f524e73a203bcadf6f884e9",
            "placeholder": "​",
            "style": "IPY_MODEL_78b54bd592a9490987fd45db96aecb1d",
            "value": "Downloading: 100%"
          }
        },
        "20fd02bfa8d14084b59915e8cf9e2ebc": {
          "model_module": "@jupyter-widgets/controls",
          "model_name": "FloatProgressModel",
          "model_module_version": "1.5.0",
          "state": {
            "_dom_classes": [],
            "_model_module": "@jupyter-widgets/controls",
            "_model_module_version": "1.5.0",
            "_model_name": "FloatProgressModel",
            "_view_count": null,
            "_view_module": "@jupyter-widgets/controls",
            "_view_module_version": "1.5.0",
            "_view_name": "ProgressView",
            "bar_style": "success",
            "description": "",
            "description_tooltip": null,
            "layout": "IPY_MODEL_3d4bdf7045404c8b9a8d5ccddc7b67ec",
            "max": 112,
            "min": 0,
            "orientation": "horizontal",
            "style": "IPY_MODEL_464badf3b0be47608955e1fe2221cdef",
            "value": 112
          }
        },
        "4c8738f5861d48d9bfc57a2ee22f00ae": {
          "model_module": "@jupyter-widgets/controls",
          "model_name": "HTMLModel",
          "model_module_version": "1.5.0",
          "state": {
            "_dom_classes": [],
            "_model_module": "@jupyter-widgets/controls",
            "_model_module_version": "1.5.0",
            "_model_name": "HTMLModel",
            "_view_count": null,
            "_view_module": "@jupyter-widgets/controls",
            "_view_module_version": "1.5.0",
            "_view_name": "HTMLView",
            "description": "",
            "description_tooltip": null,
            "layout": "IPY_MODEL_a74e500a5d34448885fd446de43785b1",
            "placeholder": "​",
            "style": "IPY_MODEL_9e652da3e419470481e836ec815da148",
            "value": " 112/112 [00:00&lt;00:00, 2.26kB/s]"
          }
        },
        "c0c9b666da534e1fb220f765262d9f53": {
          "model_module": "@jupyter-widgets/base",
          "model_name": "LayoutModel",
          "model_module_version": "1.2.0",
          "state": {
            "_model_module": "@jupyter-widgets/base",
            "_model_module_version": "1.2.0",
            "_model_name": "LayoutModel",
            "_view_count": null,
            "_view_module": "@jupyter-widgets/base",
            "_view_module_version": "1.2.0",
            "_view_name": "LayoutView",
            "align_content": null,
            "align_items": null,
            "align_self": null,
            "border": null,
            "bottom": null,
            "display": null,
            "flex": null,
            "flex_flow": null,
            "grid_area": null,
            "grid_auto_columns": null,
            "grid_auto_flow": null,
            "grid_auto_rows": null,
            "grid_column": null,
            "grid_gap": null,
            "grid_row": null,
            "grid_template_areas": null,
            "grid_template_columns": null,
            "grid_template_rows": null,
            "height": null,
            "justify_content": null,
            "justify_items": null,
            "left": null,
            "margin": null,
            "max_height": null,
            "max_width": null,
            "min_height": null,
            "min_width": null,
            "object_fit": null,
            "object_position": null,
            "order": null,
            "overflow": null,
            "overflow_x": null,
            "overflow_y": null,
            "padding": null,
            "right": null,
            "top": null,
            "visibility": null,
            "width": null
          }
        },
        "55f439ac0f524e73a203bcadf6f884e9": {
          "model_module": "@jupyter-widgets/base",
          "model_name": "LayoutModel",
          "model_module_version": "1.2.0",
          "state": {
            "_model_module": "@jupyter-widgets/base",
            "_model_module_version": "1.2.0",
            "_model_name": "LayoutModel",
            "_view_count": null,
            "_view_module": "@jupyter-widgets/base",
            "_view_module_version": "1.2.0",
            "_view_name": "LayoutView",
            "align_content": null,
            "align_items": null,
            "align_self": null,
            "border": null,
            "bottom": null,
            "display": null,
            "flex": null,
            "flex_flow": null,
            "grid_area": null,
            "grid_auto_columns": null,
            "grid_auto_flow": null,
            "grid_auto_rows": null,
            "grid_column": null,
            "grid_gap": null,
            "grid_row": null,
            "grid_template_areas": null,
            "grid_template_columns": null,
            "grid_template_rows": null,
            "height": null,
            "justify_content": null,
            "justify_items": null,
            "left": null,
            "margin": null,
            "max_height": null,
            "max_width": null,
            "min_height": null,
            "min_width": null,
            "object_fit": null,
            "object_position": null,
            "order": null,
            "overflow": null,
            "overflow_x": null,
            "overflow_y": null,
            "padding": null,
            "right": null,
            "top": null,
            "visibility": null,
            "width": null
          }
        },
        "78b54bd592a9490987fd45db96aecb1d": {
          "model_module": "@jupyter-widgets/controls",
          "model_name": "DescriptionStyleModel",
          "model_module_version": "1.5.0",
          "state": {
            "_model_module": "@jupyter-widgets/controls",
            "_model_module_version": "1.5.0",
            "_model_name": "DescriptionStyleModel",
            "_view_count": null,
            "_view_module": "@jupyter-widgets/base",
            "_view_module_version": "1.2.0",
            "_view_name": "StyleView",
            "description_width": ""
          }
        },
        "3d4bdf7045404c8b9a8d5ccddc7b67ec": {
          "model_module": "@jupyter-widgets/base",
          "model_name": "LayoutModel",
          "model_module_version": "1.2.0",
          "state": {
            "_model_module": "@jupyter-widgets/base",
            "_model_module_version": "1.2.0",
            "_model_name": "LayoutModel",
            "_view_count": null,
            "_view_module": "@jupyter-widgets/base",
            "_view_module_version": "1.2.0",
            "_view_name": "LayoutView",
            "align_content": null,
            "align_items": null,
            "align_self": null,
            "border": null,
            "bottom": null,
            "display": null,
            "flex": null,
            "flex_flow": null,
            "grid_area": null,
            "grid_auto_columns": null,
            "grid_auto_flow": null,
            "grid_auto_rows": null,
            "grid_column": null,
            "grid_gap": null,
            "grid_row": null,
            "grid_template_areas": null,
            "grid_template_columns": null,
            "grid_template_rows": null,
            "height": null,
            "justify_content": null,
            "justify_items": null,
            "left": null,
            "margin": null,
            "max_height": null,
            "max_width": null,
            "min_height": null,
            "min_width": null,
            "object_fit": null,
            "object_position": null,
            "order": null,
            "overflow": null,
            "overflow_x": null,
            "overflow_y": null,
            "padding": null,
            "right": null,
            "top": null,
            "visibility": null,
            "width": null
          }
        },
        "464badf3b0be47608955e1fe2221cdef": {
          "model_module": "@jupyter-widgets/controls",
          "model_name": "ProgressStyleModel",
          "model_module_version": "1.5.0",
          "state": {
            "_model_module": "@jupyter-widgets/controls",
            "_model_module_version": "1.5.0",
            "_model_name": "ProgressStyleModel",
            "_view_count": null,
            "_view_module": "@jupyter-widgets/base",
            "_view_module_version": "1.2.0",
            "_view_name": "StyleView",
            "bar_color": null,
            "description_width": ""
          }
        },
        "a74e500a5d34448885fd446de43785b1": {
          "model_module": "@jupyter-widgets/base",
          "model_name": "LayoutModel",
          "model_module_version": "1.2.0",
          "state": {
            "_model_module": "@jupyter-widgets/base",
            "_model_module_version": "1.2.0",
            "_model_name": "LayoutModel",
            "_view_count": null,
            "_view_module": "@jupyter-widgets/base",
            "_view_module_version": "1.2.0",
            "_view_name": "LayoutView",
            "align_content": null,
            "align_items": null,
            "align_self": null,
            "border": null,
            "bottom": null,
            "display": null,
            "flex": null,
            "flex_flow": null,
            "grid_area": null,
            "grid_auto_columns": null,
            "grid_auto_flow": null,
            "grid_auto_rows": null,
            "grid_column": null,
            "grid_gap": null,
            "grid_row": null,
            "grid_template_areas": null,
            "grid_template_columns": null,
            "grid_template_rows": null,
            "height": null,
            "justify_content": null,
            "justify_items": null,
            "left": null,
            "margin": null,
            "max_height": null,
            "max_width": null,
            "min_height": null,
            "min_width": null,
            "object_fit": null,
            "object_position": null,
            "order": null,
            "overflow": null,
            "overflow_x": null,
            "overflow_y": null,
            "padding": null,
            "right": null,
            "top": null,
            "visibility": null,
            "width": null
          }
        },
        "9e652da3e419470481e836ec815da148": {
          "model_module": "@jupyter-widgets/controls",
          "model_name": "DescriptionStyleModel",
          "model_module_version": "1.5.0",
          "state": {
            "_model_module": "@jupyter-widgets/controls",
            "_model_module_version": "1.5.0",
            "_model_name": "DescriptionStyleModel",
            "_view_count": null,
            "_view_module": "@jupyter-widgets/base",
            "_view_module_version": "1.2.0",
            "_view_name": "StyleView",
            "description_width": ""
          }
        },
        "f029597172cb4b549343842c3a11faf0": {
          "model_module": "@jupyter-widgets/controls",
          "model_name": "HBoxModel",
          "model_module_version": "1.5.0",
          "state": {
            "_dom_classes": [],
            "_model_module": "@jupyter-widgets/controls",
            "_model_module_version": "1.5.0",
            "_model_name": "HBoxModel",
            "_view_count": null,
            "_view_module": "@jupyter-widgets/controls",
            "_view_module_version": "1.5.0",
            "_view_name": "HBoxView",
            "box_style": "",
            "children": [
              "IPY_MODEL_d7ecb71a4b1f48d5b91acbe015b5858c",
              "IPY_MODEL_15e5284fba6a485bbc2f0b99af579652",
              "IPY_MODEL_f094d85459d54f6c9724d973da958ae4"
            ],
            "layout": "IPY_MODEL_da593a8ab3174844bca490b290faec34"
          }
        },
        "d7ecb71a4b1f48d5b91acbe015b5858c": {
          "model_module": "@jupyter-widgets/controls",
          "model_name": "HTMLModel",
          "model_module_version": "1.5.0",
          "state": {
            "_dom_classes": [],
            "_model_module": "@jupyter-widgets/controls",
            "_model_module_version": "1.5.0",
            "_model_name": "HTMLModel",
            "_view_count": null,
            "_view_module": "@jupyter-widgets/controls",
            "_view_module_version": "1.5.0",
            "_view_name": "HTMLView",
            "description": "",
            "description_tooltip": null,
            "layout": "IPY_MODEL_a5f406227c7a460fbc4ef6c640185148",
            "placeholder": "​",
            "style": "IPY_MODEL_999f71f3cff648908b82969eea643650",
            "value": "Downloading: 100%"
          }
        },
        "15e5284fba6a485bbc2f0b99af579652": {
          "model_module": "@jupyter-widgets/controls",
          "model_name": "FloatProgressModel",
          "model_module_version": "1.5.0",
          "state": {
            "_dom_classes": [],
            "_model_module": "@jupyter-widgets/controls",
            "_model_module_version": "1.5.0",
            "_model_name": "FloatProgressModel",
            "_view_count": null,
            "_view_module": "@jupyter-widgets/controls",
            "_view_module_version": "1.5.0",
            "_view_name": "ProgressView",
            "bar_style": "success",
            "description": "",
            "description_tooltip": null,
            "layout": "IPY_MODEL_d477f88fac4847f08a2b32fed62e9c69",
            "max": 252,
            "min": 0,
            "orientation": "horizontal",
            "style": "IPY_MODEL_ea2d740f19334595b27b3e14c108a827",
            "value": 252
          }
        },
        "f094d85459d54f6c9724d973da958ae4": {
          "model_module": "@jupyter-widgets/controls",
          "model_name": "HTMLModel",
          "model_module_version": "1.5.0",
          "state": {
            "_dom_classes": [],
            "_model_module": "@jupyter-widgets/controls",
            "_model_module_version": "1.5.0",
            "_model_name": "HTMLModel",
            "_view_count": null,
            "_view_module": "@jupyter-widgets/controls",
            "_view_module_version": "1.5.0",
            "_view_name": "HTMLView",
            "description": "",
            "description_tooltip": null,
            "layout": "IPY_MODEL_1a9de3de4d6a4d07a25dd3c618a32460",
            "placeholder": "​",
            "style": "IPY_MODEL_3bc4c01918534f5e8fa08c6f1d39a222",
            "value": " 252/252 [00:00&lt;00:00, 8.40kB/s]"
          }
        },
        "da593a8ab3174844bca490b290faec34": {
          "model_module": "@jupyter-widgets/base",
          "model_name": "LayoutModel",
          "model_module_version": "1.2.0",
          "state": {
            "_model_module": "@jupyter-widgets/base",
            "_model_module_version": "1.2.0",
            "_model_name": "LayoutModel",
            "_view_count": null,
            "_view_module": "@jupyter-widgets/base",
            "_view_module_version": "1.2.0",
            "_view_name": "LayoutView",
            "align_content": null,
            "align_items": null,
            "align_self": null,
            "border": null,
            "bottom": null,
            "display": null,
            "flex": null,
            "flex_flow": null,
            "grid_area": null,
            "grid_auto_columns": null,
            "grid_auto_flow": null,
            "grid_auto_rows": null,
            "grid_column": null,
            "grid_gap": null,
            "grid_row": null,
            "grid_template_areas": null,
            "grid_template_columns": null,
            "grid_template_rows": null,
            "height": null,
            "justify_content": null,
            "justify_items": null,
            "left": null,
            "margin": null,
            "max_height": null,
            "max_width": null,
            "min_height": null,
            "min_width": null,
            "object_fit": null,
            "object_position": null,
            "order": null,
            "overflow": null,
            "overflow_x": null,
            "overflow_y": null,
            "padding": null,
            "right": null,
            "top": null,
            "visibility": null,
            "width": null
          }
        },
        "a5f406227c7a460fbc4ef6c640185148": {
          "model_module": "@jupyter-widgets/base",
          "model_name": "LayoutModel",
          "model_module_version": "1.2.0",
          "state": {
            "_model_module": "@jupyter-widgets/base",
            "_model_module_version": "1.2.0",
            "_model_name": "LayoutModel",
            "_view_count": null,
            "_view_module": "@jupyter-widgets/base",
            "_view_module_version": "1.2.0",
            "_view_name": "LayoutView",
            "align_content": null,
            "align_items": null,
            "align_self": null,
            "border": null,
            "bottom": null,
            "display": null,
            "flex": null,
            "flex_flow": null,
            "grid_area": null,
            "grid_auto_columns": null,
            "grid_auto_flow": null,
            "grid_auto_rows": null,
            "grid_column": null,
            "grid_gap": null,
            "grid_row": null,
            "grid_template_areas": null,
            "grid_template_columns": null,
            "grid_template_rows": null,
            "height": null,
            "justify_content": null,
            "justify_items": null,
            "left": null,
            "margin": null,
            "max_height": null,
            "max_width": null,
            "min_height": null,
            "min_width": null,
            "object_fit": null,
            "object_position": null,
            "order": null,
            "overflow": null,
            "overflow_x": null,
            "overflow_y": null,
            "padding": null,
            "right": null,
            "top": null,
            "visibility": null,
            "width": null
          }
        },
        "999f71f3cff648908b82969eea643650": {
          "model_module": "@jupyter-widgets/controls",
          "model_name": "DescriptionStyleModel",
          "model_module_version": "1.5.0",
          "state": {
            "_model_module": "@jupyter-widgets/controls",
            "_model_module_version": "1.5.0",
            "_model_name": "DescriptionStyleModel",
            "_view_count": null,
            "_view_module": "@jupyter-widgets/base",
            "_view_module_version": "1.2.0",
            "_view_name": "StyleView",
            "description_width": ""
          }
        },
        "d477f88fac4847f08a2b32fed62e9c69": {
          "model_module": "@jupyter-widgets/base",
          "model_name": "LayoutModel",
          "model_module_version": "1.2.0",
          "state": {
            "_model_module": "@jupyter-widgets/base",
            "_model_module_version": "1.2.0",
            "_model_name": "LayoutModel",
            "_view_count": null,
            "_view_module": "@jupyter-widgets/base",
            "_view_module_version": "1.2.0",
            "_view_name": "LayoutView",
            "align_content": null,
            "align_items": null,
            "align_self": null,
            "border": null,
            "bottom": null,
            "display": null,
            "flex": null,
            "flex_flow": null,
            "grid_area": null,
            "grid_auto_columns": null,
            "grid_auto_flow": null,
            "grid_auto_rows": null,
            "grid_column": null,
            "grid_gap": null,
            "grid_row": null,
            "grid_template_areas": null,
            "grid_template_columns": null,
            "grid_template_rows": null,
            "height": null,
            "justify_content": null,
            "justify_items": null,
            "left": null,
            "margin": null,
            "max_height": null,
            "max_width": null,
            "min_height": null,
            "min_width": null,
            "object_fit": null,
            "object_position": null,
            "order": null,
            "overflow": null,
            "overflow_x": null,
            "overflow_y": null,
            "padding": null,
            "right": null,
            "top": null,
            "visibility": null,
            "width": null
          }
        },
        "ea2d740f19334595b27b3e14c108a827": {
          "model_module": "@jupyter-widgets/controls",
          "model_name": "ProgressStyleModel",
          "model_module_version": "1.5.0",
          "state": {
            "_model_module": "@jupyter-widgets/controls",
            "_model_module_version": "1.5.0",
            "_model_name": "ProgressStyleModel",
            "_view_count": null,
            "_view_module": "@jupyter-widgets/base",
            "_view_module_version": "1.2.0",
            "_view_name": "StyleView",
            "bar_color": null,
            "description_width": ""
          }
        },
        "1a9de3de4d6a4d07a25dd3c618a32460": {
          "model_module": "@jupyter-widgets/base",
          "model_name": "LayoutModel",
          "model_module_version": "1.2.0",
          "state": {
            "_model_module": "@jupyter-widgets/base",
            "_model_module_version": "1.2.0",
            "_model_name": "LayoutModel",
            "_view_count": null,
            "_view_module": "@jupyter-widgets/base",
            "_view_module_version": "1.2.0",
            "_view_name": "LayoutView",
            "align_content": null,
            "align_items": null,
            "align_self": null,
            "border": null,
            "bottom": null,
            "display": null,
            "flex": null,
            "flex_flow": null,
            "grid_area": null,
            "grid_auto_columns": null,
            "grid_auto_flow": null,
            "grid_auto_rows": null,
            "grid_column": null,
            "grid_gap": null,
            "grid_row": null,
            "grid_template_areas": null,
            "grid_template_columns": null,
            "grid_template_rows": null,
            "height": null,
            "justify_content": null,
            "justify_items": null,
            "left": null,
            "margin": null,
            "max_height": null,
            "max_width": null,
            "min_height": null,
            "min_width": null,
            "object_fit": null,
            "object_position": null,
            "order": null,
            "overflow": null,
            "overflow_x": null,
            "overflow_y": null,
            "padding": null,
            "right": null,
            "top": null,
            "visibility": null,
            "width": null
          }
        },
        "3bc4c01918534f5e8fa08c6f1d39a222": {
          "model_module": "@jupyter-widgets/controls",
          "model_name": "DescriptionStyleModel",
          "model_module_version": "1.5.0",
          "state": {
            "_model_module": "@jupyter-widgets/controls",
            "_model_module_version": "1.5.0",
            "_model_name": "DescriptionStyleModel",
            "_view_count": null,
            "_view_module": "@jupyter-widgets/base",
            "_view_module_version": "1.2.0",
            "_view_name": "StyleView",
            "description_width": ""
          }
        },
        "c838c727c34041e5adaec6e0b1fb6a32": {
          "model_module": "@jupyter-widgets/controls",
          "model_name": "HBoxModel",
          "model_module_version": "1.5.0",
          "state": {
            "_dom_classes": [],
            "_model_module": "@jupyter-widgets/controls",
            "_model_module_version": "1.5.0",
            "_model_name": "HBoxModel",
            "_view_count": null,
            "_view_module": "@jupyter-widgets/controls",
            "_view_module_version": "1.5.0",
            "_view_name": "HBoxView",
            "box_style": "",
            "children": [
              "IPY_MODEL_8e4ac1d4ae4049a8956e4f26e0dce1fd",
              "IPY_MODEL_7a5165868e994667b5834fdcef601681",
              "IPY_MODEL_9f7a5565a3a04cc9bd27d68a23f743bc"
            ],
            "layout": "IPY_MODEL_fe48e862d6c444e8a752cede31678153"
          }
        },
        "8e4ac1d4ae4049a8956e4f26e0dce1fd": {
          "model_module": "@jupyter-widgets/controls",
          "model_name": "HTMLModel",
          "model_module_version": "1.5.0",
          "state": {
            "_dom_classes": [],
            "_model_module": "@jupyter-widgets/controls",
            "_model_module_version": "1.5.0",
            "_model_name": "HTMLModel",
            "_view_count": null,
            "_view_module": "@jupyter-widgets/controls",
            "_view_module_version": "1.5.0",
            "_view_name": "HTMLView",
            "description": "",
            "description_tooltip": null,
            "layout": "IPY_MODEL_43618fe39f044c96ac2ade8e039c1092",
            "placeholder": "​",
            "style": "IPY_MODEL_fa01c2c578544c9bafff7a3b4e033337",
            "value": "Downloading: 100%"
          }
        },
        "7a5165868e994667b5834fdcef601681": {
          "model_module": "@jupyter-widgets/controls",
          "model_name": "FloatProgressModel",
          "model_module_version": "1.5.0",
          "state": {
            "_dom_classes": [],
            "_model_module": "@jupyter-widgets/controls",
            "_model_module_version": "1.5.0",
            "_model_name": "FloatProgressModel",
            "_view_count": null,
            "_view_module": "@jupyter-widgets/controls",
            "_view_module_version": "1.5.0",
            "_view_name": "ProgressView",
            "bar_style": "success",
            "description": "",
            "description_tooltip": null,
            "layout": "IPY_MODEL_77d7e991bf0c46e08484f81802651a13",
            "max": 758,
            "min": 0,
            "orientation": "horizontal",
            "style": "IPY_MODEL_fb6c200ed00a4c8ba3b2814f6f1a6116",
            "value": 758
          }
        },
        "9f7a5565a3a04cc9bd27d68a23f743bc": {
          "model_module": "@jupyter-widgets/controls",
          "model_name": "HTMLModel",
          "model_module_version": "1.5.0",
          "state": {
            "_dom_classes": [],
            "_model_module": "@jupyter-widgets/controls",
            "_model_module_version": "1.5.0",
            "_model_name": "HTMLModel",
            "_view_count": null,
            "_view_module": "@jupyter-widgets/controls",
            "_view_module_version": "1.5.0",
            "_view_name": "HTMLView",
            "description": "",
            "description_tooltip": null,
            "layout": "IPY_MODEL_86b85283ceab47c79c6e516a4c0151c4",
            "placeholder": "​",
            "style": "IPY_MODEL_c597f61dbf9b44b9be4494a427b92b60",
            "value": " 758/758 [00:00&lt;00:00, 24.5kB/s]"
          }
        },
        "fe48e862d6c444e8a752cede31678153": {
          "model_module": "@jupyter-widgets/base",
          "model_name": "LayoutModel",
          "model_module_version": "1.2.0",
          "state": {
            "_model_module": "@jupyter-widgets/base",
            "_model_module_version": "1.2.0",
            "_model_name": "LayoutModel",
            "_view_count": null,
            "_view_module": "@jupyter-widgets/base",
            "_view_module_version": "1.2.0",
            "_view_name": "LayoutView",
            "align_content": null,
            "align_items": null,
            "align_self": null,
            "border": null,
            "bottom": null,
            "display": null,
            "flex": null,
            "flex_flow": null,
            "grid_area": null,
            "grid_auto_columns": null,
            "grid_auto_flow": null,
            "grid_auto_rows": null,
            "grid_column": null,
            "grid_gap": null,
            "grid_row": null,
            "grid_template_areas": null,
            "grid_template_columns": null,
            "grid_template_rows": null,
            "height": null,
            "justify_content": null,
            "justify_items": null,
            "left": null,
            "margin": null,
            "max_height": null,
            "max_width": null,
            "min_height": null,
            "min_width": null,
            "object_fit": null,
            "object_position": null,
            "order": null,
            "overflow": null,
            "overflow_x": null,
            "overflow_y": null,
            "padding": null,
            "right": null,
            "top": null,
            "visibility": null,
            "width": null
          }
        },
        "43618fe39f044c96ac2ade8e039c1092": {
          "model_module": "@jupyter-widgets/base",
          "model_name": "LayoutModel",
          "model_module_version": "1.2.0",
          "state": {
            "_model_module": "@jupyter-widgets/base",
            "_model_module_version": "1.2.0",
            "_model_name": "LayoutModel",
            "_view_count": null,
            "_view_module": "@jupyter-widgets/base",
            "_view_module_version": "1.2.0",
            "_view_name": "LayoutView",
            "align_content": null,
            "align_items": null,
            "align_self": null,
            "border": null,
            "bottom": null,
            "display": null,
            "flex": null,
            "flex_flow": null,
            "grid_area": null,
            "grid_auto_columns": null,
            "grid_auto_flow": null,
            "grid_auto_rows": null,
            "grid_column": null,
            "grid_gap": null,
            "grid_row": null,
            "grid_template_areas": null,
            "grid_template_columns": null,
            "grid_template_rows": null,
            "height": null,
            "justify_content": null,
            "justify_items": null,
            "left": null,
            "margin": null,
            "max_height": null,
            "max_width": null,
            "min_height": null,
            "min_width": null,
            "object_fit": null,
            "object_position": null,
            "order": null,
            "overflow": null,
            "overflow_x": null,
            "overflow_y": null,
            "padding": null,
            "right": null,
            "top": null,
            "visibility": null,
            "width": null
          }
        },
        "fa01c2c578544c9bafff7a3b4e033337": {
          "model_module": "@jupyter-widgets/controls",
          "model_name": "DescriptionStyleModel",
          "model_module_version": "1.5.0",
          "state": {
            "_model_module": "@jupyter-widgets/controls",
            "_model_module_version": "1.5.0",
            "_model_name": "DescriptionStyleModel",
            "_view_count": null,
            "_view_module": "@jupyter-widgets/base",
            "_view_module_version": "1.2.0",
            "_view_name": "StyleView",
            "description_width": ""
          }
        },
        "77d7e991bf0c46e08484f81802651a13": {
          "model_module": "@jupyter-widgets/base",
          "model_name": "LayoutModel",
          "model_module_version": "1.2.0",
          "state": {
            "_model_module": "@jupyter-widgets/base",
            "_model_module_version": "1.2.0",
            "_model_name": "LayoutModel",
            "_view_count": null,
            "_view_module": "@jupyter-widgets/base",
            "_view_module_version": "1.2.0",
            "_view_name": "LayoutView",
            "align_content": null,
            "align_items": null,
            "align_self": null,
            "border": null,
            "bottom": null,
            "display": null,
            "flex": null,
            "flex_flow": null,
            "grid_area": null,
            "grid_auto_columns": null,
            "grid_auto_flow": null,
            "grid_auto_rows": null,
            "grid_column": null,
            "grid_gap": null,
            "grid_row": null,
            "grid_template_areas": null,
            "grid_template_columns": null,
            "grid_template_rows": null,
            "height": null,
            "justify_content": null,
            "justify_items": null,
            "left": null,
            "margin": null,
            "max_height": null,
            "max_width": null,
            "min_height": null,
            "min_width": null,
            "object_fit": null,
            "object_position": null,
            "order": null,
            "overflow": null,
            "overflow_x": null,
            "overflow_y": null,
            "padding": null,
            "right": null,
            "top": null,
            "visibility": null,
            "width": null
          }
        },
        "fb6c200ed00a4c8ba3b2814f6f1a6116": {
          "model_module": "@jupyter-widgets/controls",
          "model_name": "ProgressStyleModel",
          "model_module_version": "1.5.0",
          "state": {
            "_model_module": "@jupyter-widgets/controls",
            "_model_module_version": "1.5.0",
            "_model_name": "ProgressStyleModel",
            "_view_count": null,
            "_view_module": "@jupyter-widgets/base",
            "_view_module_version": "1.2.0",
            "_view_name": "StyleView",
            "bar_color": null,
            "description_width": ""
          }
        },
        "86b85283ceab47c79c6e516a4c0151c4": {
          "model_module": "@jupyter-widgets/base",
          "model_name": "LayoutModel",
          "model_module_version": "1.2.0",
          "state": {
            "_model_module": "@jupyter-widgets/base",
            "_model_module_version": "1.2.0",
            "_model_name": "LayoutModel",
            "_view_count": null,
            "_view_module": "@jupyter-widgets/base",
            "_view_module_version": "1.2.0",
            "_view_name": "LayoutView",
            "align_content": null,
            "align_items": null,
            "align_self": null,
            "border": null,
            "bottom": null,
            "display": null,
            "flex": null,
            "flex_flow": null,
            "grid_area": null,
            "grid_auto_columns": null,
            "grid_auto_flow": null,
            "grid_auto_rows": null,
            "grid_column": null,
            "grid_gap": null,
            "grid_row": null,
            "grid_template_areas": null,
            "grid_template_columns": null,
            "grid_template_rows": null,
            "height": null,
            "justify_content": null,
            "justify_items": null,
            "left": null,
            "margin": null,
            "max_height": null,
            "max_width": null,
            "min_height": null,
            "min_width": null,
            "object_fit": null,
            "object_position": null,
            "order": null,
            "overflow": null,
            "overflow_x": null,
            "overflow_y": null,
            "padding": null,
            "right": null,
            "top": null,
            "visibility": null,
            "width": null
          }
        },
        "c597f61dbf9b44b9be4494a427b92b60": {
          "model_module": "@jupyter-widgets/controls",
          "model_name": "DescriptionStyleModel",
          "model_module_version": "1.5.0",
          "state": {
            "_model_module": "@jupyter-widgets/controls",
            "_model_module_version": "1.5.0",
            "_model_name": "DescriptionStyleModel",
            "_view_count": null,
            "_view_module": "@jupyter-widgets/base",
            "_view_module_version": "1.2.0",
            "_view_name": "StyleView",
            "description_width": ""
          }
        },
        "b0c13b8e375240709e4b2b1d7de43df7": {
          "model_module": "@jupyter-widgets/controls",
          "model_name": "HBoxModel",
          "model_module_version": "1.5.0",
          "state": {
            "_dom_classes": [],
            "_model_module": "@jupyter-widgets/controls",
            "_model_module_version": "1.5.0",
            "_model_name": "HBoxModel",
            "_view_count": null,
            "_view_module": "@jupyter-widgets/controls",
            "_view_module_version": "1.5.0",
            "_view_name": "HBoxView",
            "box_style": "",
            "children": [
              "IPY_MODEL_18b18a6bdd1e468a9f3b4eec7c6161c6",
              "IPY_MODEL_2a16d4ed39cc47139e0ade70b2273a4c",
              "IPY_MODEL_a9d8986d0d7b431c8ae435fedd6b6de7"
            ],
            "layout": "IPY_MODEL_b2223afb9ad644c9845ffa048c8af4af"
          }
        },
        "18b18a6bdd1e468a9f3b4eec7c6161c6": {
          "model_module": "@jupyter-widgets/controls",
          "model_name": "HTMLModel",
          "model_module_version": "1.5.0",
          "state": {
            "_dom_classes": [],
            "_model_module": "@jupyter-widgets/controls",
            "_model_module_version": "1.5.0",
            "_model_name": "HTMLModel",
            "_view_count": null,
            "_view_module": "@jupyter-widgets/controls",
            "_view_module_version": "1.5.0",
            "_view_name": "HTMLView",
            "description": "",
            "description_tooltip": null,
            "layout": "IPY_MODEL_f871b4bef20d446fba15ac58817f64d2",
            "placeholder": "​",
            "style": "IPY_MODEL_07bc0a0b434c4a3daeb1f56a0cbe7442",
            "value": "Downloading: 100%"
          }
        },
        "2a16d4ed39cc47139e0ade70b2273a4c": {
          "model_module": "@jupyter-widgets/controls",
          "model_name": "FloatProgressModel",
          "model_module_version": "1.5.0",
          "state": {
            "_dom_classes": [],
            "_model_module": "@jupyter-widgets/controls",
            "_model_module_version": "1.5.0",
            "_model_name": "FloatProgressModel",
            "_view_count": null,
            "_view_module": "@jupyter-widgets/controls",
            "_view_module_version": "1.5.0",
            "_view_name": "ProgressView",
            "bar_style": "success",
            "description": "",
            "description_tooltip": null,
            "layout": "IPY_MODEL_46fadcbfeca14e72b629d2396e2d0171",
            "max": 437992753,
            "min": 0,
            "orientation": "horizontal",
            "style": "IPY_MODEL_4b10abdfe067437183ec6145d67ac694",
            "value": 437992753
          }
        },
        "a9d8986d0d7b431c8ae435fedd6b6de7": {
          "model_module": "@jupyter-widgets/controls",
          "model_name": "HTMLModel",
          "model_module_version": "1.5.0",
          "state": {
            "_dom_classes": [],
            "_model_module": "@jupyter-widgets/controls",
            "_model_module_version": "1.5.0",
            "_model_name": "HTMLModel",
            "_view_count": null,
            "_view_module": "@jupyter-widgets/controls",
            "_view_module_version": "1.5.0",
            "_view_name": "HTMLView",
            "description": "",
            "description_tooltip": null,
            "layout": "IPY_MODEL_d65dd367ecb741fe9f59ef46efcbdb0a",
            "placeholder": "​",
            "style": "IPY_MODEL_86e501e90a414dd4b7e8285b7ad0c14c",
            "value": " 418M/418M [00:07&lt;00:00, 63.2MB/s]"
          }
        },
        "b2223afb9ad644c9845ffa048c8af4af": {
          "model_module": "@jupyter-widgets/base",
          "model_name": "LayoutModel",
          "model_module_version": "1.2.0",
          "state": {
            "_model_module": "@jupyter-widgets/base",
            "_model_module_version": "1.2.0",
            "_model_name": "LayoutModel",
            "_view_count": null,
            "_view_module": "@jupyter-widgets/base",
            "_view_module_version": "1.2.0",
            "_view_name": "LayoutView",
            "align_content": null,
            "align_items": null,
            "align_self": null,
            "border": null,
            "bottom": null,
            "display": null,
            "flex": null,
            "flex_flow": null,
            "grid_area": null,
            "grid_auto_columns": null,
            "grid_auto_flow": null,
            "grid_auto_rows": null,
            "grid_column": null,
            "grid_gap": null,
            "grid_row": null,
            "grid_template_areas": null,
            "grid_template_columns": null,
            "grid_template_rows": null,
            "height": null,
            "justify_content": null,
            "justify_items": null,
            "left": null,
            "margin": null,
            "max_height": null,
            "max_width": null,
            "min_height": null,
            "min_width": null,
            "object_fit": null,
            "object_position": null,
            "order": null,
            "overflow": null,
            "overflow_x": null,
            "overflow_y": null,
            "padding": null,
            "right": null,
            "top": null,
            "visibility": null,
            "width": null
          }
        },
        "f871b4bef20d446fba15ac58817f64d2": {
          "model_module": "@jupyter-widgets/base",
          "model_name": "LayoutModel",
          "model_module_version": "1.2.0",
          "state": {
            "_model_module": "@jupyter-widgets/base",
            "_model_module_version": "1.2.0",
            "_model_name": "LayoutModel",
            "_view_count": null,
            "_view_module": "@jupyter-widgets/base",
            "_view_module_version": "1.2.0",
            "_view_name": "LayoutView",
            "align_content": null,
            "align_items": null,
            "align_self": null,
            "border": null,
            "bottom": null,
            "display": null,
            "flex": null,
            "flex_flow": null,
            "grid_area": null,
            "grid_auto_columns": null,
            "grid_auto_flow": null,
            "grid_auto_rows": null,
            "grid_column": null,
            "grid_gap": null,
            "grid_row": null,
            "grid_template_areas": null,
            "grid_template_columns": null,
            "grid_template_rows": null,
            "height": null,
            "justify_content": null,
            "justify_items": null,
            "left": null,
            "margin": null,
            "max_height": null,
            "max_width": null,
            "min_height": null,
            "min_width": null,
            "object_fit": null,
            "object_position": null,
            "order": null,
            "overflow": null,
            "overflow_x": null,
            "overflow_y": null,
            "padding": null,
            "right": null,
            "top": null,
            "visibility": null,
            "width": null
          }
        },
        "07bc0a0b434c4a3daeb1f56a0cbe7442": {
          "model_module": "@jupyter-widgets/controls",
          "model_name": "DescriptionStyleModel",
          "model_module_version": "1.5.0",
          "state": {
            "_model_module": "@jupyter-widgets/controls",
            "_model_module_version": "1.5.0",
            "_model_name": "DescriptionStyleModel",
            "_view_count": null,
            "_view_module": "@jupyter-widgets/base",
            "_view_module_version": "1.2.0",
            "_view_name": "StyleView",
            "description_width": ""
          }
        },
        "46fadcbfeca14e72b629d2396e2d0171": {
          "model_module": "@jupyter-widgets/base",
          "model_name": "LayoutModel",
          "model_module_version": "1.2.0",
          "state": {
            "_model_module": "@jupyter-widgets/base",
            "_model_module_version": "1.2.0",
            "_model_name": "LayoutModel",
            "_view_count": null,
            "_view_module": "@jupyter-widgets/base",
            "_view_module_version": "1.2.0",
            "_view_name": "LayoutView",
            "align_content": null,
            "align_items": null,
            "align_self": null,
            "border": null,
            "bottom": null,
            "display": null,
            "flex": null,
            "flex_flow": null,
            "grid_area": null,
            "grid_auto_columns": null,
            "grid_auto_flow": null,
            "grid_auto_rows": null,
            "grid_column": null,
            "grid_gap": null,
            "grid_row": null,
            "grid_template_areas": null,
            "grid_template_columns": null,
            "grid_template_rows": null,
            "height": null,
            "justify_content": null,
            "justify_items": null,
            "left": null,
            "margin": null,
            "max_height": null,
            "max_width": null,
            "min_height": null,
            "min_width": null,
            "object_fit": null,
            "object_position": null,
            "order": null,
            "overflow": null,
            "overflow_x": null,
            "overflow_y": null,
            "padding": null,
            "right": null,
            "top": null,
            "visibility": null,
            "width": null
          }
        },
        "4b10abdfe067437183ec6145d67ac694": {
          "model_module": "@jupyter-widgets/controls",
          "model_name": "ProgressStyleModel",
          "model_module_version": "1.5.0",
          "state": {
            "_model_module": "@jupyter-widgets/controls",
            "_model_module_version": "1.5.0",
            "_model_name": "ProgressStyleModel",
            "_view_count": null,
            "_view_module": "@jupyter-widgets/base",
            "_view_module_version": "1.2.0",
            "_view_name": "StyleView",
            "bar_color": null,
            "description_width": ""
          }
        },
        "d65dd367ecb741fe9f59ef46efcbdb0a": {
          "model_module": "@jupyter-widgets/base",
          "model_name": "LayoutModel",
          "model_module_version": "1.2.0",
          "state": {
            "_model_module": "@jupyter-widgets/base",
            "_model_module_version": "1.2.0",
            "_model_name": "LayoutModel",
            "_view_count": null,
            "_view_module": "@jupyter-widgets/base",
            "_view_module_version": "1.2.0",
            "_view_name": "LayoutView",
            "align_content": null,
            "align_items": null,
            "align_self": null,
            "border": null,
            "bottom": null,
            "display": null,
            "flex": null,
            "flex_flow": null,
            "grid_area": null,
            "grid_auto_columns": null,
            "grid_auto_flow": null,
            "grid_auto_rows": null,
            "grid_column": null,
            "grid_gap": null,
            "grid_row": null,
            "grid_template_areas": null,
            "grid_template_columns": null,
            "grid_template_rows": null,
            "height": null,
            "justify_content": null,
            "justify_items": null,
            "left": null,
            "margin": null,
            "max_height": null,
            "max_width": null,
            "min_height": null,
            "min_width": null,
            "object_fit": null,
            "object_position": null,
            "order": null,
            "overflow": null,
            "overflow_x": null,
            "overflow_y": null,
            "padding": null,
            "right": null,
            "top": null,
            "visibility": null,
            "width": null
          }
        },
        "86e501e90a414dd4b7e8285b7ad0c14c": {
          "model_module": "@jupyter-widgets/controls",
          "model_name": "DescriptionStyleModel",
          "model_module_version": "1.5.0",
          "state": {
            "_model_module": "@jupyter-widgets/controls",
            "_model_module_version": "1.5.0",
            "_model_name": "DescriptionStyleModel",
            "_view_count": null,
            "_view_module": "@jupyter-widgets/base",
            "_view_module_version": "1.2.0",
            "_view_name": "StyleView",
            "description_width": ""
          }
        }
      }
    }
  },
  "nbformat": 4,
  "nbformat_minor": 0
}