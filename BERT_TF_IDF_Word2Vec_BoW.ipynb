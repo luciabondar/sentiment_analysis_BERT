{
  "cells": [
    {
      "cell_type": "code",
      "execution_count": null,
      "metadata": {
        "colab": {
          "base_uri": "https://localhost:8080/"
        },
        "id": "jxhG51rdIVWY",
        "outputId": "ed9b91b4-55d0-4824-97e8-aab954b82865"
      },
      "outputs": [
        {
          "output_type": "stream",
          "name": "stdout",
          "text": [
            "--2022-06-10 06:06:19--  https://ai.stanford.edu/~amaas/data/sentiment/aclImdb_v1.tar.gz\n",
            "Resolving ai.stanford.edu (ai.stanford.edu)... 171.64.68.10\n",
            "Connecting to ai.stanford.edu (ai.stanford.edu)|171.64.68.10|:443... connected.\n",
            "HTTP request sent, awaiting response... 200 OK\n",
            "Length: 84125825 (80M) [application/x-gzip]\n",
            "Saving to: ‘aclImdb_v1.tar.gz’\n",
            "\n",
            "aclImdb_v1.tar.gz   100%[===================>]  80.23M  20.8MB/s    in 6.5s    \n",
            "\n",
            "2022-06-10 06:06:27 (12.3 MB/s) - ‘aclImdb_v1.tar.gz’ saved [84125825/84125825]\n",
            "\n"
          ]
        }
      ],
      "source": [
        "!wget https://ai.stanford.edu/~amaas/data/sentiment/aclImdb_v1.tar.gz"
      ]
    },
    {
      "cell_type": "code",
      "execution_count": null,
      "metadata": {
        "colab": {
          "base_uri": "https://localhost:8080/",
          "height": 1000
        },
        "id": "ZWNn44STIYeM",
        "outputId": "d4611b74-875d-43ae-e1f0-83200742852a"
      },
      "outputs": [
        {
          "output_type": "stream",
          "name": "stdout",
          "text": [
            "Looking in indexes: https://pypi.org/simple, https://us-python.pkg.dev/colab-wheels/public/simple/\n",
            "Collecting bert-embedding\n",
            "  Downloading bert_embedding-1.0.1-py3-none-any.whl (13 kB)\n",
            "Collecting gluonnlp==0.6.0\n",
            "  Downloading gluonnlp-0.6.0.tar.gz (209 kB)\n",
            "\u001b[K     |████████████████████████████████| 209 kB 3.8 MB/s \n",
            "\u001b[?25hCollecting typing==3.6.6\n",
            "  Downloading typing-3.6.6-py3-none-any.whl (25 kB)\n",
            "Collecting numpy==1.14.6\n",
            "  Downloading numpy-1.14.6-cp37-cp37m-manylinux1_x86_64.whl (13.8 MB)\n",
            "\u001b[K     |████████████████████████████████| 13.8 MB 58.4 MB/s \n",
            "\u001b[?25hCollecting mxnet==1.4.0\n",
            "  Downloading mxnet-1.4.0-py2.py3-none-manylinux1_x86_64.whl (29.6 MB)\n",
            "\u001b[K     |████████████████████████████████| 29.6 MB 1.4 MB/s \n",
            "\u001b[?25hRequirement already satisfied: requests>=2.20.0 in /usr/local/lib/python3.7/dist-packages (from mxnet==1.4.0->bert-embedding) (2.23.0)\n",
            "Collecting graphviz<0.9.0,>=0.8.1\n",
            "  Downloading graphviz-0.8.4-py2.py3-none-any.whl (16 kB)\n",
            "Requirement already satisfied: idna<3,>=2.5 in /usr/local/lib/python3.7/dist-packages (from requests>=2.20.0->mxnet==1.4.0->bert-embedding) (2.10)\n",
            "Requirement already satisfied: urllib3!=1.25.0,!=1.25.1,<1.26,>=1.21.1 in /usr/local/lib/python3.7/dist-packages (from requests>=2.20.0->mxnet==1.4.0->bert-embedding) (1.24.3)\n",
            "Requirement already satisfied: certifi>=2017.4.17 in /usr/local/lib/python3.7/dist-packages (from requests>=2.20.0->mxnet==1.4.0->bert-embedding) (2022.5.18.1)\n",
            "Requirement already satisfied: chardet<4,>=3.0.2 in /usr/local/lib/python3.7/dist-packages (from requests>=2.20.0->mxnet==1.4.0->bert-embedding) (3.0.4)\n",
            "Building wheels for collected packages: gluonnlp\n",
            "  Building wheel for gluonnlp (setup.py) ... \u001b[?25l\u001b[?25hdone\n",
            "  Created wheel for gluonnlp: filename=gluonnlp-0.6.0-py3-none-any.whl size=259930 sha256=8145b5b9d80771a3f1e2efedb9dbddfaeae583f991546d4baea34412e1c14807\n",
            "  Stored in directory: /root/.cache/pip/wheels/a6/41/8f/45bd1c58055d87aee5a71b6756a427ea8d92e506b3a9d17370\n",
            "Successfully built gluonnlp\n",
            "Installing collected packages: numpy, graphviz, typing, mxnet, gluonnlp, bert-embedding\n",
            "  Attempting uninstall: numpy\n",
            "    Found existing installation: numpy 1.21.6\n",
            "    Uninstalling numpy-1.21.6:\n",
            "      Successfully uninstalled numpy-1.21.6\n",
            "  Attempting uninstall: graphviz\n",
            "    Found existing installation: graphviz 0.10.1\n",
            "    Uninstalling graphviz-0.10.1:\n",
            "      Successfully uninstalled graphviz-0.10.1\n",
            "\u001b[31mERROR: pip's dependency resolver does not currently take into account all the packages that are installed. This behaviour is the source of the following dependency conflicts.\n",
            "yellowbrick 1.4 requires numpy>=1.16.0, but you have numpy 1.14.6 which is incompatible.\n",
            "xarray 0.20.2 requires numpy>=1.18, but you have numpy 1.14.6 which is incompatible.\n",
            "xarray-einstats 0.2.2 requires numpy>=1.21, but you have numpy 1.14.6 which is incompatible.\n",
            "tifffile 2021.11.2 requires numpy>=1.15.1, but you have numpy 1.14.6 which is incompatible.\n",
            "tensorflow 2.8.2+zzzcolab20220527125636 requires numpy>=1.20, but you have numpy 1.14.6 which is incompatible.\n",
            "tables 3.7.0 requires numpy>=1.19.0, but you have numpy 1.14.6 which is incompatible.\n",
            "spacy 2.2.4 requires numpy>=1.15.0, but you have numpy 1.14.6 which is incompatible.\n",
            "seaborn 0.11.2 requires numpy>=1.15, but you have numpy 1.14.6 which is incompatible.\n",
            "scikit-image 0.18.3 requires numpy>=1.16.5, but you have numpy 1.14.6 which is incompatible.\n",
            "pywavelets 1.3.0 requires numpy>=1.17.3, but you have numpy 1.14.6 which is incompatible.\n",
            "pymc3 3.11.4 requires numpy>=1.15.0, but you have numpy 1.14.6 which is incompatible.\n",
            "pyerfa 2.0.0.1 requires numpy>=1.17, but you have numpy 1.14.6 which is incompatible.\n",
            "pyarrow 6.0.1 requires numpy>=1.16.6, but you have numpy 1.14.6 which is incompatible.\n",
            "plotnine 0.6.0 requires numpy>=1.16.0, but you have numpy 1.14.6 which is incompatible.\n",
            "pandas 1.3.5 requires numpy>=1.17.3; platform_machine != \"aarch64\" and platform_machine != \"arm64\" and python_version < \"3.10\", but you have numpy 1.14.6 which is incompatible.\n",
            "numba 0.51.2 requires numpy>=1.15, but you have numpy 1.14.6 which is incompatible.\n",
            "librosa 0.8.1 requires numpy>=1.15.0, but you have numpy 1.14.6 which is incompatible.\n",
            "kapre 0.3.7 requires numpy>=1.18.5, but you have numpy 1.14.6 which is incompatible.\n",
            "jaxlib 0.3.7+cuda11.cudnn805 requires numpy>=1.19, but you have numpy 1.14.6 which is incompatible.\n",
            "jax 0.3.8 requires numpy>=1.19, but you have numpy 1.14.6 which is incompatible.\n",
            "imgaug 0.2.9 requires numpy>=1.15.0, but you have numpy 1.14.6 which is incompatible.\n",
            "fbprophet 0.7.1 requires numpy>=1.15.4, but you have numpy 1.14.6 which is incompatible.\n",
            "fastai 1.0.61 requires numpy>=1.15, but you have numpy 1.14.6 which is incompatible.\n",
            "datascience 0.10.6 requires folium==0.2.1, but you have folium 0.8.3 which is incompatible.\n",
            "cvxpy 1.0.31 requires numpy>=1.15, but you have numpy 1.14.6 which is incompatible.\n",
            "cupy-cuda111 9.4.0 requires numpy<1.24,>=1.17, but you have numpy 1.14.6 which is incompatible.\n",
            "blis 0.4.1 requires numpy>=1.15.0, but you have numpy 1.14.6 which is incompatible.\n",
            "astropy 4.3.1 requires numpy>=1.17, but you have numpy 1.14.6 which is incompatible.\n",
            "albumentations 0.1.12 requires imgaug<0.2.7,>=0.2.5, but you have imgaug 0.2.9 which is incompatible.\u001b[0m\n",
            "Successfully installed bert-embedding-1.0.1 gluonnlp-0.6.0 graphviz-0.8.4 mxnet-1.4.0 numpy-1.14.6 typing-3.6.6\n"
          ]
        },
        {
          "output_type": "display_data",
          "data": {
            "application/vnd.colab-display-data+json": {
              "pip_warning": {
                "packages": [
                  "numpy",
                  "typing"
                ]
              }
            }
          },
          "metadata": {}
        },
        {
          "output_type": "stream",
          "name": "stdout",
          "text": [
            "Looking in indexes: https://pypi.org/simple, https://us-python.pkg.dev/colab-wheels/public/simple/\n",
            "Collecting mxnet-cu100\n",
            "  Downloading mxnet_cu100-1.9.0-py3-none-manylinux2014_x86_64.whl (354.0 MB)\n",
            "\u001b[K     |████████████████████████████████| 354.0 MB 5.2 kB/s \n",
            "\u001b[?25hRequirement already satisfied: requests<3,>=2.20.0 in /usr/local/lib/python3.7/dist-packages (from mxnet-cu100) (2.23.0)\n",
            "Collecting numpy<2.0.0,>1.16.0\n",
            "  Downloading numpy-1.21.6-cp37-cp37m-manylinux_2_12_x86_64.manylinux2010_x86_64.whl (15.7 MB)\n",
            "\u001b[K     |████████████████████████████████| 15.7 MB 17.5 MB/s \n",
            "\u001b[?25hRequirement already satisfied: graphviz<0.9.0,>=0.8.1 in /usr/local/lib/python3.7/dist-packages (from mxnet-cu100) (0.8.4)\n",
            "Requirement already satisfied: certifi>=2017.4.17 in /usr/local/lib/python3.7/dist-packages (from requests<3,>=2.20.0->mxnet-cu100) (2022.5.18.1)\n",
            "Requirement already satisfied: chardet<4,>=3.0.2 in /usr/local/lib/python3.7/dist-packages (from requests<3,>=2.20.0->mxnet-cu100) (3.0.4)\n",
            "Requirement already satisfied: urllib3!=1.25.0,!=1.25.1,<1.26,>=1.21.1 in /usr/local/lib/python3.7/dist-packages (from requests<3,>=2.20.0->mxnet-cu100) (1.24.3)\n",
            "Requirement already satisfied: idna<3,>=2.5 in /usr/local/lib/python3.7/dist-packages (from requests<3,>=2.20.0->mxnet-cu100) (2.10)\n",
            "Installing collected packages: numpy, mxnet-cu100\n",
            "  Attempting uninstall: numpy\n",
            "    Found existing installation: numpy 1.14.6\n",
            "    Uninstalling numpy-1.14.6:\n",
            "      Successfully uninstalled numpy-1.14.6\n",
            "\u001b[31mERROR: pip's dependency resolver does not currently take into account all the packages that are installed. This behaviour is the source of the following dependency conflicts.\n",
            "mxnet 1.4.0 requires numpy<1.15.0,>=1.8.2, but you have numpy 1.21.6 which is incompatible.\n",
            "datascience 0.10.6 requires folium==0.2.1, but you have folium 0.8.3 which is incompatible.\n",
            "bert-embedding 1.0.1 requires numpy==1.14.6, but you have numpy 1.21.6 which is incompatible.\n",
            "albumentations 0.1.12 requires imgaug<0.2.7,>=0.2.5, but you have imgaug 0.2.9 which is incompatible.\u001b[0m\n",
            "Successfully installed mxnet-cu100-1.9.0 numpy-1.21.6\n"
          ]
        },
        {
          "output_type": "display_data",
          "data": {
            "application/vnd.colab-display-data+json": {
              "pip_warning": {
                "packages": [
                  "numpy"
                ]
              }
            }
          },
          "metadata": {}
        },
        {
          "output_type": "stream",
          "name": "stdout",
          "text": [
            "Looking in indexes: https://pypi.org/simple, https://us-python.pkg.dev/colab-wheels/public/simple/\n",
            "Collecting sentence-transformers\n",
            "  Downloading sentence-transformers-2.2.0.tar.gz (79 kB)\n",
            "\u001b[K     |████████████████████████████████| 79 kB 3.4 MB/s \n",
            "\u001b[?25hCollecting transformers<5.0.0,>=4.6.0\n",
            "  Downloading transformers-4.19.3-py3-none-any.whl (4.2 MB)\n",
            "\u001b[K     |████████████████████████████████| 4.2 MB 23.4 MB/s \n",
            "\u001b[?25hRequirement already satisfied: tqdm in /usr/local/lib/python3.7/dist-packages (from sentence-transformers) (4.64.0)\n",
            "Requirement already satisfied: torch>=1.6.0 in /usr/local/lib/python3.7/dist-packages (from sentence-transformers) (1.11.0+cu113)\n",
            "Requirement already satisfied: torchvision in /usr/local/lib/python3.7/dist-packages (from sentence-transformers) (0.12.0+cu113)\n",
            "Requirement already satisfied: numpy in /usr/local/lib/python3.7/dist-packages (from sentence-transformers) (1.21.6)\n",
            "Requirement already satisfied: scikit-learn in /usr/local/lib/python3.7/dist-packages (from sentence-transformers) (1.0.2)\n",
            "Requirement already satisfied: scipy in /usr/local/lib/python3.7/dist-packages (from sentence-transformers) (1.4.1)\n",
            "Requirement already satisfied: nltk in /usr/local/lib/python3.7/dist-packages (from sentence-transformers) (3.2.5)\n",
            "Collecting sentencepiece\n",
            "  Downloading sentencepiece-0.1.96-cp37-cp37m-manylinux_2_17_x86_64.manylinux2014_x86_64.whl (1.2 MB)\n",
            "\u001b[K     |████████████████████████████████| 1.2 MB 52.2 MB/s \n",
            "\u001b[?25hCollecting huggingface-hub\n",
            "  Downloading huggingface_hub-0.7.0-py3-none-any.whl (86 kB)\n",
            "\u001b[K     |████████████████████████████████| 86 kB 6.0 MB/s \n",
            "\u001b[?25hRequirement already satisfied: typing-extensions in /usr/local/lib/python3.7/dist-packages (from torch>=1.6.0->sentence-transformers) (4.2.0)\n",
            "Requirement already satisfied: filelock in /usr/local/lib/python3.7/dist-packages (from transformers<5.0.0,>=4.6.0->sentence-transformers) (3.7.0)\n",
            "Collecting pyyaml>=5.1\n",
            "  Downloading PyYAML-6.0-cp37-cp37m-manylinux_2_5_x86_64.manylinux1_x86_64.manylinux_2_12_x86_64.manylinux2010_x86_64.whl (596 kB)\n",
            "\u001b[K     |████████████████████████████████| 596 kB 59.9 MB/s \n",
            "\u001b[?25hRequirement already satisfied: importlib-metadata in /usr/local/lib/python3.7/dist-packages (from transformers<5.0.0,>=4.6.0->sentence-transformers) (4.11.4)\n",
            "Requirement already satisfied: regex!=2019.12.17 in /usr/local/lib/python3.7/dist-packages (from transformers<5.0.0,>=4.6.0->sentence-transformers) (2019.12.20)\n",
            "Requirement already satisfied: requests in /usr/local/lib/python3.7/dist-packages (from transformers<5.0.0,>=4.6.0->sentence-transformers) (2.23.0)\n",
            "Requirement already satisfied: packaging>=20.0 in /usr/local/lib/python3.7/dist-packages (from transformers<5.0.0,>=4.6.0->sentence-transformers) (21.3)\n",
            "Collecting tokenizers!=0.11.3,<0.13,>=0.11.1\n",
            "  Downloading tokenizers-0.12.1-cp37-cp37m-manylinux_2_12_x86_64.manylinux2010_x86_64.whl (6.6 MB)\n",
            "\u001b[K     |████████████████████████████████| 6.6 MB 57.7 MB/s \n",
            "\u001b[?25hRequirement already satisfied: pyparsing!=3.0.5,>=2.0.2 in /usr/local/lib/python3.7/dist-packages (from packaging>=20.0->transformers<5.0.0,>=4.6.0->sentence-transformers) (3.0.9)\n",
            "Requirement already satisfied: zipp>=0.5 in /usr/local/lib/python3.7/dist-packages (from importlib-metadata->transformers<5.0.0,>=4.6.0->sentence-transformers) (3.8.0)\n",
            "Requirement already satisfied: six in /usr/local/lib/python3.7/dist-packages (from nltk->sentence-transformers) (1.15.0)\n",
            "Requirement already satisfied: urllib3!=1.25.0,!=1.25.1,<1.26,>=1.21.1 in /usr/local/lib/python3.7/dist-packages (from requests->transformers<5.0.0,>=4.6.0->sentence-transformers) (1.24.3)\n",
            "Requirement already satisfied: chardet<4,>=3.0.2 in /usr/local/lib/python3.7/dist-packages (from requests->transformers<5.0.0,>=4.6.0->sentence-transformers) (3.0.4)\n",
            "Requirement already satisfied: certifi>=2017.4.17 in /usr/local/lib/python3.7/dist-packages (from requests->transformers<5.0.0,>=4.6.0->sentence-transformers) (2022.5.18.1)\n",
            "Requirement already satisfied: idna<3,>=2.5 in /usr/local/lib/python3.7/dist-packages (from requests->transformers<5.0.0,>=4.6.0->sentence-transformers) (2.10)\n",
            "Requirement already satisfied: threadpoolctl>=2.0.0 in /usr/local/lib/python3.7/dist-packages (from scikit-learn->sentence-transformers) (3.1.0)\n",
            "Requirement already satisfied: joblib>=0.11 in /usr/local/lib/python3.7/dist-packages (from scikit-learn->sentence-transformers) (1.1.0)\n",
            "Requirement already satisfied: pillow!=8.3.*,>=5.3.0 in /usr/local/lib/python3.7/dist-packages (from torchvision->sentence-transformers) (7.1.2)\n",
            "Building wheels for collected packages: sentence-transformers\n",
            "  Building wheel for sentence-transformers (setup.py) ... \u001b[?25l\u001b[?25hdone\n",
            "  Created wheel for sentence-transformers: filename=sentence_transformers-2.2.0-py3-none-any.whl size=120747 sha256=746caf874f6725c41fa56a654418c67c619532c2f589c2b77075ed082f1f57ad\n",
            "  Stored in directory: /root/.cache/pip/wheels/83/c0/df/b6873ab7aac3f2465aa9144b6b4c41c4391cfecc027c8b07e7\n",
            "Successfully built sentence-transformers\n",
            "Installing collected packages: pyyaml, tokenizers, huggingface-hub, transformers, sentencepiece, sentence-transformers\n",
            "  Attempting uninstall: pyyaml\n",
            "    Found existing installation: PyYAML 3.13\n",
            "    Uninstalling PyYAML-3.13:\n",
            "      Successfully uninstalled PyYAML-3.13\n",
            "Successfully installed huggingface-hub-0.7.0 pyyaml-6.0 sentence-transformers-2.2.0 sentencepiece-0.1.96 tokenizers-0.12.1 transformers-4.19.3\n",
            "aclImdb  aclImdb_v1.tar.gz  sample_data\n"
          ]
        }
      ],
      "source": [
        "!tar -zxvf aclImdb_v1.tar.gz > /dev/null\n",
        "!pip3 install bert-embedding\n",
        "!pip3 install mxnet-cu100\n",
        "!pip3 install sentence-transformers\n",
        "!ls"
      ]
    },
    {
      "cell_type": "code",
      "execution_count": null,
      "metadata": {
        "colab": {
          "base_uri": "https://localhost:8080/",
          "height": 1000
        },
        "id": "PIa0un4WIbyd",
        "outputId": "272c2242-cc06-4bc8-f436-c3961462f3f2"
      },
      "outputs": [
        {
          "output_type": "stream",
          "name": "stdout",
          "text": [
            "[nltk_data] Downloading package punkt to /root/nltk_data...\n",
            "[nltk_data]   Unzipping tokenizers/punkt.zip.\n",
            "[nltk_data] Downloading package stopwords to /root/nltk_data...\n",
            "[nltk_data]   Unzipping corpora/stopwords.zip.\n",
            "[nltk_data] Downloading package averaged_perceptron_tagger to\n",
            "[nltk_data]     /root/nltk_data...\n",
            "[nltk_data]   Unzipping taggers/averaged_perceptron_tagger.zip.\n",
            "[nltk_data] Downloading package wordnet to /root/nltk_data...\n",
            "[nltk_data]   Unzipping corpora/wordnet.zip.\n",
            "Looking in indexes: https://pypi.org/simple, https://us-python.pkg.dev/colab-wheels/public/simple/\n",
            "Requirement already satisfied: mxnet in /usr/local/lib/python3.7/dist-packages (1.4.0)\n",
            "Collecting numpy<1.15.0,>=1.8.2\n",
            "  Using cached numpy-1.14.6-cp37-cp37m-manylinux1_x86_64.whl (13.8 MB)\n",
            "Requirement already satisfied: graphviz<0.9.0,>=0.8.1 in /usr/local/lib/python3.7/dist-packages (from mxnet) (0.8.4)\n",
            "Requirement already satisfied: requests>=2.20.0 in /usr/local/lib/python3.7/dist-packages (from mxnet) (2.23.0)\n",
            "Requirement already satisfied: certifi>=2017.4.17 in /usr/local/lib/python3.7/dist-packages (from requests>=2.20.0->mxnet) (2022.5.18.1)\n",
            "Requirement already satisfied: chardet<4,>=3.0.2 in /usr/local/lib/python3.7/dist-packages (from requests>=2.20.0->mxnet) (3.0.4)\n",
            "Requirement already satisfied: idna<3,>=2.5 in /usr/local/lib/python3.7/dist-packages (from requests>=2.20.0->mxnet) (2.10)\n",
            "Requirement already satisfied: urllib3!=1.25.0,!=1.25.1,<1.26,>=1.21.1 in /usr/local/lib/python3.7/dist-packages (from requests>=2.20.0->mxnet) (1.24.3)\n",
            "Installing collected packages: numpy\n",
            "  Attempting uninstall: numpy\n",
            "    Found existing installation: numpy 1.21.6\n",
            "    Uninstalling numpy-1.21.6:\n",
            "      Successfully uninstalled numpy-1.21.6\n",
            "\u001b[31mERROR: pip's dependency resolver does not currently take into account all the packages that are installed. This behaviour is the source of the following dependency conflicts.\n",
            "yellowbrick 1.4 requires numpy>=1.16.0, but you have numpy 1.14.6 which is incompatible.\n",
            "xarray 0.20.2 requires numpy>=1.18, but you have numpy 1.14.6 which is incompatible.\n",
            "xarray-einstats 0.2.2 requires numpy>=1.21, but you have numpy 1.14.6 which is incompatible.\n",
            "transformers 4.19.3 requires numpy>=1.17, but you have numpy 1.14.6 which is incompatible.\n",
            "tifffile 2021.11.2 requires numpy>=1.15.1, but you have numpy 1.14.6 which is incompatible.\n",
            "tensorflow 2.8.2+zzzcolab20220527125636 requires numpy>=1.20, but you have numpy 1.14.6 which is incompatible.\n",
            "tables 3.7.0 requires numpy>=1.19.0, but you have numpy 1.14.6 which is incompatible.\n",
            "spacy 2.2.4 requires numpy>=1.15.0, but you have numpy 1.14.6 which is incompatible.\n",
            "seaborn 0.11.2 requires numpy>=1.15, but you have numpy 1.14.6 which is incompatible.\n",
            "scikit-image 0.18.3 requires numpy>=1.16.5, but you have numpy 1.14.6 which is incompatible.\n",
            "pywavelets 1.3.0 requires numpy>=1.17.3, but you have numpy 1.14.6 which is incompatible.\n",
            "pymc3 3.11.4 requires numpy>=1.15.0, but you have numpy 1.14.6 which is incompatible.\n",
            "pyerfa 2.0.0.1 requires numpy>=1.17, but you have numpy 1.14.6 which is incompatible.\n",
            "pyarrow 6.0.1 requires numpy>=1.16.6, but you have numpy 1.14.6 which is incompatible.\n",
            "plotnine 0.6.0 requires numpy>=1.16.0, but you have numpy 1.14.6 which is incompatible.\n",
            "pandas 1.3.5 requires numpy>=1.17.3; platform_machine != \"aarch64\" and platform_machine != \"arm64\" and python_version < \"3.10\", but you have numpy 1.14.6 which is incompatible.\n",
            "numba 0.51.2 requires numpy>=1.15, but you have numpy 1.14.6 which is incompatible.\n",
            "mxnet-cu100 1.9.0 requires numpy<2.0.0,>1.16.0, but you have numpy 1.14.6 which is incompatible.\n",
            "librosa 0.8.1 requires numpy>=1.15.0, but you have numpy 1.14.6 which is incompatible.\n",
            "kapre 0.3.7 requires numpy>=1.18.5, but you have numpy 1.14.6 which is incompatible.\n",
            "jaxlib 0.3.7+cuda11.cudnn805 requires numpy>=1.19, but you have numpy 1.14.6 which is incompatible.\n",
            "jax 0.3.8 requires numpy>=1.19, but you have numpy 1.14.6 which is incompatible.\n",
            "imgaug 0.2.9 requires numpy>=1.15.0, but you have numpy 1.14.6 which is incompatible.\n",
            "fbprophet 0.7.1 requires numpy>=1.15.4, but you have numpy 1.14.6 which is incompatible.\n",
            "fastai 1.0.61 requires numpy>=1.15, but you have numpy 1.14.6 which is incompatible.\n",
            "datascience 0.10.6 requires folium==0.2.1, but you have folium 0.8.3 which is incompatible.\n",
            "cvxpy 1.0.31 requires numpy>=1.15, but you have numpy 1.14.6 which is incompatible.\n",
            "cupy-cuda111 9.4.0 requires numpy<1.24,>=1.17, but you have numpy 1.14.6 which is incompatible.\n",
            "blis 0.4.1 requires numpy>=1.15.0, but you have numpy 1.14.6 which is incompatible.\n",
            "astropy 4.3.1 requires numpy>=1.17, but you have numpy 1.14.6 which is incompatible.\n",
            "albumentations 0.1.12 requires imgaug<0.2.7,>=0.2.5, but you have imgaug 0.2.9 which is incompatible.\u001b[0m\n",
            "Successfully installed numpy-1.14.6\n"
          ]
        },
        {
          "output_type": "display_data",
          "data": {
            "application/vnd.colab-display-data+json": {
              "pip_warning": {
                "packages": [
                  "numpy"
                ]
              }
            }
          },
          "metadata": {}
        },
        {
          "output_type": "stream",
          "name": "stdout",
          "text": [
            "Looking in indexes: https://pypi.org/simple, https://us-python.pkg.dev/colab-wheels/public/simple/\n",
            "Requirement already satisfied: bert_embedding in /usr/local/lib/python3.7/dist-packages (1.0.1)\n",
            "Requirement already satisfied: gluonnlp==0.6.0 in /usr/local/lib/python3.7/dist-packages (from bert_embedding) (0.6.0)\n",
            "Requirement already satisfied: mxnet==1.4.0 in /usr/local/lib/python3.7/dist-packages (from bert_embedding) (1.4.0)\n",
            "Requirement already satisfied: typing==3.6.6 in /usr/local/lib/python3.7/dist-packages (from bert_embedding) (3.6.6)\n",
            "Requirement already satisfied: numpy==1.14.6 in /usr/local/lib/python3.7/dist-packages (from bert_embedding) (1.14.6)\n",
            "Requirement already satisfied: requests>=2.20.0 in /usr/local/lib/python3.7/dist-packages (from mxnet==1.4.0->bert_embedding) (2.23.0)\n",
            "Requirement already satisfied: graphviz<0.9.0,>=0.8.1 in /usr/local/lib/python3.7/dist-packages (from mxnet==1.4.0->bert_embedding) (0.8.4)\n",
            "Requirement already satisfied: idna<3,>=2.5 in /usr/local/lib/python3.7/dist-packages (from requests>=2.20.0->mxnet==1.4.0->bert_embedding) (2.10)\n",
            "Requirement already satisfied: urllib3!=1.25.0,!=1.25.1,<1.26,>=1.21.1 in /usr/local/lib/python3.7/dist-packages (from requests>=2.20.0->mxnet==1.4.0->bert_embedding) (1.24.3)\n",
            "Requirement already satisfied: certifi>=2017.4.17 in /usr/local/lib/python3.7/dist-packages (from requests>=2.20.0->mxnet==1.4.0->bert_embedding) (2022.5.18.1)\n",
            "Requirement already satisfied: chardet<4,>=3.0.2 in /usr/local/lib/python3.7/dist-packages (from requests>=2.20.0->mxnet==1.4.0->bert_embedding) (3.0.4)\n",
            "Looking in indexes: https://pypi.org/simple, https://us-python.pkg.dev/colab-wheels/public/simple/\n",
            "Requirement already satisfied: sentence_transformers in /usr/local/lib/python3.7/dist-packages (2.2.0)\n",
            "Requirement already satisfied: scipy in /usr/local/lib/python3.7/dist-packages (from sentence_transformers) (1.4.1)\n",
            "Requirement already satisfied: torch>=1.6.0 in /usr/local/lib/python3.7/dist-packages (from sentence_transformers) (1.11.0+cu113)\n",
            "Requirement already satisfied: nltk in /usr/local/lib/python3.7/dist-packages (from sentence_transformers) (3.2.5)\n",
            "Requirement already satisfied: sentencepiece in /usr/local/lib/python3.7/dist-packages (from sentence_transformers) (0.1.96)\n",
            "Requirement already satisfied: numpy in /usr/local/lib/python3.7/dist-packages (from sentence_transformers) (1.14.6)\n",
            "Requirement already satisfied: huggingface-hub in /usr/local/lib/python3.7/dist-packages (from sentence_transformers) (0.7.0)\n",
            "Requirement already satisfied: transformers<5.0.0,>=4.6.0 in /usr/local/lib/python3.7/dist-packages (from sentence_transformers) (4.19.3)\n",
            "Requirement already satisfied: tqdm in /usr/local/lib/python3.7/dist-packages (from sentence_transformers) (4.64.0)\n",
            "Requirement already satisfied: scikit-learn in /usr/local/lib/python3.7/dist-packages (from sentence_transformers) (1.0.2)\n",
            "Requirement already satisfied: torchvision in /usr/local/lib/python3.7/dist-packages (from sentence_transformers) (0.12.0+cu113)\n",
            "Requirement already satisfied: typing-extensions in /usr/local/lib/python3.7/dist-packages (from torch>=1.6.0->sentence_transformers) (4.2.0)\n",
            "Requirement already satisfied: tokenizers!=0.11.3,<0.13,>=0.11.1 in /usr/local/lib/python3.7/dist-packages (from transformers<5.0.0,>=4.6.0->sentence_transformers) (0.12.1)\n",
            "Requirement already satisfied: importlib-metadata in /usr/local/lib/python3.7/dist-packages (from transformers<5.0.0,>=4.6.0->sentence_transformers) (4.11.4)\n",
            "Requirement already satisfied: pyyaml>=5.1 in /usr/local/lib/python3.7/dist-packages (from transformers<5.0.0,>=4.6.0->sentence_transformers) (6.0)\n",
            "Requirement already satisfied: filelock in /usr/local/lib/python3.7/dist-packages (from transformers<5.0.0,>=4.6.0->sentence_transformers) (3.7.0)\n",
            "Requirement already satisfied: packaging>=20.0 in /usr/local/lib/python3.7/dist-packages (from transformers<5.0.0,>=4.6.0->sentence_transformers) (21.3)\n",
            "Requirement already satisfied: regex!=2019.12.17 in /usr/local/lib/python3.7/dist-packages (from transformers<5.0.0,>=4.6.0->sentence_transformers) (2019.12.20)\n",
            "Collecting numpy\n",
            "  Using cached numpy-1.21.6-cp37-cp37m-manylinux_2_12_x86_64.manylinux2010_x86_64.whl (15.7 MB)\n",
            "Requirement already satisfied: requests in /usr/local/lib/python3.7/dist-packages (from transformers<5.0.0,>=4.6.0->sentence_transformers) (2.23.0)\n",
            "Requirement already satisfied: pyparsing!=3.0.5,>=2.0.2 in /usr/local/lib/python3.7/dist-packages (from packaging>=20.0->transformers<5.0.0,>=4.6.0->sentence_transformers) (3.0.9)\n",
            "Requirement already satisfied: zipp>=0.5 in /usr/local/lib/python3.7/dist-packages (from importlib-metadata->transformers<5.0.0,>=4.6.0->sentence_transformers) (3.8.0)\n",
            "Requirement already satisfied: six in /usr/local/lib/python3.7/dist-packages (from nltk->sentence_transformers) (1.15.0)\n",
            "Requirement already satisfied: certifi>=2017.4.17 in /usr/local/lib/python3.7/dist-packages (from requests->transformers<5.0.0,>=4.6.0->sentence_transformers) (2022.5.18.1)\n",
            "Requirement already satisfied: chardet<4,>=3.0.2 in /usr/local/lib/python3.7/dist-packages (from requests->transformers<5.0.0,>=4.6.0->sentence_transformers) (3.0.4)\n",
            "Requirement already satisfied: idna<3,>=2.5 in /usr/local/lib/python3.7/dist-packages (from requests->transformers<5.0.0,>=4.6.0->sentence_transformers) (2.10)\n",
            "Requirement already satisfied: urllib3!=1.25.0,!=1.25.1,<1.26,>=1.21.1 in /usr/local/lib/python3.7/dist-packages (from requests->transformers<5.0.0,>=4.6.0->sentence_transformers) (1.24.3)\n",
            "Requirement already satisfied: threadpoolctl>=2.0.0 in /usr/local/lib/python3.7/dist-packages (from scikit-learn->sentence_transformers) (3.1.0)\n",
            "Requirement already satisfied: joblib>=0.11 in /usr/local/lib/python3.7/dist-packages (from scikit-learn->sentence_transformers) (1.1.0)\n",
            "Requirement already satisfied: pillow!=8.3.*,>=5.3.0 in /usr/local/lib/python3.7/dist-packages (from torchvision->sentence_transformers) (7.1.2)\n",
            "Installing collected packages: numpy\n",
            "  Attempting uninstall: numpy\n",
            "    Found existing installation: numpy 1.14.6\n",
            "    Uninstalling numpy-1.14.6:\n",
            "      Successfully uninstalled numpy-1.14.6\n",
            "\u001b[31mERROR: pip's dependency resolver does not currently take into account all the packages that are installed. This behaviour is the source of the following dependency conflicts.\n",
            "mxnet 1.4.0 requires numpy<1.15.0,>=1.8.2, but you have numpy 1.21.6 which is incompatible.\n",
            "datascience 0.10.6 requires folium==0.2.1, but you have folium 0.8.3 which is incompatible.\n",
            "bert-embedding 1.0.1 requires numpy==1.14.6, but you have numpy 1.21.6 which is incompatible.\n",
            "albumentations 0.1.12 requires imgaug<0.2.7,>=0.2.5, but you have imgaug 0.2.9 which is incompatible.\u001b[0m\n",
            "Successfully installed numpy-1.21.6\n"
          ]
        },
        {
          "output_type": "display_data",
          "data": {
            "application/vnd.colab-display-data+json": {
              "pip_warning": {
                "packages": [
                  "numpy"
                ]
              }
            }
          },
          "metadata": {}
        }
      ],
      "source": [
        "import os\n",
        "import random\n",
        "import numpy as np\n",
        "import pandas as pd\n",
        "import nltk\n",
        "nltk.download('punkt')\n",
        "nltk.download('stopwords')\n",
        "nltk.download('averaged_perceptron_tagger')\n",
        "nltk.download('wordnet')\n",
        "from nltk.tokenize import sent_tokenize, word_tokenize \n",
        "from nltk.corpus import stopwords\n",
        "from nltk.stem import PorterStemmer\n",
        "from nltk.stem import WordNetLemmatizer \n",
        "from nltk.corpus import wordnet\n",
        "from nltk.tag import pos_tag\n",
        "import re\n",
        "from sklearn.svm import SVC\n",
        "from sklearn.model_selection import GridSearchCV\n",
        "from sklearn.metrics import accuracy_score\n",
        "from sklearn.metrics import classification_report, confusion_matrix\n",
        "from sklearn.metrics import roc_curve, auc\n",
        "from matplotlib import pyplot as plt\n",
        "from sklearn.naive_bayes import GaussianNB, MultinomialNB, BernoulliNB\n",
        "from sklearn.tree import DecisionTreeClassifier\n",
        "from sklearn.ensemble import RandomForestClassifier\n",
        "from sklearn.neural_network import MLPClassifier\n",
        "import itertools\n",
        "from sklearn.feature_extraction.text import CountVectorizer\n",
        "from sklearn.feature_extraction.text import TfidfVectorizer\n",
        "!pip install mxnet\n",
        "!pip install bert_embedding\n",
        "!pip install sentence_transformers\n",
        "import mxnet as mx\n",
        "from bert_embedding import BertEmbedding\n",
        "from sentence_transformers import SentenceTransformer\n",
        "import gensim \n",
        "from gensim.models import Word2Vec "
      ]
    },
    {
      "cell_type": "code",
      "source": [
        "from google.colab import drive\n",
        "import pandas as pd\n",
        "\n",
        "drive.mount('/drive')"
      ],
      "metadata": {
        "colab": {
          "base_uri": "https://localhost:8080/"
        },
        "id": "0kTWQziF4Y7Z",
        "outputId": "6b0d50f3-8ea7-4d8e-ad30-530c35c06a74"
      },
      "execution_count": null,
      "outputs": [
        {
          "output_type": "stream",
          "name": "stdout",
          "text": [
            "Mounted at /drive\n"
          ]
        }
      ]
    },
    {
      "cell_type": "code",
      "source": [
        "path = \"/drive/MyDrive/inflation_reports/dataset/data.csv\"\n",
        "df = pd.read_csv(path, encoding='latin-1')"
      ],
      "metadata": {
        "id": "ozyUm9wI_n9n"
      },
      "execution_count": null,
      "outputs": []
    },
    {
      "cell_type": "code",
      "source": [
        "def to_sentiment(rating):\n",
        "\n",
        "  if rating == 'negative':\n",
        "    return 0\n",
        "  elif rating == 'neutral':\n",
        "    return 1\n",
        "  elif rating == 'positive':\n",
        "    return 2\n",
        "\n",
        "df['score'] = df.sentiment.apply(to_sentiment)"
      ],
      "metadata": {
        "id": "EJE0oB-GAEKZ"
      },
      "execution_count": null,
      "outputs": []
    },
    {
      "cell_type": "code",
      "source": [
        "from sklearn.model_selection import train_test_split\n",
        "# split the data\n",
        "train_data, test_data = train_test_split(df, test_size=0.2, random_state=42, shuffle=True)\n",
        "\n",
        "train_data[\"text\"] = train_data[\"sentence\"]\n",
        "test_data[\"text\"] = test_data[\"sentence\"]\n",
        "\n",
        "train_data = pd.DataFrame(train_data, columns=['text', 'score'])\n",
        "test_data = pd.DataFrame(test_data, columns=['text', 'score'])"
      ],
      "metadata": {
        "id": "kYJ_Y4fh_xje"
      },
      "execution_count": null,
      "outputs": []
    },
    {
      "cell_type": "code",
      "source": [
        "import seaborn as sns"
      ],
      "metadata": {
        "id": "JKUGm83hO0G1"
      },
      "execution_count": null,
      "outputs": []
    },
    {
      "cell_type": "code",
      "source": [
        "#train_data.head()\n",
        "sns.countplot(train_data.score)\n",
        "plt.xlabel('Sentiment');"
      ],
      "metadata": {
        "colab": {
          "base_uri": "https://localhost:8080/",
          "height": 334
        },
        "id": "iumvHh5yDLVV",
        "outputId": "668a2bd7-471d-4d7f-82d3-7906bd169ccc"
      },
      "execution_count": null,
      "outputs": [
        {
          "output_type": "stream",
          "name": "stderr",
          "text": [
            "/usr/local/lib/python3.7/dist-packages/seaborn/_decorators.py:43: FutureWarning: Pass the following variable as a keyword arg: x. From version 0.12, the only valid positional argument will be `data`, and passing other arguments without an explicit keyword will result in an error or misinterpretation.\n",
            "  FutureWarning\n"
          ]
        },
        {
          "output_type": "display_data",
          "data": {
            "text/plain": [
              "<Figure size 432x288 with 1 Axes>"
            ],
            "image/png": "[encoded data removed]"
          },
          "metadata": {
            "needs_background": "light"
          }
        }
      ]
    },
    {
      "cell_type": "code",
      "execution_count": null,
      "metadata": {
        "id": "ImQzzotaIo1F",
        "colab": {
          "base_uri": "https://localhost:8080/",
          "height": 206
        },
        "outputId": "ff49e8ac-4357-4f1a-e9f8-4266b4d898d1"
      },
      "outputs": [
        {
          "output_type": "execute_result",
          "data": {
            "text/plain": [
              "                                                   text  score\n",
              "3207  The company was supposed to deliver machinery ...      1\n",
              "1684  UNC Charlotte would also deploy SSH Tectia Con...      1\n",
              "1044  In 2009 , Lee & Man had a combined annual prod...      1\n",
              "4145  `` That 's a very high figure on the European ...      1\n",
              "1538  In Finland , the corresponding service is Alma...      1"
            ],
            "text/html": [
              "\n",
              "  <div id=\"df-fb6c01d4-71da-4088-809b-e519e830baa6\">\n",
              "    <div class=\"colab-df-container\">\n",
              "      <div>\n",
              "<style scoped>\n",
              "    .dataframe tbody tr th:only-of-type {\n",
              "        vertical-align: middle;\n",
              "    }\n",
              "\n",
              "    .dataframe tbody tr th {\n",
              "        vertical-align: top;\n",
              "    }\n",
              "\n",
              "    .dataframe thead th {\n",
              "        text-align: right;\n",
              "    }\n",
              "</style>\n",
              "<table border=\"1\" class=\"dataframe\">\n",
              "  <thead>\n",
              "    <tr style=\"text-align: right;\">\n",
              "      <th></th>\n",
              "      <th>text</th>\n",
              "      <th>score</th>\n",
              "    </tr>\n",
              "  </thead>\n",
              "  <tbody>\n",
              "    <tr>\n",
              "      <th>3207</th>\n",
              "      <td>The company was supposed to deliver machinery ...</td>\n",
              "      <td>1</td>\n",
              "    </tr>\n",
              "    <tr>\n",
              "      <th>1684</th>\n",
              "      <td>UNC Charlotte would also deploy SSH Tectia Con...</td>\n",
              "      <td>1</td>\n",
              "    </tr>\n",
              "    <tr>\n",
              "      <th>1044</th>\n",
              "      <td>In 2009 , Lee &amp; Man had a combined annual prod...</td>\n",
              "      <td>1</td>\n",
              "    </tr>\n",
              "    <tr>\n",
              "      <th>4145</th>\n",
              "      <td>`` That 's a very high figure on the European ...</td>\n",
              "      <td>1</td>\n",
              "    </tr>\n",
              "    <tr>\n",
              "      <th>1538</th>\n",
              "      <td>In Finland , the corresponding service is Alma...</td>\n",
              "      <td>1</td>\n",
              "    </tr>\n",
              "  </tbody>\n",
              "</table>\n",
              "</div>\n",
              "      <button class=\"colab-df-convert\" onclick=\"convertToInteractive('df-fb6c01d4-71da-4088-809b-e519e830baa6')\"\n",
              "              title=\"Convert this dataframe to an interactive table.\"\n",
              "              style=\"display:none;\">\n",
              "        \n",
              "  <svg xmlns=\"http://www.w3.org/2000/svg\" height=\"24px\"viewBox=\"0 0 24 24\"\n",
              "       width=\"24px\">\n",
              "    <path d=\"M0 0h24v24H0V0z\" fill=\"none\"/>\n",
              "    <path d=\"M18.56 5.44l.94 2.06.94-2.06 2.06-.94-2.06-.94-.94-2.06-.94 2.06-2.06.94zm-11 1L8.5 8.5l.94-2.06 2.06-.94-2.06-.94L8.5 2.5l-.94 2.06-2.06.94zm10 10l.94 2.06.94-2.06 2.06-.94-2.06-.94-.94-2.06-.94 2.06-2.06.94z\"/><path d=\"M17.41 7.96l-1.37-1.37c-.4-.4-.92-.59-1.43-.59-.52 0-1.04.2-1.43.59L10.3 9.45l-7.72 7.72c-.78.78-.78 2.05 0 2.83L4 21.41c.39.39.9.59 1.41.59.51 0 1.02-.2 1.41-.59l7.78-7.78 2.81-2.81c.8-.78.8-2.07 0-2.86zM5.41 20L4 18.59l7.72-7.72 1.47 1.35L5.41 20z\"/>\n",
              "  </svg>\n",
              "      </button>\n",
              "      \n",
              "  <style>\n",
              "    .colab-df-container {\n",
              "      display:flex;\n",
              "      flex-wrap:wrap;\n",
              "      gap: 12px;\n",
              "    }\n",
              "\n",
              "    .colab-df-convert {\n",
              "      background-color: #E8F0FE;\n",
              "      border: none;\n",
              "      border-radius: 50%;\n",
              "      cursor: pointer;\n",
              "      display: none;\n",
              "      fill: #1967D2;\n",
              "      height: 32px;\n",
              "      padding: 0 0 0 0;\n",
              "      width: 32px;\n",
              "    }\n",
              "\n",
              "    .colab-df-convert:hover {\n",
              "      background-color: #E2EBFA;\n",
              "      box-shadow: 0px 1px 2px rgba(60, 64, 67, 0.3), 0px 1px 3px 1px rgba(60, 64, 67, 0.15);\n",
              "      fill: #174EA6;\n",
              "    }\n",
              "\n",
              "    [theme=dark] .colab-df-convert {\n",
              "      background-color: #3B4455;\n",
              "      fill: #D2E3FC;\n",
              "    }\n",
              "\n",
              "    [theme=dark] .colab-df-convert:hover {\n",
              "      background-color: #434B5C;\n",
              "      box-shadow: 0px 1px 3px 1px rgba(0, 0, 0, 0.15);\n",
              "      filter: drop-shadow(0px 1px 2px rgba(0, 0, 0, 0.3));\n",
              "      fill: #FFFFFF;\n",
              "    }\n",
              "  </style>\n",
              "\n",
              "      <script>\n",
              "        const buttonEl =\n",
              "          document.querySelector('#df-fb6c01d4-71da-4088-809b-e519e830baa6 button.colab-df-convert');\n",
              "        buttonEl.style.display =\n",
              "          google.colab.kernel.accessAllowed ? 'block' : 'none';\n",
              "\n",
              "        async function convertToInteractive(key) {\n",
              "          const element = document.querySelector('#df-fb6c01d4-71da-4088-809b-e519e830baa6');\n",
              "          const dataTable =\n",
              "            await google.colab.kernel.invokeFunction('convertToInteractive',\n",
              "                                                     [key], {});\n",
              "          if (!dataTable) return;\n",
              "\n",
              "          const docLinkHtml = 'Like what you see? Visit the ' +\n",
              "            '<a target=\"_blank\" href=https://colab.research.google.com/notebooks/data_table.ipynb>data table notebook</a>'\n",
              "            + ' to learn more about interactive tables.';\n",
              "          element.innerHTML = '';\n",
              "          dataTable['output_type'] = 'display_data';\n",
              "          await google.colab.output.renderOutput(dataTable, element);\n",
              "          const docLink = document.createElement('div');\n",
              "          docLink.innerHTML = docLinkHtml;\n",
              "          element.appendChild(docLink);\n",
              "        }\n",
              "      </script>\n",
              "    </div>\n",
              "  </div>\n",
              "  "
            ]
          },
          "metadata": {},
          "execution_count": 17
        }
      ],
      "source": [
        "# Debugging\n",
        "train_data.head()\n",
        "test_data.head()\n"
      ]
    },
    {
      "cell_type": "code",
      "execution_count": null,
      "metadata": {
        "id": "XPI0I4pCIuDZ"
      },
      "outputs": [],
      "source": [
        "def NormalizeWithPOS(text):\n",
        "    # Lemmatization & Stemming according to POS tagging\n",
        "\n",
        "    word_list = word_tokenize(text)\n",
        "    rev = []\n",
        "    lemmatizer = WordNetLemmatizer() \n",
        "    stemmer = PorterStemmer() \n",
        "    for word, tag in pos_tag(word_list):\n",
        "        if tag.startswith('J'):\n",
        "            w = lemmatizer.lemmatize(word, pos='a')\n",
        "        elif tag.startswith('V'):\n",
        "            w = lemmatizer.lemmatize(word, pos='v')\n",
        "        elif tag.startswith('N'):\n",
        "            w = lemmatizer.lemmatize(word, pos='n')\n",
        "        elif tag.startswith('R'):\n",
        "            w = lemmatizer.lemmatize(word, pos='r')\n",
        "        else:\n",
        "            w = word\n",
        "        w = stemmer.stem(w)\n",
        "        rev.append(w)\n",
        "    review = ' '.join(rev)\n",
        "    return review"
      ]
    },
    {
      "cell_type": "code",
      "execution_count": null,
      "metadata": {
        "id": "WLMVZiNvIy_E"
      },
      "outputs": [],
      "source": [
        "def cleanText(text):\n",
        "    \n",
        "    text = re.sub(r'<.*?>', ' ', text)\n",
        "    text = re.sub(r\"won't\", \"will not\", text)\n",
        "    text = re.sub(r\"can't\", \"can not\", text)\n",
        "    text = re.sub(r\"n't\", \" not\", text)\n",
        "    text = re.sub(r\"'ve\", \" have\", text)\n",
        "    text = re.sub(r\"'ll\", \" will\", text)\n",
        "    text = re.sub(r\"'re\", \" are\", text)\n",
        "\n",
        "    if embedding is not 'BERT':\n",
        "        text = re.sub(r\"[0-9]+\", ' ', text)\n",
        "        text = re.sub(r\"-\", ' ', text)\n",
        "    \n",
        "    \n",
        "    text = text.strip().lower()\n",
        "    \n",
        "    if embedding is 'WORD2VEC_NO_STOP':\n",
        "        # Remove Stop words\n",
        "        default_stop_words = set(stopwords.words('english'))\n",
        "        default_stop_words.difference_update({'no', 'not', 'nor', 'too', 'any'})\n",
        "        stop_words = default_stop_words.union({\"'m\", \"n't\", \"'d\", \"'re\", \"'s\",\n",
        "                                               'would','must',\"'ve\",\"'ll\",'may'})\n",
        "    \n",
        "        word_list = word_tokenize(text)\n",
        "        filtered_list = [w for w in word_list if not w in stop_words]\n",
        "        text = ' '.join(filtered_list)\n",
        "    \n",
        "    if embedding is not 'BERT':\n",
        "        # Remove other contractions\n",
        "        text = re.sub(r\"'\", ' ', text)\n",
        "    \n",
        "    # Replace punctuations with space\n",
        "    if embedding is 'BERT': # save ! ? . for end of the sentence detection [,/():;']\n",
        "        filters='\"#$%&*+<=>@[\\\\]^_`{|}~\\t\\n'\n",
        "        text = re.sub(r'\\!+', '!', text)\n",
        "        text = re.sub(r'\\?+', '?', text)\n",
        "    else:\n",
        "        filters='!\"\\'#$%&()*+,-./:;<=>?@[\\\\]^_`{|}~\\t\\n'\n",
        "    translate_dict = dict((i, \" \") for i in filters)\n",
        "    translate_map = str.maketrans(translate_dict)\n",
        "    text = text.translate(translate_map)\n",
        "    \n",
        "    if embedding is 'BERT':\n",
        "        text = re.sub(r'\\( *\\)', ' ', text)\n",
        "\n",
        "    if embedding is not 'BERT':\n",
        "        text = ' '.join([w for w in text.split() if len(w)>1])\n",
        "\n",
        "    # Replace multiple space with one space\n",
        "    text = re.sub(' +', ' ', text)\n",
        "    \n",
        "    text = ''.join(text)\n",
        "\n",
        "    return text"
      ]
    },
    {
      "cell_type": "code",
      "execution_count": null,
      "metadata": {
        "id": "QVtCz_k2I1w4"
      },
      "outputs": [],
      "source": [
        "embedding = ''\n",
        "# for Word2Vec with stop words\n",
        "train_data['clean_text'] = train_data['text'].apply(cleanText)\n",
        "test_data['clean_text'] = test_data['text'].apply(cleanText)\n",
        "# for BOW and TFIDF(s)\n",
        "train_data['clean_text_normalized'] = train_data['clean_text'].apply(NormalizeWithPOS)\n",
        "test_data['clean_text_normalized'] = test_data['clean_text'].apply(NormalizeWithPOS)"
      ]
    },
    {
      "cell_type": "code",
      "execution_count": null,
      "metadata": {
        "colab": {
          "base_uri": "https://localhost:8080/"
        },
        "id": "eQy6HE-tI35I",
        "outputId": "af6e3b13-c765-4dbd-b24b-98571ec72db1"
      },
      "outputs": [
        {
          "output_type": "stream",
          "name": "stdout",
          "text": [
            "kaukomarkkinat    4\n",
            "thesi             4\n",
            "mostli            4\n",
            "telko             4\n",
            "alloc             4\n",
            "                 ..\n",
            "antniemi          1\n",
            "refut             1\n",
            "interbank         1\n",
            "camara            1\n",
            "venezuel          1\n",
            "Length: 4411, dtype: int64\n"
          ]
        }
      ],
      "source": [
        "freq_train = pd.Series(' '.join(train_data['clean_text_normalized']).split()).value_counts()\n",
        "less_five_freq_train = freq_train[(freq_train <5)]\n",
        "print(less_five_freq_train)"
      ]
    },
    {
      "cell_type": "code",
      "execution_count": null,
      "metadata": {
        "colab": {
          "base_uri": "https://localhost:8080/"
        },
        "id": "1hQ3w1nAI5th",
        "outputId": "50971182-f65e-4dd3-9473-cb60e0572603"
      },
      "outputs": [
        {
          "output_type": "stream",
          "name": "stdout",
          "text": [
            "hkscan        4\n",
            "emiss         4\n",
            "collect       4\n",
            "sever         4\n",
            "expans        4\n",
            "             ..\n",
            "realiz        1\n",
            "dok           1\n",
            "bratsk        1\n",
            "ilim          1\n",
            "consortium    1\n",
            "Length: 2291, dtype: int64\n"
          ]
        }
      ],
      "source": [
        "freq_test = pd.Series(' '.join(test_data['clean_text_normalized']).split()).value_counts()\n",
        "less_five_freq_test = freq_test[(freq_test <5)]\n",
        "print(less_five_freq_test)"
      ]
    },
    {
      "cell_type": "code",
      "execution_count": null,
      "metadata": {
        "id": "1zZVJjoOI7xC"
      },
      "outputs": [],
      "source": [
        "train_data['clean_text_normalized'] = train_data['clean_text_normalized'].apply(lambda x: ' '.join(x for x in x.split() if x not in less_five_freq_train))\n",
        "test_data['clean_text_normalized'] = test_data['clean_text_normalized'].apply(lambda x: ' '.join(x for x in x.split() if x not in less_five_freq_test))"
      ]
    },
    {
      "cell_type": "code",
      "execution_count": null,
      "metadata": {
        "id": "_55jFcmiI9-7"
      },
      "outputs": [],
      "source": [
        "embedding = 'WORD2VEC_NO_STOP'\n",
        "# for Word2Vec without stop words\n",
        "train_data['clean_text_w2v_no_stop'] = train_data['text'].apply(cleanText)\n",
        "test_data['clean_text_w2v_no_stop'] = test_data['text'].apply(cleanText)\n",
        "embedding = 'BERT'\n",
        "# for BERT(s)\n",
        "train_data['clean_text_bert'] = train_data['text'].apply(cleanText)\n",
        "test_data['clean_text_bert'] = test_data['text'].apply(cleanText)"
      ]
    },
    {
      "cell_type": "code",
      "execution_count": null,
      "metadata": {
        "colab": {
          "base_uri": "https://localhost:8080/"
        },
        "id": "znUPz_2685sU",
        "outputId": "cd0632ac-0cce-401d-8697-f9963e4b160c"
      },
      "outputs": [
        {
          "output_type": "stream",
          "name": "stdout",
          "text": [
            "A review example of dataset before cleaning:\n",
            "\n",
            "The bridge will be 1.2 km long and is located between Anasmotet by the road E20 and the new traffic junction in Marieholm by the road E45 .\n",
            "\n",
            "clean_text:\n",
            "the bridge will be km long and is located between anasmotet by the road and the new traffic junction in marieholm by the road\n",
            "\n",
            "clean_text_normalized:\n",
            "the bridg will be km long and be locat between by the road and the new traffic in by the road\n",
            "\n",
            "clean_text_w2v_no_stop:\n",
            "bridge km long located anasmotet road new traffic junction marieholm road\n",
            "\n",
            "clean_text_bert:\n",
            "the bridge will be 1.2 km long and is located between anasmotet by the road e20 and the new traffic junction in marieholm by the road e45 .\n",
            "\n"
          ]
        }
      ],
      "source": [
        "# Debugging\n",
        "print(\"A review example of dataset before cleaning:\", end=\"\\n\\n\")\n",
        "print(train_data.iloc[3]['text'], end='\\n\\n')\n",
        "\n",
        "print(\"clean_text:\")\n",
        "print(train_data.iloc[3]['clean_text'], end=\"\\n\\n\")\n",
        "\n",
        "print(\"clean_text_normalized:\")\n",
        "print(train_data.iloc[3]['clean_text_normalized'], end=\"\\n\\n\")\n",
        "\n",
        "print(\"clean_text_w2v_no_stop:\")\n",
        "print(train_data.iloc[3]['clean_text_w2v_no_stop'], end=\"\\n\\n\")\n",
        "\n",
        "print(\"clean_text_bert:\")\n",
        "print(train_data.iloc[3]['clean_text_bert'], end=\"\\n\\n\")"
      ]
    },
    {
      "cell_type": "code",
      "execution_count": null,
      "metadata": {
        "id": "N-zuuzFyJBjl"
      },
      "outputs": [],
      "source": [
        "def mean(z): # used for BERT (word version) and Word2Vec\n",
        "    return sum(itertools.chain(z))/len(z)"
      ]
    },
    {
      "cell_type": "code",
      "execution_count": null,
      "metadata": {
        "colab": {
          "base_uri": "https://localhost:8080/"
        },
        "id": "ECOfIRJmJDQs",
        "outputId": "a3d9cb41-aefe-452a-8053-b5b5db52ce73"
      },
      "outputs": [
        {
          "output_type": "stream",
          "name": "stdout",
          "text": [
            "  (0, 224)\t1\n",
            "  (0, 309)\t1\n",
            "  (0, 731)\t1\n",
            "  (0, 1051)\t1\n",
            "  (0, 1101)\t1\n",
            "  (1, 66)\t1\n",
            "  (1, 247)\t1\n",
            "  (1, 383)\t1\n",
            "  (1, 1137)\t1\n",
            "  (2, 59)\t1\n",
            "  (2, 160)\t1\n",
            "  (2, 208)\t1\n",
            "  (2, 216)\t1\n",
            "  (2, 788)\t1\n",
            "  (2, 902)\t1\n",
            "  (2, 987)\t1\n",
            "  (2, 1004)\t1\n",
            "  (2, 1324)\t2\n",
            "  (3, 110)\t1\n",
            "  (3, 149)\t1\n",
            "  (3, 411)\t1\n",
            "  (3, 468)\t1\n",
            "  (3, 564)\t1\n",
            "  (3, 579)\t1\n",
            "  (3, 597)\t1\n",
            "  :\t:\n",
            "  (965, 1408)\t1\n",
            "  (966, 148)\t1\n",
            "  (966, 805)\t2\n",
            "  (966, 1077)\t1\n",
            "  (966, 1080)\t1\n",
            "  (967, 46)\t1\n",
            "  (967, 149)\t1\n",
            "  (967, 271)\t1\n",
            "  (967, 272)\t1\n",
            "  (967, 373)\t1\n",
            "  (967, 908)\t1\n",
            "  (967, 987)\t1\n",
            "  (967, 1119)\t1\n",
            "  (967, 1159)\t1\n",
            "  (968, 327)\t1\n",
            "  (968, 357)\t1\n",
            "  (968, 396)\t1\n",
            "  (968, 408)\t2\n",
            "  (968, 1088)\t1\n",
            "  (968, 1159)\t1\n",
            "  (969, 772)\t1\n",
            "  (969, 825)\t1\n",
            "  (969, 902)\t1\n",
            "  (969, 1153)\t1\n",
            "  (969, 1219)\t1\n"
          ]
        }
      ],
      "source": [
        "embedding = 'BOW'\n",
        "vectorizer = CountVectorizer(stop_words='english')\n",
        "\n",
        "bow_training_features = vectorizer.fit_transform(train_data[\"clean_text_normalized\"])    \n",
        "bow_test_features = vectorizer.transform(test_data[\"clean_text_normalized\"])\n",
        "\n",
        "print(bow_test_features)"
      ]
    },
    {
      "cell_type": "code",
      "execution_count": null,
      "metadata": {
        "colab": {
          "base_uri": "https://localhost:8080/"
        },
        "id": "s9omP2ua9UxP",
        "outputId": "bf7640ba-e4a4-4a16-ba72-1319dba2943c"
      },
      "outputs": [
        {
          "output_type": "stream",
          "name": "stdout",
          "text": [
            "(3876, 20000)\n"
          ]
        }
      ],
      "source": [
        "\n",
        "embedding = 'TFIDF_WITH_STOP'\n",
        "vectorizer = TfidfVectorizer(ngram_range=(1, 2), max_features=20000)\n",
        "\n",
        "tfidf_with_stop_training_features = vectorizer.fit_transform(train_data[\"clean_text_normalized\"])    \n",
        "tfidf_with_stop_test_features = vectorizer.transform(test_data[\"clean_text_normalized\"])\n",
        "\n",
        "print(tfidf_with_stop_training_features.shape)"
      ]
    },
    {
      "cell_type": "code",
      "execution_count": null,
      "metadata": {
        "colab": {
          "base_uri": "https://localhost:8080/"
        },
        "id": "CxZdPzLQ9WRW",
        "outputId": "2781e257-1314-4779-9bbb-4ed8ee4bb708"
      },
      "outputs": [
        {
          "output_type": "stream",
          "name": "stdout",
          "text": [
            "(3876, 20000)\n"
          ]
        }
      ],
      "source": [
        "embedding = 'TFIDF_NO_STOP'\n",
        "vectorizer = TfidfVectorizer(stop_words='english', ngram_range=(1, 2), max_features=20000)\n",
        "\n",
        "tfidf_no_stop_training_features = vectorizer.fit_transform(train_data[\"clean_text_normalized\"])    \n",
        "tfidf_no_stop_test_features = vectorizer.transform(test_data[\"clean_text_normalized\"])\n",
        "\n",
        "print(tfidf_no_stop_training_features.shape)"
      ]
    },
    {
      "cell_type": "code",
      "execution_count": null,
      "metadata": {
        "id": "o97v-0n09Zno"
      },
      "outputs": [],
      "source": [
        "def embeddToWord2Vec(text):\n",
        "    words = word_tokenize(text)\n",
        "    \n",
        "    if embedding is 'WORD2VEC_WITH_STOP':\n",
        "        result = [w2v_with_stop_model.wv[w] for w in words if w in w2v_with_stop_model.wv.vocab]\n",
        "    else:\n",
        "        result = [w2v_no_stop_model.wv[w] for w in words if w in w2v_no_stop_model.wv.vocab]\n",
        "    \n",
        "    feature = [mean(x) for x in zip(*result)]\n",
        "    return feature"
      ]
    },
    {
      "cell_type": "code",
      "execution_count": null,
      "metadata": {
        "id": "vKChDlLu9cvJ"
      },
      "outputs": [],
      "source": [
        "def wordTokenize(text):\n",
        "  return word_tokenize(text)"
      ]
    },
    {
      "cell_type": "code",
      "execution_count": null,
      "metadata": {
        "colab": {
          "base_uri": "https://localhost:8080/"
        },
        "id": "DdDfD6ib9gmj",
        "outputId": "2e72f914-a349-43c0-8028-fd527d0439c4"
      },
      "outputs": [
        {
          "output_type": "stream",
          "name": "stdout",
          "text": [
            "(3876, 100)\n"
          ]
        }
      ],
      "source": [
        "embedding = 'WORD2VEC_WITH_STOP'\n",
        "words = train_data['clean_text'].apply(wordTokenize)\n",
        "w2v_with_stop_model = gensim.models.Word2Vec(words, min_count = 2, size = 100, window = 5) \n",
        "word2vec_with_stop_training_features = train_data['clean_text'].apply(embeddToWord2Vec)\n",
        "word2vec_with_stop_test_features = test_data['clean_text'].apply(embeddToWord2Vec)\n",
        "feature = [x for x in word2vec_with_stop_training_features.transpose()]\n",
        "word2vec_with_stop_training_features = np.asarray(feature)\n",
        "\n",
        "feature = [x for x in word2vec_with_stop_test_features.transpose()]\n",
        "word2vec_with_stop_test_features = np.asarray(feature)\n",
        "\n",
        "print(word2vec_with_stop_training_features.shape)"
      ]
    },
    {
      "cell_type": "code",
      "execution_count": null,
      "metadata": {
        "colab": {
          "base_uri": "https://localhost:8080/"
        },
        "id": "QD2T1alj9jgC",
        "outputId": "653d3317-48da-41a7-8735-c5d12847f65c"
      },
      "outputs": [
        {
          "output_type": "stream",
          "name": "stdout",
          "text": [
            "(3876,)\n"
          ]
        }
      ],
      "source": [
        "embedding = 'WORD2VEC_NO_STOP'\n",
        "words = train_data['clean_text_w2v_no_stop'].apply(wordTokenize)\n",
        "w2v_no_stop_model = gensim.models.Word2Vec(words, min_count = 2, size = 80, window = 5) \n",
        "word2vec_no_stop_training_features = train_data['clean_text'].apply(embeddToWord2Vec)\n",
        "word2vec_no_stop_test_features = test_data['clean_text'].apply(embeddToWord2Vec)\n",
        "feature = [x for x in word2vec_no_stop_training_features.transpose()]\n",
        "word2vec_no_stop_training_features = np.asarray(feature, dtype=object)\n",
        "\n",
        "feature = [x for x in word2vec_no_stop_test_features.transpose()]\n",
        "word2vec_no_stop_test_features = np.asarray(feature, dtype=object)\n",
        "\n",
        "print(word2vec_no_stop_training_features.shape)"
      ]
    },
    {
      "cell_type": "code",
      "execution_count": null,
      "metadata": {
        "id": "UvtZbo5q9maq"
      },
      "outputs": [],
      "source": [
        "# Cleaning before BERT\n",
        "embedding = 'BERT'"
      ]
    },
    {
      "cell_type": "code",
      "execution_count": null,
      "metadata": {
        "id": "jQ6e8PiA9_NH"
      },
      "outputs": [],
      "source": [
        "def embeddToBERT(text):\n",
        "    sentences = re.split('!|\\?|\\.',text)\n",
        "    sentences = list(filter(None, sentences)) \n",
        "\n",
        "    result = bert_transformers.encode(sentences)\n",
        "    feature = [mean(x) for x in zip(*result)]\n",
        "  \n",
        "    return feature"
      ]
    },
    {
      "cell_type": "code",
      "execution_count": null,
      "metadata": {
        "colab": {
          "referenced_widgets": [
            "3b2ea9b76cb94c6b87cfa19ca45a0433",
            "265794d824fb42099a7ffe28ef05784d",
            "edf7252be76241fb87c4e357d621685d",
            "b1c09343a9094fb08645ca5b3bd3f507",
            "65d136c56913427db67fc3c237f9317a",
            "a5e57731a7da428883514395473c4719",
            "8a664bfdaf6443ad9ec12a207f476c27",
            "46659f6a546546099b6d9dad792d18b6",
            "645d86939ea244cda2f56bf96d454490",
            "d2be7813fb4543df91aa9d42a83f9e5d",
            "55d0cb5661eb4a4ca0f85b05d652d081",
            "de8fe2f2e5144722bd529e0081177a5d",
            "87773c30a0824867b1078d9e9f0d4b9d",
            "f580e6525d1949b5a1fa29d2471ccfdc",
            "821e4db0e43b4b80bb219aad26a5e95d",
            "0b6a50dfc98741859ec28d3ade0d41db",
            "955f569fe7d54cc09cfb991ea5b9edfa",
            "e70a870910e74164b88ea2b0adacfff6",
            "e5585566fd414422b6a365a3d2b17c9a",
            "0cdf03c51c50479a9065bebe3ad3e979",
            "15bc4d251fdf44eda33095b07e317c5b",
            "5e31de1e7a404fecaef3dca67bbdcee4",
            "7a4cc7c98879490abb4528cdfe2adc89",
            "fe7b07754aee4a78a6157b50e3e54d04",
            "88028e4dd3db4c738f01315dce24d73e",
            "e393db9b78f64085bfe6746cd3dc8bc9",
            "355ddb7e837641d7af7d3dd0b91d528a",
            "3187154549574adca9d831a1cee9cf68",
            "4a729d93dc7748428bc19a776e4821dc",
            "82ac8f7d79c84ca0b5b012f255470658",
            "513bc9230dd1446f9468f025b844387c",
            "aa442d6d7944440c9a7158efa1b9ad47",
            "d4b47d1adba2437d9a9ec06921276386",
            "2e39b15cdfff4532ae4225459d7f5dff",
            "a2aa5cacd2314869b2ef8f1d422a922e",
            "8c26060d479a48489791887a95bc70d9",
            "c21d0268e8754f7bbc738ed3c2f8e963",
            "f3741dcd64e0426ebb7bdba3d990c88a",
            "b7264f5f4d9c464c8b4ff0c3c81704c9",
            "71aeb1a45283420fb717f0291413e4b6",
            "a47e3d0a64b04adaa7cdbc4aff76a930",
            "99ccb6f28b2d4eb780e7c2cff536cb4e",
            "62a4bc3607964e9fb2db068f95370dfa",
            "cf9da175d71a4e108bdeb1e76f6afe92",
            "8f8b1276cce44f0c8b7e455fe14efc6a",
            "49f13ad37fc14df5b504c326c1dbfd10",
            "1330fec780ee4c5c9392c3482dd7a50f",
            "58a77fe57cf148f4aa19d88221ca5690",
            "e11a1ba2a44640e382dcc963db145ece",
            "330bd2c5e0e5482cb20c95be468f319d",
            "58222d954f864c02a8d5707e74929fb2",
            "62b364df9ab0421284ebd04e4a81b991",
            "8a3954c2b03c4857924799d57b227a3d",
            "ee2223dcbf6c459b837d462245e0f381",
            "1ab5efe2e1c34455a4eb5cb6f98a6df5",
            "eae257fa67ac4a5f896735aeb0a91795",
            "3b165e27153a4a3e9c265af08c974f83",
            "0eb747e8399a47f3934eacbfe5db3e02",
            "fb72d168e88946e6ba74529579fa5510",
            "abfb9ea4312a465eaade4e454c34a850",
            "3d8fd45cf58d4ed982d82a789f463d26",
            "938c1a2c3da441dca3974735397a43c0",
            "bdc76e4c5c354ee393b52b9c9ca795e0",
            "cff6e86268a9491bb5377120ab567ba3",
            "926bb60c98114de9a886cee861dcba59",
            "189f9305833f452d98708f0579a9100e",
            "d7a39f5615754b848b5a0cf505f78b61",
            "f5b8fcff0e32472d896c5d49c40da770",
            "8e1786eda80e43f59a645ea6d8747482",
            "9024b8e85b62461093051655526499c3",
            "c9d57dbea0e648ca872d2ec52c7e5f5a",
            "f39a772e535c413ab3b01f89f7530979",
            "6436a422717346c8aff5e12a6343587b",
            "55a7b95f44354e0894c4b74a8cac72ae",
            "49587060e78948108010c1a78bc64639",
            "dcba4e9311ef4cc0b4c66aec5f5559ef",
            "1d3b143a07c547779f9b417997ac4c1d",
            "28c3bea0dcc441b5815b6d981953c484",
            "132631c61d554d9fa60b4b42f03adb36",
            "60526794ac844d6bab33653ed0f9b060",
            "6a6728cc2f3d45d2b7fac99c78908656",
            "bf25796ace04495ca22e05182808861a",
            "88712a16013d4c06afa96974a40fabe3",
            "e7312ddae89f431abb9b9674dea7a4bf",
            "d887a884e33745e888cd1547b8da39be",
            "1b8b1fdeec044a31b948f28b79300bff",
            "b42ea5949b124c579c587c562f8d8ee6",
            "0c50f9baf8d34619962ba93034fbb50c",
            "f4c3b605ac1b480ba3238b267d0140a7",
            "da184c2690044dba8191b4d081db5a0c",
            "1955cbdcbd03463b9add5a3e9f293c48",
            "5adddb597a1a48a7a0f64609d6fc2196",
            "498a3cef18cc455a8f9ee355806eb10c",
            "13940a1b377247c5bba0a75c357b7d5f",
            "42a23427973a437eb2cebaf93dcf94d9",
            "3698cab9120a4b7b8d5ce2a70655205e",
            "f3b8870e96a6401585633f3e89518c11",
            "292abb8f89a749e184aa077ac57a5310",
            "ccd0ae04b43e43e6839170f42de7522a",
            "0c8e71ce01c9432d97340786068b0fa1",
            "c264523fa20941878fa465754606256f",
            "c22d92c51a744c02bd5fc4de4e66410b",
            "7873918bc5f44876812eeef39f2c34c1",
            "535aeac72ea64862b3facb4ef729a4fd",
            "106dc7aa7b914011b3359f79d1927de5",
            "d9dbed96886b420c932e59c6f39bb453",
            "556670d264664c4686cc758c9760fd06",
            "b033c4ac57184d729f23496651de1984",
            "89184e0578c4473d9fde29e72cf3d327",
            "d70c406cbc414e13a10185d0f5298569",
            "dc3d1c27f39d433e886c744259ae4bca",
            "ab12981eb159475aa16cb803537b022d",
            "ec5a9699cfea4248a0cbae24d587cd89",
            "120f1ee30589458e96cb24364042bee7",
            "56e115152d6d4335ae31637ed9cd3340",
            "5b5fdedc2ffd486d8bf47e271858725f",
            "d482be96e8dd4e9e9c1d3ca6db40e470",
            "dba04a732f5b4723b2ef471fed1be9ad",
            "dac186be2e3f4c4caed849931ded3166",
            "5b6bd8e0d55148f5a36ad93e8f9a6bcc",
            "fbb689311da1423cb3598a56af624cff",
            "5cf645bd24cc4482a6adc68c5113efa2",
            "8fc232d02ba4455cbac3d2cc22ae7a78",
            "0893f0eead78411caee3825d00420f14",
            "69b514205c7f4f73a0114adedd8f9662",
            "932aadf7c9b148ab92d9acf3322b6ad2",
            "6410296b703942ecb27a7e62cc7cbb1f",
            "70a30555184d43f897a1ec6c318d7d3b",
            "bf2e5a6ae63e4d8a8bf9eca9750c172d",
            "773cd1b179fe43dc89792e4fd4d1ec35",
            "47706cabe0934177b4a77a62272b271f",
            "74a812f3fdeb4b6187dd748ece833e62",
            "d074d59adcfe4f2997218742a49f3c24",
            "6ee2901ba72c444aae771cf07a8ba9a6",
            "37b8d7574e0a4b619e7c728f7e7feca9",
            "0b3b2cbcd7524e39a727b72c5ea9d7ba",
            "12d7e8390f784f94a59c6c315baa21cf",
            "b91c2b2194fd4770a845cf87652a2e6f",
            "4e8bcec8c80b4295b82229c172245e61",
            "46d346d1f5ac4c60a647c6f01a6ef04b",
            "241fcbc3ae0a4cdd9619cc4408564818",
            "16d0d0db24e94a41b11f0c64ccca1cf8",
            "1414e0c877f34e8c8f282b986da045d8"
          ],
          "base_uri": "https://localhost:8080/",
          "height": 433
        },
        "id": "4vMSqIeZ-AgK",
        "outputId": "75677f5e-beaf-42b2-824b-446a0748c8a7"
      },
      "outputs": [
        {
          "output_type": "display_data",
          "data": {
            "text/plain": [
              "Downloading:   0%|          | 0.00/391 [00:00<?, ?B/s]"
            ],
            "application/vnd.jupyter.widget-view+json": {
              "version_major": 2,
              "version_minor": 0,
              "model_id": "3b2ea9b76cb94c6b87cfa19ca45a0433"
            }
          },
          "metadata": {}
        },
        {
          "output_type": "display_data",
          "data": {
            "text/plain": [
              "Downloading:   0%|          | 0.00/190 [00:00<?, ?B/s]"
            ],
            "application/vnd.jupyter.widget-view+json": {
              "version_major": 2,
              "version_minor": 0,
              "model_id": "de8fe2f2e5144722bd529e0081177a5d"
            }
          },
          "metadata": {}
        },
        {
          "output_type": "display_data",
          "data": {
            "text/plain": [
              "Downloading:   0%|          | 0.00/3.95k [00:00<?, ?B/s]"
            ],
            "application/vnd.jupyter.widget-view+json": {
              "version_major": 2,
              "version_minor": 0,
              "model_id": "7a4cc7c98879490abb4528cdfe2adc89"
            }
          },
          "metadata": {}
        },
        {
          "output_type": "display_data",
          "data": {
            "text/plain": [
              "Downloading:   0%|          | 0.00/2.00 [00:00<?, ?B/s]"
            ],
            "application/vnd.jupyter.widget-view+json": {
              "version_major": 2,
              "version_minor": 0,
              "model_id": "2e39b15cdfff4532ae4225459d7f5dff"
            }
          },
          "metadata": {}
        },
        {
          "output_type": "display_data",
          "data": {
            "text/plain": [
              "Downloading:   0%|          | 0.00/625 [00:00<?, ?B/s]"
            ],
            "application/vnd.jupyter.widget-view+json": {
              "version_major": 2,
              "version_minor": 0,
              "model_id": "8f8b1276cce44f0c8b7e455fe14efc6a"
            }
          },
          "metadata": {}
        },
        {
          "output_type": "display_data",
          "data": {
            "text/plain": [
              "Downloading:   0%|          | 0.00/122 [00:00<?, ?B/s]"
            ],
            "application/vnd.jupyter.widget-view+json": {
              "version_major": 2,
              "version_minor": 0,
              "model_id": "eae257fa67ac4a5f896735aeb0a91795"
            }
          },
          "metadata": {}
        },
        {
          "output_type": "display_data",
          "data": {
            "text/plain": [
              "Downloading:   0%|          | 0.00/229 [00:00<?, ?B/s]"
            ],
            "application/vnd.jupyter.widget-view+json": {
              "version_major": 2,
              "version_minor": 0,
              "model_id": "d7a39f5615754b848b5a0cf505f78b61"
            }
          },
          "metadata": {}
        },
        {
          "output_type": "display_data",
          "data": {
            "text/plain": [
              "Downloading:   0%|          | 0.00/438M [00:00<?, ?B/s]"
            ],
            "application/vnd.jupyter.widget-view+json": {
              "version_major": 2,
              "version_minor": 0,
              "model_id": "28c3bea0dcc441b5815b6d981953c484"
            }
          },
          "metadata": {}
        },
        {
          "output_type": "display_data",
          "data": {
            "text/plain": [
              "Downloading:   0%|          | 0.00/53.0 [00:00<?, ?B/s]"
            ],
            "application/vnd.jupyter.widget-view+json": {
              "version_major": 2,
              "version_minor": 0,
              "model_id": "f4c3b605ac1b480ba3238b267d0140a7"
            }
          },
          "metadata": {}
        },
        {
          "output_type": "display_data",
          "data": {
            "text/plain": [
              "Downloading:   0%|          | 0.00/112 [00:00<?, ?B/s]"
            ],
            "application/vnd.jupyter.widget-view+json": {
              "version_major": 2,
              "version_minor": 0,
              "model_id": "0c8e71ce01c9432d97340786068b0fa1"
            }
          },
          "metadata": {}
        },
        {
          "output_type": "display_data",
          "data": {
            "text/plain": [
              "Downloading:   0%|          | 0.00/466k [00:00<?, ?B/s]"
            ],
            "application/vnd.jupyter.widget-view+json": {
              "version_major": 2,
              "version_minor": 0,
              "model_id": "dc3d1c27f39d433e886c744259ae4bca"
            }
          },
          "metadata": {}
        },
        {
          "output_type": "display_data",
          "data": {
            "text/plain": [
              "Downloading:   0%|          | 0.00/399 [00:00<?, ?B/s]"
            ],
            "application/vnd.jupyter.widget-view+json": {
              "version_major": 2,
              "version_minor": 0,
              "model_id": "5cf645bd24cc4482a6adc68c5113efa2"
            }
          },
          "metadata": {}
        },
        {
          "output_type": "display_data",
          "data": {
            "text/plain": [
              "Downloading:   0%|          | 0.00/232k [00:00<?, ?B/s]"
            ],
            "application/vnd.jupyter.widget-view+json": {
              "version_major": 2,
              "version_minor": 0,
              "model_id": "d074d59adcfe4f2997218742a49f3c24"
            }
          },
          "metadata": {}
        }
      ],
      "source": [
        "bert_transformers = SentenceTransformer('bert-base-nli-mean-tokens')"
      ]
    },
    {
      "cell_type": "code",
      "execution_count": null,
      "metadata": {
        "colab": {
          "base_uri": "https://localhost:8080/"
        },
        "id": "FnlJTW6W-Aix",
        "outputId": "bb627e40-ba0e-40f9-e475-ef3a1e277909"
      },
      "outputs": [
        {
          "output_type": "stream",
          "name": "stdout",
          "text": [
            "(3876, 768)\n"
          ]
        }
      ],
      "source": [
        "bert_version = 'SENTENCE'\n",
        "bert_sentence_training_features = train_data['clean_text_bert'].apply(embeddToBERT)\n",
        "bert_sentence_test_features = test_data['clean_text_bert'].apply(embeddToBERT)\n",
        "feature = [x for x in bert_sentence_training_features.transpose()]\n",
        "bert_sentence_training_features = np.asarray(feature)\n",
        "\n",
        "feature = [x for x in bert_sentence_test_features.transpose()]\n",
        "bert_sentence_test_features = np.asarray(feature)\n",
        "\n",
        "print(bert_sentence_training_features.shape)"
      ]
    },
    {
      "cell_type": "code",
      "source": [
        "#Classifiers\n",
        "from itertools import cycle\n",
        "import seaborn as sns\n",
        "from sklearn.preprocessing import label_binarize"
      ],
      "metadata": {
        "id": "d4EzAtDPLBOM"
      },
      "execution_count": null,
      "outputs": []
    },
    {
      "cell_type": "code",
      "execution_count": 114,
      "metadata": {
        "id": "7LeMQ9G3JHFO"
      },
      "outputs": [],
      "source": [
        "# A function to plot and print result\n",
        "def printResult(method, classification, y_pred, y_prob):\n",
        "    print(\"Method: %s\" % method)  \n",
        "    print(\"Classifier: %s\" % classification)  \n",
        "    acc = accuracy_score(test_data[\"score\"], y_pred)\n",
        "    # Result\n",
        "    print(\"Accuracy: {:.2f}\".format(acc*100),end='\\n\\n')\n",
        "\n",
        "    print(classification_report(test_data[\"score\"],y_pred))\n",
        "\n",
        "\n",
        "    cm = confusion_matrix(test_data[\"score\"],y_pred)\n",
        "\n",
        "    class_names = ['negative', 'neutral', 'positive']\n",
        "    df_cm = pd.DataFrame(cm, index=class_names, columns=class_names)\n",
        "\n",
        "    hmap = sns.heatmap(df_cm, annot=True, fmt=\"d\", cmap=\"Blues\")\n",
        "    hmap.yaxis.set_ticklabels(hmap.yaxis.get_ticklabels(), rotation=0, ha='right')\n",
        "    hmap.xaxis.set_ticklabels(hmap.xaxis.get_ticklabels(), rotation=30, ha='right')\n",
        "    plt.ylabel('True sentiment')\n",
        "    plt.xlabel('Predicted sentiment');\n",
        "\n",
        "\n",
        "    # Plot\n",
        "\n",
        "    y_pred = label_binarize(y_pred, classes=[0, 1, 2])\n",
        "    n_classes = y_pred.shape[1]\n",
        "\n",
        "\n",
        "    # Compute ROC curve and ROC area for each class\n",
        "    fpr = dict()\n",
        "    tpr = dict()\n",
        "    roc_auc = dict()\n",
        "    for i in range(n_classes):\n",
        "        fpr[i], tpr[i], _ = roc_curve(y_pred[:, i], y_prob[:, i])\n",
        "        roc_auc[i] = auc(fpr[i], tpr[i])\n",
        "        print (\"Area under the ROC curve : %f\" % roc_auc[i])    \n",
        "\n",
        "    # Compute micro-average ROC curve and ROC area\n",
        "    fpr[\"micro\"], tpr[\"micro\"], _ = roc_curve(y_pred.ravel(), y_prob.ravel())\n",
        "    roc_auc[\"micro\"] = auc(fpr[\"micro\"], tpr[\"micro\"])\n",
        "\n",
        "\n",
        "    # First aggregate all false positive rates\n",
        "    all_fpr = np.unique(np.concatenate([fpr[i] for i in range(n_classes)]))\n",
        "\n",
        "    # Then interpolate all ROC curves at this points\n",
        "    mean_tpr = np.zeros_like(all_fpr)\n",
        "    for i in range(n_classes):\n",
        "        mean_tpr += np.interp(all_fpr, fpr[i], tpr[i])\n",
        "\n",
        "    # Finally average it and compute AUC\n",
        "    mean_tpr /= n_classes\n",
        "\n",
        "    fpr[\"macro\"] = all_fpr\n",
        "    tpr[\"macro\"] = mean_tpr\n",
        "    roc_auc[\"macro\"] = auc(fpr[\"macro\"], tpr[\"macro\"])\n",
        "\n",
        "    # Plot all ROC curves\n",
        "    # plt.figure()\n",
        "    # plt.plot(\n",
        "    #     fpr[\"micro\"],\n",
        "    #     tpr[\"micro\"],\n",
        "    #     label=\"micro-average ROC curve (area = {0:0.2f})\".format(roc_auc[\"micro\"]),\n",
        "    #     color=\"deeppink\",\n",
        "    #     linestyle=\":\",\n",
        "    #     linewidth=4,\n",
        "    # )\n",
        "\n",
        "    # plt.plot(\n",
        "    #     fpr[\"macro\"],\n",
        "    #     tpr[\"macro\"],\n",
        "    #     label=\"macro-average ROC curve (area = {0:0.2f})\".format(roc_auc[\"macro\"]),\n",
        "    #     color=\"navy\",\n",
        "    #     linestyle=\":\",\n",
        "    #     linewidth=4,\n",
        "    # )\n",
        "\n",
        "    # colors = cycle([\"aqua\", \"darkorange\", \"cornflowerblue\"])\n",
        "    # for i, color in zip(range(n_classes), colors):\n",
        "    #     plt.plot(\n",
        "    #         fpr[i],\n",
        "    #         tpr[i],\n",
        "    #         color=color,\n",
        "    #         lw=2,\n",
        "    #         label=\"ROC curve of class {0} (area = {1:0.2f})\".format(i, roc_auc[i]),\n",
        "    #     )\n",
        "\n",
        "    # plt.plot([0, 1], [0, 1], \"k--\", lw=2)\n",
        "    # plt.xlim([0.0, 1.0])\n",
        "    # plt.ylim([0.0, 1.05])\n",
        "    # plt.xlabel(\"False Positive Rate\")\n",
        "    # plt.ylabel(\"True Positive Rate\")\n",
        "    # plt.title(\"Some extension of Receiver operating characteristic to multiclass\")\n",
        "    # plt.legend(loc=\"lower right\")\n",
        "    # plt.show()"
      ]
    },
    {
      "cell_type": "code",
      "source": [
        "from sklearn.model_selection import GridSearchCV"
      ],
      "metadata": {
        "id": "2dYlEgyYTiF_"
      },
      "execution_count": 115,
      "outputs": []
    },
    {
      "cell_type": "code",
      "source": [
        "param_grid = {'C': [0.1,1, 10, 100], 'gamma': [1,0.1,0.01,0.001],'kernel': ['rbf', 'poly', 'sigmoid']}"
      ],
      "metadata": {
        "id": "oPh1Byz9TmLU"
      },
      "execution_count": 116,
      "outputs": []
    },
    {
      "cell_type": "code",
      "source": [
        "grid = GridSearchCV(SVC(),param_grid,refit=True,verbose=2)\n",
        "grid.fit(bow_training_features, train_data[\"score\"])"
      ],
      "metadata": {
        "colab": {
          "base_uri": "https://localhost:8080/"
        },
        "id": "F3Qv9lDMTxHL",
        "outputId": "22f3eed7-0440-4f52-8e5a-f5a5243953ec"
      },
      "execution_count": 117,
      "outputs": [
        {
          "output_type": "stream",
          "name": "stdout",
          "text": [
            "Fitting 5 folds for each of 48 candidates, totalling 240 fits\n",
            "[CV] END .........................C=0.1, gamma=1, kernel=rbf; total time=   1.7s\n",
            "[CV] END .........................C=0.1, gamma=1, kernel=rbf; total time=   2.0s\n",
            "[CV] END .........................C=0.1, gamma=1, kernel=rbf; total time=   1.8s\n",
            "[CV] END .........................C=0.1, gamma=1, kernel=rbf; total time=   2.2s\n",
            "[CV] END .........................C=0.1, gamma=1, kernel=rbf; total time=   1.7s\n",
            "[CV] END ........................C=0.1, gamma=1, kernel=poly; total time=   1.5s\n",
            "[CV] END ........................C=0.1, gamma=1, kernel=poly; total time=   1.6s\n",
            "[CV] END ........................C=0.1, gamma=1, kernel=poly; total time=   1.7s\n",
            "[CV] END ........................C=0.1, gamma=1, kernel=poly; total time=   1.8s\n",
            "[CV] END ........................C=0.1, gamma=1, kernel=poly; total time=   1.8s\n",
            "[CV] END .....................C=0.1, gamma=1, kernel=sigmoid; total time=   0.8s\n",
            "[CV] END .....................C=0.1, gamma=1, kernel=sigmoid; total time=   0.9s\n",
            "[CV] END .....................C=0.1, gamma=1, kernel=sigmoid; total time=   0.8s\n",
            "[CV] END .....................C=0.1, gamma=1, kernel=sigmoid; total time=   0.9s\n",
            "[CV] END .....................C=0.1, gamma=1, kernel=sigmoid; total time=   0.8s\n",
            "[CV] END .......................C=0.1, gamma=0.1, kernel=rbf; total time=   1.4s\n",
            "[CV] END .......................C=0.1, gamma=0.1, kernel=rbf; total time=   1.4s\n",
            "[CV] END .......................C=0.1, gamma=0.1, kernel=rbf; total time=   1.4s\n",
            "[CV] END .......................C=0.1, gamma=0.1, kernel=rbf; total time=   1.4s\n",
            "[CV] END .......................C=0.1, gamma=0.1, kernel=rbf; total time=   1.4s\n",
            "[CV] END ......................C=0.1, gamma=0.1, kernel=poly; total time=   1.6s\n",
            "[CV] END ......................C=0.1, gamma=0.1, kernel=poly; total time=   2.8s\n",
            "[CV] END ......................C=0.1, gamma=0.1, kernel=poly; total time=   3.5s\n",
            "[CV] END ......................C=0.1, gamma=0.1, kernel=poly; total time=   2.6s\n",
            "[CV] END ......................C=0.1, gamma=0.1, kernel=poly; total time=   2.1s\n",
            "[CV] END ...................C=0.1, gamma=0.1, kernel=sigmoid; total time=   1.4s\n",
            "[CV] END ...................C=0.1, gamma=0.1, kernel=sigmoid; total time=   1.3s\n",
            "[CV] END ...................C=0.1, gamma=0.1, kernel=sigmoid; total time=   1.4s\n",
            "[CV] END ...................C=0.1, gamma=0.1, kernel=sigmoid; total time=   1.1s\n",
            "[CV] END ...................C=0.1, gamma=0.1, kernel=sigmoid; total time=   0.9s\n",
            "[CV] END ......................C=0.1, gamma=0.01, kernel=rbf; total time=   1.1s\n",
            "[CV] END ......................C=0.1, gamma=0.01, kernel=rbf; total time=   1.1s\n",
            "[CV] END ......................C=0.1, gamma=0.01, kernel=rbf; total time=   1.1s\n",
            "[CV] END ......................C=0.1, gamma=0.01, kernel=rbf; total time=   1.1s\n",
            "[CV] END ......................C=0.1, gamma=0.01, kernel=rbf; total time=   1.1s\n",
            "[CV] END .....................C=0.1, gamma=0.01, kernel=poly; total time=   0.8s\n",
            "[CV] END .....................C=0.1, gamma=0.01, kernel=poly; total time=   0.8s\n",
            "[CV] END .....................C=0.1, gamma=0.01, kernel=poly; total time=   0.8s\n",
            "[CV] END .....................C=0.1, gamma=0.01, kernel=poly; total time=   1.2s\n",
            "[CV] END .....................C=0.1, gamma=0.01, kernel=poly; total time=   1.3s\n",
            "[CV] END ..................C=0.1, gamma=0.01, kernel=sigmoid; total time=   1.4s\n",
            "[CV] END ..................C=0.1, gamma=0.01, kernel=sigmoid; total time=   1.4s\n",
            "[CV] END ..................C=0.1, gamma=0.01, kernel=sigmoid; total time=   1.4s\n",
            "[CV] END ..................C=0.1, gamma=0.01, kernel=sigmoid; total time=   1.2s\n",
            "[CV] END ..................C=0.1, gamma=0.01, kernel=sigmoid; total time=   1.0s\n",
            "[CV] END .....................C=0.1, gamma=0.001, kernel=rbf; total time=   1.1s\n",
            "[CV] END .....................C=0.1, gamma=0.001, kernel=rbf; total time=   1.1s\n",
            "[CV] END .....................C=0.1, gamma=0.001, kernel=rbf; total time=   1.1s\n",
            "[CV] END .....................C=0.1, gamma=0.001, kernel=rbf; total time=   1.1s\n",
            "[CV] END .....................C=0.1, gamma=0.001, kernel=rbf; total time=   1.1s\n",
            "[CV] END ....................C=0.1, gamma=0.001, kernel=poly; total time=   0.8s\n",
            "[CV] END ....................C=0.1, gamma=0.001, kernel=poly; total time=   0.8s\n",
            "[CV] END ....................C=0.1, gamma=0.001, kernel=poly; total time=   0.8s\n",
            "[CV] END ....................C=0.1, gamma=0.001, kernel=poly; total time=   0.8s\n",
            "[CV] END ....................C=0.1, gamma=0.001, kernel=poly; total time=   0.8s\n",
            "[CV] END .................C=0.1, gamma=0.001, kernel=sigmoid; total time=   0.9s\n",
            "[CV] END .................C=0.1, gamma=0.001, kernel=sigmoid; total time=   0.9s\n",
            "[CV] END .................C=0.1, gamma=0.001, kernel=sigmoid; total time=   0.9s\n",
            "[CV] END .................C=0.1, gamma=0.001, kernel=sigmoid; total time=   0.9s\n",
            "[CV] END .................C=0.1, gamma=0.001, kernel=sigmoid; total time=   0.9s\n",
            "[CV] END ...........................C=1, gamma=1, kernel=rbf; total time=   1.7s\n",
            "[CV] END ...........................C=1, gamma=1, kernel=rbf; total time=   1.7s\n",
            "[CV] END ...........................C=1, gamma=1, kernel=rbf; total time=   1.8s\n",
            "[CV] END ...........................C=1, gamma=1, kernel=rbf; total time=   1.7s\n",
            "[CV] END ...........................C=1, gamma=1, kernel=rbf; total time=   1.7s\n",
            "[CV] END ..........................C=1, gamma=1, kernel=poly; total time=   1.8s\n",
            "[CV] END ..........................C=1, gamma=1, kernel=poly; total time=   1.5s\n",
            "[CV] END ..........................C=1, gamma=1, kernel=poly; total time=   1.9s\n",
            "[CV] END ..........................C=1, gamma=1, kernel=poly; total time=   1.9s\n",
            "[CV] END ..........................C=1, gamma=1, kernel=poly; total time=   1.8s\n",
            "[CV] END .......................C=1, gamma=1, kernel=sigmoid; total time=   0.7s\n",
            "[CV] END .......................C=1, gamma=1, kernel=sigmoid; total time=   0.7s\n",
            "[CV] END .......................C=1, gamma=1, kernel=sigmoid; total time=   0.7s\n",
            "[CV] END .......................C=1, gamma=1, kernel=sigmoid; total time=   0.8s\n",
            "[CV] END .......................C=1, gamma=1, kernel=sigmoid; total time=   0.7s\n",
            "[CV] END .........................C=1, gamma=0.1, kernel=rbf; total time=   1.5s\n",
            "[CV] END .........................C=1, gamma=0.1, kernel=rbf; total time=   1.5s\n",
            "[CV] END .........................C=1, gamma=0.1, kernel=rbf; total time=   1.5s\n",
            "[CV] END .........................C=1, gamma=0.1, kernel=rbf; total time=   1.6s\n",
            "[CV] END .........................C=1, gamma=0.1, kernel=rbf; total time=   1.5s\n",
            "[CV] END ........................C=1, gamma=0.1, kernel=poly; total time=   1.9s\n",
            "[CV] END ........................C=1, gamma=0.1, kernel=poly; total time=   1.9s\n",
            "[CV] END ........................C=1, gamma=0.1, kernel=poly; total time=   1.6s\n",
            "[CV] END ........................C=1, gamma=0.1, kernel=poly; total time=   1.5s\n",
            "[CV] END ........................C=1, gamma=0.1, kernel=poly; total time=   1.6s\n",
            "[CV] END .....................C=1, gamma=0.1, kernel=sigmoid; total time=   0.8s\n",
            "[CV] END .....................C=1, gamma=0.1, kernel=sigmoid; total time=   0.8s\n",
            "[CV] END .....................C=1, gamma=0.1, kernel=sigmoid; total time=   0.8s\n",
            "[CV] END .....................C=1, gamma=0.1, kernel=sigmoid; total time=   0.8s\n",
            "[CV] END .....................C=1, gamma=0.1, kernel=sigmoid; total time=   0.8s\n",
            "[CV] END ........................C=1, gamma=0.01, kernel=rbf; total time=   1.1s\n",
            "[CV] END ........................C=1, gamma=0.01, kernel=rbf; total time=   1.1s\n",
            "[CV] END ........................C=1, gamma=0.01, kernel=rbf; total time=   1.1s\n",
            "[CV] END ........................C=1, gamma=0.01, kernel=rbf; total time=   1.1s\n",
            "[CV] END ........................C=1, gamma=0.01, kernel=rbf; total time=   1.1s\n",
            "[CV] END .......................C=1, gamma=0.01, kernel=poly; total time=   1.2s\n",
            "[CV] END .......................C=1, gamma=0.01, kernel=poly; total time=   1.1s\n",
            "[CV] END .......................C=1, gamma=0.01, kernel=poly; total time=   1.1s\n",
            "[CV] END .......................C=1, gamma=0.01, kernel=poly; total time=   1.1s\n",
            "[CV] END .......................C=1, gamma=0.01, kernel=poly; total time=   1.2s\n",
            "[CV] END ....................C=1, gamma=0.01, kernel=sigmoid; total time=   1.0s\n",
            "[CV] END ....................C=1, gamma=0.01, kernel=sigmoid; total time=   1.0s\n",
            "[CV] END ....................C=1, gamma=0.01, kernel=sigmoid; total time=   1.0s\n",
            "[CV] END ....................C=1, gamma=0.01, kernel=sigmoid; total time=   1.0s\n",
            "[CV] END ....................C=1, gamma=0.01, kernel=sigmoid; total time=   1.0s\n",
            "[CV] END .......................C=1, gamma=0.001, kernel=rbf; total time=   1.9s\n",
            "[CV] END .......................C=1, gamma=0.001, kernel=rbf; total time=   1.1s\n",
            "[CV] END .......................C=1, gamma=0.001, kernel=rbf; total time=   1.1s\n",
            "[CV] END .......................C=1, gamma=0.001, kernel=rbf; total time=   1.1s\n",
            "[CV] END .......................C=1, gamma=0.001, kernel=rbf; total time=   1.1s\n",
            "[CV] END ......................C=1, gamma=0.001, kernel=poly; total time=   0.8s\n",
            "[CV] END ......................C=1, gamma=0.001, kernel=poly; total time=   0.8s\n",
            "[CV] END ......................C=1, gamma=0.001, kernel=poly; total time=   0.8s\n",
            "[CV] END ......................C=1, gamma=0.001, kernel=poly; total time=   0.8s\n",
            "[CV] END ......................C=1, gamma=0.001, kernel=poly; total time=   0.8s\n",
            "[CV] END ...................C=1, gamma=0.001, kernel=sigmoid; total time=   1.0s\n",
            "[CV] END ...................C=1, gamma=0.001, kernel=sigmoid; total time=   1.0s\n",
            "[CV] END ...................C=1, gamma=0.001, kernel=sigmoid; total time=   1.0s\n",
            "[CV] END ...................C=1, gamma=0.001, kernel=sigmoid; total time=   1.0s\n",
            "[CV] END ...................C=1, gamma=0.001, kernel=sigmoid; total time=   1.0s\n",
            "[CV] END ..........................C=10, gamma=1, kernel=rbf; total time=   1.8s\n",
            "[CV] END ..........................C=10, gamma=1, kernel=rbf; total time=   1.8s\n",
            "[CV] END ..........................C=10, gamma=1, kernel=rbf; total time=   1.8s\n",
            "[CV] END ..........................C=10, gamma=1, kernel=rbf; total time=   1.8s\n",
            "[CV] END ..........................C=10, gamma=1, kernel=rbf; total time=   1.8s\n",
            "[CV] END .........................C=10, gamma=1, kernel=poly; total time=   1.8s\n",
            "[CV] END .........................C=10, gamma=1, kernel=poly; total time=   1.7s\n",
            "[CV] END .........................C=10, gamma=1, kernel=poly; total time=   1.8s\n",
            "[CV] END .........................C=10, gamma=1, kernel=poly; total time=   1.8s\n",
            "[CV] END .........................C=10, gamma=1, kernel=poly; total time=   1.8s\n",
            "[CV] END ......................C=10, gamma=1, kernel=sigmoid; total time=   0.7s\n",
            "[CV] END ......................C=10, gamma=1, kernel=sigmoid; total time=   0.7s\n",
            "[CV] END ......................C=10, gamma=1, kernel=sigmoid; total time=   0.7s\n",
            "[CV] END ......................C=10, gamma=1, kernel=sigmoid; total time=   0.7s\n",
            "[CV] END ......................C=10, gamma=1, kernel=sigmoid; total time=   0.6s\n",
            "[CV] END ........................C=10, gamma=0.1, kernel=rbf; total time=   1.7s\n",
            "[CV] END ........................C=10, gamma=0.1, kernel=rbf; total time=   1.7s\n",
            "[CV] END ........................C=10, gamma=0.1, kernel=rbf; total time=   1.7s\n",
            "[CV] END ........................C=10, gamma=0.1, kernel=rbf; total time=   1.7s\n",
            "[CV] END ........................C=10, gamma=0.1, kernel=rbf; total time=   1.7s\n",
            "[CV] END .......................C=10, gamma=0.1, kernel=poly; total time=   1.5s\n",
            "[CV] END .......................C=10, gamma=0.1, kernel=poly; total time=   1.5s\n",
            "[CV] END .......................C=10, gamma=0.1, kernel=poly; total time=   1.7s\n",
            "[CV] END .......................C=10, gamma=0.1, kernel=poly; total time=   1.8s\n",
            "[CV] END .......................C=10, gamma=0.1, kernel=poly; total time=   1.7s\n",
            "[CV] END ....................C=10, gamma=0.1, kernel=sigmoid; total time=   0.7s\n",
            "[CV] END ....................C=10, gamma=0.1, kernel=sigmoid; total time=   0.7s\n",
            "[CV] END ....................C=10, gamma=0.1, kernel=sigmoid; total time=   0.6s\n",
            "[CV] END ....................C=10, gamma=0.1, kernel=sigmoid; total time=   0.7s\n",
            "[CV] END ....................C=10, gamma=0.1, kernel=sigmoid; total time=   0.7s\n",
            "[CV] END .......................C=10, gamma=0.01, kernel=rbf; total time=   1.0s\n",
            "[CV] END .......................C=10, gamma=0.01, kernel=rbf; total time=   1.0s\n",
            "[CV] END .......................C=10, gamma=0.01, kernel=rbf; total time=   1.0s\n",
            "[CV] END .......................C=10, gamma=0.01, kernel=rbf; total time=   1.1s\n",
            "[CV] END .......................C=10, gamma=0.01, kernel=rbf; total time=   1.0s\n",
            "[CV] END ......................C=10, gamma=0.01, kernel=poly; total time=   1.4s\n",
            "[CV] END ......................C=10, gamma=0.01, kernel=poly; total time=   1.4s\n",
            "[CV] END ......................C=10, gamma=0.01, kernel=poly; total time=   1.4s\n",
            "[CV] END ......................C=10, gamma=0.01, kernel=poly; total time=   1.4s\n",
            "[CV] END ......................C=10, gamma=0.01, kernel=poly; total time=   1.4s\n",
            "[CV] END ...................C=10, gamma=0.01, kernel=sigmoid; total time=   0.9s\n",
            "[CV] END ...................C=10, gamma=0.01, kernel=sigmoid; total time=   0.9s\n",
            "[CV] END ...................C=10, gamma=0.01, kernel=sigmoid; total time=   0.9s\n",
            "[CV] END ...................C=10, gamma=0.01, kernel=sigmoid; total time=   0.9s\n",
            "[CV] END ...................C=10, gamma=0.01, kernel=sigmoid; total time=   0.9s\n",
            "[CV] END ......................C=10, gamma=0.001, kernel=rbf; total time=   1.1s\n",
            "[CV] END ......................C=10, gamma=0.001, kernel=rbf; total time=   1.1s\n",
            "[CV] END ......................C=10, gamma=0.001, kernel=rbf; total time=   1.1s\n",
            "[CV] END ......................C=10, gamma=0.001, kernel=rbf; total time=   1.1s\n",
            "[CV] END ......................C=10, gamma=0.001, kernel=rbf; total time=   1.0s\n",
            "[CV] END .....................C=10, gamma=0.001, kernel=poly; total time=   0.8s\n",
            "[CV] END .....................C=10, gamma=0.001, kernel=poly; total time=   0.8s\n",
            "[CV] END .....................C=10, gamma=0.001, kernel=poly; total time=   0.8s\n",
            "[CV] END .....................C=10, gamma=0.001, kernel=poly; total time=   0.8s\n",
            "[CV] END .....................C=10, gamma=0.001, kernel=poly; total time=   0.8s\n",
            "[CV] END ..................C=10, gamma=0.001, kernel=sigmoid; total time=   1.0s\n",
            "[CV] END ..................C=10, gamma=0.001, kernel=sigmoid; total time=   1.0s\n",
            "[CV] END ..................C=10, gamma=0.001, kernel=sigmoid; total time=   1.0s\n",
            "[CV] END ..................C=10, gamma=0.001, kernel=sigmoid; total time=   1.0s\n",
            "[CV] END ..................C=10, gamma=0.001, kernel=sigmoid; total time=   1.0s\n",
            "[CV] END .........................C=100, gamma=1, kernel=rbf; total time=   1.8s\n",
            "[CV] END .........................C=100, gamma=1, kernel=rbf; total time=   1.8s\n",
            "[CV] END .........................C=100, gamma=1, kernel=rbf; total time=   1.8s\n",
            "[CV] END .........................C=100, gamma=1, kernel=rbf; total time=   1.8s\n",
            "[CV] END .........................C=100, gamma=1, kernel=rbf; total time=   1.8s\n",
            "[CV] END ........................C=100, gamma=1, kernel=poly; total time=   1.8s\n",
            "[CV] END ........................C=100, gamma=1, kernel=poly; total time=   1.8s\n",
            "[CV] END ........................C=100, gamma=1, kernel=poly; total time=   1.8s\n",
            "[CV] END ........................C=100, gamma=1, kernel=poly; total time=   1.8s\n",
            "[CV] END ........................C=100, gamma=1, kernel=poly; total time=   1.8s\n",
            "[CV] END .....................C=100, gamma=1, kernel=sigmoid; total time=   0.7s\n",
            "[CV] END .....................C=100, gamma=1, kernel=sigmoid; total time=   0.7s\n",
            "[CV] END .....................C=100, gamma=1, kernel=sigmoid; total time=   1.4s\n",
            "[CV] END .....................C=100, gamma=1, kernel=sigmoid; total time=   0.7s\n",
            "[CV] END .....................C=100, gamma=1, kernel=sigmoid; total time=   0.6s\n",
            "[CV] END .......................C=100, gamma=0.1, kernel=rbf; total time=   1.7s\n",
            "[CV] END .......................C=100, gamma=0.1, kernel=rbf; total time=   1.7s\n",
            "[CV] END .......................C=100, gamma=0.1, kernel=rbf; total time=   1.7s\n",
            "[CV] END .......................C=100, gamma=0.1, kernel=rbf; total time=   1.7s\n",
            "[CV] END .......................C=100, gamma=0.1, kernel=rbf; total time=   1.7s\n",
            "[CV] END ......................C=100, gamma=0.1, kernel=poly; total time=   1.6s\n",
            "[CV] END ......................C=100, gamma=0.1, kernel=poly; total time=   1.6s\n",
            "[CV] END ......................C=100, gamma=0.1, kernel=poly; total time=   1.8s\n",
            "[CV] END ......................C=100, gamma=0.1, kernel=poly; total time=   1.8s\n",
            "[CV] END ......................C=100, gamma=0.1, kernel=poly; total time=   1.7s\n",
            "[CV] END ...................C=100, gamma=0.1, kernel=sigmoid; total time=   0.6s\n",
            "[CV] END ...................C=100, gamma=0.1, kernel=sigmoid; total time=   0.6s\n",
            "[CV] END ...................C=100, gamma=0.1, kernel=sigmoid; total time=   0.6s\n",
            "[CV] END ...................C=100, gamma=0.1, kernel=sigmoid; total time=   0.6s\n",
            "[CV] END ...................C=100, gamma=0.1, kernel=sigmoid; total time=   0.8s\n",
            "[CV] END ......................C=100, gamma=0.01, kernel=rbf; total time=   1.1s\n",
            "[CV] END ......................C=100, gamma=0.01, kernel=rbf; total time=   1.1s\n",
            "[CV] END ......................C=100, gamma=0.01, kernel=rbf; total time=   1.1s\n",
            "[CV] END ......................C=100, gamma=0.01, kernel=rbf; total time=   1.1s\n",
            "[CV] END ......................C=100, gamma=0.01, kernel=rbf; total time=   1.1s\n",
            "[CV] END .....................C=100, gamma=0.01, kernel=poly; total time=   1.4s\n",
            "[CV] END .....................C=100, gamma=0.01, kernel=poly; total time=   1.4s\n",
            "[CV] END .....................C=100, gamma=0.01, kernel=poly; total time=   1.4s\n",
            "[CV] END .....................C=100, gamma=0.01, kernel=poly; total time=   1.4s\n",
            "[CV] END .....................C=100, gamma=0.01, kernel=poly; total time=   1.4s\n",
            "[CV] END ..................C=100, gamma=0.01, kernel=sigmoid; total time=   1.3s\n",
            "[CV] END ..................C=100, gamma=0.01, kernel=sigmoid; total time=   1.2s\n",
            "[CV] END ..................C=100, gamma=0.01, kernel=sigmoid; total time=   1.0s\n",
            "[CV] END ..................C=100, gamma=0.01, kernel=sigmoid; total time=   1.1s\n",
            "[CV] END ..................C=100, gamma=0.01, kernel=sigmoid; total time=   1.2s\n",
            "[CV] END .....................C=100, gamma=0.001, kernel=rbf; total time=   1.0s\n",
            "[CV] END .....................C=100, gamma=0.001, kernel=rbf; total time=   1.0s\n",
            "[CV] END .....................C=100, gamma=0.001, kernel=rbf; total time=   1.0s\n",
            "[CV] END .....................C=100, gamma=0.001, kernel=rbf; total time=   1.1s\n",
            "[CV] END .....................C=100, gamma=0.001, kernel=rbf; total time=   1.0s\n",
            "[CV] END ....................C=100, gamma=0.001, kernel=poly; total time=   0.9s\n",
            "[CV] END ....................C=100, gamma=0.001, kernel=poly; total time=   0.9s\n",
            "[CV] END ....................C=100, gamma=0.001, kernel=poly; total time=   0.8s\n",
            "[CV] END ....................C=100, gamma=0.001, kernel=poly; total time=   0.8s\n",
            "[CV] END ....................C=100, gamma=0.001, kernel=poly; total time=   0.9s\n",
            "[CV] END .................C=100, gamma=0.001, kernel=sigmoid; total time=   0.9s\n",
            "[CV] END .................C=100, gamma=0.001, kernel=sigmoid; total time=   0.9s\n",
            "[CV] END .................C=100, gamma=0.001, kernel=sigmoid; total time=   0.9s\n",
            "[CV] END .................C=100, gamma=0.001, kernel=sigmoid; total time=   0.9s\n",
            "[CV] END .................C=100, gamma=0.001, kernel=sigmoid; total time=   0.9s\n"
          ]
        },
        {
          "output_type": "execute_result",
          "data": {
            "text/plain": [
              "GridSearchCV(estimator=SVC(),\n",
              "             param_grid={'C': [0.1, 1, 10, 100], 'gamma': [1, 0.1, 0.01, 0.001],\n",
              "                         'kernel': ['rbf', 'poly', 'sigmoid']},\n",
              "             verbose=2)"
            ]
          },
          "metadata": {},
          "execution_count": 117
        }
      ]
    },
    {
      "cell_type": "code",
      "source": [
        "print(grid.best_estimator_)"
      ],
      "metadata": {
        "colab": {
          "base_uri": "https://localhost:8080/"
        },
        "id": "LS7f2-UuUZur",
        "outputId": "eb53dc14-33e9-4535-92f9-75830a9377af"
      },
      "execution_count": 118,
      "outputs": [
        {
          "output_type": "stream",
          "name": "stdout",
          "text": [
            "SVC(C=100, gamma=0.001)\n"
          ]
        }
      ]
    },
    {
      "cell_type": "code",
      "execution_count": 119,
      "metadata": {
        "colab": {
          "base_uri": "https://localhost:8080/",
          "height": 606
        },
        "id": "k_3Kvgb8JK4_",
        "outputId": "e4b1c7a0-8a2a-46e2-bf81-7faf223cde2a"
      },
      "outputs": [
        {
          "output_type": "stream",
          "name": "stdout",
          "text": [
            "Method: Bag of Words\n",
            "Classifier: Support Vector Machine\n",
            "Accuracy: 74.43\n",
            "\n",
            "              precision    recall  f1-score   support\n",
            "\n",
            "           0       0.68      0.46      0.55       110\n",
            "           1       0.75      0.93      0.83       571\n",
            "           2       0.74      0.49      0.59       289\n",
            "\n",
            "    accuracy                           0.74       970\n",
            "   macro avg       0.72      0.63      0.66       970\n",
            "weighted avg       0.74      0.74      0.73       970\n",
            "\n",
            "Area under the ROC curve : 0.998376\n",
            "Area under the ROC curve : 1.000000\n",
            "Area under the ROC curve : 1.000000\n"
          ]
        },
        {
          "output_type": "display_data",
          "data": {
            "text/plain": [
              "<Figure size 432x288 with 2 Axes>"
            ],
            "image/png": "[encoded data removed]"
          },
          "metadata": {
            "needs_background": "light"
          }
        }
      ],
      "source": [
        "\n",
        "method = \"Bag of Words\"\n",
        "classification = \"Support Vector Machine\"\n",
        "model = SVC(C=100, gamma=0.001)\n",
        "\n",
        "# Training BoW\n",
        "model.fit(bow_training_features, train_data[\"score\"])\n",
        "\n",
        "# Evaluation\n",
        "y_pred_bow_svm = model.predict(bow_test_features)\n",
        "y_prob_bow_svm = model.decision_function(bow_test_features)\n",
        "# Result\n",
        "\n",
        "printResult(method, classification, y_pred_bow_svm, y_prob_bow_svm)"
      ]
    },
    {
      "cell_type": "code",
      "source": [
        "grid = GridSearchCV(SVC(),param_grid,refit=True,verbose=2)\n",
        "grid.fit(tfidf_with_stop_training_features, train_data[\"score\"])"
      ],
      "metadata": {
        "colab": {
          "base_uri": "https://localhost:8080/"
        },
        "id": "jLtRZZdMXgdR",
        "outputId": "32d9e0e6-26f9-4127-d551-c4d5d23f2816"
      },
      "execution_count": null,
      "outputs": [
        {
          "output_type": "stream",
          "name": "stdout",
          "text": [
            "Fitting 5 folds for each of 48 candidates, totalling 240 fits\n",
            "[CV] END .........................C=0.1, gamma=1, kernel=rbf; total time=   3.8s\n",
            "[CV] END .........................C=0.1, gamma=1, kernel=rbf; total time=   5.0s\n",
            "[CV] END .........................C=0.1, gamma=1, kernel=rbf; total time=   5.2s\n",
            "[CV] END .........................C=0.1, gamma=1, kernel=rbf; total time=   3.8s\n",
            "[CV] END .........................C=0.1, gamma=1, kernel=rbf; total time=   3.7s\n",
            "[CV] END ........................C=0.1, gamma=1, kernel=poly; total time=   3.7s\n",
            "[CV] END ........................C=0.1, gamma=1, kernel=poly; total time=   3.7s\n",
            "[CV] END ........................C=0.1, gamma=1, kernel=poly; total time=   3.7s\n",
            "[CV] END ........................C=0.1, gamma=1, kernel=poly; total time=   3.7s\n",
            "[CV] END ........................C=0.1, gamma=1, kernel=poly; total time=   6.0s\n",
            "[CV] END .....................C=0.1, gamma=1, kernel=sigmoid; total time=   2.8s\n",
            "[CV] END .....................C=0.1, gamma=1, kernel=sigmoid; total time=   3.0s\n",
            "[CV] END .....................C=0.1, gamma=1, kernel=sigmoid; total time=   3.1s\n",
            "[CV] END .....................C=0.1, gamma=1, kernel=sigmoid; total time=   2.8s\n",
            "[CV] END .....................C=0.1, gamma=1, kernel=sigmoid; total time=   2.7s\n",
            "[CV] END .......................C=0.1, gamma=0.1, kernel=rbf; total time=   3.0s\n",
            "[CV] END .......................C=0.1, gamma=0.1, kernel=rbf; total time=   3.0s\n",
            "[CV] END .......................C=0.1, gamma=0.1, kernel=rbf; total time=   3.0s\n",
            "[CV] END .......................C=0.1, gamma=0.1, kernel=rbf; total time=   3.1s\n",
            "[CV] END .......................C=0.1, gamma=0.1, kernel=rbf; total time=   3.9s\n",
            "[CV] END ......................C=0.1, gamma=0.1, kernel=poly; total time=   2.2s\n",
            "[CV] END ......................C=0.1, gamma=0.1, kernel=poly; total time=   2.2s\n",
            "[CV] END ......................C=0.1, gamma=0.1, kernel=poly; total time=   2.2s\n",
            "[CV] END ......................C=0.1, gamma=0.1, kernel=poly; total time=   2.2s\n",
            "[CV] END ......................C=0.1, gamma=0.1, kernel=poly; total time=   2.2s\n",
            "[CV] END ...................C=0.1, gamma=0.1, kernel=sigmoid; total time=   2.8s\n",
            "[CV] END ...................C=0.1, gamma=0.1, kernel=sigmoid; total time=   2.8s\n",
            "[CV] END ...................C=0.1, gamma=0.1, kernel=sigmoid; total time=   2.8s\n",
            "[CV] END ...................C=0.1, gamma=0.1, kernel=sigmoid; total time=   2.9s\n",
            "[CV] END ...................C=0.1, gamma=0.1, kernel=sigmoid; total time=   2.8s\n",
            "[CV] END ......................C=0.1, gamma=0.01, kernel=rbf; total time=   2.7s\n",
            "[CV] END ......................C=0.1, gamma=0.01, kernel=rbf; total time=   2.7s\n",
            "[CV] END ......................C=0.1, gamma=0.01, kernel=rbf; total time=   2.6s\n",
            "[CV] END ......................C=0.1, gamma=0.01, kernel=rbf; total time=   2.7s\n",
            "[CV] END ......................C=0.1, gamma=0.01, kernel=rbf; total time=   2.7s\n",
            "[CV] END .....................C=0.1, gamma=0.01, kernel=poly; total time=   2.2s\n",
            "[CV] END .....................C=0.1, gamma=0.01, kernel=poly; total time=   2.2s\n",
            "[CV] END .....................C=0.1, gamma=0.01, kernel=poly; total time=   2.1s\n",
            "[CV] END .....................C=0.1, gamma=0.01, kernel=poly; total time=   2.2s\n",
            "[CV] END .....................C=0.1, gamma=0.01, kernel=poly; total time=   2.2s\n",
            "[CV] END ..................C=0.1, gamma=0.01, kernel=sigmoid; total time=   2.4s\n",
            "[CV] END ..................C=0.1, gamma=0.01, kernel=sigmoid; total time=   2.4s\n",
            "[CV] END ..................C=0.1, gamma=0.01, kernel=sigmoid; total time=   2.4s\n",
            "[CV] END ..................C=0.1, gamma=0.01, kernel=sigmoid; total time=   2.4s\n",
            "[CV] END ..................C=0.1, gamma=0.01, kernel=sigmoid; total time=   2.4s\n",
            "[CV] END .....................C=0.1, gamma=0.001, kernel=rbf; total time=   2.4s\n",
            "[CV] END .....................C=0.1, gamma=0.001, kernel=rbf; total time=   2.3s\n",
            "[CV] END .....................C=0.1, gamma=0.001, kernel=rbf; total time=   2.4s\n",
            "[CV] END .....................C=0.1, gamma=0.001, kernel=rbf; total time=   2.4s\n",
            "[CV] END .....................C=0.1, gamma=0.001, kernel=rbf; total time=   2.4s\n",
            "[CV] END ....................C=0.1, gamma=0.001, kernel=poly; total time=   2.2s\n",
            "[CV] END ....................C=0.1, gamma=0.001, kernel=poly; total time=   2.2s\n",
            "[CV] END ....................C=0.1, gamma=0.001, kernel=poly; total time=   2.2s\n",
            "[CV] END ....................C=0.1, gamma=0.001, kernel=poly; total time=   2.2s\n",
            "[CV] END ....................C=0.1, gamma=0.001, kernel=poly; total time=   2.3s\n",
            "[CV] END .................C=0.1, gamma=0.001, kernel=sigmoid; total time=   2.3s\n",
            "[CV] END .................C=0.1, gamma=0.001, kernel=sigmoid; total time=   2.3s\n",
            "[CV] END .................C=0.1, gamma=0.001, kernel=sigmoid; total time=   2.3s\n",
            "[CV] END .................C=0.1, gamma=0.001, kernel=sigmoid; total time=   2.3s\n",
            "[CV] END .................C=0.1, gamma=0.001, kernel=sigmoid; total time=   2.3s\n",
            "[CV] END ...........................C=1, gamma=1, kernel=rbf; total time=   4.0s\n",
            "[CV] END ...........................C=1, gamma=1, kernel=rbf; total time=   4.0s\n",
            "[CV] END ...........................C=1, gamma=1, kernel=rbf; total time=   4.8s\n",
            "[CV] END ...........................C=1, gamma=1, kernel=rbf; total time=   4.0s\n",
            "[CV] END ...........................C=1, gamma=1, kernel=rbf; total time=   4.0s\n",
            "[CV] END ..........................C=1, gamma=1, kernel=poly; total time=   3.8s\n",
            "[CV] END ..........................C=1, gamma=1, kernel=poly; total time=   3.9s\n",
            "[CV] END ..........................C=1, gamma=1, kernel=poly; total time=   3.9s\n",
            "[CV] END ..........................C=1, gamma=1, kernel=poly; total time=   3.9s\n",
            "[CV] END ..........................C=1, gamma=1, kernel=poly; total time=   3.9s\n",
            "[CV] END .......................C=1, gamma=1, kernel=sigmoid; total time=   2.8s\n",
            "[CV] END .......................C=1, gamma=1, kernel=sigmoid; total time=   2.7s\n",
            "[CV] END .......................C=1, gamma=1, kernel=sigmoid; total time=   2.7s\n",
            "[CV] END .......................C=1, gamma=1, kernel=sigmoid; total time=   2.7s\n",
            "[CV] END .......................C=1, gamma=1, kernel=sigmoid; total time=   2.6s\n",
            "[CV] END .........................C=1, gamma=0.1, kernel=rbf; total time=   3.1s\n",
            "[CV] END .........................C=1, gamma=0.1, kernel=rbf; total time=   3.1s\n",
            "[CV] END .........................C=1, gamma=0.1, kernel=rbf; total time=   3.1s\n",
            "[CV] END .........................C=1, gamma=0.1, kernel=rbf; total time=   3.1s\n",
            "[CV] END .........................C=1, gamma=0.1, kernel=rbf; total time=   3.0s\n",
            "[CV] END ........................C=1, gamma=0.1, kernel=poly; total time=   2.3s\n",
            "[CV] END ........................C=1, gamma=0.1, kernel=poly; total time=   2.3s\n",
            "[CV] END ........................C=1, gamma=0.1, kernel=poly; total time=   2.3s\n",
            "[CV] END ........................C=1, gamma=0.1, kernel=poly; total time=   2.3s\n",
            "[CV] END ........................C=1, gamma=0.1, kernel=poly; total time=   2.3s\n",
            "[CV] END .....................C=1, gamma=0.1, kernel=sigmoid; total time=   2.9s\n",
            "[CV] END .....................C=1, gamma=0.1, kernel=sigmoid; total time=   2.9s\n",
            "[CV] END .....................C=1, gamma=0.1, kernel=sigmoid; total time=   2.9s\n",
            "[CV] END .....................C=1, gamma=0.1, kernel=sigmoid; total time=   3.0s\n",
            "[CV] END .....................C=1, gamma=0.1, kernel=sigmoid; total time=   2.9s\n",
            "[CV] END ........................C=1, gamma=0.01, kernel=rbf; total time=   3.0s\n",
            "[CV] END ........................C=1, gamma=0.01, kernel=rbf; total time=   3.1s\n",
            "[CV] END ........................C=1, gamma=0.01, kernel=rbf; total time=   3.1s\n",
            "[CV] END ........................C=1, gamma=0.01, kernel=rbf; total time=   3.1s\n",
            "[CV] END ........................C=1, gamma=0.01, kernel=rbf; total time=   3.0s\n",
            "[CV] END .......................C=1, gamma=0.01, kernel=poly; total time=   2.1s\n",
            "[CV] END .......................C=1, gamma=0.01, kernel=poly; total time=   2.1s\n",
            "[CV] END .......................C=1, gamma=0.01, kernel=poly; total time=   3.0s\n",
            "[CV] END .......................C=1, gamma=0.01, kernel=poly; total time=   2.1s\n",
            "[CV] END .......................C=1, gamma=0.01, kernel=poly; total time=   2.1s\n",
            "[CV] END ....................C=1, gamma=0.01, kernel=sigmoid; total time=   2.7s\n",
            "[CV] END ....................C=1, gamma=0.01, kernel=sigmoid; total time=   2.7s\n",
            "[CV] END ....................C=1, gamma=0.01, kernel=sigmoid; total time=   2.7s\n",
            "[CV] END ....................C=1, gamma=0.01, kernel=sigmoid; total time=   2.7s\n",
            "[CV] END ....................C=1, gamma=0.01, kernel=sigmoid; total time=   2.7s\n",
            "[CV] END .......................C=1, gamma=0.001, kernel=rbf; total time=   2.5s\n",
            "[CV] END .......................C=1, gamma=0.001, kernel=rbf; total time=   2.6s\n",
            "[CV] END .......................C=1, gamma=0.001, kernel=rbf; total time=   2.6s\n",
            "[CV] END .......................C=1, gamma=0.001, kernel=rbf; total time=   2.6s\n",
            "[CV] END .......................C=1, gamma=0.001, kernel=rbf; total time=   2.6s\n",
            "[CV] END ......................C=1, gamma=0.001, kernel=poly; total time=   2.1s\n",
            "[CV] END ......................C=1, gamma=0.001, kernel=poly; total time=   2.1s\n",
            "[CV] END ......................C=1, gamma=0.001, kernel=poly; total time=   2.1s\n",
            "[CV] END ......................C=1, gamma=0.001, kernel=poly; total time=   2.1s\n",
            "[CV] END ......................C=1, gamma=0.001, kernel=poly; total time=   2.1s\n",
            "[CV] END ...................C=1, gamma=0.001, kernel=sigmoid; total time=   2.4s\n",
            "[CV] END ...................C=1, gamma=0.001, kernel=sigmoid; total time=   2.3s\n",
            "[CV] END ...................C=1, gamma=0.001, kernel=sigmoid; total time=   2.4s\n",
            "[CV] END ...................C=1, gamma=0.001, kernel=sigmoid; total time=   2.4s\n",
            "[CV] END ...................C=1, gamma=0.001, kernel=sigmoid; total time=   2.6s\n",
            "[CV] END ..........................C=10, gamma=1, kernel=rbf; total time=   4.7s\n",
            "[CV] END ..........................C=10, gamma=1, kernel=rbf; total time=   4.2s\n",
            "[CV] END ..........................C=10, gamma=1, kernel=rbf; total time=   4.1s\n",
            "[CV] END ..........................C=10, gamma=1, kernel=rbf; total time=   4.0s\n",
            "[CV] END ..........................C=10, gamma=1, kernel=rbf; total time=   4.0s\n",
            "[CV] END .........................C=10, gamma=1, kernel=poly; total time=   3.8s\n",
            "[CV] END .........................C=10, gamma=1, kernel=poly; total time=   3.8s\n",
            "[CV] END .........................C=10, gamma=1, kernel=poly; total time=   3.8s\n",
            "[CV] END .........................C=10, gamma=1, kernel=poly; total time=   3.9s\n",
            "[CV] END .........................C=10, gamma=1, kernel=poly; total time=   3.9s\n",
            "[CV] END ......................C=10, gamma=1, kernel=sigmoid; total time=   3.6s\n",
            "[CV] END ......................C=10, gamma=1, kernel=sigmoid; total time=   3.2s\n",
            "[CV] END ......................C=10, gamma=1, kernel=sigmoid; total time=   3.7s\n",
            "[CV] END ......................C=10, gamma=1, kernel=sigmoid; total time=   3.3s\n",
            "[CV] END ......................C=10, gamma=1, kernel=sigmoid; total time=   3.0s\n",
            "[CV] END ........................C=10, gamma=0.1, kernel=rbf; total time=   3.7s\n",
            "[CV] END ........................C=10, gamma=0.1, kernel=rbf; total time=   3.7s\n",
            "[CV] END ........................C=10, gamma=0.1, kernel=rbf; total time=   3.7s\n",
            "[CV] END ........................C=10, gamma=0.1, kernel=rbf; total time=   3.7s\n",
            "[CV] END ........................C=10, gamma=0.1, kernel=rbf; total time=   3.7s\n",
            "[CV] END .......................C=10, gamma=0.1, kernel=poly; total time=   3.3s\n",
            "[CV] END .......................C=10, gamma=0.1, kernel=poly; total time=   3.3s\n",
            "[CV] END .......................C=10, gamma=0.1, kernel=poly; total time=   3.3s\n",
            "[CV] END .......................C=10, gamma=0.1, kernel=poly; total time=   3.4s\n",
            "[CV] END .......................C=10, gamma=0.1, kernel=poly; total time=   3.4s\n",
            "[CV] END ....................C=10, gamma=0.1, kernel=sigmoid; total time=   2.8s\n",
            "[CV] END ....................C=10, gamma=0.1, kernel=sigmoid; total time=   2.8s\n",
            "[CV] END ....................C=10, gamma=0.1, kernel=sigmoid; total time=   2.8s\n",
            "[CV] END ....................C=10, gamma=0.1, kernel=sigmoid; total time=   2.8s\n",
            "[CV] END ....................C=10, gamma=0.1, kernel=sigmoid; total time=   2.8s\n",
            "[CV] END .......................C=10, gamma=0.01, kernel=rbf; total time=   2.9s\n",
            "[CV] END .......................C=10, gamma=0.01, kernel=rbf; total time=   2.8s\n",
            "[CV] END .......................C=10, gamma=0.01, kernel=rbf; total time=   2.8s\n",
            "[CV] END .......................C=10, gamma=0.01, kernel=rbf; total time=   2.9s\n",
            "[CV] END .......................C=10, gamma=0.01, kernel=rbf; total time=   2.8s\n",
            "[CV] END ......................C=10, gamma=0.01, kernel=poly; total time=   2.0s\n",
            "[CV] END ......................C=10, gamma=0.01, kernel=poly; total time=   2.0s\n",
            "[CV] END ......................C=10, gamma=0.01, kernel=poly; total time=   2.0s\n",
            "[CV] END ......................C=10, gamma=0.01, kernel=poly; total time=   2.1s\n",
            "[CV] END ......................C=10, gamma=0.01, kernel=poly; total time=   2.1s\n",
            "[CV] END ...................C=10, gamma=0.01, kernel=sigmoid; total time=   2.8s\n",
            "[CV] END ...................C=10, gamma=0.01, kernel=sigmoid; total time=   2.7s\n",
            "[CV] END ...................C=10, gamma=0.01, kernel=sigmoid; total time=   2.7s\n",
            "[CV] END ...................C=10, gamma=0.01, kernel=sigmoid; total time=   2.8s\n",
            "[CV] END ...................C=10, gamma=0.01, kernel=sigmoid; total time=   2.7s\n",
            "[CV] END ......................C=10, gamma=0.001, kernel=rbf; total time=   2.8s\n",
            "[CV] END ......................C=10, gamma=0.001, kernel=rbf; total time=   2.8s\n",
            "[CV] END ......................C=10, gamma=0.001, kernel=rbf; total time=   2.8s\n",
            "[CV] END ......................C=10, gamma=0.001, kernel=rbf; total time=   2.8s\n",
            "[CV] END ......................C=10, gamma=0.001, kernel=rbf; total time=   2.8s\n",
            "[CV] END .....................C=10, gamma=0.001, kernel=poly; total time=   2.1s\n",
            "[CV] END .....................C=10, gamma=0.001, kernel=poly; total time=   2.2s\n",
            "[CV] END .....................C=10, gamma=0.001, kernel=poly; total time=   2.2s\n",
            "[CV] END .....................C=10, gamma=0.001, kernel=poly; total time=   2.2s\n",
            "[CV] END .....................C=10, gamma=0.001, kernel=poly; total time=   2.2s\n",
            "[CV] END ..................C=10, gamma=0.001, kernel=sigmoid; total time=   2.8s\n",
            "[CV] END ..................C=10, gamma=0.001, kernel=sigmoid; total time=   2.8s\n",
            "[CV] END ..................C=10, gamma=0.001, kernel=sigmoid; total time=   2.8s\n",
            "[CV] END ..................C=10, gamma=0.001, kernel=sigmoid; total time=   2.9s\n",
            "[CV] END ..................C=10, gamma=0.001, kernel=sigmoid; total time=   2.8s\n",
            "[CV] END .........................C=100, gamma=1, kernel=rbf; total time=   4.1s\n",
            "[CV] END .........................C=100, gamma=1, kernel=rbf; total time=   4.1s\n",
            "[CV] END .........................C=100, gamma=1, kernel=rbf; total time=   4.1s\n",
            "[CV] END .........................C=100, gamma=1, kernel=rbf; total time=   4.1s\n",
            "[CV] END .........................C=100, gamma=1, kernel=rbf; total time=   4.1s\n",
            "[CV] END ........................C=100, gamma=1, kernel=poly; total time=   3.9s\n",
            "[CV] END ........................C=100, gamma=1, kernel=poly; total time=   3.9s\n",
            "[CV] END ........................C=100, gamma=1, kernel=poly; total time=   4.0s\n",
            "[CV] END ........................C=100, gamma=1, kernel=poly; total time=   4.0s\n",
            "[CV] END ........................C=100, gamma=1, kernel=poly; total time=   4.0s\n",
            "[CV] END .....................C=100, gamma=1, kernel=sigmoid; total time=   2.7s\n",
            "[CV] END .....................C=100, gamma=1, kernel=sigmoid; total time=   5.7s\n",
            "[CV] END .....................C=100, gamma=1, kernel=sigmoid; total time=   3.7s\n",
            "[CV] END .....................C=100, gamma=1, kernel=sigmoid; total time=   3.2s\n",
            "[CV] END .....................C=100, gamma=1, kernel=sigmoid; total time=   2.6s\n",
            "[CV] END .......................C=100, gamma=0.1, kernel=rbf; total time=   3.8s\n",
            "[CV] END .......................C=100, gamma=0.1, kernel=rbf; total time=   3.8s\n",
            "[CV] END .......................C=100, gamma=0.1, kernel=rbf; total time=   3.8s\n",
            "[CV] END .......................C=100, gamma=0.1, kernel=rbf; total time=   3.8s\n",
            "[CV] END .......................C=100, gamma=0.1, kernel=rbf; total time=   3.7s\n",
            "[CV] END ......................C=100, gamma=0.1, kernel=poly; total time=   3.6s\n",
            "[CV] END ......................C=100, gamma=0.1, kernel=poly; total time=   3.6s\n",
            "[CV] END ......................C=100, gamma=0.1, kernel=poly; total time=   3.6s\n",
            "[CV] END ......................C=100, gamma=0.1, kernel=poly; total time=   3.6s\n",
            "[CV] END ......................C=100, gamma=0.1, kernel=poly; total time=   3.6s\n",
            "[CV] END ...................C=100, gamma=0.1, kernel=sigmoid; total time=   3.5s\n",
            "[CV] END ...................C=100, gamma=0.1, kernel=sigmoid; total time=   3.6s\n",
            "[CV] END ...................C=100, gamma=0.1, kernel=sigmoid; total time=   3.5s\n",
            "[CV] END ...................C=100, gamma=0.1, kernel=sigmoid; total time=   3.6s\n",
            "[CV] END ...................C=100, gamma=0.1, kernel=sigmoid; total time=   4.2s\n",
            "[CV] END ......................C=100, gamma=0.01, kernel=rbf; total time=   3.8s\n",
            "[CV] END ......................C=100, gamma=0.01, kernel=rbf; total time=   3.6s\n",
            "[CV] END ......................C=100, gamma=0.01, kernel=rbf; total time=   3.6s\n",
            "[CV] END ......................C=100, gamma=0.01, kernel=rbf; total time=   3.5s\n",
            "[CV] END ......................C=100, gamma=0.01, kernel=rbf; total time=   3.4s\n",
            "[CV] END .....................C=100, gamma=0.01, kernel=poly; total time=   2.0s\n",
            "[CV] END .....................C=100, gamma=0.01, kernel=poly; total time=   2.0s\n",
            "[CV] END .....................C=100, gamma=0.01, kernel=poly; total time=   2.0s\n",
            "[CV] END .....................C=100, gamma=0.01, kernel=poly; total time=   2.0s\n",
            "[CV] END .....................C=100, gamma=0.01, kernel=poly; total time=   2.0s\n",
            "[CV] END ..................C=100, gamma=0.01, kernel=sigmoid; total time=   2.7s\n",
            "[CV] END ..................C=100, gamma=0.01, kernel=sigmoid; total time=   2.7s\n",
            "[CV] END ..................C=100, gamma=0.01, kernel=sigmoid; total time=   2.7s\n",
            "[CV] END ..................C=100, gamma=0.01, kernel=sigmoid; total time=   2.8s\n",
            "[CV] END ..................C=100, gamma=0.01, kernel=sigmoid; total time=   2.7s\n",
            "[CV] END .....................C=100, gamma=0.001, kernel=rbf; total time=   2.8s\n",
            "[CV] END .....................C=100, gamma=0.001, kernel=rbf; total time=   2.8s\n",
            "[CV] END .....................C=100, gamma=0.001, kernel=rbf; total time=   2.9s\n",
            "[CV] END .....................C=100, gamma=0.001, kernel=rbf; total time=   3.0s\n",
            "[CV] END .....................C=100, gamma=0.001, kernel=rbf; total time=   2.7s\n",
            "[CV] END ....................C=100, gamma=0.001, kernel=poly; total time=   2.0s\n",
            "[CV] END ....................C=100, gamma=0.001, kernel=poly; total time=   2.0s\n",
            "[CV] END ....................C=100, gamma=0.001, kernel=poly; total time=   2.0s\n",
            "[CV] END ....................C=100, gamma=0.001, kernel=poly; total time=   2.0s\n",
            "[CV] END ....................C=100, gamma=0.001, kernel=poly; total time=   2.0s\n",
            "[CV] END .................C=100, gamma=0.001, kernel=sigmoid; total time=   2.6s\n",
            "[CV] END .................C=100, gamma=0.001, kernel=sigmoid; total time=   2.6s\n",
            "[CV] END .................C=100, gamma=0.001, kernel=sigmoid; total time=   2.6s\n",
            "[CV] END .................C=100, gamma=0.001, kernel=sigmoid; total time=   2.7s\n",
            "[CV] END .................C=100, gamma=0.001, kernel=sigmoid; total time=   2.6s\n"
          ]
        },
        {
          "output_type": "execute_result",
          "data": {
            "text/plain": [
              "GridSearchCV(estimator=SVC(),\n",
              "             param_grid={'C': [0.1, 1, 10, 100], 'gamma': [1, 0.1, 0.01, 0.001],\n",
              "                         'kernel': ['rbf', 'poly', 'sigmoid']},\n",
              "             verbose=2)"
            ]
          },
          "metadata": {},
          "execution_count": 47
        }
      ]
    },
    {
      "cell_type": "code",
      "source": [
        "print(grid.best_estimator_)"
      ],
      "metadata": {
        "colab": {
          "base_uri": "https://localhost:8080/"
        },
        "id": "qrSgJ17AV1Mv",
        "outputId": "e85f7158-f611-4eaf-b7ba-503f5bfc4f4f"
      },
      "execution_count": null,
      "outputs": [
        {
          "output_type": "stream",
          "name": "stdout",
          "text": [
            "SVC(C=10, gamma=0.1)\n"
          ]
        }
      ]
    },
    {
      "cell_type": "code",
      "source": [
        "method = \"TF-IDF with stop words\"\n",
        "classification = \"Support Vector Machine\"\n",
        "\n",
        "model = SVC(C=10, gamma=0.1)\n",
        "\n",
        "# Training \n",
        "model.fit(tfidf_with_stop_training_features, train_data[\"score\"])\n",
        "\n",
        "# Evaluation\n",
        "y_pred_tfidf_with_stop_svm = model.predict(tfidf_with_stop_test_features)\n",
        "y_prob_tfidf_with_stop_svm = model.decision_function(tfidf_with_stop_test_features)\n",
        "\n",
        "# Result\n",
        "printResult(method, classification, y_pred_tfidf_with_stop_svm, y_prob_tfidf_with_stop_svm)"
      ],
      "metadata": {
        "id": "gpOgJuOZD-3L",
        "colab": {
          "base_uri": "https://localhost:8080/",
          "height": 606
        },
        "outputId": "de2f686d-51bc-49c8-eede-f39302304e93"
      },
      "execution_count": 123,
      "outputs": [
        {
          "output_type": "stream",
          "name": "stdout",
          "text": [
            "Method: TF-IDF with stop words\n",
            "Classifier: Support Vector Machine\n",
            "Accuracy: 78.56\n",
            "\n",
            "              precision    recall  f1-score   support\n",
            "\n",
            "           0       0.78      0.60      0.68       110\n",
            "           1       0.80      0.89      0.84       571\n",
            "           2       0.75      0.65      0.69       289\n",
            "\n",
            "    accuracy                           0.79       970\n",
            "   macro avg       0.77      0.71      0.74       970\n",
            "weighted avg       0.78      0.79      0.78       970\n",
            "\n",
            "Area under the ROC curve : 0.998312\n",
            "Area under the ROC curve : 1.000000\n",
            "Area under the ROC curve : 1.000000\n"
          ]
        },
        {
          "output_type": "display_data",
          "data": {
            "text/plain": [
              "<Figure size 432x288 with 2 Axes>"
            ],
            "image/png": "[encoded data removed]"
          },
          "metadata": {
            "needs_background": "light"
          }
        }
      ]
    },
    {
      "cell_type": "code",
      "source": [
        "grid = GridSearchCV(SVC(),param_grid,refit=True,verbose=2)\n",
        "grid.fit(tfidf_no_stop_training_features, train_data[\"score\"])"
      ],
      "metadata": {
        "colab": {
          "base_uri": "https://localhost:8080/"
        },
        "id": "Ka8H1GDZXyEm",
        "outputId": "e3f305f1-d813-4f87-ad63-baa51ed5ebd8"
      },
      "execution_count": null,
      "outputs": [
        {
          "output_type": "stream",
          "name": "stdout",
          "text": [
            "Fitting 5 folds for each of 48 candidates, totalling 240 fits\n",
            "[CV] END .........................C=0.1, gamma=1, kernel=rbf; total time=   2.1s\n",
            "[CV] END .........................C=0.1, gamma=1, kernel=rbf; total time=   2.1s\n",
            "[CV] END .........................C=0.1, gamma=1, kernel=rbf; total time=   2.1s\n",
            "[CV] END .........................C=0.1, gamma=1, kernel=rbf; total time=   2.1s\n",
            "[CV] END .........................C=0.1, gamma=1, kernel=rbf; total time=   2.1s\n",
            "[CV] END ........................C=0.1, gamma=1, kernel=poly; total time=   1.9s\n",
            "[CV] END ........................C=0.1, gamma=1, kernel=poly; total time=   1.9s\n",
            "[CV] END ........................C=0.1, gamma=1, kernel=poly; total time=   1.9s\n",
            "[CV] END ........................C=0.1, gamma=1, kernel=poly; total time=   1.9s\n",
            "[CV] END ........................C=0.1, gamma=1, kernel=poly; total time=   1.9s\n",
            "[CV] END .....................C=0.1, gamma=1, kernel=sigmoid; total time=   1.5s\n",
            "[CV] END .....................C=0.1, gamma=1, kernel=sigmoid; total time=   1.5s\n",
            "[CV] END .....................C=0.1, gamma=1, kernel=sigmoid; total time=   1.5s\n",
            "[CV] END .....................C=0.1, gamma=1, kernel=sigmoid; total time=   1.6s\n",
            "[CV] END .....................C=0.1, gamma=1, kernel=sigmoid; total time=   3.1s\n",
            "[CV] END .......................C=0.1, gamma=0.1, kernel=rbf; total time=   3.3s\n",
            "[CV] END .......................C=0.1, gamma=0.1, kernel=rbf; total time=   1.7s\n",
            "[CV] END .......................C=0.1, gamma=0.1, kernel=rbf; total time=   1.7s\n",
            "[CV] END .......................C=0.1, gamma=0.1, kernel=rbf; total time=   1.8s\n",
            "[CV] END .......................C=0.1, gamma=0.1, kernel=rbf; total time=   1.7s\n",
            "[CV] END ......................C=0.1, gamma=0.1, kernel=poly; total time=   1.1s\n",
            "[CV] END ......................C=0.1, gamma=0.1, kernel=poly; total time=   1.1s\n",
            "[CV] END ......................C=0.1, gamma=0.1, kernel=poly; total time=   1.1s\n",
            "[CV] END ......................C=0.1, gamma=0.1, kernel=poly; total time=   1.1s\n",
            "[CV] END ......................C=0.1, gamma=0.1, kernel=poly; total time=   1.1s\n",
            "[CV] END ...................C=0.1, gamma=0.1, kernel=sigmoid; total time=   1.5s\n",
            "[CV] END ...................C=0.1, gamma=0.1, kernel=sigmoid; total time=   1.5s\n",
            "[CV] END ...................C=0.1, gamma=0.1, kernel=sigmoid; total time=   1.5s\n",
            "[CV] END ...................C=0.1, gamma=0.1, kernel=sigmoid; total time=   1.5s\n",
            "[CV] END ...................C=0.1, gamma=0.1, kernel=sigmoid; total time=   1.5s\n",
            "[CV] END ......................C=0.1, gamma=0.01, kernel=rbf; total time=   1.4s\n",
            "[CV] END ......................C=0.1, gamma=0.01, kernel=rbf; total time=   1.4s\n",
            "[CV] END ......................C=0.1, gamma=0.01, kernel=rbf; total time=   1.5s\n",
            "[CV] END ......................C=0.1, gamma=0.01, kernel=rbf; total time=   1.5s\n",
            "[CV] END ......................C=0.1, gamma=0.01, kernel=rbf; total time=   1.4s\n",
            "[CV] END .....................C=0.1, gamma=0.01, kernel=poly; total time=   1.1s\n",
            "[CV] END .....................C=0.1, gamma=0.01, kernel=poly; total time=   1.1s\n",
            "[CV] END .....................C=0.1, gamma=0.01, kernel=poly; total time=   1.1s\n",
            "[CV] END .....................C=0.1, gamma=0.01, kernel=poly; total time=   1.1s\n",
            "[CV] END .....................C=0.1, gamma=0.01, kernel=poly; total time=   1.1s\n",
            "[CV] END ..................C=0.1, gamma=0.01, kernel=sigmoid; total time=   1.2s\n",
            "[CV] END ..................C=0.1, gamma=0.01, kernel=sigmoid; total time=   1.2s\n",
            "[CV] END ..................C=0.1, gamma=0.01, kernel=sigmoid; total time=   1.2s\n",
            "[CV] END ..................C=0.1, gamma=0.01, kernel=sigmoid; total time=   1.2s\n",
            "[CV] END ..................C=0.1, gamma=0.01, kernel=sigmoid; total time=   1.2s\n",
            "[CV] END .....................C=0.1, gamma=0.001, kernel=rbf; total time=   1.2s\n",
            "[CV] END .....................C=0.1, gamma=0.001, kernel=rbf; total time=   1.2s\n",
            "[CV] END .....................C=0.1, gamma=0.001, kernel=rbf; total time=   1.3s\n",
            "[CV] END .....................C=0.1, gamma=0.001, kernel=rbf; total time=   1.3s\n",
            "[CV] END .....................C=0.1, gamma=0.001, kernel=rbf; total time=   1.2s\n",
            "[CV] END ....................C=0.1, gamma=0.001, kernel=poly; total time=   1.1s\n",
            "[CV] END ....................C=0.1, gamma=0.001, kernel=poly; total time=   1.1s\n",
            "[CV] END ....................C=0.1, gamma=0.001, kernel=poly; total time=   1.1s\n",
            "[CV] END ....................C=0.1, gamma=0.001, kernel=poly; total time=   1.1s\n",
            "[CV] END ....................C=0.1, gamma=0.001, kernel=poly; total time=   1.1s\n",
            "[CV] END .................C=0.1, gamma=0.001, kernel=sigmoid; total time=   1.1s\n",
            "[CV] END .................C=0.1, gamma=0.001, kernel=sigmoid; total time=   1.1s\n",
            "[CV] END .................C=0.1, gamma=0.001, kernel=sigmoid; total time=   1.2s\n",
            "[CV] END .................C=0.1, gamma=0.001, kernel=sigmoid; total time=   1.1s\n",
            "[CV] END .................C=0.1, gamma=0.001, kernel=sigmoid; total time=   1.2s\n",
            "[CV] END ...........................C=1, gamma=1, kernel=rbf; total time=   2.2s\n",
            "[CV] END ...........................C=1, gamma=1, kernel=rbf; total time=   2.1s\n",
            "[CV] END ...........................C=1, gamma=1, kernel=rbf; total time=   2.1s\n",
            "[CV] END ...........................C=1, gamma=1, kernel=rbf; total time=   2.2s\n",
            "[CV] END ...........................C=1, gamma=1, kernel=rbf; total time=   2.1s\n",
            "[CV] END ..........................C=1, gamma=1, kernel=poly; total time=   2.0s\n",
            "[CV] END ..........................C=1, gamma=1, kernel=poly; total time=   2.0s\n",
            "[CV] END ..........................C=1, gamma=1, kernel=poly; total time=   2.0s\n",
            "[CV] END ..........................C=1, gamma=1, kernel=poly; total time=   2.0s\n",
            "[CV] END ..........................C=1, gamma=1, kernel=poly; total time=   2.0s\n",
            "[CV] END .......................C=1, gamma=1, kernel=sigmoid; total time=   1.4s\n",
            "[CV] END .......................C=1, gamma=1, kernel=sigmoid; total time=   1.4s\n",
            "[CV] END .......................C=1, gamma=1, kernel=sigmoid; total time=   1.5s\n",
            "[CV] END .......................C=1, gamma=1, kernel=sigmoid; total time=   1.5s\n",
            "[CV] END .......................C=1, gamma=1, kernel=sigmoid; total time=   1.4s\n",
            "[CV] END .........................C=1, gamma=0.1, kernel=rbf; total time=   1.8s\n",
            "[CV] END .........................C=1, gamma=0.1, kernel=rbf; total time=   1.7s\n",
            "[CV] END .........................C=1, gamma=0.1, kernel=rbf; total time=   1.7s\n",
            "[CV] END .........................C=1, gamma=0.1, kernel=rbf; total time=   1.8s\n",
            "[CV] END .........................C=1, gamma=0.1, kernel=rbf; total time=   1.7s\n",
            "[CV] END ........................C=1, gamma=0.1, kernel=poly; total time=   1.2s\n",
            "[CV] END ........................C=1, gamma=0.1, kernel=poly; total time=   1.2s\n",
            "[CV] END ........................C=1, gamma=0.1, kernel=poly; total time=   1.2s\n",
            "[CV] END ........................C=1, gamma=0.1, kernel=poly; total time=   1.2s\n",
            "[CV] END ........................C=1, gamma=0.1, kernel=poly; total time=   1.2s\n",
            "[CV] END .....................C=1, gamma=0.1, kernel=sigmoid; total time=   1.6s\n",
            "[CV] END .....................C=1, gamma=0.1, kernel=sigmoid; total time=   1.6s\n",
            "[CV] END .....................C=1, gamma=0.1, kernel=sigmoid; total time=   1.5s\n",
            "[CV] END .....................C=1, gamma=0.1, kernel=sigmoid; total time=   1.6s\n",
            "[CV] END .....................C=1, gamma=0.1, kernel=sigmoid; total time=   1.5s\n",
            "[CV] END ........................C=1, gamma=0.01, kernel=rbf; total time=   1.7s\n",
            "[CV] END ........................C=1, gamma=0.01, kernel=rbf; total time=   1.7s\n",
            "[CV] END ........................C=1, gamma=0.01, kernel=rbf; total time=   1.7s\n",
            "[CV] END ........................C=1, gamma=0.01, kernel=rbf; total time=   1.7s\n",
            "[CV] END ........................C=1, gamma=0.01, kernel=rbf; total time=   1.7s\n",
            "[CV] END .......................C=1, gamma=0.01, kernel=poly; total time=   1.1s\n",
            "[CV] END .......................C=1, gamma=0.01, kernel=poly; total time=   1.1s\n",
            "[CV] END .......................C=1, gamma=0.01, kernel=poly; total time=   1.1s\n",
            "[CV] END .......................C=1, gamma=0.01, kernel=poly; total time=   1.1s\n",
            "[CV] END .......................C=1, gamma=0.01, kernel=poly; total time=   1.1s\n",
            "[CV] END ....................C=1, gamma=0.01, kernel=sigmoid; total time=   1.5s\n",
            "[CV] END ....................C=1, gamma=0.01, kernel=sigmoid; total time=   1.5s\n",
            "[CV] END ....................C=1, gamma=0.01, kernel=sigmoid; total time=   1.5s\n",
            "[CV] END ....................C=1, gamma=0.01, kernel=sigmoid; total time=   1.5s\n",
            "[CV] END ....................C=1, gamma=0.01, kernel=sigmoid; total time=   1.5s\n",
            "[CV] END .......................C=1, gamma=0.001, kernel=rbf; total time=   1.5s\n",
            "[CV] END .......................C=1, gamma=0.001, kernel=rbf; total time=   1.5s\n",
            "[CV] END .......................C=1, gamma=0.001, kernel=rbf; total time=   1.5s\n",
            "[CV] END .......................C=1, gamma=0.001, kernel=rbf; total time=   1.5s\n",
            "[CV] END .......................C=1, gamma=0.001, kernel=rbf; total time=   1.5s\n",
            "[CV] END ......................C=1, gamma=0.001, kernel=poly; total time=   1.1s\n",
            "[CV] END ......................C=1, gamma=0.001, kernel=poly; total time=   1.1s\n",
            "[CV] END ......................C=1, gamma=0.001, kernel=poly; total time=   1.1s\n",
            "[CV] END ......................C=1, gamma=0.001, kernel=poly; total time=   1.1s\n",
            "[CV] END ......................C=1, gamma=0.001, kernel=poly; total time=   1.1s\n",
            "[CV] END ...................C=1, gamma=0.001, kernel=sigmoid; total time=   1.2s\n",
            "[CV] END ...................C=1, gamma=0.001, kernel=sigmoid; total time=   1.2s\n",
            "[CV] END ...................C=1, gamma=0.001, kernel=sigmoid; total time=   1.2s\n",
            "[CV] END ...................C=1, gamma=0.001, kernel=sigmoid; total time=   1.2s\n",
            "[CV] END ...................C=1, gamma=0.001, kernel=sigmoid; total time=   1.2s\n",
            "[CV] END ..........................C=10, gamma=1, kernel=rbf; total time=   2.2s\n",
            "[CV] END ..........................C=10, gamma=1, kernel=rbf; total time=   2.2s\n",
            "[CV] END ..........................C=10, gamma=1, kernel=rbf; total time=   2.3s\n",
            "[CV] END ..........................C=10, gamma=1, kernel=rbf; total time=   2.3s\n",
            "[CV] END ..........................C=10, gamma=1, kernel=rbf; total time=   2.3s\n",
            "[CV] END .........................C=10, gamma=1, kernel=poly; total time=   2.1s\n",
            "[CV] END .........................C=10, gamma=1, kernel=poly; total time=   2.1s\n",
            "[CV] END .........................C=10, gamma=1, kernel=poly; total time=   2.1s\n",
            "[CV] END .........................C=10, gamma=1, kernel=poly; total time=   2.1s\n",
            "[CV] END .........................C=10, gamma=1, kernel=poly; total time=   2.1s\n",
            "[CV] END ......................C=10, gamma=1, kernel=sigmoid; total time=   1.6s\n",
            "[CV] END ......................C=10, gamma=1, kernel=sigmoid; total time=   2.0s\n",
            "[CV] END ......................C=10, gamma=1, kernel=sigmoid; total time=   2.0s\n",
            "[CV] END ......................C=10, gamma=1, kernel=sigmoid; total time=   1.6s\n",
            "[CV] END ......................C=10, gamma=1, kernel=sigmoid; total time=   2.0s\n",
            "[CV] END ........................C=10, gamma=0.1, kernel=rbf; total time=   2.1s\n",
            "[CV] END ........................C=10, gamma=0.1, kernel=rbf; total time=   2.1s\n",
            "[CV] END ........................C=10, gamma=0.1, kernel=rbf; total time=   2.1s\n",
            "[CV] END ........................C=10, gamma=0.1, kernel=rbf; total time=   2.1s\n",
            "[CV] END ........................C=10, gamma=0.1, kernel=rbf; total time=   2.1s\n",
            "[CV] END .......................C=10, gamma=0.1, kernel=poly; total time=   1.8s\n",
            "[CV] END .......................C=10, gamma=0.1, kernel=poly; total time=   1.8s\n",
            "[CV] END .......................C=10, gamma=0.1, kernel=poly; total time=   1.9s\n",
            "[CV] END .......................C=10, gamma=0.1, kernel=poly; total time=   1.8s\n",
            "[CV] END .......................C=10, gamma=0.1, kernel=poly; total time=   1.8s\n",
            "[CV] END ....................C=10, gamma=0.1, kernel=sigmoid; total time=   1.7s\n",
            "[CV] END ....................C=10, gamma=0.1, kernel=sigmoid; total time=   1.7s\n",
            "[CV] END ....................C=10, gamma=0.1, kernel=sigmoid; total time=   1.7s\n",
            "[CV] END ....................C=10, gamma=0.1, kernel=sigmoid; total time=   1.7s\n",
            "[CV] END ....................C=10, gamma=0.1, kernel=sigmoid; total time=   1.7s\n",
            "[CV] END .......................C=10, gamma=0.01, kernel=rbf; total time=   1.7s\n",
            "[CV] END .......................C=10, gamma=0.01, kernel=rbf; total time=   1.7s\n",
            "[CV] END .......................C=10, gamma=0.01, kernel=rbf; total time=   1.7s\n",
            "[CV] END .......................C=10, gamma=0.01, kernel=rbf; total time=   1.7s\n",
            "[CV] END .......................C=10, gamma=0.01, kernel=rbf; total time=   1.7s\n",
            "[CV] END ......................C=10, gamma=0.01, kernel=poly; total time=   1.1s\n",
            "[CV] END ......................C=10, gamma=0.01, kernel=poly; total time=   1.1s\n",
            "[CV] END ......................C=10, gamma=0.01, kernel=poly; total time=   1.1s\n",
            "[CV] END ......................C=10, gamma=0.01, kernel=poly; total time=   1.1s\n",
            "[CV] END ......................C=10, gamma=0.01, kernel=poly; total time=   1.1s\n",
            "[CV] END ...................C=10, gamma=0.01, kernel=sigmoid; total time=   1.6s\n",
            "[CV] END ...................C=10, gamma=0.01, kernel=sigmoid; total time=   1.6s\n",
            "[CV] END ...................C=10, gamma=0.01, kernel=sigmoid; total time=   1.6s\n",
            "[CV] END ...................C=10, gamma=0.01, kernel=sigmoid; total time=   1.6s\n",
            "[CV] END ...................C=10, gamma=0.01, kernel=sigmoid; total time=   1.6s\n",
            "[CV] END ......................C=10, gamma=0.001, kernel=rbf; total time=   1.7s\n",
            "[CV] END ......................C=10, gamma=0.001, kernel=rbf; total time=   1.7s\n",
            "[CV] END ......................C=10, gamma=0.001, kernel=rbf; total time=   1.7s\n",
            "[CV] END ......................C=10, gamma=0.001, kernel=rbf; total time=   1.7s\n",
            "[CV] END ......................C=10, gamma=0.001, kernel=rbf; total time=   1.7s\n",
            "[CV] END .....................C=10, gamma=0.001, kernel=poly; total time=   1.1s\n",
            "[CV] END .....................C=10, gamma=0.001, kernel=poly; total time=   1.1s\n",
            "[CV] END .....................C=10, gamma=0.001, kernel=poly; total time=   1.1s\n",
            "[CV] END .....................C=10, gamma=0.001, kernel=poly; total time=   1.1s\n",
            "[CV] END .....................C=10, gamma=0.001, kernel=poly; total time=   1.1s\n",
            "[CV] END ..................C=10, gamma=0.001, kernel=sigmoid; total time=   1.5s\n",
            "[CV] END ..................C=10, gamma=0.001, kernel=sigmoid; total time=   1.5s\n",
            "[CV] END ..................C=10, gamma=0.001, kernel=sigmoid; total time=   1.5s\n",
            "[CV] END ..................C=10, gamma=0.001, kernel=sigmoid; total time=   1.5s\n",
            "[CV] END ..................C=10, gamma=0.001, kernel=sigmoid; total time=   1.5s\n",
            "[CV] END .........................C=100, gamma=1, kernel=rbf; total time=   2.2s\n",
            "[CV] END .........................C=100, gamma=1, kernel=rbf; total time=   2.2s\n",
            "[CV] END .........................C=100, gamma=1, kernel=rbf; total time=   2.3s\n",
            "[CV] END .........................C=100, gamma=1, kernel=rbf; total time=   2.3s\n",
            "[CV] END .........................C=100, gamma=1, kernel=rbf; total time=   2.2s\n",
            "[CV] END ........................C=100, gamma=1, kernel=poly; total time=   2.1s\n",
            "[CV] END ........................C=100, gamma=1, kernel=poly; total time=   2.1s\n",
            "[CV] END ........................C=100, gamma=1, kernel=poly; total time=   2.1s\n",
            "[CV] END ........................C=100, gamma=1, kernel=poly; total time=   2.1s\n",
            "[CV] END ........................C=100, gamma=1, kernel=poly; total time=   2.2s\n",
            "[CV] END .....................C=100, gamma=1, kernel=sigmoid; total time=   2.4s\n",
            "[CV] END .....................C=100, gamma=1, kernel=sigmoid; total time=   1.4s\n",
            "[CV] END .....................C=100, gamma=1, kernel=sigmoid; total time=   1.7s\n",
            "[CV] END .....................C=100, gamma=1, kernel=sigmoid; total time=   1.6s\n",
            "[CV] END .....................C=100, gamma=1, kernel=sigmoid; total time=   1.3s\n",
            "[CV] END .......................C=100, gamma=0.1, kernel=rbf; total time=   2.1s\n",
            "[CV] END .......................C=100, gamma=0.1, kernel=rbf; total time=   2.1s\n",
            "[CV] END .......................C=100, gamma=0.1, kernel=rbf; total time=   2.1s\n",
            "[CV] END .......................C=100, gamma=0.1, kernel=rbf; total time=   2.1s\n",
            "[CV] END .......................C=100, gamma=0.1, kernel=rbf; total time=   2.1s\n",
            "[CV] END ......................C=100, gamma=0.1, kernel=poly; total time=   1.9s\n",
            "[CV] END ......................C=100, gamma=0.1, kernel=poly; total time=   1.9s\n",
            "[CV] END ......................C=100, gamma=0.1, kernel=poly; total time=   1.9s\n",
            "[CV] END ......................C=100, gamma=0.1, kernel=poly; total time=   1.9s\n",
            "[CV] END ......................C=100, gamma=0.1, kernel=poly; total time=   1.9s\n",
            "[CV] END ...................C=100, gamma=0.1, kernel=sigmoid; total time=   1.9s\n",
            "[CV] END ...................C=100, gamma=0.1, kernel=sigmoid; total time=   1.9s\n",
            "[CV] END ...................C=100, gamma=0.1, kernel=sigmoid; total time=   1.9s\n",
            "[CV] END ...................C=100, gamma=0.1, kernel=sigmoid; total time=   1.9s\n",
            "[CV] END ...................C=100, gamma=0.1, kernel=sigmoid; total time=   1.9s\n",
            "[CV] END ......................C=100, gamma=0.01, kernel=rbf; total time=   2.1s\n",
            "[CV] END ......................C=100, gamma=0.01, kernel=rbf; total time=   2.1s\n",
            "[CV] END ......................C=100, gamma=0.01, kernel=rbf; total time=   2.1s\n",
            "[CV] END ......................C=100, gamma=0.01, kernel=rbf; total time=   2.1s\n",
            "[CV] END ......................C=100, gamma=0.01, kernel=rbf; total time=   2.1s\n",
            "[CV] END .....................C=100, gamma=0.01, kernel=poly; total time=   1.1s\n",
            "[CV] END .....................C=100, gamma=0.01, kernel=poly; total time=   1.1s\n",
            "[CV] END .....................C=100, gamma=0.01, kernel=poly; total time=   1.1s\n",
            "[CV] END .....................C=100, gamma=0.01, kernel=poly; total time=   1.1s\n",
            "[CV] END .....................C=100, gamma=0.01, kernel=poly; total time=   1.1s\n",
            "[CV] END ..................C=100, gamma=0.01, kernel=sigmoid; total time=   1.7s\n",
            "[CV] END ..................C=100, gamma=0.01, kernel=sigmoid; total time=   1.7s\n",
            "[CV] END ..................C=100, gamma=0.01, kernel=sigmoid; total time=   1.7s\n",
            "[CV] END ..................C=100, gamma=0.01, kernel=sigmoid; total time=   1.7s\n",
            "[CV] END ..................C=100, gamma=0.01, kernel=sigmoid; total time=   1.7s\n",
            "[CV] END .....................C=100, gamma=0.001, kernel=rbf; total time=   1.7s\n",
            "[CV] END .....................C=100, gamma=0.001, kernel=rbf; total time=   1.7s\n",
            "[CV] END .....................C=100, gamma=0.001, kernel=rbf; total time=   1.7s\n",
            "[CV] END .....................C=100, gamma=0.001, kernel=rbf; total time=   1.7s\n",
            "[CV] END .....................C=100, gamma=0.001, kernel=rbf; total time=   1.7s\n",
            "[CV] END ....................C=100, gamma=0.001, kernel=poly; total time=   1.1s\n",
            "[CV] END ....................C=100, gamma=0.001, kernel=poly; total time=   1.1s\n",
            "[CV] END ....................C=100, gamma=0.001, kernel=poly; total time=   1.1s\n",
            "[CV] END ....................C=100, gamma=0.001, kernel=poly; total time=   1.1s\n",
            "[CV] END ....................C=100, gamma=0.001, kernel=poly; total time=   1.1s\n",
            "[CV] END .................C=100, gamma=0.001, kernel=sigmoid; total time=   1.6s\n",
            "[CV] END .................C=100, gamma=0.001, kernel=sigmoid; total time=   1.6s\n",
            "[CV] END .................C=100, gamma=0.001, kernel=sigmoid; total time=   1.6s\n",
            "[CV] END .................C=100, gamma=0.001, kernel=sigmoid; total time=   1.6s\n",
            "[CV] END .................C=100, gamma=0.001, kernel=sigmoid; total time=   1.5s\n"
          ]
        },
        {
          "output_type": "execute_result",
          "data": {
            "text/plain": [
              "GridSearchCV(estimator=SVC(),\n",
              "             param_grid={'C': [0.1, 1, 10, 100], 'gamma': [1, 0.1, 0.01, 0.001],\n",
              "                         'kernel': ['rbf', 'poly', 'sigmoid']},\n",
              "             verbose=2)"
            ]
          },
          "metadata": {},
          "execution_count": 51
        }
      ]
    },
    {
      "cell_type": "code",
      "source": [
        "print(grid.best_estimator_)"
      ],
      "metadata": {
        "colab": {
          "base_uri": "https://localhost:8080/"
        },
        "id": "7iiSZsF2X1jh",
        "outputId": "5dc67aeb-7f0a-4c24-a3ba-f674045ec58f"
      },
      "execution_count": null,
      "outputs": [
        {
          "output_type": "stream",
          "name": "stdout",
          "text": [
            "SVC(C=100, gamma=0.01)\n"
          ]
        }
      ]
    },
    {
      "cell_type": "code",
      "source": [
        "method = \"TD-IDF with no stop words\"\n",
        "classification = \"Support Vector Machine\"\n",
        "\n",
        "model = SVC(C=100, gamma=0.01)\n",
        "\n",
        "# Training \n",
        "model.fit(tfidf_no_stop_training_features, train_data[\"score\"])\n",
        "\n",
        "# Evaluation\n",
        "y_pred_tfidf_no_stop_svm = model.predict(tfidf_no_stop_test_features)\n",
        "y_prob_tfidf_no_stop_svm = model.decision_function(tfidf_no_stop_test_features)\n",
        "\n",
        "# Result\n",
        "printResult(method, classification, y_pred_tfidf_no_stop_svm, y_prob_tfidf_no_stop_svm)"
      ],
      "metadata": {
        "colab": {
          "base_uri": "https://localhost:8080/",
          "height": 606
        },
        "id": "3rDbyteUEFI2",
        "outputId": "cb50f13d-b017-4ec8-a16f-05ed295c039c"
      },
      "execution_count": 124,
      "outputs": [
        {
          "output_type": "stream",
          "name": "stdout",
          "text": [
            "Method: TD-IDF with no stop words\n",
            "Classifier: Support Vector Machine\n",
            "Accuracy: 74.85\n",
            "\n",
            "              precision    recall  f1-score   support\n",
            "\n",
            "           0       0.69      0.55      0.61       110\n",
            "           1       0.79      0.85      0.82       571\n",
            "           2       0.68      0.63      0.65       289\n",
            "\n",
            "    accuracy                           0.75       970\n",
            "   macro avg       0.72      0.68      0.69       970\n",
            "weighted avg       0.74      0.75      0.74       970\n",
            "\n",
            "Area under the ROC curve : 0.998393\n",
            "Area under the ROC curve : 1.000000\n",
            "Area under the ROC curve : 1.000000\n"
          ]
        },
        {
          "output_type": "display_data",
          "data": {
            "text/plain": [
              "<Figure size 432x288 with 2 Axes>"
            ],
            "image/png": "[encoded data removed]"
          },
          "metadata": {
            "needs_background": "light"
          }
        }
      ]
    },
    {
      "cell_type": "code",
      "source": [
        "param_grid = {'C': [0.1,1, 10], 'gamma': [1,0.1,0.01,0.001],'kernel': ['rbf', 'poly', 'sigmoid']}\n",
        "\n",
        "grid = GridSearchCV(SVC(),param_grid,refit=True,verbose=2)\n",
        "grid.fit(word2vec_with_stop_training_features, train_data[\"score\"])"
      ],
      "metadata": {
        "colab": {
          "base_uri": "https://localhost:8080/"
        },
        "id": "jSSNjLiOYCpz",
        "outputId": "dbd6e529-0b5c-4aa3-83d4-c834c60cb519"
      },
      "execution_count": null,
      "outputs": [
        {
          "output_type": "stream",
          "name": "stdout",
          "text": [
            "Fitting 5 folds for each of 36 candidates, totalling 180 fits\n",
            "[CV] END .........................C=0.1, gamma=1, kernel=rbf; total time=   1.6s\n",
            "[CV] END .........................C=0.1, gamma=1, kernel=rbf; total time=   1.1s\n",
            "[CV] END .........................C=0.1, gamma=1, kernel=rbf; total time=   1.1s\n",
            "[CV] END .........................C=0.1, gamma=1, kernel=rbf; total time=   1.2s\n",
            "[CV] END .........................C=0.1, gamma=1, kernel=rbf; total time=   1.1s\n",
            "[CV] END ........................C=0.1, gamma=1, kernel=poly; total time=   5.6s\n",
            "[CV] END ........................C=0.1, gamma=1, kernel=poly; total time=   5.3s\n",
            "[CV] END ........................C=0.1, gamma=1, kernel=poly; total time=   4.9s\n",
            "[CV] END ........................C=0.1, gamma=1, kernel=poly; total time=   4.7s\n",
            "[CV] END ........................C=0.1, gamma=1, kernel=poly; total time=   4.5s\n",
            "[CV] END .....................C=0.1, gamma=1, kernel=sigmoid; total time=   0.9s\n",
            "[CV] END .....................C=0.1, gamma=1, kernel=sigmoid; total time=   1.0s\n",
            "[CV] END .....................C=0.1, gamma=1, kernel=sigmoid; total time=   0.9s\n",
            "[CV] END .....................C=0.1, gamma=1, kernel=sigmoid; total time=   1.0s\n",
            "[CV] END .....................C=0.1, gamma=1, kernel=sigmoid; total time=   0.9s\n",
            "[CV] END .......................C=0.1, gamma=0.1, kernel=rbf; total time=   1.0s\n",
            "[CV] END .......................C=0.1, gamma=0.1, kernel=rbf; total time=   1.0s\n",
            "[CV] END .......................C=0.1, gamma=0.1, kernel=rbf; total time=   1.0s\n",
            "[CV] END .......................C=0.1, gamma=0.1, kernel=rbf; total time=   1.0s\n",
            "[CV] END .......................C=0.1, gamma=0.1, kernel=rbf; total time=   1.0s\n",
            "[CV] END ......................C=0.1, gamma=0.1, kernel=poly; total time=   0.7s\n",
            "[CV] END ......................C=0.1, gamma=0.1, kernel=poly; total time=   0.7s\n",
            "[CV] END ......................C=0.1, gamma=0.1, kernel=poly; total time=   0.7s\n",
            "[CV] END ......................C=0.1, gamma=0.1, kernel=poly; total time=   0.7s\n",
            "[CV] END ......................C=0.1, gamma=0.1, kernel=poly; total time=   0.7s\n",
            "[CV] END ...................C=0.1, gamma=0.1, kernel=sigmoid; total time=   1.0s\n",
            "[CV] END ...................C=0.1, gamma=0.1, kernel=sigmoid; total time=   1.0s\n",
            "[CV] END ...................C=0.1, gamma=0.1, kernel=sigmoid; total time=   1.0s\n",
            "[CV] END ...................C=0.1, gamma=0.1, kernel=sigmoid; total time=   1.0s\n",
            "[CV] END ...................C=0.1, gamma=0.1, kernel=sigmoid; total time=   1.0s\n",
            "[CV] END ......................C=0.1, gamma=0.01, kernel=rbf; total time=   1.0s\n",
            "[CV] END ......................C=0.1, gamma=0.01, kernel=rbf; total time=   1.0s\n",
            "[CV] END ......................C=0.1, gamma=0.01, kernel=rbf; total time=   1.0s\n",
            "[CV] END ......................C=0.1, gamma=0.01, kernel=rbf; total time=   1.0s\n",
            "[CV] END ......................C=0.1, gamma=0.01, kernel=rbf; total time=   1.0s\n",
            "[CV] END .....................C=0.1, gamma=0.01, kernel=poly; total time=   0.7s\n",
            "[CV] END .....................C=0.1, gamma=0.01, kernel=poly; total time=   0.7s\n",
            "[CV] END .....................C=0.1, gamma=0.01, kernel=poly; total time=   0.7s\n",
            "[CV] END .....................C=0.1, gamma=0.01, kernel=poly; total time=   0.7s\n",
            "[CV] END .....................C=0.1, gamma=0.01, kernel=poly; total time=   0.7s\n",
            "[CV] END ..................C=0.1, gamma=0.01, kernel=sigmoid; total time=   0.9s\n",
            "[CV] END ..................C=0.1, gamma=0.01, kernel=sigmoid; total time=   0.9s\n",
            "[CV] END ..................C=0.1, gamma=0.01, kernel=sigmoid; total time=   1.0s\n",
            "[CV] END ..................C=0.1, gamma=0.01, kernel=sigmoid; total time=   1.0s\n",
            "[CV] END ..................C=0.1, gamma=0.01, kernel=sigmoid; total time=   1.0s\n",
            "[CV] END .....................C=0.1, gamma=0.001, kernel=rbf; total time=   1.1s\n",
            "[CV] END .....................C=0.1, gamma=0.001, kernel=rbf; total time=   1.1s\n",
            "[CV] END .....................C=0.1, gamma=0.001, kernel=rbf; total time=   1.1s\n",
            "[CV] END .....................C=0.1, gamma=0.001, kernel=rbf; total time=   1.1s\n",
            "[CV] END .....................C=0.1, gamma=0.001, kernel=rbf; total time=   1.1s\n",
            "[CV] END ....................C=0.1, gamma=0.001, kernel=poly; total time=   0.6s\n",
            "[CV] END ....................C=0.1, gamma=0.001, kernel=poly; total time=   0.6s\n",
            "[CV] END ....................C=0.1, gamma=0.001, kernel=poly; total time=   0.7s\n",
            "[CV] END ....................C=0.1, gamma=0.001, kernel=poly; total time=   0.6s\n",
            "[CV] END ....................C=0.1, gamma=0.001, kernel=poly; total time=   0.6s\n",
            "[CV] END .................C=0.1, gamma=0.001, kernel=sigmoid; total time=   1.0s\n",
            "[CV] END .................C=0.1, gamma=0.001, kernel=sigmoid; total time=   1.0s\n",
            "[CV] END .................C=0.1, gamma=0.001, kernel=sigmoid; total time=   1.0s\n",
            "[CV] END .................C=0.1, gamma=0.001, kernel=sigmoid; total time=   1.0s\n",
            "[CV] END .................C=0.1, gamma=0.001, kernel=sigmoid; total time=   1.0s\n",
            "[CV] END ...........................C=1, gamma=1, kernel=rbf; total time=   1.3s\n",
            "[CV] END ...........................C=1, gamma=1, kernel=rbf; total time=   1.3s\n",
            "[CV] END ...........................C=1, gamma=1, kernel=rbf; total time=   1.4s\n",
            "[CV] END ...........................C=1, gamma=1, kernel=rbf; total time=   1.3s\n",
            "[CV] END ...........................C=1, gamma=1, kernel=rbf; total time=   1.3s\n",
            "[CV] END ..........................C=1, gamma=1, kernel=poly; total time=  19.1s\n",
            "[CV] END ..........................C=1, gamma=1, kernel=poly; total time=  18.1s\n",
            "[CV] END ..........................C=1, gamma=1, kernel=poly; total time=  16.7s\n",
            "[CV] END ..........................C=1, gamma=1, kernel=poly; total time=  17.5s\n",
            "[CV] END ..........................C=1, gamma=1, kernel=poly; total time=  17.0s\n",
            "[CV] END .......................C=1, gamma=1, kernel=sigmoid; total time=   1.1s\n",
            "[CV] END .......................C=1, gamma=1, kernel=sigmoid; total time=   1.1s\n",
            "[CV] END .......................C=1, gamma=1, kernel=sigmoid; total time=   1.1s\n",
            "[CV] END .......................C=1, gamma=1, kernel=sigmoid; total time=   1.1s\n",
            "[CV] END .......................C=1, gamma=1, kernel=sigmoid; total time=   1.1s\n",
            "[CV] END .........................C=1, gamma=0.1, kernel=rbf; total time=   1.1s\n",
            "[CV] END .........................C=1, gamma=0.1, kernel=rbf; total time=   1.1s\n",
            "[CV] END .........................C=1, gamma=0.1, kernel=rbf; total time=   1.1s\n",
            "[CV] END .........................C=1, gamma=0.1, kernel=rbf; total time=   1.1s\n",
            "[CV] END .........................C=1, gamma=0.1, kernel=rbf; total time=   1.1s\n",
            "[CV] END ........................C=1, gamma=0.1, kernel=poly; total time=   1.3s\n",
            "[CV] END ........................C=1, gamma=0.1, kernel=poly; total time=   1.3s\n",
            "[CV] END ........................C=1, gamma=0.1, kernel=poly; total time=   1.3s\n",
            "[CV] END ........................C=1, gamma=0.1, kernel=poly; total time=   1.2s\n",
            "[CV] END ........................C=1, gamma=0.1, kernel=poly; total time=   1.3s\n",
            "[CV] END .....................C=1, gamma=0.1, kernel=sigmoid; total time=   0.8s\n",
            "[CV] END .....................C=1, gamma=0.1, kernel=sigmoid; total time=   0.8s\n",
            "[CV] END .....................C=1, gamma=0.1, kernel=sigmoid; total time=   0.8s\n",
            "[CV] END .....................C=1, gamma=0.1, kernel=sigmoid; total time=   0.8s\n",
            "[CV] END .....................C=1, gamma=0.1, kernel=sigmoid; total time=   0.9s\n",
            "[CV] END ........................C=1, gamma=0.01, kernel=rbf; total time=   1.1s\n",
            "[CV] END ........................C=1, gamma=0.01, kernel=rbf; total time=   1.1s\n",
            "[CV] END ........................C=1, gamma=0.01, kernel=rbf; total time=   1.1s\n",
            "[CV] END ........................C=1, gamma=0.01, kernel=rbf; total time=   1.1s\n",
            "[CV] END ........................C=1, gamma=0.01, kernel=rbf; total time=   1.1s\n",
            "[CV] END .......................C=1, gamma=0.01, kernel=poly; total time=   0.8s\n",
            "[CV] END .......................C=1, gamma=0.01, kernel=poly; total time=   0.8s\n",
            "[CV] END .......................C=1, gamma=0.01, kernel=poly; total time=   0.8s\n",
            "[CV] END .......................C=1, gamma=0.01, kernel=poly; total time=   0.8s\n",
            "[CV] END .......................C=1, gamma=0.01, kernel=poly; total time=   0.8s\n",
            "[CV] END ....................C=1, gamma=0.01, kernel=sigmoid; total time=   1.1s\n",
            "[CV] END ....................C=1, gamma=0.01, kernel=sigmoid; total time=   1.1s\n",
            "[CV] END ....................C=1, gamma=0.01, kernel=sigmoid; total time=   1.1s\n",
            "[CV] END ....................C=1, gamma=0.01, kernel=sigmoid; total time=   1.1s\n",
            "[CV] END ....................C=1, gamma=0.01, kernel=sigmoid; total time=   1.0s\n",
            "[CV] END .......................C=1, gamma=0.001, kernel=rbf; total time=   1.1s\n",
            "[CV] END .......................C=1, gamma=0.001, kernel=rbf; total time=   1.2s\n",
            "[CV] END .......................C=1, gamma=0.001, kernel=rbf; total time=   1.1s\n",
            "[CV] END .......................C=1, gamma=0.001, kernel=rbf; total time=   1.1s\n",
            "[CV] END .......................C=1, gamma=0.001, kernel=rbf; total time=   1.1s\n",
            "[CV] END ......................C=1, gamma=0.001, kernel=poly; total time=   0.6s\n",
            "[CV] END ......................C=1, gamma=0.001, kernel=poly; total time=   0.6s\n",
            "[CV] END ......................C=1, gamma=0.001, kernel=poly; total time=   0.6s\n",
            "[CV] END ......................C=1, gamma=0.001, kernel=poly; total time=   0.6s\n",
            "[CV] END ......................C=1, gamma=0.001, kernel=poly; total time=   0.6s\n",
            "[CV] END ...................C=1, gamma=0.001, kernel=sigmoid; total time=   1.0s\n",
            "[CV] END ...................C=1, gamma=0.001, kernel=sigmoid; total time=   1.0s\n",
            "[CV] END ...................C=1, gamma=0.001, kernel=sigmoid; total time=   1.0s\n",
            "[CV] END ...................C=1, gamma=0.001, kernel=sigmoid; total time=   1.1s\n",
            "[CV] END ...................C=1, gamma=0.001, kernel=sigmoid; total time=   1.0s\n",
            "[CV] END ..........................C=10, gamma=1, kernel=rbf; total time=   1.5s\n",
            "[CV] END ..........................C=10, gamma=1, kernel=rbf; total time=   1.5s\n",
            "[CV] END ..........................C=10, gamma=1, kernel=rbf; total time=   1.6s\n",
            "[CV] END ..........................C=10, gamma=1, kernel=rbf; total time=   1.6s\n",
            "[CV] END ..........................C=10, gamma=1, kernel=rbf; total time=   1.5s\n",
            "[CV] END .........................C=10, gamma=1, kernel=poly; total time= 2.6min\n",
            "[CV] END .........................C=10, gamma=1, kernel=poly; total time= 2.1min\n",
            "[CV] END .........................C=10, gamma=1, kernel=poly; total time= 2.2min\n",
            "[CV] END .........................C=10, gamma=1, kernel=poly; total time= 2.0min\n",
            "[CV] END .........................C=10, gamma=1, kernel=poly; total time= 2.4min\n",
            "[CV] END ......................C=10, gamma=1, kernel=sigmoid; total time=   1.1s\n",
            "[CV] END ......................C=10, gamma=1, kernel=sigmoid; total time=   1.1s\n",
            "[CV] END ......................C=10, gamma=1, kernel=sigmoid; total time=   1.1s\n",
            "[CV] END ......................C=10, gamma=1, kernel=sigmoid; total time=   1.1s\n",
            "[CV] END ......................C=10, gamma=1, kernel=sigmoid; total time=   1.1s\n",
            "[CV] END ........................C=10, gamma=0.1, kernel=rbf; total time=   1.3s\n",
            "[CV] END ........................C=10, gamma=0.1, kernel=rbf; total time=   1.4s\n",
            "[CV] END ........................C=10, gamma=0.1, kernel=rbf; total time=   1.4s\n",
            "[CV] END ........................C=10, gamma=0.1, kernel=rbf; total time=   1.4s\n",
            "[CV] END ........................C=10, gamma=0.1, kernel=rbf; total time=   1.3s\n",
            "[CV] END .......................C=10, gamma=0.1, kernel=poly; total time=   3.1s\n",
            "[CV] END .......................C=10, gamma=0.1, kernel=poly; total time=   3.2s\n",
            "[CV] END .......................C=10, gamma=0.1, kernel=poly; total time=   3.1s\n",
            "[CV] END .......................C=10, gamma=0.1, kernel=poly; total time=   2.9s\n",
            "[CV] END .......................C=10, gamma=0.1, kernel=poly; total time=   2.5s\n",
            "[CV] END ....................C=10, gamma=0.1, kernel=sigmoid; total time=   0.7s\n",
            "[CV] END ....................C=10, gamma=0.1, kernel=sigmoid; total time=   0.7s\n",
            "[CV] END ....................C=10, gamma=0.1, kernel=sigmoid; total time=   0.7s\n",
            "[CV] END ....................C=10, gamma=0.1, kernel=sigmoid; total time=   0.7s\n",
            "[CV] END ....................C=10, gamma=0.1, kernel=sigmoid; total time=   0.9s\n",
            "[CV] END .......................C=10, gamma=0.01, kernel=rbf; total time=   1.1s\n",
            "[CV] END .......................C=10, gamma=0.01, kernel=rbf; total time=   1.2s\n",
            "[CV] END .......................C=10, gamma=0.01, kernel=rbf; total time=   1.1s\n",
            "[CV] END .......................C=10, gamma=0.01, kernel=rbf; total time=   1.2s\n",
            "[CV] END .......................C=10, gamma=0.01, kernel=rbf; total time=   1.2s\n",
            "[CV] END ......................C=10, gamma=0.01, kernel=poly; total time=   0.8s\n",
            "[CV] END ......................C=10, gamma=0.01, kernel=poly; total time=   0.8s\n",
            "[CV] END ......................C=10, gamma=0.01, kernel=poly; total time=   0.8s\n",
            "[CV] END ......................C=10, gamma=0.01, kernel=poly; total time=   0.7s\n",
            "[CV] END ......................C=10, gamma=0.01, kernel=poly; total time=   0.7s\n",
            "[CV] END ...................C=10, gamma=0.01, kernel=sigmoid; total time=   1.1s\n",
            "[CV] END ...................C=10, gamma=0.01, kernel=sigmoid; total time=   1.1s\n",
            "[CV] END ...................C=10, gamma=0.01, kernel=sigmoid; total time=   1.1s\n",
            "[CV] END ...................C=10, gamma=0.01, kernel=sigmoid; total time=   1.1s\n",
            "[CV] END ...................C=10, gamma=0.01, kernel=sigmoid; total time=   1.1s\n",
            "[CV] END ......................C=10, gamma=0.001, kernel=rbf; total time=   1.1s\n",
            "[CV] END ......................C=10, gamma=0.001, kernel=rbf; total time=   1.1s\n",
            "[CV] END ......................C=10, gamma=0.001, kernel=rbf; total time=   1.2s\n",
            "[CV] END ......................C=10, gamma=0.001, kernel=rbf; total time=   1.1s\n",
            "[CV] END ......................C=10, gamma=0.001, kernel=rbf; total time=   1.1s\n",
            "[CV] END .....................C=10, gamma=0.001, kernel=poly; total time=   0.6s\n",
            "[CV] END .....................C=10, gamma=0.001, kernel=poly; total time=   0.7s\n",
            "[CV] END .....................C=10, gamma=0.001, kernel=poly; total time=   0.7s\n",
            "[CV] END .....................C=10, gamma=0.001, kernel=poly; total time=   0.7s\n",
            "[CV] END .....................C=10, gamma=0.001, kernel=poly; total time=   0.7s\n",
            "[CV] END ..................C=10, gamma=0.001, kernel=sigmoid; total time=   1.0s\n",
            "[CV] END ..................C=10, gamma=0.001, kernel=sigmoid; total time=   1.0s\n",
            "[CV] END ..................C=10, gamma=0.001, kernel=sigmoid; total time=   1.0s\n",
            "[CV] END ..................C=10, gamma=0.001, kernel=sigmoid; total time=   1.0s\n",
            "[CV] END ..................C=10, gamma=0.001, kernel=sigmoid; total time=   1.0s\n"
          ]
        },
        {
          "output_type": "execute_result",
          "data": {
            "text/plain": [
              "GridSearchCV(estimator=SVC(),\n",
              "             param_grid={'C': [0.1, 1, 10], 'gamma': [1, 0.1, 0.01, 0.001],\n",
              "                         'kernel': ['rbf', 'poly', 'sigmoid']},\n",
              "             verbose=2)"
            ]
          },
          "metadata": {},
          "execution_count": 55
        }
      ]
    },
    {
      "cell_type": "code",
      "source": [
        "print(grid.best_estimator_)"
      ],
      "metadata": {
        "colab": {
          "base_uri": "https://localhost:8080/"
        },
        "id": "DRhIRcsLYCt3",
        "outputId": "2d3731ed-b74e-4bdf-95e0-66b6c985b031"
      },
      "execution_count": null,
      "outputs": [
        {
          "output_type": "stream",
          "name": "stdout",
          "text": [
            "SVC(C=10, gamma=1, kernel='poly')\n"
          ]
        }
      ]
    },
    {
      "cell_type": "code",
      "source": [
        "model = SVC(C=10, gamma=1, kernel='poly', probability=True)\n",
        "\n",
        "# Training \n",
        "model.fit(word2vec_with_stop_training_features, train_data[\"score\"])\n",
        "\n",
        "# Evaluation\n",
        "y_pred_w2v_with_stop_svm = np.argmax(model.predict_proba(word2vec_with_stop_test_features), axis=-1)\n",
        "y_prob_w2v_with_stop_svm = model.decision_function(word2vec_with_stop_test_features)\n",
        "# Result\n",
        "printResult(\"TD-IDF stop\", \"SVM\", y_pred_w2v_with_stop_svm, y_prob_w2v_with_stop_svm)"
      ],
      "metadata": {
        "id": "k4JZmKmGqhlg",
        "colab": {
          "base_uri": "https://localhost:8080/",
          "height": 884
        },
        "outputId": "7274d513-55c3-49f1-9652-ea0f5acd6ee0"
      },
      "execution_count": 110,
      "outputs": [
        {
          "output_type": "stream",
          "name": "stdout",
          "text": [
            "Method: TD-IDF stop\n",
            "Classifier: SVM\n",
            "Accuracy: 68.14\n",
            "\n",
            "              precision    recall  f1-score   support\n",
            "\n",
            "           0       0.64      0.32      0.42       110\n",
            "           1       0.69      0.96      0.80       571\n",
            "           2       0.67      0.26      0.38       289\n",
            "\n",
            "    accuracy                           0.68       970\n",
            "   macro avg       0.66      0.51      0.53       970\n",
            "weighted avg       0.68      0.68      0.63       970\n",
            "\n",
            "Area under the ROC curve : 0.995370\n",
            "Area under the ROC curve : 0.998397\n",
            "Area under the ROC curve : 0.968660\n"
          ]
        },
        {
          "output_type": "display_data",
          "data": {
            "text/plain": [
              "<Figure size 432x288 with 2 Axes>"
            ],
            "image/png": "[encoded data removed]"
          },
          "metadata": {
            "needs_background": "light"
          }
        },
        {
          "output_type": "display_data",
          "data": {
            "text/plain": [
              "<Figure size 432x288 with 1 Axes>"
            ],
            "image/png": "[encoded data removed]"
          },
          "metadata": {
            "needs_background": "light"
          }
        }
      ]
    },
    {
      "cell_type": "code",
      "source": [
        "grid = GridSearchCV(SVC(),param_grid,refit=True,verbose=2)\n",
        "grid.fit(bert_sentence_training_features, train_data[\"score\"])"
      ],
      "metadata": {
        "id": "PuXFY2f4aiYY",
        "colab": {
          "base_uri": "https://localhost:8080/"
        },
        "outputId": "a15d016a-c8c1-4cac-9c33-318db26a12fc"
      },
      "execution_count": 66,
      "outputs": [
        {
          "output_type": "stream",
          "name": "stdout",
          "text": [
            "Fitting 5 folds for each of 36 candidates, totalling 180 fits\n",
            "[CV] END .........................C=0.1, gamma=1, kernel=rbf; total time=   8.0s\n",
            "[CV] END .........................C=0.1, gamma=1, kernel=rbf; total time=   8.2s\n",
            "[CV] END .........................C=0.1, gamma=1, kernel=rbf; total time=   8.0s\n",
            "[CV] END .........................C=0.1, gamma=1, kernel=rbf; total time=   8.1s\n",
            "[CV] END .........................C=0.1, gamma=1, kernel=rbf; total time=   8.1s\n",
            "[CV] END ........................C=0.1, gamma=1, kernel=poly; total time=   4.6s\n",
            "[CV] END ........................C=0.1, gamma=1, kernel=poly; total time=  10.6s\n",
            "[CV] END ........................C=0.1, gamma=1, kernel=poly; total time=   8.4s\n",
            "[CV] END ........................C=0.1, gamma=1, kernel=poly; total time=   4.8s\n",
            "[CV] END ........................C=0.1, gamma=1, kernel=poly; total time=   3.9s\n",
            "[CV] END .....................C=0.1, gamma=1, kernel=sigmoid; total time=   3.4s\n",
            "[CV] END .....................C=0.1, gamma=1, kernel=sigmoid; total time=   3.6s\n",
            "[CV] END .....................C=0.1, gamma=1, kernel=sigmoid; total time=   3.3s\n",
            "[CV] END .....................C=0.1, gamma=1, kernel=sigmoid; total time=   3.3s\n",
            "[CV] END .....................C=0.1, gamma=1, kernel=sigmoid; total time=   3.6s\n",
            "[CV] END .......................C=0.1, gamma=0.1, kernel=rbf; total time=   8.6s\n",
            "[CV] END .......................C=0.1, gamma=0.1, kernel=rbf; total time=   7.6s\n",
            "[CV] END .......................C=0.1, gamma=0.1, kernel=rbf; total time=   8.0s\n",
            "[CV] END .......................C=0.1, gamma=0.1, kernel=rbf; total time=   7.7s\n",
            "[CV] END .......................C=0.1, gamma=0.1, kernel=rbf; total time=   7.8s\n",
            "[CV] END ......................C=0.1, gamma=0.1, kernel=poly; total time=   3.5s\n",
            "[CV] END ......................C=0.1, gamma=0.1, kernel=poly; total time=   3.5s\n",
            "[CV] END ......................C=0.1, gamma=0.1, kernel=poly; total time=   3.9s\n",
            "[CV] END ......................C=0.1, gamma=0.1, kernel=poly; total time=   3.8s\n",
            "[CV] END ......................C=0.1, gamma=0.1, kernel=poly; total time=   3.7s\n",
            "[CV] END ...................C=0.1, gamma=0.1, kernel=sigmoid; total time=   4.5s\n",
            "[CV] END ...................C=0.1, gamma=0.1, kernel=sigmoid; total time=   4.1s\n",
            "[CV] END ...................C=0.1, gamma=0.1, kernel=sigmoid; total time=   4.4s\n",
            "[CV] END ...................C=0.1, gamma=0.1, kernel=sigmoid; total time=   4.3s\n",
            "[CV] END ...................C=0.1, gamma=0.1, kernel=sigmoid; total time=   4.5s\n",
            "[CV] END ......................C=0.1, gamma=0.01, kernel=rbf; total time=   6.4s\n",
            "[CV] END ......................C=0.1, gamma=0.01, kernel=rbf; total time=   5.4s\n",
            "[CV] END ......................C=0.1, gamma=0.01, kernel=rbf; total time=   5.5s\n",
            "[CV] END ......................C=0.1, gamma=0.01, kernel=rbf; total time=   5.0s\n",
            "[CV] END ......................C=0.1, gamma=0.01, kernel=rbf; total time=   4.9s\n",
            "[CV] END .....................C=0.1, gamma=0.01, kernel=poly; total time=   3.5s\n",
            "[CV] END .....................C=0.1, gamma=0.01, kernel=poly; total time=   4.3s\n",
            "[CV] END .....................C=0.1, gamma=0.01, kernel=poly; total time=   3.3s\n",
            "[CV] END .....................C=0.1, gamma=0.01, kernel=poly; total time=   3.3s\n",
            "[CV] END .....................C=0.1, gamma=0.01, kernel=poly; total time=   3.1s\n",
            "[CV] END ..................C=0.1, gamma=0.01, kernel=sigmoid; total time=   3.9s\n",
            "[CV] END ..................C=0.1, gamma=0.01, kernel=sigmoid; total time=   4.4s\n",
            "[CV] END ..................C=0.1, gamma=0.01, kernel=sigmoid; total time=   4.2s\n",
            "[CV] END ..................C=0.1, gamma=0.01, kernel=sigmoid; total time=   3.9s\n",
            "[CV] END ..................C=0.1, gamma=0.01, kernel=sigmoid; total time=   4.0s\n",
            "[CV] END .....................C=0.1, gamma=0.001, kernel=rbf; total time=   5.6s\n",
            "[CV] END .....................C=0.1, gamma=0.001, kernel=rbf; total time=   4.9s\n",
            "[CV] END .....................C=0.1, gamma=0.001, kernel=rbf; total time=   5.0s\n",
            "[CV] END .....................C=0.1, gamma=0.001, kernel=rbf; total time=   4.8s\n",
            "[CV] END .....................C=0.1, gamma=0.001, kernel=rbf; total time=   4.6s\n",
            "[CV] END ....................C=0.1, gamma=0.001, kernel=poly; total time=   4.0s\n",
            "[CV] END ....................C=0.1, gamma=0.001, kernel=poly; total time=   4.1s\n",
            "[CV] END ....................C=0.1, gamma=0.001, kernel=poly; total time=   4.3s\n",
            "[CV] END ....................C=0.1, gamma=0.001, kernel=poly; total time=   4.4s\n",
            "[CV] END ....................C=0.1, gamma=0.001, kernel=poly; total time=   5.8s\n",
            "[CV] END .................C=0.1, gamma=0.001, kernel=sigmoid; total time=   4.9s\n",
            "[CV] END .................C=0.1, gamma=0.001, kernel=sigmoid; total time=   5.2s\n",
            "[CV] END .................C=0.1, gamma=0.001, kernel=sigmoid; total time=   5.2s\n",
            "[CV] END .................C=0.1, gamma=0.001, kernel=sigmoid; total time=   5.2s\n",
            "[CV] END .................C=0.1, gamma=0.001, kernel=sigmoid; total time=   4.9s\n",
            "[CV] END ...........................C=1, gamma=1, kernel=rbf; total time=   9.5s\n",
            "[CV] END ...........................C=1, gamma=1, kernel=rbf; total time=  10.2s\n",
            "[CV] END ...........................C=1, gamma=1, kernel=rbf; total time=   9.2s\n",
            "[CV] END ...........................C=1, gamma=1, kernel=rbf; total time=   8.0s\n",
            "[CV] END ...........................C=1, gamma=1, kernel=rbf; total time=   8.7s\n",
            "[CV] END ..........................C=1, gamma=1, kernel=poly; total time=   3.7s\n",
            "[CV] END ..........................C=1, gamma=1, kernel=poly; total time=   3.2s\n",
            "[CV] END ..........................C=1, gamma=1, kernel=poly; total time=   3.4s\n",
            "[CV] END ..........................C=1, gamma=1, kernel=poly; total time=   3.6s\n",
            "[CV] END ..........................C=1, gamma=1, kernel=poly; total time=   3.7s\n",
            "[CV] END .......................C=1, gamma=1, kernel=sigmoid; total time=   2.7s\n",
            "[CV] END .......................C=1, gamma=1, kernel=sigmoid; total time=   2.7s\n",
            "[CV] END .......................C=1, gamma=1, kernel=sigmoid; total time=   2.7s\n",
            "[CV] END .......................C=1, gamma=1, kernel=sigmoid; total time=   2.6s\n",
            "[CV] END .......................C=1, gamma=1, kernel=sigmoid; total time=   2.8s\n",
            "[CV] END .........................C=1, gamma=0.1, kernel=rbf; total time=   8.7s\n",
            "[CV] END .........................C=1, gamma=0.1, kernel=rbf; total time=   9.5s\n",
            "[CV] END .........................C=1, gamma=0.1, kernel=rbf; total time=   9.6s\n",
            "[CV] END .........................C=1, gamma=0.1, kernel=rbf; total time=   9.5s\n",
            "[CV] END .........................C=1, gamma=0.1, kernel=rbf; total time=  10.0s\n",
            "[CV] END ........................C=1, gamma=0.1, kernel=poly; total time=   7.8s\n",
            "[CV] END ........................C=1, gamma=0.1, kernel=poly; total time=   6.7s\n",
            "[CV] END ........................C=1, gamma=0.1, kernel=poly; total time=   4.1s\n",
            "[CV] END ........................C=1, gamma=0.1, kernel=poly; total time=   3.7s\n",
            "[CV] END ........................C=1, gamma=0.1, kernel=poly; total time=   3.9s\n",
            "[CV] END .....................C=1, gamma=0.1, kernel=sigmoid; total time=   3.3s\n",
            "[CV] END .....................C=1, gamma=0.1, kernel=sigmoid; total time=   3.4s\n",
            "[CV] END .....................C=1, gamma=0.1, kernel=sigmoid; total time=   3.4s\n",
            "[CV] END .....................C=1, gamma=0.1, kernel=sigmoid; total time=   3.3s\n",
            "[CV] END .....................C=1, gamma=0.1, kernel=sigmoid; total time=   3.2s\n",
            "[CV] END ........................C=1, gamma=0.01, kernel=rbf; total time=   4.2s\n",
            "[CV] END ........................C=1, gamma=0.01, kernel=rbf; total time=   4.5s\n",
            "[CV] END ........................C=1, gamma=0.01, kernel=rbf; total time=   4.4s\n",
            "[CV] END ........................C=1, gamma=0.01, kernel=rbf; total time=   4.4s\n",
            "[CV] END ........................C=1, gamma=0.01, kernel=rbf; total time=   4.6s\n",
            "[CV] END .......................C=1, gamma=0.01, kernel=poly; total time=   3.3s\n",
            "[CV] END .......................C=1, gamma=0.01, kernel=poly; total time=   3.9s\n",
            "[CV] END .......................C=1, gamma=0.01, kernel=poly; total time=   3.9s\n",
            "[CV] END .......................C=1, gamma=0.01, kernel=poly; total time=   8.2s\n",
            "[CV] END .......................C=1, gamma=0.01, kernel=poly; total time=   6.6s\n",
            "[CV] END ....................C=1, gamma=0.01, kernel=sigmoid; total time=   8.3s\n",
            "[CV] END ....................C=1, gamma=0.01, kernel=sigmoid; total time=   5.5s\n",
            "[CV] END ....................C=1, gamma=0.01, kernel=sigmoid; total time=   6.8s\n",
            "[CV] END ....................C=1, gamma=0.01, kernel=sigmoid; total time=   4.6s\n",
            "[CV] END ....................C=1, gamma=0.01, kernel=sigmoid; total time=   4.5s\n",
            "[CV] END .......................C=1, gamma=0.001, kernel=rbf; total time=   4.0s\n",
            "[CV] END .......................C=1, gamma=0.001, kernel=rbf; total time=   4.0s\n",
            "[CV] END .......................C=1, gamma=0.001, kernel=rbf; total time=   4.4s\n",
            "[CV] END .......................C=1, gamma=0.001, kernel=rbf; total time=   4.1s\n",
            "[CV] END .......................C=1, gamma=0.001, kernel=rbf; total time=   4.0s\n",
            "[CV] END ......................C=1, gamma=0.001, kernel=poly; total time=   4.4s\n",
            "[CV] END ......................C=1, gamma=0.001, kernel=poly; total time=   4.3s\n",
            "[CV] END ......................C=1, gamma=0.001, kernel=poly; total time=   4.4s\n",
            "[CV] END ......................C=1, gamma=0.001, kernel=poly; total time=   4.2s\n",
            "[CV] END ......................C=1, gamma=0.001, kernel=poly; total time=   4.4s\n",
            "[CV] END ...................C=1, gamma=0.001, kernel=sigmoid; total time=   3.5s\n",
            "[CV] END ...................C=1, gamma=0.001, kernel=sigmoid; total time=   3.7s\n",
            "[CV] END ...................C=1, gamma=0.001, kernel=sigmoid; total time=   3.8s\n",
            "[CV] END ...................C=1, gamma=0.001, kernel=sigmoid; total time=   3.9s\n",
            "[CV] END ...................C=1, gamma=0.001, kernel=sigmoid; total time=   3.5s\n",
            "[CV] END ..........................C=10, gamma=1, kernel=rbf; total time=   8.9s\n",
            "[CV] END ..........................C=10, gamma=1, kernel=rbf; total time=   8.1s\n",
            "[CV] END ..........................C=10, gamma=1, kernel=rbf; total time=   9.2s\n",
            "[CV] END ..........................C=10, gamma=1, kernel=rbf; total time=  10.8s\n",
            "[CV] END ..........................C=10, gamma=1, kernel=rbf; total time=  11.1s\n",
            "[CV] END .........................C=10, gamma=1, kernel=poly; total time=   4.1s\n",
            "[CV] END .........................C=10, gamma=1, kernel=poly; total time=   3.9s\n",
            "[CV] END .........................C=10, gamma=1, kernel=poly; total time=   3.9s\n",
            "[CV] END .........................C=10, gamma=1, kernel=poly; total time=   3.7s\n",
            "[CV] END .........................C=10, gamma=1, kernel=poly; total time=   4.1s\n",
            "[CV] END ......................C=10, gamma=1, kernel=sigmoid; total time=   2.7s\n",
            "[CV] END ......................C=10, gamma=1, kernel=sigmoid; total time=   2.9s\n",
            "[CV] END ......................C=10, gamma=1, kernel=sigmoid; total time=   2.7s\n",
            "[CV] END ......................C=10, gamma=1, kernel=sigmoid; total time=   2.8s\n",
            "[CV] END ......................C=10, gamma=1, kernel=sigmoid; total time=   2.7s\n",
            "[CV] END ........................C=10, gamma=0.1, kernel=rbf; total time=   9.2s\n",
            "[CV] END ........................C=10, gamma=0.1, kernel=rbf; total time=   9.4s\n",
            "[CV] END ........................C=10, gamma=0.1, kernel=rbf; total time=  10.3s\n",
            "[CV] END ........................C=10, gamma=0.1, kernel=rbf; total time=   9.2s\n",
            "[CV] END ........................C=10, gamma=0.1, kernel=rbf; total time=   9.5s\n",
            "[CV] END .......................C=10, gamma=0.1, kernel=poly; total time=   4.3s\n",
            "[CV] END .......................C=10, gamma=0.1, kernel=poly; total time=   4.2s\n",
            "[CV] END .......................C=10, gamma=0.1, kernel=poly; total time=   4.3s\n",
            "[CV] END .......................C=10, gamma=0.1, kernel=poly; total time=   4.4s\n",
            "[CV] END .......................C=10, gamma=0.1, kernel=poly; total time=   4.1s\n",
            "[CV] END ....................C=10, gamma=0.1, kernel=sigmoid; total time=   3.1s\n",
            "[CV] END ....................C=10, gamma=0.1, kernel=sigmoid; total time=   3.4s\n",
            "[CV] END ....................C=10, gamma=0.1, kernel=sigmoid; total time=   3.3s\n",
            "[CV] END ....................C=10, gamma=0.1, kernel=sigmoid; total time=   3.4s\n",
            "[CV] END ....................C=10, gamma=0.1, kernel=sigmoid; total time=   3.3s\n",
            "[CV] END .......................C=10, gamma=0.01, kernel=rbf; total time=   5.7s\n",
            "[CV] END .......................C=10, gamma=0.01, kernel=rbf; total time=   5.7s\n",
            "[CV] END .......................C=10, gamma=0.01, kernel=rbf; total time=   5.6s\n",
            "[CV] END .......................C=10, gamma=0.01, kernel=rbf; total time=   5.8s\n",
            "[CV] END .......................C=10, gamma=0.01, kernel=rbf; total time=   5.2s\n",
            "[CV] END ......................C=10, gamma=0.01, kernel=poly; total time=   3.6s\n",
            "[CV] END ......................C=10, gamma=0.01, kernel=poly; total time=   4.1s\n",
            "[CV] END ......................C=10, gamma=0.01, kernel=poly; total time=   3.9s\n",
            "[CV] END ......................C=10, gamma=0.01, kernel=poly; total time=   3.7s\n",
            "[CV] END ......................C=10, gamma=0.01, kernel=poly; total time=   4.0s\n",
            "[CV] END ...................C=10, gamma=0.01, kernel=sigmoid; total time=   2.7s\n",
            "[CV] END ...................C=10, gamma=0.01, kernel=sigmoid; total time=   2.9s\n",
            "[CV] END ...................C=10, gamma=0.01, kernel=sigmoid; total time=   3.2s\n",
            "[CV] END ...................C=10, gamma=0.01, kernel=sigmoid; total time=   3.4s\n",
            "[CV] END ...................C=10, gamma=0.01, kernel=sigmoid; total time=   3.0s\n",
            "[CV] END ......................C=10, gamma=0.001, kernel=rbf; total time=   3.5s\n",
            "[CV] END ......................C=10, gamma=0.001, kernel=rbf; total time=   3.6s\n",
            "[CV] END ......................C=10, gamma=0.001, kernel=rbf; total time=   3.6s\n",
            "[CV] END ......................C=10, gamma=0.001, kernel=rbf; total time=   3.5s\n",
            "[CV] END ......................C=10, gamma=0.001, kernel=rbf; total time=   3.5s\n",
            "[CV] END .....................C=10, gamma=0.001, kernel=poly; total time=   4.1s\n",
            "[CV] END .....................C=10, gamma=0.001, kernel=poly; total time=   4.2s\n",
            "[CV] END .....................C=10, gamma=0.001, kernel=poly; total time=   4.2s\n",
            "[CV] END .....................C=10, gamma=0.001, kernel=poly; total time=   4.0s\n",
            "[CV] END .....................C=10, gamma=0.001, kernel=poly; total time=   4.1s\n",
            "[CV] END ..................C=10, gamma=0.001, kernel=sigmoid; total time=   3.4s\n",
            "[CV] END ..................C=10, gamma=0.001, kernel=sigmoid; total time=   3.3s\n",
            "[CV] END ..................C=10, gamma=0.001, kernel=sigmoid; total time=   3.2s\n",
            "[CV] END ..................C=10, gamma=0.001, kernel=sigmoid; total time=   3.1s\n",
            "[CV] END ..................C=10, gamma=0.001, kernel=sigmoid; total time=   3.2s\n"
          ]
        },
        {
          "output_type": "execute_result",
          "data": {
            "text/plain": [
              "GridSearchCV(estimator=SVC(),\n",
              "             param_grid={'C': [0.1, 1, 10], 'gamma': [1, 0.1, 0.01, 0.001],\n",
              "                         'kernel': ['rbf', 'poly', 'sigmoid']},\n",
              "             verbose=2)"
            ]
          },
          "metadata": {},
          "execution_count": 66
        }
      ]
    },
    {
      "cell_type": "code",
      "source": [
        "model = grid.best_estimator_\n",
        "# Training \n",
        "model.fit(bert_sentence_training_features, train_data[\"score\"])\n",
        "\n",
        "# Evaluation\n",
        "y_pred_bert_sentences_svm = model.predict(bert_sentence_test_features)\n",
        "y_prob_bert_sentences_svm = model.decision_function(bert_sentence_test_features)\n",
        "# Result\n",
        "printResult(\"BERT sentences\", \"SVC\", y_pred_bert_sentences_svm, y_prob_bert_sentences_svm)"
      ],
      "metadata": {
        "id": "nc60F2tvEJR-",
        "colab": {
          "base_uri": "https://localhost:8080/",
          "height": 886
        },
        "outputId": "33d654f1-a9ad-4a10-9f49-ea6979280dbd"
      },
      "execution_count": 67,
      "outputs": [
        {
          "output_type": "stream",
          "name": "stdout",
          "text": [
            "Method: BERT sentences\n",
            "Classifier: SVC\n",
            "Accuracy: 80.72\n",
            "\n",
            "              precision    recall  f1-score   support\n",
            "\n",
            "           0       0.73      0.75      0.74       110\n",
            "           1       0.84      0.88      0.86       571\n",
            "           2       0.77      0.68      0.72       289\n",
            "\n",
            "    accuracy                           0.81       970\n",
            "   macro avg       0.78      0.77      0.77       970\n",
            "weighted avg       0.81      0.81      0.80       970\n",
            "\n",
            "Area under the ROC curve : 0.999795\n",
            "Area under the ROC curve : 1.000000\n",
            "Area under the ROC curve : 1.000000\n"
          ]
        },
        {
          "output_type": "display_data",
          "data": {
            "text/plain": [
              "<Figure size 432x288 with 2 Axes>"
            ],
            "image/png": "[encoded data removed]"
          },
          "metadata": {
            "needs_background": "light"
          }
        },
        {
          "output_type": "display_data",
          "data": {
            "text/plain": [
              "<Figure size 432x288 with 1 Axes>"
            ],
            "image/png": "[encoded data removed]"
          },
          "metadata": {
            "needs_background": "light"
          }
        }
      ]
    },
    {
      "cell_type": "code",
      "source": [
        "#!!!!!! Bernoulli NB!!!!!"
      ],
      "metadata": {
        "id": "yZ_CAtlRapSO"
      },
      "execution_count": 68,
      "outputs": []
    },
    {
      "cell_type": "code",
      "source": [
        "#Bernoulli NB\n",
        "from sklearn.naive_bayes import BernoulliNB\n",
        "params = {'alpha': [0.01, 0.1, 0.5, 1.0, 10.0]}\n",
        "\n",
        "grid = GridSearchCV(BernoulliNB(), param_grid=params, n_jobs=-1, cv=5, verbose=5)\n",
        "grid.fit(bow_training_features.toarray(), train_data[\"score\"])\n",
        "\n",
        "print(grid.best_estimator_)\n",
        "#model = MultinomialNB()"
      ],
      "metadata": {
        "id": "01T-G4VOSsSN",
        "colab": {
          "base_uri": "https://localhost:8080/"
        },
        "outputId": "fd652565-bbb3-4e0c-c05c-377656faf618"
      },
      "execution_count": 69,
      "outputs": [
        {
          "output_type": "stream",
          "name": "stdout",
          "text": [
            "Fitting 5 folds for each of 5 candidates, totalling 25 fits\n",
            "BernoulliNB()\n"
          ]
        }
      ]
    },
    {
      "cell_type": "code",
      "source": [
        "model = BernoulliNB()\n",
        "# Training\n",
        "model.fit(bow_training_features.toarray(), train_data[\"score\"])\n",
        "\n",
        "# Evaluation\n",
        "y_pred_bow_nb = model.predict(bow_test_features.toarray())\n",
        "\n",
        "y_prob_bow_nb = model.predict_proba(bow_test_features.toarray())\n",
        "# Result\n",
        "printResult(\"Bag Of Words\", \"Bernoulli Naive-Bayes\", y_pred_bow_nb, y_prob_bow_nb)"
      ],
      "metadata": {
        "id": "-QX_LHbjSsVd",
        "colab": {
          "base_uri": "https://localhost:8080/",
          "height": 606
        },
        "outputId": "8964bb25-3619-45e1-9276-0709573b6929"
      },
      "execution_count": 125,
      "outputs": [
        {
          "output_type": "stream",
          "name": "stdout",
          "text": [
            "Method: Bag Of Words\n",
            "Classifier: Bernoulli Naive-Bayes\n",
            "Accuracy: 72.78\n",
            "\n",
            "              precision    recall  f1-score   support\n",
            "\n",
            "           0       0.56      0.53      0.54       110\n",
            "           1       0.75      0.91      0.82       571\n",
            "           2       0.73      0.44      0.55       289\n",
            "\n",
            "    accuracy                           0.73       970\n",
            "   macro avg       0.68      0.63      0.64       970\n",
            "weighted avg       0.72      0.73      0.71       970\n",
            "\n",
            "Area under the ROC curve : 0.999967\n",
            "Area under the ROC curve : 0.999607\n",
            "Area under the ROC curve : 0.999692\n"
          ]
        },
        {
          "output_type": "display_data",
          "data": {
            "text/plain": [
              "<Figure size 432x288 with 2 Axes>"
            ],
            "image/png": "[encoded data removed]"
          },
          "metadata": {
            "needs_background": "light"
          }
        }
      ]
    },
    {
      "cell_type": "code",
      "source": [
        "grid = GridSearchCV(BernoulliNB(), param_grid=params, cv=5, verbose=5)\n",
        "grid.fit(tfidf_with_stop_training_features, train_data[\"score\"])\n",
        "\n",
        "print(grid.best_estimator_)"
      ],
      "metadata": {
        "id": "B1Ab87EpkrW2",
        "colab": {
          "base_uri": "https://localhost:8080/"
        },
        "outputId": "3fb2292d-7c79-4783-affc-1e4fa4126cb2"
      },
      "execution_count": 71,
      "outputs": [
        {
          "output_type": "stream",
          "name": "stdout",
          "text": [
            "Fitting 5 folds for each of 5 candidates, totalling 25 fits\n",
            "[CV 1/5] END ........................alpha=0.01;, score=0.706 total time=   0.0s\n",
            "[CV 2/5] END ........................alpha=0.01;, score=0.732 total time=   0.0s\n",
            "[CV 3/5] END ........................alpha=0.01;, score=0.723 total time=   0.0s\n",
            "[CV 4/5] END ........................alpha=0.01;, score=0.763 total time=   0.0s\n",
            "[CV 5/5] END ........................alpha=0.01;, score=0.693 total time=   0.0s\n",
            "[CV 1/5] END .........................alpha=0.1;, score=0.702 total time=   0.0s\n",
            "[CV 2/5] END .........................alpha=0.1;, score=0.738 total time=   0.0s\n",
            "[CV 3/5] END .........................alpha=0.1;, score=0.721 total time=   0.0s\n",
            "[CV 4/5] END .........................alpha=0.1;, score=0.759 total time=   0.0s\n",
            "[CV 5/5] END .........................alpha=0.1;, score=0.705 total time=   0.0s\n",
            "[CV 1/5] END .........................alpha=0.5;, score=0.728 total time=   0.0s\n",
            "[CV 2/5] END .........................alpha=0.5;, score=0.741 total time=   0.0s\n",
            "[CV 3/5] END .........................alpha=0.5;, score=0.748 total time=   0.0s\n",
            "[CV 4/5] END .........................alpha=0.5;, score=0.781 total time=   0.0s\n",
            "[CV 5/5] END .........................alpha=0.5;, score=0.729 total time=   0.0s\n",
            "[CV 1/5] END .........................alpha=1.0;, score=0.686 total time=   0.0s\n",
            "[CV 2/5] END .........................alpha=1.0;, score=0.689 total time=   0.0s\n",
            "[CV 3/5] END .........................alpha=1.0;, score=0.686 total time=   0.0s\n",
            "[CV 4/5] END .........................alpha=1.0;, score=0.712 total time=   0.0s\n",
            "[CV 5/5] END .........................alpha=1.0;, score=0.693 total time=   0.0s\n",
            "[CV 1/5] END ........................alpha=10.0;, score=0.595 total time=   0.0s\n",
            "[CV 2/5] END ........................alpha=10.0;, score=0.596 total time=   0.0s\n",
            "[CV 3/5] END ........................alpha=10.0;, score=0.596 total time=   0.0s\n",
            "[CV 4/5] END ........................alpha=10.0;, score=0.595 total time=   0.0s\n",
            "[CV 5/5] END ........................alpha=10.0;, score=0.595 total time=   0.0s\n",
            "BernoulliNB(alpha=0.5)\n"
          ]
        }
      ]
    },
    {
      "cell_type": "code",
      "source": [
        "method = \"TD-IDF with stop words\"\n",
        "classification = \"Bernoulli Naive-Bayes\"\n",
        "\n",
        "model = BernoulliNB(alpha=0.5)\n",
        "\n",
        "# Training\n",
        "model.fit(tfidf_with_stop_training_features, train_data[\"score\"])\n",
        "\n",
        "# Evaluation\n",
        "y_pred_tfidf_with_stop_nb = model.predict(tfidf_with_stop_test_features)\n",
        "y_prob_tfidf_with_stop_nb = model.predict_proba(tfidf_with_stop_test_features)\n",
        "\n",
        "# Result\n",
        "printResult(method, classification, y_pred_tfidf_with_stop_nb, y_prob_tfidf_with_stop_nb)"
      ],
      "metadata": {
        "id": "J4hWUXzcTzWb",
        "colab": {
          "base_uri": "https://localhost:8080/",
          "height": 606
        },
        "outputId": "f350d00c-553c-4df0-a52d-ccd580938530"
      },
      "execution_count": 128,
      "outputs": [
        {
          "output_type": "stream",
          "name": "stdout",
          "text": [
            "Method: TD-IDF with stop words\n",
            "Classifier: Bernoulli Naive-Bayes\n",
            "Accuracy: 74.23\n",
            "\n",
            "              precision    recall  f1-score   support\n",
            "\n",
            "           0       0.78      0.43      0.55       110\n",
            "           1       0.73      0.94      0.83       571\n",
            "           2       0.76      0.46      0.58       289\n",
            "\n",
            "    accuracy                           0.74       970\n",
            "   macro avg       0.76      0.61      0.65       970\n",
            "weighted avg       0.75      0.74      0.72       970\n",
            "\n",
            "Area under the ROC curve : 1.000000\n",
            "Area under the ROC curve : 1.000000\n",
            "Area under the ROC curve : 1.000000\n"
          ]
        },
        {
          "output_type": "display_data",
          "data": {
            "text/plain": [
              "<Figure size 432x288 with 2 Axes>"
            ],
            "image/png": "[encoded data removed]"
          },
          "metadata": {
            "needs_background": "light"
          }
        }
      ]
    },
    {
      "cell_type": "code",
      "source": [
        "grid = GridSearchCV(BernoulliNB(), param_grid=params, cv=5, verbose=5)\n",
        "grid.fit(tfidf_no_stop_training_features, train_data[\"score\"])\n",
        "\n",
        "print(grid.best_estimator_)"
      ],
      "metadata": {
        "id": "AHxt2RfSk1_N",
        "colab": {
          "base_uri": "https://localhost:8080/"
        },
        "outputId": "88dc7cf5-fcc2-4ea8-b4d4-5efa27775156"
      },
      "execution_count": 73,
      "outputs": [
        {
          "output_type": "stream",
          "name": "stdout",
          "text": [
            "Fitting 5 folds for each of 5 candidates, totalling 25 fits\n",
            "[CV 1/5] END ........................alpha=0.01;, score=0.665 total time=   0.0s\n",
            "[CV 2/5] END ........................alpha=0.01;, score=0.646 total time=   0.0s\n",
            "[CV 3/5] END ........................alpha=0.01;, score=0.659 total time=   0.0s\n",
            "[CV 4/5] END ........................alpha=0.01;, score=0.668 total time=   0.0s\n",
            "[CV 5/5] END ........................alpha=0.01;, score=0.662 total time=   0.0s\n",
            "[CV 1/5] END .........................alpha=0.1;, score=0.669 total time=   0.0s\n",
            "[CV 2/5] END .........................alpha=0.1;, score=0.672 total time=   0.0s\n",
            "[CV 3/5] END .........................alpha=0.1;, score=0.685 total time=   0.0s\n",
            "[CV 4/5] END .........................alpha=0.1;, score=0.683 total time=   0.0s\n",
            "[CV 5/5] END .........................alpha=0.1;, score=0.666 total time=   0.0s\n",
            "[CV 1/5] END .........................alpha=0.5;, score=0.686 total time=   0.0s\n",
            "[CV 2/5] END .........................alpha=0.5;, score=0.705 total time=   0.0s\n",
            "[CV 3/5] END .........................alpha=0.5;, score=0.715 total time=   0.0s\n",
            "[CV 4/5] END .........................alpha=0.5;, score=0.728 total time=   0.0s\n",
            "[CV 5/5] END .........................alpha=0.5;, score=0.699 total time=   0.0s\n",
            "[CV 1/5] END .........................alpha=1.0;, score=0.666 total time=   0.0s\n",
            "[CV 2/5] END .........................alpha=1.0;, score=0.668 total time=   0.0s\n",
            "[CV 3/5] END .........................alpha=1.0;, score=0.650 total time=   0.0s\n",
            "[CV 4/5] END .........................alpha=1.0;, score=0.676 total time=   0.0s\n",
            "[CV 5/5] END .........................alpha=1.0;, score=0.661 total time=   0.0s\n",
            "[CV 1/5] END ........................alpha=10.0;, score=0.595 total time=   0.0s\n",
            "[CV 2/5] END ........................alpha=10.0;, score=0.596 total time=   0.0s\n",
            "[CV 3/5] END ........................alpha=10.0;, score=0.596 total time=   0.0s\n",
            "[CV 4/5] END ........................alpha=10.0;, score=0.595 total time=   0.0s\n",
            "[CV 5/5] END ........................alpha=10.0;, score=0.595 total time=   0.0s\n",
            "BernoulliNB(alpha=0.5)\n"
          ]
        }
      ]
    },
    {
      "cell_type": "code",
      "source": [
        "method = \"TD-IDF with no stop words\"\n",
        "classification = \"Bernoulli Naive-Bayes\"\n",
        "\n",
        "model = BernoulliNB(alpha=0.5)\n",
        "# Training\n",
        "model.fit(tfidf_no_stop_training_features, train_data[\"score\"])\n",
        "\n",
        "# Evaluation\n",
        "y_pred_tfidf_no_stop_nb = model.predict(tfidf_no_stop_test_features)\n",
        "\n",
        "y_prob_tfidf_no_stop_nb = model.predict_proba(tfidf_no_stop_test_features)\n",
        "# Result\n",
        "printResult(method, classification, y_pred_tfidf_no_stop_nb, y_prob_tfidf_no_stop_nb)"
      ],
      "metadata": {
        "id": "XFSSkDa7UC2z",
        "colab": {
          "base_uri": "https://localhost:8080/",
          "height": 606
        },
        "outputId": "247318c6-d4c7-4aa0-f0ce-659012b20b58"
      },
      "execution_count": 130,
      "outputs": [
        {
          "output_type": "stream",
          "name": "stdout",
          "text": [
            "Method: TD-IDF with no stop words\n",
            "Classifier: Bernoulli Naive-Bayes\n",
            "Accuracy: 71.86\n",
            "\n",
            "              precision    recall  f1-score   support\n",
            "\n",
            "           0       0.82      0.29      0.43       110\n",
            "           1       0.71      0.97      0.82       571\n",
            "           2       0.74      0.38      0.51       289\n",
            "\n",
            "    accuracy                           0.72       970\n",
            "   macro avg       0.76      0.55      0.59       970\n",
            "weighted avg       0.73      0.72      0.68       970\n",
            "\n",
            "Area under the ROC curve : 1.000000\n",
            "Area under the ROC curve : 1.000000\n",
            "Area under the ROC curve : 1.000000\n"
          ]
        },
        {
          "output_type": "display_data",
          "data": {
            "text/plain": [
              "<Figure size 432x288 with 2 Axes>"
            ],
            "image/png": "[encoded data removed]"
          },
          "metadata": {
            "needs_background": "light"
          }
        }
      ]
    },
    {
      "cell_type": "code",
      "source": [
        "grid = GridSearchCV(BernoulliNB(), param_grid=params, cv=5, verbose=5)\n",
        "grid.fit(word2vec_with_stop_training_features, train_data[\"score\"])\n",
        "\n",
        "print(grid.best_estimator_)"
      ],
      "metadata": {
        "id": "k7fxVWddnBib",
        "colab": {
          "base_uri": "https://localhost:8080/"
        },
        "outputId": "28406590-ee16-443a-ca98-5a814a212943"
      },
      "execution_count": 75,
      "outputs": [
        {
          "output_type": "stream",
          "name": "stdout",
          "text": [
            "Fitting 5 folds for each of 5 candidates, totalling 25 fits\n",
            "[CV 1/5] END ........................alpha=0.01;, score=0.594 total time=   0.0s\n",
            "[CV 2/5] END ........................alpha=0.01;, score=0.585 total time=   0.0s\n",
            "[CV 3/5] END ........................alpha=0.01;, score=0.643 total time=   0.0s\n",
            "[CV 4/5] END ........................alpha=0.01;, score=0.613 total time=   0.0s\n",
            "[CV 5/5] END ........................alpha=0.01;, score=0.588 total time=   0.0s\n",
            "[CV 1/5] END .........................alpha=0.1;, score=0.594 total time=   0.1s\n",
            "[CV 2/5] END .........................alpha=0.1;, score=0.585 total time=   0.0s\n",
            "[CV 3/5] END .........................alpha=0.1;, score=0.643 total time=   0.0s\n",
            "[CV 4/5] END .........................alpha=0.1;, score=0.613 total time=   0.0s\n",
            "[CV 5/5] END .........................alpha=0.1;, score=0.588 total time=   0.0s\n",
            "[CV 1/5] END .........................alpha=0.5;, score=0.594 total time=   0.0s\n",
            "[CV 2/5] END .........................alpha=0.5;, score=0.585 total time=   0.1s\n",
            "[CV 3/5] END .........................alpha=0.5;, score=0.643 total time=   0.0s\n",
            "[CV 4/5] END .........................alpha=0.5;, score=0.613 total time=   0.0s\n",
            "[CV 5/5] END .........................alpha=0.5;, score=0.588 total time=   0.0s\n",
            "[CV 1/5] END .........................alpha=1.0;, score=0.594 total time=   0.0s\n",
            "[CV 2/5] END .........................alpha=1.0;, score=0.585 total time=   0.0s\n",
            "[CV 3/5] END .........................alpha=1.0;, score=0.643 total time=   0.0s\n",
            "[CV 4/5] END .........................alpha=1.0;, score=0.613 total time=   0.0s\n",
            "[CV 5/5] END .........................alpha=1.0;, score=0.588 total time=   0.0s\n",
            "[CV 1/5] END ........................alpha=10.0;, score=0.594 total time=   0.0s\n",
            "[CV 2/5] END ........................alpha=10.0;, score=0.604 total time=   0.0s\n",
            "[CV 3/5] END ........................alpha=10.0;, score=0.636 total time=   0.0s\n",
            "[CV 4/5] END ........................alpha=10.0;, score=0.615 total time=   0.0s\n",
            "[CV 5/5] END ........................alpha=10.0;, score=0.606 total time=   0.0s\n",
            "BernoulliNB(alpha=10.0)\n"
          ]
        }
      ]
    },
    {
      "cell_type": "code",
      "source": [
        "method = \"Word2Vec\"\n",
        "classification = \"Bernoulli Naive-Bayes\"\n",
        "\n",
        "model = BernoulliNB(alpha=10.0)\n",
        "\n",
        "# Training \n",
        "model.fit(word2vec_with_stop_training_features, train_data[\"score\"])\n",
        "\n",
        "# Evaluation\n",
        "y_pred_w2v_with_stop_nb = model.predict(word2vec_with_stop_test_features)\n",
        "y_prob_w2v_with_stop_nb = model.predict_proba(word2vec_with_stop_test_features)\n",
        "\n",
        "# Result\n",
        "printResult(method, classification, y_pred_w2v_with_stop_nb, y_prob_w2v_with_stop_nb)"
      ],
      "metadata": {
        "id": "TmwTNEYdUI1L",
        "colab": {
          "base_uri": "https://localhost:8080/",
          "height": 606
        },
        "outputId": "5d1ca0d1-5997-4bfb-a73b-c5f29cc8d540"
      },
      "execution_count": 132,
      "outputs": [
        {
          "output_type": "stream",
          "name": "stdout",
          "text": [
            "Method: Word2Vec\n",
            "Classifier: Bernoulli Naive-Bayes\n",
            "Accuracy: 60.52\n",
            "\n",
            "              precision    recall  f1-score   support\n",
            "\n",
            "           0       0.31      0.42      0.36       110\n",
            "           1       0.67      0.92      0.77       571\n",
            "           2       0.42      0.06      0.10       289\n",
            "\n",
            "    accuracy                           0.61       970\n",
            "   macro avg       0.47      0.46      0.41       970\n",
            "weighted avg       0.55      0.61      0.53       970\n",
            "\n",
            "Area under the ROC curve : 1.000000\n",
            "Area under the ROC curve : 1.000000\n",
            "Area under the ROC curve : 1.000000\n"
          ]
        },
        {
          "output_type": "display_data",
          "data": {
            "text/plain": [
              "<Figure size 432x288 with 2 Axes>"
            ],
            "image/png": "[encoded data removed]"
          },
          "metadata": {
            "needs_background": "light"
          }
        }
      ]
    },
    {
      "cell_type": "code",
      "source": [
        "grid = GridSearchCV(BernoulliNB(), param_grid=params, cv=5, verbose=5)\n",
        "grid.fit(bert_sentence_training_features, train_data[\"score\"])\n",
        "\n",
        "print(grid.best_estimator_)"
      ],
      "metadata": {
        "id": "2ucv-Z7VncCp",
        "colab": {
          "base_uri": "https://localhost:8080/"
        },
        "outputId": "b9416b29-e0d4-41ed-afc1-54a925b7b3c8"
      },
      "execution_count": 77,
      "outputs": [
        {
          "output_type": "stream",
          "name": "stdout",
          "text": [
            "Fitting 5 folds for each of 5 candidates, totalling 25 fits\n",
            "[CV 1/5] END ........................alpha=0.01;, score=0.655 total time=   0.1s\n",
            "[CV 2/5] END ........................alpha=0.01;, score=0.662 total time=   0.1s\n",
            "[CV 3/5] END ........................alpha=0.01;, score=0.708 total time=   0.1s\n",
            "[CV 4/5] END ........................alpha=0.01;, score=0.670 total time=   0.1s\n",
            "[CV 5/5] END ........................alpha=0.01;, score=0.676 total time=   0.1s\n",
            "[CV 1/5] END .........................alpha=0.1;, score=0.655 total time=   0.1s\n",
            "[CV 2/5] END .........................alpha=0.1;, score=0.662 total time=   0.1s\n",
            "[CV 3/5] END .........................alpha=0.1;, score=0.708 total time=   0.1s\n",
            "[CV 4/5] END .........................alpha=0.1;, score=0.668 total time=   0.1s\n",
            "[CV 5/5] END .........................alpha=0.1;, score=0.674 total time=   0.1s\n",
            "[CV 1/5] END .........................alpha=0.5;, score=0.655 total time=   0.1s\n",
            "[CV 2/5] END .........................alpha=0.5;, score=0.663 total time=   0.1s\n",
            "[CV 3/5] END .........................alpha=0.5;, score=0.706 total time=   0.1s\n",
            "[CV 4/5] END .........................alpha=0.5;, score=0.668 total time=   0.1s\n",
            "[CV 5/5] END .........................alpha=0.5;, score=0.674 total time=   0.1s\n",
            "[CV 1/5] END .........................alpha=1.0;, score=0.655 total time=   0.1s\n",
            "[CV 2/5] END .........................alpha=1.0;, score=0.659 total time=   0.1s\n",
            "[CV 3/5] END .........................alpha=1.0;, score=0.706 total time=   0.1s\n",
            "[CV 4/5] END .........................alpha=1.0;, score=0.667 total time=   0.1s\n",
            "[CV 5/5] END .........................alpha=1.0;, score=0.672 total time=   0.1s\n",
            "[CV 1/5] END ........................alpha=10.0;, score=0.649 total time=   0.1s\n",
            "[CV 2/5] END ........................alpha=10.0;, score=0.650 total time=   0.1s\n",
            "[CV 3/5] END ........................alpha=10.0;, score=0.693 total time=   0.1s\n",
            "[CV 4/5] END ........................alpha=10.0;, score=0.655 total time=   0.1s\n",
            "[CV 5/5] END ........................alpha=10.0;, score=0.648 total time=   0.1s\n",
            "BernoulliNB(alpha=0.01)\n"
          ]
        }
      ]
    },
    {
      "cell_type": "code",
      "source": [
        "method = \"BERT\"\n",
        "classification = \"Bernoulli Naive-Bayes\"\n",
        "\n",
        "model = BernoulliNB(alpha=0.01)\n",
        "\n",
        "# Training \n",
        "model.fit(bert_sentence_training_features, train_data[\"score\"])\n",
        "\n",
        "# Evaluation\n",
        "y_pred_bert_sentences_nb = model.predict(bert_sentence_test_features)\n",
        "y_prob_bert_sentences_nb = model.predict_proba(bert_sentence_test_features)\n",
        "\n",
        "# Result\n",
        "printResult(method, classification, y_pred_bert_sentences_nb, y_prob_bert_sentences_nb)"
      ],
      "metadata": {
        "id": "V4VJ-xJHUb6n",
        "colab": {
          "base_uri": "https://localhost:8080/",
          "height": 606
        },
        "outputId": "9f28d628-114a-4e5d-e234-51a989ed438e"
      },
      "execution_count": 134,
      "outputs": [
        {
          "output_type": "stream",
          "name": "stdout",
          "text": [
            "Method: BERT\n",
            "Classifier: Bernoulli Naive-Bayes\n",
            "Accuracy: 65.88\n",
            "\n",
            "              precision    recall  f1-score   support\n",
            "\n",
            "           0       0.42      0.85      0.56       110\n",
            "           1       0.81      0.68      0.74       571\n",
            "           2       0.58      0.55      0.56       289\n",
            "\n",
            "    accuracy                           0.66       970\n",
            "   macro avg       0.61      0.69      0.62       970\n",
            "weighted avg       0.70      0.66      0.67       970\n",
            "\n",
            "Area under the ROC curve : 1.000000\n",
            "Area under the ROC curve : 0.999957\n",
            "Area under the ROC curve : 1.000000\n"
          ]
        },
        {
          "output_type": "display_data",
          "data": {
            "text/plain": [
              "<Figure size 432x288 with 2 Axes>"
            ],
            "image/png": "[encoded data removed]"
          },
          "metadata": {
            "needs_background": "light"
          }
        }
      ]
    },
    {
      "cell_type": "code",
      "source": [
        "tree_para = {'criterion':['gini','entropy'],'max_depth':[4,5,6,7,8,9,10,11,12,15,20,30,40,50,70,90,120,150]}\n",
        "\n",
        "grid = GridSearchCV(DecisionTreeClassifier(), tree_para, cv=5)\n",
        "grid.fit(bow_training_features, train_data[\"score\"])\n",
        "\n",
        "print(grid.best_estimator_)\n",
        "\n",
        "# Decision Tree\n",
        "model = DecisionTreeClassifier(max_features='auto', random_state=42)"
      ],
      "metadata": {
        "id": "NMasRv3QYXh6",
        "colab": {
          "base_uri": "https://localhost:8080/"
        },
        "outputId": "9b13111c-41b0-4d67-aad0-d899effbfa37"
      },
      "execution_count": 80,
      "outputs": [
        {
          "output_type": "stream",
          "name": "stdout",
          "text": [
            "DecisionTreeClassifier(max_depth=30)\n"
          ]
        }
      ]
    },
    {
      "cell_type": "code",
      "source": [
        "method = \"Bag of Words\"\n",
        "classification = \"Decision Tree\"\n",
        "\n",
        "model=DecisionTreeClassifier(max_depth=30)\n",
        "\n",
        "# Training\n",
        "model.fit(bow_training_features, train_data[\"score\"])\n",
        "\n",
        "# Evaluation\n",
        "y_pred_bow_dt = model.predict(bow_test_features)\n",
        "\n",
        "y_prob_bow_dt = model.predict_proba(bow_test_features)\n",
        "# Result\n",
        "printResult(method, classification, y_pred_bow_dt, y_prob_bow_dt)"
      ],
      "metadata": {
        "id": "_8P7kiQhYX-A",
        "colab": {
          "base_uri": "https://localhost:8080/",
          "height": 606
        },
        "outputId": "38a6fb6f-a74d-4a29-92ce-56e1e7ee81af"
      },
      "execution_count": 135,
      "outputs": [
        {
          "output_type": "stream",
          "name": "stdout",
          "text": [
            "Method: Bag of Words\n",
            "Classifier: Decision Tree\n",
            "Accuracy: 74.23\n",
            "\n",
            "              precision    recall  f1-score   support\n",
            "\n",
            "           0       0.62      0.45      0.53       110\n",
            "           1       0.75      0.94      0.83       571\n",
            "           2       0.75      0.47      0.58       289\n",
            "\n",
            "    accuracy                           0.74       970\n",
            "   macro avg       0.71      0.62      0.65       970\n",
            "weighted avg       0.74      0.74      0.72       970\n",
            "\n",
            "Area under the ROC curve : 1.000000\n",
            "Area under the ROC curve : 1.000000\n",
            "Area under the ROC curve : 1.000000\n"
          ]
        },
        {
          "output_type": "display_data",
          "data": {
            "text/plain": [
              "<Figure size 432x288 with 2 Axes>"
            ],
            "image/png": "[encoded data removed]"
          },
          "metadata": {
            "needs_background": "light"
          }
        }
      ]
    },
    {
      "cell_type": "code",
      "source": [
        "grid = GridSearchCV(DecisionTreeClassifier(), tree_para, cv=5)\n",
        "grid.fit(tfidf_with_stop_training_features, train_data[\"score\"])\n",
        "\n",
        "print(grid.best_estimator_)"
      ],
      "metadata": {
        "colab": {
          "base_uri": "https://localhost:8080/"
        },
        "id": "cymJZUKQ4Arh",
        "outputId": "27e80586-fa7d-4e47-8375-403972fdff22"
      },
      "execution_count": 84,
      "outputs": [
        {
          "output_type": "stream",
          "name": "stdout",
          "text": [
            "DecisionTreeClassifier(max_depth=30)\n",
            "DecisionTreeClassifier(max_depth=30)\n"
          ]
        }
      ]
    },
    {
      "cell_type": "code",
      "source": [
        "method = \"TF-IDF with stop words\"\n",
        "classification = \"Decision Tree\"\n",
        "\n",
        "model = DecisionTreeClassifier(max_depth=30)\n",
        "# Training\n",
        "model.fit(tfidf_with_stop_training_features, train_data[\"score\"])\n",
        "\n",
        "# Evaluation\n",
        "y_pred_tfidf_with_stop_dt = model.predict(tfidf_with_stop_test_features)\n",
        "\n",
        "y_prob_tfidf_with_stop_dt = model.predict_proba(tfidf_with_stop_test_features)\n",
        "# Result\n",
        "printResult(method, classification, y_pred_tfidf_with_stop_dt, y_prob_tfidf_with_stop_dt)"
      ],
      "metadata": {
        "id": "Qg6dqFFVYYBE",
        "colab": {
          "base_uri": "https://localhost:8080/",
          "height": 606
        },
        "outputId": "70281702-9992-44b7-8f02-5a9125cc1ebb"
      },
      "execution_count": 137,
      "outputs": [
        {
          "output_type": "stream",
          "name": "stdout",
          "text": [
            "Method: TF-IDF with stop words\n",
            "Classifier: Decision Tree\n",
            "Accuracy: 73.71\n",
            "\n",
            "              precision    recall  f1-score   support\n",
            "\n",
            "           0       0.73      0.49      0.59       110\n",
            "           1       0.74      0.91      0.82       571\n",
            "           2       0.72      0.49      0.59       289\n",
            "\n",
            "    accuracy                           0.74       970\n",
            "   macro avg       0.73      0.63      0.66       970\n",
            "weighted avg       0.73      0.74      0.72       970\n",
            "\n",
            "Area under the ROC curve : 1.000000\n",
            "Area under the ROC curve : 1.000000\n",
            "Area under the ROC curve : 1.000000\n"
          ]
        },
        {
          "output_type": "display_data",
          "data": {
            "text/plain": [
              "<Figure size 432x288 with 2 Axes>"
            ],
            "image/png": "[encoded data removed]"
          },
          "metadata": {
            "needs_background": "light"
          }
        }
      ]
    },
    {
      "cell_type": "code",
      "source": [
        "grid = GridSearchCV(DecisionTreeClassifier(), tree_para, cv=5)\n",
        "grid.fit(tfidf_no_stop_training_features, train_data[\"score\"])\n",
        "\n",
        "print(grid.best_estimator_)"
      ],
      "metadata": {
        "colab": {
          "base_uri": "https://localhost:8080/"
        },
        "id": "bPUXXcU54baR",
        "outputId": "bb4709ea-25a5-45e0-d5c8-eae85a847c88"
      },
      "execution_count": 86,
      "outputs": [
        {
          "output_type": "stream",
          "name": "stdout",
          "text": [
            "DecisionTreeClassifier(max_depth=40)\n"
          ]
        }
      ]
    },
    {
      "cell_type": "code",
      "source": [
        "method = \"TF-IDF with no stop words\"\n",
        "classification = \"Decision Tree\"\n",
        "\n",
        "model = DecisionTreeClassifier(max_depth=40)\n",
        "\n",
        "# Training\n",
        "model.fit(tfidf_no_stop_training_features, train_data[\"score\"])\n",
        "\n",
        "# Evaluation\n",
        "y_pred_tfidf_no_stop_dt = model.predict(tfidf_no_stop_test_features)\n",
        "y_prob_tfidf_no_stop_dt = model.predict_proba(tfidf_no_stop_test_features)\n",
        "\n",
        "# Result\n",
        "printResult(method, classification,y_pred_tfidf_no_stop_dt, y_prob_tfidf_no_stop_dt)"
      ],
      "metadata": {
        "id": "qTPXzOj3YYEB",
        "colab": {
          "base_uri": "https://localhost:8080/",
          "height": 606
        },
        "outputId": "adbc19e7-e065-4004-ff24-497ca396d88b"
      },
      "execution_count": 138,
      "outputs": [
        {
          "output_type": "stream",
          "name": "stdout",
          "text": [
            "Method: TF-IDF with no stop words\n",
            "Classifier: Decision Tree\n",
            "Accuracy: 74.02\n",
            "\n",
            "              precision    recall  f1-score   support\n",
            "\n",
            "           0       0.60      0.47      0.53       110\n",
            "           1       0.75      0.93      0.83       571\n",
            "           2       0.75      0.47      0.58       289\n",
            "\n",
            "    accuracy                           0.74       970\n",
            "   macro avg       0.70      0.62      0.65       970\n",
            "weighted avg       0.74      0.74      0.72       970\n",
            "\n",
            "Area under the ROC curve : 1.000000\n",
            "Area under the ROC curve : 1.000000\n",
            "Area under the ROC curve : 1.000000\n"
          ]
        },
        {
          "output_type": "display_data",
          "data": {
            "text/plain": [
              "<Figure size 432x288 with 2 Axes>"
            ],
            "image/png": "[encoded data removed]"
          },
          "metadata": {
            "needs_background": "light"
          }
        }
      ]
    },
    {
      "cell_type": "code",
      "source": [
        "grid = GridSearchCV(DecisionTreeClassifier(), tree_para, cv=5)\n",
        "grid.fit(word2vec_with_stop_training_features, train_data[\"score\"])\n",
        "\n",
        "print(grid.best_estimator_)"
      ],
      "metadata": {
        "colab": {
          "base_uri": "https://localhost:8080/"
        },
        "id": "CJ52gvfV5PMM",
        "outputId": "8f7b784f-18b8-4f00-a573-6a62e3a79693"
      },
      "execution_count": 88,
      "outputs": [
        {
          "output_type": "stream",
          "name": "stdout",
          "text": [
            "DecisionTreeClassifier(max_depth=5)\n"
          ]
        }
      ]
    },
    {
      "cell_type": "code",
      "source": [
        "method = \"Word2Vec\"\n",
        "classification = \"Decision Tree\"\n",
        "\n",
        "model = DecisionTreeClassifier(max_depth=5)\n",
        "\n",
        "# Training\n",
        "model.fit(word2vec_with_stop_training_features, train_data[\"score\"])\n",
        "\n",
        "# Evaluation\n",
        "y_pred_w2v_with_stop_dt = model.predict(word2vec_with_stop_test_features)\n",
        "y_prob_w2v_with_stop_dt = model.predict_proba(word2vec_with_stop_test_features)\n",
        "\n",
        "# Result\n",
        "printResult(method, classification, y_pred_w2v_with_stop_dt, y_prob_w2v_with_stop_dt)"
      ],
      "metadata": {
        "id": "yzBYPL2HYYG4",
        "colab": {
          "base_uri": "https://localhost:8080/",
          "height": 606
        },
        "outputId": "d5a1ebef-c781-4fee-9916-d14f8460a4d3"
      },
      "execution_count": 139,
      "outputs": [
        {
          "output_type": "stream",
          "name": "stdout",
          "text": [
            "Method: Word2Vec\n",
            "Classifier: Decision Tree\n",
            "Accuracy: 62.37\n",
            "\n",
            "              precision    recall  f1-score   support\n",
            "\n",
            "           0       0.38      0.03      0.05       110\n",
            "           1       0.68      0.87      0.77       571\n",
            "           2       0.45      0.36      0.40       289\n",
            "\n",
            "    accuracy                           0.62       970\n",
            "   macro avg       0.50      0.42      0.40       970\n",
            "weighted avg       0.58      0.62      0.57       970\n",
            "\n",
            "Area under the ROC curve : 1.000000\n",
            "Area under the ROC curve : 1.000000\n",
            "Area under the ROC curve : 0.996588\n"
          ]
        },
        {
          "output_type": "display_data",
          "data": {
            "text/plain": [
              "<Figure size 432x288 with 2 Axes>"
            ],
            "image/png": "[encoded data removed]"
          },
          "metadata": {
            "needs_background": "light"
          }
        }
      ]
    },
    {
      "cell_type": "code",
      "source": [
        "grid = GridSearchCV(DecisionTreeClassifier(), tree_para, cv=5)\n",
        "grid.fit(bert_sentence_training_features, train_data[\"score\"])\n",
        "\n",
        "print(grid.best_estimator_)"
      ],
      "metadata": {
        "colab": {
          "base_uri": "https://localhost:8080/"
        },
        "id": "LQcH6VQP5Xw8",
        "outputId": "085465d5-9b66-443f-b54e-337200602b23"
      },
      "execution_count": 90,
      "outputs": [
        {
          "output_type": "stream",
          "name": "stdout",
          "text": [
            "DecisionTreeClassifier(max_depth=6)\n"
          ]
        }
      ]
    },
    {
      "cell_type": "code",
      "source": [
        "method = \"BERT\"\n",
        "classification = \"Decision Tree\"\n",
        "\n",
        "model = DecisionTreeClassifier(max_depth=6)\n",
        "\n",
        "# Training\n",
        "model.fit(bert_sentence_training_features, train_data[\"score\"])\n",
        "\n",
        "# Evaluation\n",
        "y_pred_bert_sentences_dt = model.predict(bert_sentence_test_features)\n",
        "y_prob_bert_sentences_dt = model.predict_proba(bert_sentence_test_features)\n",
        "\n",
        "# Result\n",
        "printResult(method, classification, y_pred_bert_sentences_dt, y_prob_bert_sentences_dt)"
      ],
      "metadata": {
        "id": "M2clXYRQZVzv",
        "colab": {
          "base_uri": "https://localhost:8080/",
          "height": 609
        },
        "outputId": "e9b1ebd9-5907-4354-fb9e-9f23da6a19ff"
      },
      "execution_count": 145,
      "outputs": [
        {
          "output_type": "stream",
          "name": "stdout",
          "text": [
            "Method: BERT\n",
            "Classifier: Decision Tree\n",
            "Accuracy: 69.38\n",
            "\n",
            "              precision    recall  f1-score   support\n",
            "\n",
            "           0       0.61      0.61      0.61       110\n",
            "           1       0.75      0.79      0.77       571\n",
            "           2       0.59      0.54      0.56       289\n",
            "\n",
            "    accuracy                           0.69       970\n",
            "   macro avg       0.65      0.65      0.65       970\n",
            "weighted avg       0.69      0.69      0.69       970\n",
            "\n",
            "Area under the ROC curve : 1.000000\n",
            "Area under the ROC curve : 0.997766\n",
            "Area under the ROC curve : 1.000000\n"
          ]
        },
        {
          "output_type": "display_data",
          "data": {
            "text/plain": [
              "<Figure size 432x288 with 2 Axes>"
            ],
            "image/png": "[encoded data removed]"
          },
          "metadata": {
            "needs_background": "light"
          }
        }
      ]
    },
    {
      "cell_type": "code",
      "source": [
        "#Random Forest\n",
        "rfc=RandomForestClassifier(random_state=42)"
      ],
      "metadata": {
        "id": "R6K2Be7aZdjQ"
      },
      "execution_count": 92,
      "outputs": []
    },
    {
      "cell_type": "code",
      "source": [
        "param_grid = { \n",
        "    'n_estimators': [200, 500],\n",
        "    'max_features': ['auto', 'sqrt', 'log2'],\n",
        "    'max_depth' : [4,5,6,7,8],\n",
        "    'criterion' :['gini', 'entropy']\n",
        "}"
      ],
      "metadata": {
        "id": "9GwhZADWZk9O"
      },
      "execution_count": 93,
      "outputs": []
    },
    {
      "cell_type": "code",
      "source": [
        "grid = GridSearchCV(estimator=rfc, param_grid=param_grid, cv= 5)\n",
        "grid.fit(bow_training_features, train_data[\"score\"])"
      ],
      "metadata": {
        "id": "g8yKq72HrK5I",
        "colab": {
          "base_uri": "https://localhost:8080/"
        },
        "outputId": "4c687a84-5c56-4820-9c64-595720e610b8"
      },
      "execution_count": 94,
      "outputs": [
        {
          "output_type": "execute_result",
          "data": {
            "text/plain": [
              "GridSearchCV(cv=5, estimator=RandomForestClassifier(random_state=42),\n",
              "             param_grid={'criterion': ['gini', 'entropy'],\n",
              "                         'max_depth': [4, 5, 6, 7, 8],\n",
              "                         'max_features': ['auto', 'sqrt', 'log2'],\n",
              "                         'n_estimators': [200, 500]})"
            ]
          },
          "metadata": {},
          "execution_count": 94
        }
      ]
    },
    {
      "cell_type": "code",
      "source": [
        "print(grid.best_params_)"
      ],
      "metadata": {
        "id": "vabqZNG3sAUB",
        "colab": {
          "base_uri": "https://localhost:8080/"
        },
        "outputId": "3e7b5dc1-c462-4b98-8427-a130905f6526"
      },
      "execution_count": 95,
      "outputs": [
        {
          "output_type": "stream",
          "name": "stdout",
          "text": [
            "{'criterion': 'gini', 'max_depth': 8, 'max_features': 'auto', 'n_estimators': 500}\n"
          ]
        }
      ]
    },
    {
      "cell_type": "code",
      "source": [
        "method = \"Bag of Words\"\n",
        "classification = \"Random Forest\"\n",
        "model = RandomForestClassifier(\n",
        "    n_estimators=500, \n",
        "    random_state=42,\n",
        "    criterion='gini',\n",
        "    max_depth=8,\n",
        "    max_features='auto'\n",
        ")\n",
        "# Training\n",
        "model.fit(bow_training_features, train_data[\"score\"])\n",
        "\n",
        "# Evaluation\n",
        "y_pred_bow_rf = model.predict(bow_test_features)\n",
        "\n",
        "y_prob_bow_rf = model.predict_proba(bow_test_features)\n",
        "# Result\n",
        "printResult(method, classification, y_pred_bow_rf, y_prob_bow_rf)"
      ],
      "metadata": {
        "id": "Bo1LxXOoZntY",
        "colab": {
          "base_uri": "https://localhost:8080/",
          "height": 606
        },
        "outputId": "c1e73a8e-1092-4c8b-f5cf-92551999a93d"
      },
      "execution_count": 146,
      "outputs": [
        {
          "output_type": "stream",
          "name": "stdout",
          "text": [
            "Method: Bag of Words\n",
            "Classifier: Random Forest\n",
            "Accuracy: 64.85\n",
            "\n",
            "              precision    recall  f1-score   support\n",
            "\n",
            "           0       1.00      0.09      0.17       110\n",
            "           1       0.64      1.00      0.78       571\n",
            "           2       0.71      0.17      0.27       289\n",
            "\n",
            "    accuracy                           0.65       970\n",
            "   macro avg       0.78      0.42      0.41       970\n",
            "weighted avg       0.70      0.65      0.56       970\n",
            "\n",
            "Area under the ROC curve : 0.999479\n",
            "Area under the ROC curve : 0.998352\n",
            "Area under the ROC curve : 0.992472\n"
          ]
        },
        {
          "output_type": "display_data",
          "data": {
            "text/plain": [
              "<Figure size 432x288 with 2 Axes>"
            ],
            "image/png": "[encoded data removed]"
          },
          "metadata": {
            "needs_background": "light"
          }
        }
      ]
    },
    {
      "cell_type": "code",
      "source": [
        "grid = GridSearchCV(estimator=rfc, param_grid=param_grid, cv= 5)\n",
        "grid.fit(tfidf_with_stop_training_features, train_data[\"score\"])"
      ],
      "metadata": {
        "id": "FnIz9O3vtGAw",
        "colab": {
          "base_uri": "https://localhost:8080/"
        },
        "outputId": "f7eb57b3-a3c2-41f6-b84f-94166f542492"
      },
      "execution_count": 97,
      "outputs": [
        {
          "output_type": "execute_result",
          "data": {
            "text/plain": [
              "GridSearchCV(cv=5, estimator=RandomForestClassifier(random_state=42),\n",
              "             param_grid={'criterion': ['gini', 'entropy'],\n",
              "                         'max_depth': [4, 5, 6, 7, 8],\n",
              "                         'max_features': ['auto', 'sqrt', 'log2'],\n",
              "                         'n_estimators': [200, 500]})"
            ]
          },
          "metadata": {},
          "execution_count": 97
        }
      ]
    },
    {
      "cell_type": "code",
      "source": [
        "print(grid.best_params_)"
      ],
      "metadata": {
        "id": "MNX-hthFtRQI",
        "colab": {
          "base_uri": "https://localhost:8080/"
        },
        "outputId": "7e9185b3-7f8d-473e-bd11-b71a0d11dfd7"
      },
      "execution_count": 98,
      "outputs": [
        {
          "output_type": "stream",
          "name": "stdout",
          "text": [
            "{'criterion': 'gini', 'max_depth': 8, 'max_features': 'auto', 'n_estimators': 500}\n"
          ]
        }
      ]
    },
    {
      "cell_type": "code",
      "source": [
        "method = \"TD-IDF with stop words\"\n",
        "classification = \"Random Forest\"\n",
        "model = RandomForestClassifier(\n",
        "    n_estimators=500, \n",
        "    random_state=42,\n",
        "    criterion='gini',\n",
        "    max_depth=8,\n",
        "    max_features='auto'\n",
        ")\n",
        "# Training\n",
        "model.fit(tfidf_with_stop_training_features, train_data[\"score\"])\n",
        "\n",
        "# Evaluation\n",
        "y_pred_tfidf_with_stop_rf = model.predict(tfidf_with_stop_test_features)\n",
        "\n",
        "y_prob_tfidf_with_stop_rf = model.predict_proba(tfidf_with_stop_test_features)\n",
        "# Result\n",
        "printResult(method, classification, y_pred_tfidf_with_stop_rf, y_prob_tfidf_with_stop_rf)"
      ],
      "metadata": {
        "id": "dBj8pKMSZwf6",
        "colab": {
          "base_uri": "https://localhost:8080/",
          "height": 606
        },
        "outputId": "02338af4-600c-4434-9527-8bee0afcdf62"
      },
      "execution_count": 147,
      "outputs": [
        {
          "output_type": "stream",
          "name": "stdout",
          "text": [
            "Method: TD-IDF with stop words\n",
            "Classifier: Random Forest\n",
            "Accuracy: 62.68\n",
            "\n",
            "              precision    recall  f1-score   support\n",
            "\n",
            "           0       1.00      0.02      0.04       110\n",
            "           1       0.62      1.00      0.76       571\n",
            "           2       0.77      0.12      0.21       289\n",
            "\n",
            "    accuracy                           0.63       970\n",
            "   macro avg       0.79      0.38      0.34       970\n",
            "weighted avg       0.71      0.63      0.52       970\n",
            "\n",
            "Area under the ROC curve : 1.000000\n",
            "Area under the ROC curve : 0.996100\n",
            "Area under the ROC curve : 0.993061\n"
          ]
        },
        {
          "output_type": "display_data",
          "data": {
            "text/plain": [
              "<Figure size 432x288 with 2 Axes>"
            ],
            "image/png": "[encoded data removed]"
          },
          "metadata": {
            "needs_background": "light"
          }
        }
      ]
    },
    {
      "cell_type": "code",
      "source": [
        "grid = GridSearchCV(estimator=rfc, param_grid=param_grid, cv= 5)\n",
        "grid.fit(tfidf_no_stop_training_features, train_data[\"score\"])"
      ],
      "metadata": {
        "id": "_pADQfxatWdv",
        "colab": {
          "base_uri": "https://localhost:8080/"
        },
        "outputId": "a90c1bd3-27e9-40b3-cdb5-b429d4386c46"
      },
      "execution_count": 100,
      "outputs": [
        {
          "output_type": "execute_result",
          "data": {
            "text/plain": [
              "GridSearchCV(cv=5, estimator=RandomForestClassifier(random_state=42),\n",
              "             param_grid={'criterion': ['gini', 'entropy'],\n",
              "                         'max_depth': [4, 5, 6, 7, 8],\n",
              "                         'max_features': ['auto', 'sqrt', 'log2'],\n",
              "                         'n_estimators': [200, 500]})"
            ]
          },
          "metadata": {},
          "execution_count": 100
        }
      ]
    },
    {
      "cell_type": "code",
      "source": [
        "print(grid.best_params_)"
      ],
      "metadata": {
        "id": "QEfud1CptagQ",
        "colab": {
          "base_uri": "https://localhost:8080/"
        },
        "outputId": "7b10e66a-cfe5-4d3e-90f0-3452893198da"
      },
      "execution_count": 101,
      "outputs": [
        {
          "output_type": "stream",
          "name": "stdout",
          "text": [
            "{'criterion': 'entropy', 'max_depth': 8, 'max_features': 'auto', 'n_estimators': 200}\n"
          ]
        }
      ]
    },
    {
      "cell_type": "code",
      "source": [
        "method = \"TD-IDF with no stop words\"\n",
        "classification = \"Random Forest\"\n",
        "model = RandomForestClassifier(\n",
        "    n_estimators=200, \n",
        "    random_state=42,\n",
        "    criterion='entropy',\n",
        "    max_depth=8,\n",
        "    max_features='auto'\n",
        ")\n",
        "# Training\n",
        "model.fit(tfidf_no_stop_training_features, train_data[\"score\"])\n",
        "\n",
        "# Evaluation\n",
        "y_pred_tfidf_no_stop_rf = model.predict(tfidf_no_stop_test_features)\n",
        "y_prob_tfidf_no_stop_rf = model.predict_proba(tfidf_no_stop_test_features)\n",
        "\n",
        "# Result\n",
        "printResult(method, classification ,y_pred_tfidf_no_stop_rf, y_prob_tfidf_no_stop_rf)"
      ],
      "metadata": {
        "id": "GccXTcHnZ71p",
        "colab": {
          "base_uri": "https://localhost:8080/",
          "height": 606
        },
        "outputId": "b0960a8f-aa18-480e-f50f-62e76e897248"
      },
      "execution_count": 148,
      "outputs": [
        {
          "output_type": "stream",
          "name": "stdout",
          "text": [
            "Method: TD-IDF with no stop words\n",
            "Classifier: Random Forest\n",
            "Accuracy: 61.13\n",
            "\n",
            "              precision    recall  f1-score   support\n",
            "\n",
            "           0       1.00      0.02      0.04       110\n",
            "           1       0.60      1.00      0.75       571\n",
            "           2       0.91      0.07      0.13       289\n",
            "\n",
            "    accuracy                           0.61       970\n",
            "   macro avg       0.84      0.36      0.31       970\n",
            "weighted avg       0.74      0.61      0.49       970\n",
            "\n",
            "Area under the ROC curve : 1.000000\n",
            "Area under the ROC curve : 0.998222\n",
            "Area under the ROC curve : 0.996143\n"
          ]
        },
        {
          "output_type": "display_data",
          "data": {
            "text/plain": [
              "<Figure size 432x288 with 2 Axes>"
            ],
            "image/png": "[encoded data removed]"
          },
          "metadata": {
            "needs_background": "light"
          }
        }
      ]
    },
    {
      "cell_type": "code",
      "source": [
        "grid = GridSearchCV(estimator=rfc, param_grid=param_grid, cv= 5)\n",
        "grid.fit(word2vec_with_stop_training_features, train_data[\"score\"])"
      ],
      "metadata": {
        "id": "butvskI0te6n",
        "colab": {
          "base_uri": "https://localhost:8080/"
        },
        "outputId": "905e116b-3236-4d7d-88bd-b8c25f3c2c5e"
      },
      "execution_count": 103,
      "outputs": [
        {
          "output_type": "execute_result",
          "data": {
            "text/plain": [
              "GridSearchCV(cv=5, estimator=RandomForestClassifier(random_state=42),\n",
              "             param_grid={'criterion': ['gini', 'entropy'],\n",
              "                         'max_depth': [4, 5, 6, 7, 8],\n",
              "                         'max_features': ['auto', 'sqrt', 'log2'],\n",
              "                         'n_estimators': [200, 500]})"
            ]
          },
          "metadata": {},
          "execution_count": 103
        }
      ]
    },
    {
      "cell_type": "code",
      "source": [
        "print(grid.best_params_)"
      ],
      "metadata": {
        "id": "3P1VV1Jwte_m",
        "colab": {
          "base_uri": "https://localhost:8080/"
        },
        "outputId": "930b895f-6dae-434e-da29-30bbb467e18a"
      },
      "execution_count": 104,
      "outputs": [
        {
          "output_type": "stream",
          "name": "stdout",
          "text": [
            "{'criterion': 'entropy', 'max_depth': 6, 'max_features': 'log2', 'n_estimators': 200}\n"
          ]
        }
      ]
    },
    {
      "cell_type": "code",
      "source": [
        "method = \"Word2Vec\"\n",
        "classification = \"Random Forest\"\n",
        "model = RandomForestClassifier(\n",
        "    n_estimators=200, \n",
        "    random_state=42,\n",
        "    criterion='gini',\n",
        "    max_depth=6,\n",
        "    max_features='log2'\n",
        ")\n",
        "# Training\n",
        "model.fit(word2vec_with_stop_training_features, train_data[\"score\"])\n",
        "\n",
        "# Evaluation\n",
        "y_pred_w2v_with_stop_rf = model.predict(word2vec_with_stop_test_features)\n",
        "y_prob_w2v_with_stop_rf = model.predict_proba(word2vec_with_stop_test_features)\n",
        "\n",
        "# Result\n",
        "printResult(method, classification, y_pred_w2v_with_stop_rf, y_prob_w2v_with_stop_rf)"
      ],
      "metadata": {
        "id": "FDhaoDJ1aJ27",
        "colab": {
          "base_uri": "https://localhost:8080/",
          "height": 606
        },
        "outputId": "2a50986a-5cd3-44f4-8285-04d7218c4e3b"
      },
      "execution_count": 149,
      "outputs": [
        {
          "output_type": "stream",
          "name": "stdout",
          "text": [
            "Method: Word2Vec\n",
            "Classifier: Random Forest\n",
            "Accuracy: 62.27\n",
            "\n",
            "              precision    recall  f1-score   support\n",
            "\n",
            "           0       0.34      0.09      0.14       110\n",
            "           1       0.67      0.92      0.77       571\n",
            "           2       0.44      0.23      0.30       289\n",
            "\n",
            "    accuracy                           0.62       970\n",
            "   macro avg       0.49      0.42      0.41       970\n",
            "weighted avg       0.56      0.62      0.56       970\n",
            "\n",
            "Area under the ROC curve : 0.995090\n",
            "Area under the ROC curve : 0.999100\n",
            "Area under the ROC curve : 0.993693\n"
          ]
        },
        {
          "output_type": "display_data",
          "data": {
            "text/plain": [
              "<Figure size 432x288 with 2 Axes>"
            ],
            "image/png": "[encoded data removed]"
          },
          "metadata": {
            "needs_background": "light"
          }
        }
      ]
    },
    {
      "cell_type": "code",
      "source": [
        "grid = GridSearchCV(estimator=rfc, param_grid=param_grid, cv= 5)\n",
        "grid.fit(bert_sentence_training_features, train_data[\"score\"])"
      ],
      "metadata": {
        "id": "A_KS9bINtmRh",
        "colab": {
          "base_uri": "https://localhost:8080/",
          "height": 338
        },
        "outputId": "e155cb44-fe2e-4871-f855-4d817cf16276"
      },
      "execution_count": 109,
      "outputs": [
        {
          "output_type": "error",
          "ename": "KeyboardInterrupt",
          "evalue": "ignored",
          "traceback": [
            "\u001b[0;31m---------------------------------------------------------------------------\u001b[0m",
            "\u001b[0;31mKeyboardInterrupt\u001b[0m                         Traceback (most recent call last)",
            "\u001b[0;32m<ipython-input-109-61f99273f3fc>\u001b[0m in \u001b[0;36m<module>\u001b[0;34m()\u001b[0m\n\u001b[1;32m      1\u001b[0m \u001b[0mgrid\u001b[0m \u001b[0;34m=\u001b[0m \u001b[0mGridSearchCV\u001b[0m\u001b[0;34m(\u001b[0m\u001b[0mestimator\u001b[0m\u001b[0;34m=\u001b[0m\u001b[0mrfc\u001b[0m\u001b[0;34m,\u001b[0m \u001b[0mparam_grid\u001b[0m\u001b[0;34m=\u001b[0m\u001b[0mparam_grid\u001b[0m\u001b[0;34m,\u001b[0m \u001b[0mcv\u001b[0m\u001b[0;34m=\u001b[0m \u001b[0;36m5\u001b[0m\u001b[0;34m)\u001b[0m\u001b[0;34m\u001b[0m\u001b[0;34m\u001b[0m\u001b[0m\n\u001b[0;32m----> 2\u001b[0;31m \u001b[0mgrid\u001b[0m\u001b[0;34m.\u001b[0m\u001b[0mfit\u001b[0m\u001b[0;34m(\u001b[0m\u001b[0mbert_sentence_training_features\u001b[0m\u001b[0;34m,\u001b[0m \u001b[0mtrain_data\u001b[0m\u001b[0;34m[\u001b[0m\u001b[0;34m\"score\"\u001b[0m\u001b[0;34m]\u001b[0m\u001b[0;34m)\u001b[0m\u001b[0;34m\u001b[0m\u001b[0;34m\u001b[0m\u001b[0m\n\u001b[0m",
            "\u001b[0;32m/usr/local/lib/python3.7/dist-packages/sklearn/model_selection/_search.py\u001b[0m in \u001b[0;36mfit\u001b[0;34m(self, X, y, groups, **fit_params)\u001b[0m\n\u001b[1;32m    889\u001b[0m                 \u001b[0;32mreturn\u001b[0m \u001b[0mresults\u001b[0m\u001b[0;34m\u001b[0m\u001b[0;34m\u001b[0m\u001b[0m\n\u001b[1;32m    890\u001b[0m \u001b[0;34m\u001b[0m\u001b[0m\n\u001b[0;32m--> 891\u001b[0;31m             \u001b[0mself\u001b[0m\u001b[0;34m.\u001b[0m\u001b[0m_run_search\u001b[0m\u001b[0;34m(\u001b[0m\u001b[0mevaluate_candidates\u001b[0m\u001b[0;34m)\u001b[0m\u001b[0;34m\u001b[0m\u001b[0;34m\u001b[0m\u001b[0m\n\u001b[0m\u001b[1;32m    892\u001b[0m \u001b[0;34m\u001b[0m\u001b[0m\n\u001b[1;32m    893\u001b[0m             \u001b[0;31m# multimetric is determined here because in the case of a callable\u001b[0m\u001b[0;34m\u001b[0m\u001b[0;34m\u001b[0m\u001b[0;34m\u001b[0m\u001b[0m\n",
            "\u001b[0;32m/usr/local/lib/python3.7/dist-packages/sklearn/model_selection/_search.py\u001b[0m in \u001b[0;36m_run_search\u001b[0;34m(self, evaluate_candidates)\u001b[0m\n\u001b[1;32m   1390\u001b[0m     \u001b[0;32mdef\u001b[0m \u001b[0m_run_search\u001b[0m\u001b[0;34m(\u001b[0m\u001b[0mself\u001b[0m\u001b[0;34m,\u001b[0m \u001b[0mevaluate_candidates\u001b[0m\u001b[0;34m)\u001b[0m\u001b[0;34m:\u001b[0m\u001b[0;34m\u001b[0m\u001b[0;34m\u001b[0m\u001b[0m\n\u001b[1;32m   1391\u001b[0m         \u001b[0;34m\"\"\"Search all candidates in param_grid\"\"\"\u001b[0m\u001b[0;34m\u001b[0m\u001b[0;34m\u001b[0m\u001b[0m\n\u001b[0;32m-> 1392\u001b[0;31m         \u001b[0mevaluate_candidates\u001b[0m\u001b[0;34m(\u001b[0m\u001b[0mParameterGrid\u001b[0m\u001b[0;34m(\u001b[0m\u001b[0mself\u001b[0m\u001b[0;34m.\u001b[0m\u001b[0mparam_grid\u001b[0m\u001b[0;34m)\u001b[0m\u001b[0;34m)\u001b[0m\u001b[0;34m\u001b[0m\u001b[0;34m\u001b[0m\u001b[0m\n\u001b[0m\u001b[1;32m   1393\u001b[0m \u001b[0;34m\u001b[0m\u001b[0m\n\u001b[1;32m   1394\u001b[0m \u001b[0;34m\u001b[0m\u001b[0m\n",
            "\u001b[0;32m/usr/local/lib/python3.7/dist-packages/sklearn/model_selection/_search.py\u001b[0m in \u001b[0;36mevaluate_candidates\u001b[0;34m(candidate_params, cv, more_results)\u001b[0m\n\u001b[1;32m    849\u001b[0m                     )\n\u001b[1;32m    850\u001b[0m                     for (cand_idx, parameters), (split_idx, (train, test)) in product(\n\u001b[0;32m--> 851\u001b[0;31m                         \u001b[0menumerate\u001b[0m\u001b[0;34m(\u001b[0m\u001b[0mcandidate_params\u001b[0m\u001b[0;34m)\u001b[0m\u001b[0;34m,\u001b[0m \u001b[0menumerate\u001b[0m\u001b[0;34m(\u001b[0m\u001b[0mcv\u001b[0m\u001b[0;34m.\u001b[0m\u001b[0msplit\u001b[0m\u001b[0;34m(\u001b[0m\u001b[0mX\u001b[0m\u001b[0;34m,\u001b[0m \u001b[0my\u001b[0m\u001b[0;34m,\u001b[0m \u001b[0mgroups\u001b[0m\u001b[0;34m)\u001b[0m\u001b[0;34m)\u001b[0m\u001b[0;34m\u001b[0m\u001b[0;34m\u001b[0m\u001b[0m\n\u001b[0m\u001b[1;32m    852\u001b[0m                     )\n\u001b[1;32m    853\u001b[0m                 )\n",
            "\u001b[0;32m/usr/local/lib/python3.7/dist-packages/joblib/parallel.py\u001b[0m in \u001b[0;36m__call__\u001b[0;34m(self, iterable)\u001b[0m\n\u001b[1;32m   1044\u001b[0m                 \u001b[0mself\u001b[0m\u001b[0;34m.\u001b[0m\u001b[0m_iterating\u001b[0m \u001b[0;34m=\u001b[0m \u001b[0mself\u001b[0m\u001b[0;34m.\u001b[0m\u001b[0m_original_iterator\u001b[0m \u001b[0;32mis\u001b[0m \u001b[0;32mnot\u001b[0m \u001b[0;32mNone\u001b[0m\u001b[0;34m\u001b[0m\u001b[0;34m\u001b[0m\u001b[0m\n\u001b[1;32m   1045\u001b[0m \u001b[0;34m\u001b[0m\u001b[0m\n\u001b[0;32m-> 1046\u001b[0;31m             \u001b[0;32mwhile\u001b[0m \u001b[0mself\u001b[0m\u001b[0;34m.\u001b[0m\u001b[0mdispatch_one_batch\u001b[0m\u001b[0;34m(\u001b[0m\u001b[0miterator\u001b[0m\u001b[0;34m)\u001b[0m\u001b[0;34m:\u001b[0m\u001b[0;34m\u001b[0m\u001b[0;34m\u001b[0m\u001b[0m\n\u001b[0m\u001b[1;32m   1047\u001b[0m                 \u001b[0;32mpass\u001b[0m\u001b[0;34m\u001b[0m\u001b[0;34m\u001b[0m\u001b[0m\n\u001b[1;32m   1048\u001b[0m \u001b[0;34m\u001b[0m\u001b[0m\n",
            "\u001b[0;32m/usr/local/lib/python3.7/dist-packages/joblib/parallel.py\u001b[0m in \u001b[0;36mdispatch_one_batch\u001b[0;34m(self, iterator)\u001b[0m\n\u001b[1;32m    859\u001b[0m                 \u001b[0;32mreturn\u001b[0m \u001b[0;32mFalse\u001b[0m\u001b[0;34m\u001b[0m\u001b[0;34m\u001b[0m\u001b[0m\n\u001b[1;32m    860\u001b[0m             \u001b[0;32melse\u001b[0m\u001b[0;34m:\u001b[0m\u001b[0;34m\u001b[0m\u001b[0;34m\u001b[0m\u001b[0m\n\u001b[0;32m--> 861\u001b[0;31m                 \u001b[0mself\u001b[0m\u001b[0;34m.\u001b[0m\u001b[0m_dispatch\u001b[0m\u001b[0;34m(\u001b[0m\u001b[0mtasks\u001b[0m\u001b[0;34m)\u001b[0m\u001b[0;34m\u001b[0m\u001b[0;34m\u001b[0m\u001b[0m\n\u001b[0m\u001b[1;32m    862\u001b[0m                 \u001b[0;32mreturn\u001b[0m \u001b[0;32mTrue\u001b[0m\u001b[0;34m\u001b[0m\u001b[0;34m\u001b[0m\u001b[0m\n\u001b[1;32m    863\u001b[0m \u001b[0;34m\u001b[0m\u001b[0m\n",
            "\u001b[0;32m/usr/local/lib/python3.7/dist-packages/joblib/parallel.py\u001b[0m in \u001b[0;36m_dispatch\u001b[0;34m(self, batch)\u001b[0m\n\u001b[1;32m    777\u001b[0m         \u001b[0;32mwith\u001b[0m \u001b[0mself\u001b[0m\u001b[0;34m.\u001b[0m\u001b[0m_lock\u001b[0m\u001b[0;34m:\u001b[0m\u001b[0;34m\u001b[0m\u001b[0;34m\u001b[0m\u001b[0m\n\u001b[1;32m    778\u001b[0m             \u001b[0mjob_idx\u001b[0m \u001b[0;34m=\u001b[0m \u001b[0mlen\u001b[0m\u001b[0;34m(\u001b[0m\u001b[0mself\u001b[0m\u001b[0;34m.\u001b[0m\u001b[0m_jobs\u001b[0m\u001b[0;34m)\u001b[0m\u001b[0;34m\u001b[0m\u001b[0;34m\u001b[0m\u001b[0m\n\u001b[0;32m--> 779\u001b[0;31m             \u001b[0mjob\u001b[0m \u001b[0;34m=\u001b[0m \u001b[0mself\u001b[0m\u001b[0;34m.\u001b[0m\u001b[0m_backend\u001b[0m\u001b[0;34m.\u001b[0m\u001b[0mapply_async\u001b[0m\u001b[0;34m(\u001b[0m\u001b[0mbatch\u001b[0m\u001b[0;34m,\u001b[0m \u001b[0mcallback\u001b[0m\u001b[0;34m=\u001b[0m\u001b[0mcb\u001b[0m\u001b[0;34m)\u001b[0m\u001b[0;34m\u001b[0m\u001b[0;34m\u001b[0m\u001b[0m\n\u001b[0m\u001b[1;32m    780\u001b[0m             \u001b[0;31m# A job can complete so quickly than its callback is\u001b[0m\u001b[0;34m\u001b[0m\u001b[0;34m\u001b[0m\u001b[0;34m\u001b[0m\u001b[0m\n\u001b[1;32m    781\u001b[0m             \u001b[0;31m# called before we get here, causing self._jobs to\u001b[0m\u001b[0;34m\u001b[0m\u001b[0;34m\u001b[0m\u001b[0;34m\u001b[0m\u001b[0m\n",
            "\u001b[0;32m/usr/local/lib/python3.7/dist-packages/joblib/_parallel_backends.py\u001b[0m in \u001b[0;36mapply_async\u001b[0;34m(self, func, callback)\u001b[0m\n\u001b[1;32m    206\u001b[0m     \u001b[0;32mdef\u001b[0m \u001b[0mapply_async\u001b[0m\u001b[0;34m(\u001b[0m\u001b[0mself\u001b[0m\u001b[0;34m,\u001b[0m \u001b[0mfunc\u001b[0m\u001b[0;34m,\u001b[0m \u001b[0mcallback\u001b[0m\u001b[0;34m=\u001b[0m\u001b[0;32mNone\u001b[0m\u001b[0;34m)\u001b[0m\u001b[0;34m:\u001b[0m\u001b[0;34m\u001b[0m\u001b[0;34m\u001b[0m\u001b[0m\n\u001b[1;32m    207\u001b[0m         \u001b[0;34m\"\"\"Schedule a func to be run\"\"\"\u001b[0m\u001b[0;34m\u001b[0m\u001b[0;34m\u001b[0m\u001b[0m\n\u001b[0;32m--> 208\u001b[0;31m         \u001b[0mresult\u001b[0m \u001b[0;34m=\u001b[0m \u001b[0mImmediateResult\u001b[0m\u001b[0;34m(\u001b[0m\u001b[0mfunc\u001b[0m\u001b[0;34m)\u001b[0m\u001b[0;34m\u001b[0m\u001b[0;34m\u001b[0m\u001b[0m\n\u001b[0m\u001b[1;32m    209\u001b[0m         \u001b[0;32mif\u001b[0m \u001b[0mcallback\u001b[0m\u001b[0;34m:\u001b[0m\u001b[0;34m\u001b[0m\u001b[0;34m\u001b[0m\u001b[0m\n\u001b[1;32m    210\u001b[0m             \u001b[0mcallback\u001b[0m\u001b[0;34m(\u001b[0m\u001b[0mresult\u001b[0m\u001b[0;34m)\u001b[0m\u001b[0;34m\u001b[0m\u001b[0;34m\u001b[0m\u001b[0m\n",
            "\u001b[0;32m/usr/local/lib/python3.7/dist-packages/joblib/_parallel_backends.py\u001b[0m in \u001b[0;36m__init__\u001b[0;34m(self, batch)\u001b[0m\n\u001b[1;32m    570\u001b[0m         \u001b[0;31m# Don't delay the application, to avoid keeping the input\u001b[0m\u001b[0;34m\u001b[0m\u001b[0;34m\u001b[0m\u001b[0;34m\u001b[0m\u001b[0m\n\u001b[1;32m    571\u001b[0m         \u001b[0;31m# arguments in memory\u001b[0m\u001b[0;34m\u001b[0m\u001b[0;34m\u001b[0m\u001b[0;34m\u001b[0m\u001b[0m\n\u001b[0;32m--> 572\u001b[0;31m         \u001b[0mself\u001b[0m\u001b[0;34m.\u001b[0m\u001b[0mresults\u001b[0m \u001b[0;34m=\u001b[0m \u001b[0mbatch\u001b[0m\u001b[0;34m(\u001b[0m\u001b[0;34m)\u001b[0m\u001b[0;34m\u001b[0m\u001b[0;34m\u001b[0m\u001b[0m\n\u001b[0m\u001b[1;32m    573\u001b[0m \u001b[0;34m\u001b[0m\u001b[0m\n\u001b[1;32m    574\u001b[0m     \u001b[0;32mdef\u001b[0m \u001b[0mget\u001b[0m\u001b[0;34m(\u001b[0m\u001b[0mself\u001b[0m\u001b[0;34m)\u001b[0m\u001b[0;34m:\u001b[0m\u001b[0;34m\u001b[0m\u001b[0;34m\u001b[0m\u001b[0m\n",
            "\u001b[0;32m/usr/local/lib/python3.7/dist-packages/joblib/parallel.py\u001b[0m in \u001b[0;36m__call__\u001b[0;34m(self)\u001b[0m\n\u001b[1;32m    261\u001b[0m         \u001b[0;32mwith\u001b[0m \u001b[0mparallel_backend\u001b[0m\u001b[0;34m(\u001b[0m\u001b[0mself\u001b[0m\u001b[0;34m.\u001b[0m\u001b[0m_backend\u001b[0m\u001b[0;34m,\u001b[0m \u001b[0mn_jobs\u001b[0m\u001b[0;34m=\u001b[0m\u001b[0mself\u001b[0m\u001b[0;34m.\u001b[0m\u001b[0m_n_jobs\u001b[0m\u001b[0;34m)\u001b[0m\u001b[0;34m:\u001b[0m\u001b[0;34m\u001b[0m\u001b[0;34m\u001b[0m\u001b[0m\n\u001b[1;32m    262\u001b[0m             return [func(*args, **kwargs)\n\u001b[0;32m--> 263\u001b[0;31m                     for func, args, kwargs in self.items]\n\u001b[0m\u001b[1;32m    264\u001b[0m \u001b[0;34m\u001b[0m\u001b[0m\n\u001b[1;32m    265\u001b[0m     \u001b[0;32mdef\u001b[0m \u001b[0m__reduce__\u001b[0m\u001b[0;34m(\u001b[0m\u001b[0mself\u001b[0m\u001b[0;34m)\u001b[0m\u001b[0;34m:\u001b[0m\u001b[0;34m\u001b[0m\u001b[0;34m\u001b[0m\u001b[0m\n",
            "\u001b[0;32m/usr/local/lib/python3.7/dist-packages/joblib/parallel.py\u001b[0m in \u001b[0;36m<listcomp>\u001b[0;34m(.0)\u001b[0m\n\u001b[1;32m    261\u001b[0m         \u001b[0;32mwith\u001b[0m \u001b[0mparallel_backend\u001b[0m\u001b[0;34m(\u001b[0m\u001b[0mself\u001b[0m\u001b[0;34m.\u001b[0m\u001b[0m_backend\u001b[0m\u001b[0;34m,\u001b[0m \u001b[0mn_jobs\u001b[0m\u001b[0;34m=\u001b[0m\u001b[0mself\u001b[0m\u001b[0;34m.\u001b[0m\u001b[0m_n_jobs\u001b[0m\u001b[0;34m)\u001b[0m\u001b[0;34m:\u001b[0m\u001b[0;34m\u001b[0m\u001b[0;34m\u001b[0m\u001b[0m\n\u001b[1;32m    262\u001b[0m             return [func(*args, **kwargs)\n\u001b[0;32m--> 263\u001b[0;31m                     for func, args, kwargs in self.items]\n\u001b[0m\u001b[1;32m    264\u001b[0m \u001b[0;34m\u001b[0m\u001b[0m\n\u001b[1;32m    265\u001b[0m     \u001b[0;32mdef\u001b[0m \u001b[0m__reduce__\u001b[0m\u001b[0;34m(\u001b[0m\u001b[0mself\u001b[0m\u001b[0;34m)\u001b[0m\u001b[0;34m:\u001b[0m\u001b[0;34m\u001b[0m\u001b[0;34m\u001b[0m\u001b[0m\n",
            "\u001b[0;32m/usr/local/lib/python3.7/dist-packages/sklearn/utils/fixes.py\u001b[0m in \u001b[0;36m__call__\u001b[0;34m(self, *args, **kwargs)\u001b[0m\n\u001b[1;32m    214\u001b[0m     \u001b[0;32mdef\u001b[0m \u001b[0m__call__\u001b[0m\u001b[0;34m(\u001b[0m\u001b[0mself\u001b[0m\u001b[0;34m,\u001b[0m \u001b[0;34m*\u001b[0m\u001b[0margs\u001b[0m\u001b[0;34m,\u001b[0m \u001b[0;34m**\u001b[0m\u001b[0mkwargs\u001b[0m\u001b[0;34m)\u001b[0m\u001b[0;34m:\u001b[0m\u001b[0;34m\u001b[0m\u001b[0;34m\u001b[0m\u001b[0m\n\u001b[1;32m    215\u001b[0m         \u001b[0;32mwith\u001b[0m \u001b[0mconfig_context\u001b[0m\u001b[0;34m(\u001b[0m\u001b[0;34m**\u001b[0m\u001b[0mself\u001b[0m\u001b[0;34m.\u001b[0m\u001b[0mconfig\u001b[0m\u001b[0;34m)\u001b[0m\u001b[0;34m:\u001b[0m\u001b[0;34m\u001b[0m\u001b[0;34m\u001b[0m\u001b[0m\n\u001b[0;32m--> 216\u001b[0;31m             \u001b[0;32mreturn\u001b[0m \u001b[0mself\u001b[0m\u001b[0;34m.\u001b[0m\u001b[0mfunction\u001b[0m\u001b[0;34m(\u001b[0m\u001b[0;34m*\u001b[0m\u001b[0margs\u001b[0m\u001b[0;34m,\u001b[0m \u001b[0;34m**\u001b[0m\u001b[0mkwargs\u001b[0m\u001b[0;34m)\u001b[0m\u001b[0;34m\u001b[0m\u001b[0;34m\u001b[0m\u001b[0m\n\u001b[0m\u001b[1;32m    217\u001b[0m \u001b[0;34m\u001b[0m\u001b[0m\n\u001b[1;32m    218\u001b[0m \u001b[0;34m\u001b[0m\u001b[0m\n",
            "\u001b[0;32m/usr/local/lib/python3.7/dist-packages/sklearn/model_selection/_validation.py\u001b[0m in \u001b[0;36m_fit_and_score\u001b[0;34m(estimator, X, y, scorer, train, test, verbose, parameters, fit_params, return_train_score, return_parameters, return_n_test_samples, return_times, return_estimator, split_progress, candidate_progress, error_score)\u001b[0m\n\u001b[1;32m    678\u001b[0m             \u001b[0mestimator\u001b[0m\u001b[0;34m.\u001b[0m\u001b[0mfit\u001b[0m\u001b[0;34m(\u001b[0m\u001b[0mX_train\u001b[0m\u001b[0;34m,\u001b[0m \u001b[0;34m**\u001b[0m\u001b[0mfit_params\u001b[0m\u001b[0;34m)\u001b[0m\u001b[0;34m\u001b[0m\u001b[0;34m\u001b[0m\u001b[0m\n\u001b[1;32m    679\u001b[0m         \u001b[0;32melse\u001b[0m\u001b[0;34m:\u001b[0m\u001b[0;34m\u001b[0m\u001b[0;34m\u001b[0m\u001b[0m\n\u001b[0;32m--> 680\u001b[0;31m             \u001b[0mestimator\u001b[0m\u001b[0;34m.\u001b[0m\u001b[0mfit\u001b[0m\u001b[0;34m(\u001b[0m\u001b[0mX_train\u001b[0m\u001b[0;34m,\u001b[0m \u001b[0my_train\u001b[0m\u001b[0;34m,\u001b[0m \u001b[0;34m**\u001b[0m\u001b[0mfit_params\u001b[0m\u001b[0;34m)\u001b[0m\u001b[0;34m\u001b[0m\u001b[0;34m\u001b[0m\u001b[0m\n\u001b[0m\u001b[1;32m    681\u001b[0m \u001b[0;34m\u001b[0m\u001b[0m\n\u001b[1;32m    682\u001b[0m     \u001b[0;32mexcept\u001b[0m \u001b[0mException\u001b[0m\u001b[0;34m:\u001b[0m\u001b[0;34m\u001b[0m\u001b[0;34m\u001b[0m\u001b[0m\n",
            "\u001b[0;32m/usr/local/lib/python3.7/dist-packages/sklearn/ensemble/_forest.py\u001b[0m in \u001b[0;36mfit\u001b[0;34m(self, X, y, sample_weight)\u001b[0m\n\u001b[1;32m    465\u001b[0m                     \u001b[0mn_samples_bootstrap\u001b[0m\u001b[0;34m=\u001b[0m\u001b[0mn_samples_bootstrap\u001b[0m\u001b[0;34m,\u001b[0m\u001b[0;34m\u001b[0m\u001b[0;34m\u001b[0m\u001b[0m\n\u001b[1;32m    466\u001b[0m                 )\n\u001b[0;32m--> 467\u001b[0;31m                 \u001b[0;32mfor\u001b[0m \u001b[0mi\u001b[0m\u001b[0;34m,\u001b[0m \u001b[0mt\u001b[0m \u001b[0;32min\u001b[0m \u001b[0menumerate\u001b[0m\u001b[0;34m(\u001b[0m\u001b[0mtrees\u001b[0m\u001b[0;34m)\u001b[0m\u001b[0;34m\u001b[0m\u001b[0;34m\u001b[0m\u001b[0m\n\u001b[0m\u001b[1;32m    468\u001b[0m             )\n\u001b[1;32m    469\u001b[0m \u001b[0;34m\u001b[0m\u001b[0m\n",
            "\u001b[0;32m/usr/local/lib/python3.7/dist-packages/joblib/parallel.py\u001b[0m in \u001b[0;36m__call__\u001b[0;34m(self, iterable)\u001b[0m\n\u001b[1;32m   1044\u001b[0m                 \u001b[0mself\u001b[0m\u001b[0;34m.\u001b[0m\u001b[0m_iterating\u001b[0m \u001b[0;34m=\u001b[0m \u001b[0mself\u001b[0m\u001b[0;34m.\u001b[0m\u001b[0m_original_iterator\u001b[0m \u001b[0;32mis\u001b[0m \u001b[0;32mnot\u001b[0m \u001b[0;32mNone\u001b[0m\u001b[0;34m\u001b[0m\u001b[0;34m\u001b[0m\u001b[0m\n\u001b[1;32m   1045\u001b[0m \u001b[0;34m\u001b[0m\u001b[0m\n\u001b[0;32m-> 1046\u001b[0;31m             \u001b[0;32mwhile\u001b[0m \u001b[0mself\u001b[0m\u001b[0;34m.\u001b[0m\u001b[0mdispatch_one_batch\u001b[0m\u001b[0;34m(\u001b[0m\u001b[0miterator\u001b[0m\u001b[0;34m)\u001b[0m\u001b[0;34m:\u001b[0m\u001b[0;34m\u001b[0m\u001b[0;34m\u001b[0m\u001b[0m\n\u001b[0m\u001b[1;32m   1047\u001b[0m                 \u001b[0;32mpass\u001b[0m\u001b[0;34m\u001b[0m\u001b[0;34m\u001b[0m\u001b[0m\n\u001b[1;32m   1048\u001b[0m \u001b[0;34m\u001b[0m\u001b[0m\n",
            "\u001b[0;32m/usr/local/lib/python3.7/dist-packages/joblib/parallel.py\u001b[0m in \u001b[0;36mdispatch_one_batch\u001b[0;34m(self, iterator)\u001b[0m\n\u001b[1;32m    859\u001b[0m                 \u001b[0;32mreturn\u001b[0m \u001b[0;32mFalse\u001b[0m\u001b[0;34m\u001b[0m\u001b[0;34m\u001b[0m\u001b[0m\n\u001b[1;32m    860\u001b[0m             \u001b[0;32melse\u001b[0m\u001b[0;34m:\u001b[0m\u001b[0;34m\u001b[0m\u001b[0;34m\u001b[0m\u001b[0m\n\u001b[0;32m--> 861\u001b[0;31m                 \u001b[0mself\u001b[0m\u001b[0;34m.\u001b[0m\u001b[0m_dispatch\u001b[0m\u001b[0;34m(\u001b[0m\u001b[0mtasks\u001b[0m\u001b[0;34m)\u001b[0m\u001b[0;34m\u001b[0m\u001b[0;34m\u001b[0m\u001b[0m\n\u001b[0m\u001b[1;32m    862\u001b[0m                 \u001b[0;32mreturn\u001b[0m \u001b[0;32mTrue\u001b[0m\u001b[0;34m\u001b[0m\u001b[0;34m\u001b[0m\u001b[0m\n\u001b[1;32m    863\u001b[0m \u001b[0;34m\u001b[0m\u001b[0m\n",
            "\u001b[0;32m/usr/local/lib/python3.7/dist-packages/joblib/parallel.py\u001b[0m in \u001b[0;36m_dispatch\u001b[0;34m(self, batch)\u001b[0m\n\u001b[1;32m    777\u001b[0m         \u001b[0;32mwith\u001b[0m \u001b[0mself\u001b[0m\u001b[0;34m.\u001b[0m\u001b[0m_lock\u001b[0m\u001b[0;34m:\u001b[0m\u001b[0;34m\u001b[0m\u001b[0;34m\u001b[0m\u001b[0m\n\u001b[1;32m    778\u001b[0m             \u001b[0mjob_idx\u001b[0m \u001b[0;34m=\u001b[0m \u001b[0mlen\u001b[0m\u001b[0;34m(\u001b[0m\u001b[0mself\u001b[0m\u001b[0;34m.\u001b[0m\u001b[0m_jobs\u001b[0m\u001b[0;34m)\u001b[0m\u001b[0;34m\u001b[0m\u001b[0;34m\u001b[0m\u001b[0m\n\u001b[0;32m--> 779\u001b[0;31m             \u001b[0mjob\u001b[0m \u001b[0;34m=\u001b[0m \u001b[0mself\u001b[0m\u001b[0;34m.\u001b[0m\u001b[0m_backend\u001b[0m\u001b[0;34m.\u001b[0m\u001b[0mapply_async\u001b[0m\u001b[0;34m(\u001b[0m\u001b[0mbatch\u001b[0m\u001b[0;34m,\u001b[0m \u001b[0mcallback\u001b[0m\u001b[0;34m=\u001b[0m\u001b[0mcb\u001b[0m\u001b[0;34m)\u001b[0m\u001b[0;34m\u001b[0m\u001b[0;34m\u001b[0m\u001b[0m\n\u001b[0m\u001b[1;32m    780\u001b[0m             \u001b[0;31m# A job can complete so quickly than its callback is\u001b[0m\u001b[0;34m\u001b[0m\u001b[0;34m\u001b[0m\u001b[0;34m\u001b[0m\u001b[0m\n\u001b[1;32m    781\u001b[0m             \u001b[0;31m# called before we get here, causing self._jobs to\u001b[0m\u001b[0;34m\u001b[0m\u001b[0;34m\u001b[0m\u001b[0;34m\u001b[0m\u001b[0m\n",
            "\u001b[0;32m/usr/local/lib/python3.7/dist-packages/joblib/_parallel_backends.py\u001b[0m in \u001b[0;36mapply_async\u001b[0;34m(self, func, callback)\u001b[0m\n\u001b[1;32m    206\u001b[0m     \u001b[0;32mdef\u001b[0m \u001b[0mapply_async\u001b[0m\u001b[0;34m(\u001b[0m\u001b[0mself\u001b[0m\u001b[0;34m,\u001b[0m \u001b[0mfunc\u001b[0m\u001b[0;34m,\u001b[0m \u001b[0mcallback\u001b[0m\u001b[0;34m=\u001b[0m\u001b[0;32mNone\u001b[0m\u001b[0;34m)\u001b[0m\u001b[0;34m:\u001b[0m\u001b[0;34m\u001b[0m\u001b[0;34m\u001b[0m\u001b[0m\n\u001b[1;32m    207\u001b[0m         \u001b[0;34m\"\"\"Schedule a func to be run\"\"\"\u001b[0m\u001b[0;34m\u001b[0m\u001b[0;34m\u001b[0m\u001b[0m\n\u001b[0;32m--> 208\u001b[0;31m         \u001b[0mresult\u001b[0m \u001b[0;34m=\u001b[0m \u001b[0mImmediateResult\u001b[0m\u001b[0;34m(\u001b[0m\u001b[0mfunc\u001b[0m\u001b[0;34m)\u001b[0m\u001b[0;34m\u001b[0m\u001b[0;34m\u001b[0m\u001b[0m\n\u001b[0m\u001b[1;32m    209\u001b[0m         \u001b[0;32mif\u001b[0m \u001b[0mcallback\u001b[0m\u001b[0;34m:\u001b[0m\u001b[0;34m\u001b[0m\u001b[0;34m\u001b[0m\u001b[0m\n\u001b[1;32m    210\u001b[0m             \u001b[0mcallback\u001b[0m\u001b[0;34m(\u001b[0m\u001b[0mresult\u001b[0m\u001b[0;34m)\u001b[0m\u001b[0;34m\u001b[0m\u001b[0;34m\u001b[0m\u001b[0m\n",
            "\u001b[0;32m/usr/local/lib/python3.7/dist-packages/joblib/_parallel_backends.py\u001b[0m in \u001b[0;36m__init__\u001b[0;34m(self, batch)\u001b[0m\n\u001b[1;32m    570\u001b[0m         \u001b[0;31m# Don't delay the application, to avoid keeping the input\u001b[0m\u001b[0;34m\u001b[0m\u001b[0;34m\u001b[0m\u001b[0;34m\u001b[0m\u001b[0m\n\u001b[1;32m    571\u001b[0m         \u001b[0;31m# arguments in memory\u001b[0m\u001b[0;34m\u001b[0m\u001b[0;34m\u001b[0m\u001b[0;34m\u001b[0m\u001b[0m\n\u001b[0;32m--> 572\u001b[0;31m         \u001b[0mself\u001b[0m\u001b[0;34m.\u001b[0m\u001b[0mresults\u001b[0m \u001b[0;34m=\u001b[0m \u001b[0mbatch\u001b[0m\u001b[0;34m(\u001b[0m\u001b[0;34m)\u001b[0m\u001b[0;34m\u001b[0m\u001b[0;34m\u001b[0m\u001b[0m\n\u001b[0m\u001b[1;32m    573\u001b[0m \u001b[0;34m\u001b[0m\u001b[0m\n\u001b[1;32m    574\u001b[0m     \u001b[0;32mdef\u001b[0m \u001b[0mget\u001b[0m\u001b[0;34m(\u001b[0m\u001b[0mself\u001b[0m\u001b[0;34m)\u001b[0m\u001b[0;34m:\u001b[0m\u001b[0;34m\u001b[0m\u001b[0;34m\u001b[0m\u001b[0m\n",
            "\u001b[0;32m/usr/local/lib/python3.7/dist-packages/joblib/parallel.py\u001b[0m in \u001b[0;36m__call__\u001b[0;34m(self)\u001b[0m\n\u001b[1;32m    261\u001b[0m         \u001b[0;32mwith\u001b[0m \u001b[0mparallel_backend\u001b[0m\u001b[0;34m(\u001b[0m\u001b[0mself\u001b[0m\u001b[0;34m.\u001b[0m\u001b[0m_backend\u001b[0m\u001b[0;34m,\u001b[0m \u001b[0mn_jobs\u001b[0m\u001b[0;34m=\u001b[0m\u001b[0mself\u001b[0m\u001b[0;34m.\u001b[0m\u001b[0m_n_jobs\u001b[0m\u001b[0;34m)\u001b[0m\u001b[0;34m:\u001b[0m\u001b[0;34m\u001b[0m\u001b[0;34m\u001b[0m\u001b[0m\n\u001b[1;32m    262\u001b[0m             return [func(*args, **kwargs)\n\u001b[0;32m--> 263\u001b[0;31m                     for func, args, kwargs in self.items]\n\u001b[0m\u001b[1;32m    264\u001b[0m \u001b[0;34m\u001b[0m\u001b[0m\n\u001b[1;32m    265\u001b[0m     \u001b[0;32mdef\u001b[0m \u001b[0m__reduce__\u001b[0m\u001b[0;34m(\u001b[0m\u001b[0mself\u001b[0m\u001b[0;34m)\u001b[0m\u001b[0;34m:\u001b[0m\u001b[0;34m\u001b[0m\u001b[0;34m\u001b[0m\u001b[0m\n",
            "\u001b[0;32m/usr/local/lib/python3.7/dist-packages/joblib/parallel.py\u001b[0m in \u001b[0;36m<listcomp>\u001b[0;34m(.0)\u001b[0m\n\u001b[1;32m    261\u001b[0m         \u001b[0;32mwith\u001b[0m \u001b[0mparallel_backend\u001b[0m\u001b[0;34m(\u001b[0m\u001b[0mself\u001b[0m\u001b[0;34m.\u001b[0m\u001b[0m_backend\u001b[0m\u001b[0;34m,\u001b[0m \u001b[0mn_jobs\u001b[0m\u001b[0;34m=\u001b[0m\u001b[0mself\u001b[0m\u001b[0;34m.\u001b[0m\u001b[0m_n_jobs\u001b[0m\u001b[0;34m)\u001b[0m\u001b[0;34m:\u001b[0m\u001b[0;34m\u001b[0m\u001b[0;34m\u001b[0m\u001b[0m\n\u001b[1;32m    262\u001b[0m             return [func(*args, **kwargs)\n\u001b[0;32m--> 263\u001b[0;31m                     for func, args, kwargs in self.items]\n\u001b[0m\u001b[1;32m    264\u001b[0m \u001b[0;34m\u001b[0m\u001b[0m\n\u001b[1;32m    265\u001b[0m     \u001b[0;32mdef\u001b[0m \u001b[0m__reduce__\u001b[0m\u001b[0;34m(\u001b[0m\u001b[0mself\u001b[0m\u001b[0;34m)\u001b[0m\u001b[0;34m:\u001b[0m\u001b[0;34m\u001b[0m\u001b[0;34m\u001b[0m\u001b[0m\n",
            "\u001b[0;32m/usr/local/lib/python3.7/dist-packages/sklearn/utils/fixes.py\u001b[0m in \u001b[0;36m__call__\u001b[0;34m(self, *args, **kwargs)\u001b[0m\n\u001b[1;32m    214\u001b[0m     \u001b[0;32mdef\u001b[0m \u001b[0m__call__\u001b[0m\u001b[0;34m(\u001b[0m\u001b[0mself\u001b[0m\u001b[0;34m,\u001b[0m \u001b[0;34m*\u001b[0m\u001b[0margs\u001b[0m\u001b[0;34m,\u001b[0m \u001b[0;34m**\u001b[0m\u001b[0mkwargs\u001b[0m\u001b[0;34m)\u001b[0m\u001b[0;34m:\u001b[0m\u001b[0;34m\u001b[0m\u001b[0;34m\u001b[0m\u001b[0m\n\u001b[1;32m    215\u001b[0m         \u001b[0;32mwith\u001b[0m \u001b[0mconfig_context\u001b[0m\u001b[0;34m(\u001b[0m\u001b[0;34m**\u001b[0m\u001b[0mself\u001b[0m\u001b[0;34m.\u001b[0m\u001b[0mconfig\u001b[0m\u001b[0;34m)\u001b[0m\u001b[0;34m:\u001b[0m\u001b[0;34m\u001b[0m\u001b[0;34m\u001b[0m\u001b[0m\n\u001b[0;32m--> 216\u001b[0;31m             \u001b[0;32mreturn\u001b[0m \u001b[0mself\u001b[0m\u001b[0;34m.\u001b[0m\u001b[0mfunction\u001b[0m\u001b[0;34m(\u001b[0m\u001b[0;34m*\u001b[0m\u001b[0margs\u001b[0m\u001b[0;34m,\u001b[0m \u001b[0;34m**\u001b[0m\u001b[0mkwargs\u001b[0m\u001b[0;34m)\u001b[0m\u001b[0;34m\u001b[0m\u001b[0;34m\u001b[0m\u001b[0m\n\u001b[0m\u001b[1;32m    217\u001b[0m \u001b[0;34m\u001b[0m\u001b[0m\n\u001b[1;32m    218\u001b[0m \u001b[0;34m\u001b[0m\u001b[0m\n",
            "\u001b[0;32m/usr/local/lib/python3.7/dist-packages/sklearn/ensemble/_forest.py\u001b[0m in \u001b[0;36m_parallel_build_trees\u001b[0;34m(tree, forest, X, y, sample_weight, tree_idx, n_trees, verbose, class_weight, n_samples_bootstrap)\u001b[0m\n\u001b[1;32m    183\u001b[0m             \u001b[0mcurr_sample_weight\u001b[0m \u001b[0;34m*=\u001b[0m \u001b[0mcompute_sample_weight\u001b[0m\u001b[0;34m(\u001b[0m\u001b[0;34m\"balanced\"\u001b[0m\u001b[0;34m,\u001b[0m \u001b[0my\u001b[0m\u001b[0;34m,\u001b[0m \u001b[0mindices\u001b[0m\u001b[0;34m=\u001b[0m\u001b[0mindices\u001b[0m\u001b[0;34m)\u001b[0m\u001b[0;34m\u001b[0m\u001b[0;34m\u001b[0m\u001b[0m\n\u001b[1;32m    184\u001b[0m \u001b[0;34m\u001b[0m\u001b[0m\n\u001b[0;32m--> 185\u001b[0;31m         \u001b[0mtree\u001b[0m\u001b[0;34m.\u001b[0m\u001b[0mfit\u001b[0m\u001b[0;34m(\u001b[0m\u001b[0mX\u001b[0m\u001b[0;34m,\u001b[0m \u001b[0my\u001b[0m\u001b[0;34m,\u001b[0m \u001b[0msample_weight\u001b[0m\u001b[0;34m=\u001b[0m\u001b[0mcurr_sample_weight\u001b[0m\u001b[0;34m,\u001b[0m \u001b[0mcheck_input\u001b[0m\u001b[0;34m=\u001b[0m\u001b[0;32mFalse\u001b[0m\u001b[0;34m)\u001b[0m\u001b[0;34m\u001b[0m\u001b[0;34m\u001b[0m\u001b[0m\n\u001b[0m\u001b[1;32m    186\u001b[0m     \u001b[0;32melse\u001b[0m\u001b[0;34m:\u001b[0m\u001b[0;34m\u001b[0m\u001b[0;34m\u001b[0m\u001b[0m\n\u001b[1;32m    187\u001b[0m         \u001b[0mtree\u001b[0m\u001b[0;34m.\u001b[0m\u001b[0mfit\u001b[0m\u001b[0;34m(\u001b[0m\u001b[0mX\u001b[0m\u001b[0;34m,\u001b[0m \u001b[0my\u001b[0m\u001b[0;34m,\u001b[0m \u001b[0msample_weight\u001b[0m\u001b[0;34m=\u001b[0m\u001b[0msample_weight\u001b[0m\u001b[0;34m,\u001b[0m \u001b[0mcheck_input\u001b[0m\u001b[0;34m=\u001b[0m\u001b[0;32mFalse\u001b[0m\u001b[0;34m)\u001b[0m\u001b[0;34m\u001b[0m\u001b[0;34m\u001b[0m\u001b[0m\n",
            "\u001b[0;32m/usr/local/lib/python3.7/dist-packages/sklearn/tree/_classes.py\u001b[0m in \u001b[0;36mfit\u001b[0;34m(self, X, y, sample_weight, check_input, X_idx_sorted)\u001b[0m\n\u001b[1;32m    940\u001b[0m             \u001b[0msample_weight\u001b[0m\u001b[0;34m=\u001b[0m\u001b[0msample_weight\u001b[0m\u001b[0;34m,\u001b[0m\u001b[0;34m\u001b[0m\u001b[0;34m\u001b[0m\u001b[0m\n\u001b[1;32m    941\u001b[0m             \u001b[0mcheck_input\u001b[0m\u001b[0;34m=\u001b[0m\u001b[0mcheck_input\u001b[0m\u001b[0;34m,\u001b[0m\u001b[0;34m\u001b[0m\u001b[0;34m\u001b[0m\u001b[0m\n\u001b[0;32m--> 942\u001b[0;31m             \u001b[0mX_idx_sorted\u001b[0m\u001b[0;34m=\u001b[0m\u001b[0mX_idx_sorted\u001b[0m\u001b[0;34m,\u001b[0m\u001b[0;34m\u001b[0m\u001b[0;34m\u001b[0m\u001b[0m\n\u001b[0m\u001b[1;32m    943\u001b[0m         )\n\u001b[1;32m    944\u001b[0m         \u001b[0;32mreturn\u001b[0m \u001b[0mself\u001b[0m\u001b[0;34m\u001b[0m\u001b[0;34m\u001b[0m\u001b[0m\n",
            "\u001b[0;32m/usr/local/lib/python3.7/dist-packages/sklearn/tree/_classes.py\u001b[0m in \u001b[0;36mfit\u001b[0;34m(self, X, y, sample_weight, check_input, X_idx_sorted)\u001b[0m\n\u001b[1;32m    418\u001b[0m             )\n\u001b[1;32m    419\u001b[0m \u001b[0;34m\u001b[0m\u001b[0m\n\u001b[0;32m--> 420\u001b[0;31m         \u001b[0mbuilder\u001b[0m\u001b[0;34m.\u001b[0m\u001b[0mbuild\u001b[0m\u001b[0;34m(\u001b[0m\u001b[0mself\u001b[0m\u001b[0;34m.\u001b[0m\u001b[0mtree_\u001b[0m\u001b[0;34m,\u001b[0m \u001b[0mX\u001b[0m\u001b[0;34m,\u001b[0m \u001b[0my\u001b[0m\u001b[0;34m,\u001b[0m \u001b[0msample_weight\u001b[0m\u001b[0;34m)\u001b[0m\u001b[0;34m\u001b[0m\u001b[0;34m\u001b[0m\u001b[0m\n\u001b[0m\u001b[1;32m    421\u001b[0m \u001b[0;34m\u001b[0m\u001b[0m\n\u001b[1;32m    422\u001b[0m         \u001b[0;32mif\u001b[0m \u001b[0mself\u001b[0m\u001b[0;34m.\u001b[0m\u001b[0mn_outputs_\u001b[0m \u001b[0;34m==\u001b[0m \u001b[0;36m1\u001b[0m \u001b[0;32mand\u001b[0m \u001b[0mis_classifier\u001b[0m\u001b[0;34m(\u001b[0m\u001b[0mself\u001b[0m\u001b[0;34m)\u001b[0m\u001b[0;34m:\u001b[0m\u001b[0;34m\u001b[0m\u001b[0;34m\u001b[0m\u001b[0m\n",
            "\u001b[0;31mKeyboardInterrupt\u001b[0m: "
          ]
        }
      ]
    },
    {
      "cell_type": "code",
      "source": [
        "print(grid.best_params_)"
      ],
      "metadata": {
        "id": "gNnc8oictmUI"
      },
      "execution_count": null,
      "outputs": []
    },
    {
      "cell_type": "code",
      "source": [
        "method = \"BERT\"\n",
        "classification = \"Random Forest\" \n",
        "model = RandomForestClassifier(\n",
        "    n_estimators=200, \n",
        "    random_state=42,\n",
        "    criterion='gini',\n",
        "    max_depth=8,\n",
        "    max_features='auto'\n",
        ")\n",
        "# Training\n",
        "model.fit(bert_sentence_training_features, train_data[\"score\"])\n",
        "\n",
        "# Evaluation\n",
        "y_pred_bert_sentences_rf = model.predict(bert_sentence_test_features)\n",
        "y_prob_bert_sentences_rf = model.predict_proba(bert_sentence_test_features)\n",
        "\n",
        "# Result\n",
        "printResult(method, classification, y_pred_bert_sentences_rf, y_prob_bert_sentences_rf)"
      ],
      "metadata": {
        "id": "SYvsnk1LbQEM",
        "colab": {
          "base_uri": "https://localhost:8080/",
          "height": 606
        },
        "outputId": "7bca890d-a886-43f8-a1f0-4d0009df2005"
      },
      "execution_count": 151,
      "outputs": [
        {
          "output_type": "stream",
          "name": "stdout",
          "text": [
            "Method: BERT\n",
            "Classifier: Random Forest\n",
            "Accuracy: 75.77\n",
            "\n",
            "              precision    recall  f1-score   support\n",
            "\n",
            "           0       0.76      0.59      0.66       110\n",
            "           1       0.75      0.94      0.84       571\n",
            "           2       0.79      0.46      0.58       289\n",
            "\n",
            "    accuracy                           0.76       970\n",
            "   macro avg       0.77      0.66      0.69       970\n",
            "weighted avg       0.76      0.76      0.74       970\n",
            "\n",
            "Area under the ROC curve : 0.999184\n",
            "Area under the ROC curve : 0.996918\n",
            "Area under the ROC curve : 0.995026\n"
          ]
        },
        {
          "output_type": "display_data",
          "data": {
            "text/plain": [
              "<Figure size 432x288 with 2 Axes>"
            ],
            "image/png": "[encoded data removed]"
          },
          "metadata": {
            "needs_background": "light"
          }
        }
      ]
    },
    {
      "cell_type": "code",
      "source": [
        ""
      ],
      "metadata": {
        "id": "a4Y4JaQa2bG1"
      },
      "execution_count": null,
      "outputs": []
    }
  ],
  "metadata": {
    "accelerator": "GPU",
    "colab": {
      "collapsed_sections": [],
      "name": "BERT_TF-IDF_Word2Vec_BoW.ipynb",
      "provenance": [],
      "history_visible": true
    },
    "kernelspec": {
      "display_name": "Python 3",
      "name": "python3"
    },
    "language_info": {
      "name": "python"
    },
    "widgets": {
      "application/vnd.jupyter.widget-state+json": {
        "3b2ea9b76cb94c6b87cfa19ca45a0433": {
          "model_module": "@jupyter-widgets/controls",
          "model_name": "HBoxModel",
          "model_module_version": "1.5.0",
          "state": {
            "_dom_classes": [],
            "_model_module": "@jupyter-widgets/controls",
            "_model_module_version": "1.5.0",
            "_model_name": "HBoxModel",
            "_view_count": null,
            "_view_module": "@jupyter-widgets/controls",
            "_view_module_version": "1.5.0",
            "_view_name": "HBoxView",
            "box_style": "",
            "children": [
              "IPY_MODEL_265794d824fb42099a7ffe28ef05784d",
              "IPY_MODEL_edf7252be76241fb87c4e357d621685d",
              "IPY_MODEL_b1c09343a9094fb08645ca5b3bd3f507"
            ],
            "layout": "IPY_MODEL_65d136c56913427db67fc3c237f9317a"
          }
        },
        "265794d824fb42099a7ffe28ef05784d": {
          "model_module": "@jupyter-widgets/controls",
          "model_name": "HTMLModel",
          "model_module_version": "1.5.0",
          "state": {
            "_dom_classes": [],
            "_model_module": "@jupyter-widgets/controls",
            "_model_module_version": "1.5.0",
            "_model_name": "HTMLModel",
            "_view_count": null,
            "_view_module": "@jupyter-widgets/controls",
            "_view_module_version": "1.5.0",
            "_view_name": "HTMLView",
            "description": "",
            "description_tooltip": null,
            "layout": "IPY_MODEL_a5e57731a7da428883514395473c4719",
            "placeholder": "​",
            "style": "IPY_MODEL_8a664bfdaf6443ad9ec12a207f476c27",
            "value": "Downloading: 100%"
          }
        },
        "edf7252be76241fb87c4e357d621685d": {
          "model_module": "@jupyter-widgets/controls",
          "model_name": "FloatProgressModel",
          "model_module_version": "1.5.0",
          "state": {
            "_dom_classes": [],
            "_model_module": "@jupyter-widgets/controls",
            "_model_module_version": "1.5.0",
            "_model_name": "FloatProgressModel",
            "_view_count": null,
            "_view_module": "@jupyter-widgets/controls",
            "_view_module_version": "1.5.0",
            "_view_name": "ProgressView",
            "bar_style": "success",
            "description": "",
            "description_tooltip": null,
            "layout": "IPY_MODEL_46659f6a546546099b6d9dad792d18b6",
            "max": 391,
            "min": 0,
            "orientation": "horizontal",
            "style": "IPY_MODEL_645d86939ea244cda2f56bf96d454490",
            "value": 391
          }
        },
        "b1c09343a9094fb08645ca5b3bd3f507": {
          "model_module": "@jupyter-widgets/controls",
          "model_name": "HTMLModel",
          "model_module_version": "1.5.0",
          "state": {
            "_dom_classes": [],
            "_model_module": "@jupyter-widgets/controls",
            "_model_module_version": "1.5.0",
            "_model_name": "HTMLModel",
            "_view_count": null,
            "_view_module": "@jupyter-widgets/controls",
            "_view_module_version": "1.5.0",
            "_view_name": "HTMLView",
            "description": "",
            "description_tooltip": null,
            "layout": "IPY_MODEL_d2be7813fb4543df91aa9d42a83f9e5d",
            "placeholder": "​",
            "style": "IPY_MODEL_55d0cb5661eb4a4ca0f85b05d652d081",
            "value": " 391/391 [00:00&lt;00:00, 10.5kB/s]"
          }
        },
        "65d136c56913427db67fc3c237f9317a": {
          "model_module": "@jupyter-widgets/base",
          "model_name": "LayoutModel",
          "model_module_version": "1.2.0",
          "state": {
            "_model_module": "@jupyter-widgets/base",
            "_model_module_version": "1.2.0",
            "_model_name": "LayoutModel",
            "_view_count": null,
            "_view_module": "@jupyter-widgets/base",
            "_view_module_version": "1.2.0",
            "_view_name": "LayoutView",
            "align_content": null,
            "align_items": null,
            "align_self": null,
            "border": null,
            "bottom": null,
            "display": null,
            "flex": null,
            "flex_flow": null,
            "grid_area": null,
            "grid_auto_columns": null,
            "grid_auto_flow": null,
            "grid_auto_rows": null,
            "grid_column": null,
            "grid_gap": null,
            "grid_row": null,
            "grid_template_areas": null,
            "grid_template_columns": null,
            "grid_template_rows": null,
            "height": null,
            "justify_content": null,
            "justify_items": null,
            "left": null,
            "margin": null,
            "max_height": null,
            "max_width": null,
            "min_height": null,
            "min_width": null,
            "object_fit": null,
            "object_position": null,
            "order": null,
            "overflow": null,
            "overflow_x": null,
            "overflow_y": null,
            "padding": null,
            "right": null,
            "top": null,
            "visibility": null,
            "width": null
          }
        },
        "a5e57731a7da428883514395473c4719": {
          "model_module": "@jupyter-widgets/base",
          "model_name": "LayoutModel",
          "model_module_version": "1.2.0",
          "state": {
            "_model_module": "@jupyter-widgets/base",
            "_model_module_version": "1.2.0",
            "_model_name": "LayoutModel",
            "_view_count": null,
            "_view_module": "@jupyter-widgets/base",
            "_view_module_version": "1.2.0",
            "_view_name": "LayoutView",
            "align_content": null,
            "align_items": null,
            "align_self": null,
            "border": null,
            "bottom": null,
            "display": null,
            "flex": null,
            "flex_flow": null,
            "grid_area": null,
            "grid_auto_columns": null,
            "grid_auto_flow": null,
            "grid_auto_rows": null,
            "grid_column": null,
            "grid_gap": null,
            "grid_row": null,
            "grid_template_areas": null,
            "grid_template_columns": null,
            "grid_template_rows": null,
            "height": null,
            "justify_content": null,
            "justify_items": null,
            "left": null,
            "margin": null,
            "max_height": null,
            "max_width": null,
            "min_height": null,
            "min_width": null,
            "object_fit": null,
            "object_position": null,
            "order": null,
            "overflow": null,
            "overflow_x": null,
            "overflow_y": null,
            "padding": null,
            "right": null,
            "top": null,
            "visibility": null,
            "width": null
          }
        },
        "8a664bfdaf6443ad9ec12a207f476c27": {
          "model_module": "@jupyter-widgets/controls",
          "model_name": "DescriptionStyleModel",
          "model_module_version": "1.5.0",
          "state": {
            "_model_module": "@jupyter-widgets/controls",
            "_model_module_version": "1.5.0",
            "_model_name": "DescriptionStyleModel",
            "_view_count": null,
            "_view_module": "@jupyter-widgets/base",
            "_view_module_version": "1.2.0",
            "_view_name": "StyleView",
            "description_width": ""
          }
        },
        "46659f6a546546099b6d9dad792d18b6": {
          "model_module": "@jupyter-widgets/base",
          "model_name": "LayoutModel",
          "model_module_version": "1.2.0",
          "state": {
            "_model_module": "@jupyter-widgets/base",
            "_model_module_version": "1.2.0",
            "_model_name": "LayoutModel",
            "_view_count": null,
            "_view_module": "@jupyter-widgets/base",
            "_view_module_version": "1.2.0",
            "_view_name": "LayoutView",
            "align_content": null,
            "align_items": null,
            "align_self": null,
            "border": null,
            "bottom": null,
            "display": null,
            "flex": null,
            "flex_flow": null,
            "grid_area": null,
            "grid_auto_columns": null,
            "grid_auto_flow": null,
            "grid_auto_rows": null,
            "grid_column": null,
            "grid_gap": null,
            "grid_row": null,
            "grid_template_areas": null,
            "grid_template_columns": null,
            "grid_template_rows": null,
            "height": null,
            "justify_content": null,
            "justify_items": null,
            "left": null,
            "margin": null,
            "max_height": null,
            "max_width": null,
            "min_height": null,
            "min_width": null,
            "object_fit": null,
            "object_position": null,
            "order": null,
            "overflow": null,
            "overflow_x": null,
            "overflow_y": null,
            "padding": null,
            "right": null,
            "top": null,
            "visibility": null,
            "width": null
          }
        },
        "645d86939ea244cda2f56bf96d454490": {
          "model_module": "@jupyter-widgets/controls",
          "model_name": "ProgressStyleModel",
          "model_module_version": "1.5.0",
          "state": {
            "_model_module": "@jupyter-widgets/controls",
            "_model_module_version": "1.5.0",
            "_model_name": "ProgressStyleModel",
            "_view_count": null,
            "_view_module": "@jupyter-widgets/base",
            "_view_module_version": "1.2.0",
            "_view_name": "StyleView",
            "bar_color": null,
            "description_width": ""
          }
        },
        "d2be7813fb4543df91aa9d42a83f9e5d": {
          "model_module": "@jupyter-widgets/base",
          "model_name": "LayoutModel",
          "model_module_version": "1.2.0",
          "state": {
            "_model_module": "@jupyter-widgets/base",
            "_model_module_version": "1.2.0",
            "_model_name": "LayoutModel",
            "_view_count": null,
            "_view_module": "@jupyter-widgets/base",
            "_view_module_version": "1.2.0",
            "_view_name": "LayoutView",
            "align_content": null,
            "align_items": null,
            "align_self": null,
            "border": null,
            "bottom": null,
            "display": null,
            "flex": null,
            "flex_flow": null,
            "grid_area": null,
            "grid_auto_columns": null,
            "grid_auto_flow": null,
            "grid_auto_rows": null,
            "grid_column": null,
            "grid_gap": null,
            "grid_row": null,
            "grid_template_areas": null,
            "grid_template_columns": null,
            "grid_template_rows": null,
            "height": null,
            "justify_content": null,
            "justify_items": null,
            "left": null,
            "margin": null,
            "max_height": null,
            "max_width": null,
            "min_height": null,
            "min_width": null,
            "object_fit": null,
            "object_position": null,
            "order": null,
            "overflow": null,
            "overflow_x": null,
            "overflow_y": null,
            "padding": null,
            "right": null,
            "top": null,
            "visibility": null,
            "width": null
          }
        },
        "55d0cb5661eb4a4ca0f85b05d652d081": {
          "model_module": "@jupyter-widgets/controls",
          "model_name": "DescriptionStyleModel",
          "model_module_version": "1.5.0",
          "state": {
            "_model_module": "@jupyter-widgets/controls",
            "_model_module_version": "1.5.0",
            "_model_name": "DescriptionStyleModel",
            "_view_count": null,
            "_view_module": "@jupyter-widgets/base",
            "_view_module_version": "1.2.0",
            "_view_name": "StyleView",
            "description_width": ""
          }
        },
        "de8fe2f2e5144722bd529e0081177a5d": {
          "model_module": "@jupyter-widgets/controls",
          "model_name": "HBoxModel",
          "model_module_version": "1.5.0",
          "state": {
            "_dom_classes": [],
            "_model_module": "@jupyter-widgets/controls",
            "_model_module_version": "1.5.0",
            "_model_name": "HBoxModel",
            "_view_count": null,
            "_view_module": "@jupyter-widgets/controls",
            "_view_module_version": "1.5.0",
            "_view_name": "HBoxView",
            "box_style": "",
            "children": [
              "IPY_MODEL_87773c30a0824867b1078d9e9f0d4b9d",
              "IPY_MODEL_f580e6525d1949b5a1fa29d2471ccfdc",
              "IPY_MODEL_821e4db0e43b4b80bb219aad26a5e95d"
            ],
            "layout": "IPY_MODEL_0b6a50dfc98741859ec28d3ade0d41db"
          }
        },
        "87773c30a0824867b1078d9e9f0d4b9d": {
          "model_module": "@jupyter-widgets/controls",
          "model_name": "HTMLModel",
          "model_module_version": "1.5.0",
          "state": {
            "_dom_classes": [],
            "_model_module": "@jupyter-widgets/controls",
            "_model_module_version": "1.5.0",
            "_model_name": "HTMLModel",
            "_view_count": null,
            "_view_module": "@jupyter-widgets/controls",
            "_view_module_version": "1.5.0",
            "_view_name": "HTMLView",
            "description": "",
            "description_tooltip": null,
            "layout": "IPY_MODEL_955f569fe7d54cc09cfb991ea5b9edfa",
            "placeholder": "​",
            "style": "IPY_MODEL_e70a870910e74164b88ea2b0adacfff6",
            "value": "Downloading: 100%"
          }
        },
        "f580e6525d1949b5a1fa29d2471ccfdc": {
          "model_module": "@jupyter-widgets/controls",
          "model_name": "FloatProgressModel",
          "model_module_version": "1.5.0",
          "state": {
            "_dom_classes": [],
            "_model_module": "@jupyter-widgets/controls",
            "_model_module_version": "1.5.0",
            "_model_name": "FloatProgressModel",
            "_view_count": null,
            "_view_module": "@jupyter-widgets/controls",
            "_view_module_version": "1.5.0",
            "_view_name": "ProgressView",
            "bar_style": "success",
            "description": "",
            "description_tooltip": null,
            "layout": "IPY_MODEL_e5585566fd414422b6a365a3d2b17c9a",
            "max": 190,
            "min": 0,
            "orientation": "horizontal",
            "style": "IPY_MODEL_0cdf03c51c50479a9065bebe3ad3e979",
            "value": 190
          }
        },
        "821e4db0e43b4b80bb219aad26a5e95d": {
          "model_module": "@jupyter-widgets/controls",
          "model_name": "HTMLModel",
          "model_module_version": "1.5.0",
          "state": {
            "_dom_classes": [],
            "_model_module": "@jupyter-widgets/controls",
            "_model_module_version": "1.5.0",
            "_model_name": "HTMLModel",
            "_view_count": null,
            "_view_module": "@jupyter-widgets/controls",
            "_view_module_version": "1.5.0",
            "_view_name": "HTMLView",
            "description": "",
            "description_tooltip": null,
            "layout": "IPY_MODEL_15bc4d251fdf44eda33095b07e317c5b",
            "placeholder": "​",
            "style": "IPY_MODEL_5e31de1e7a404fecaef3dca67bbdcee4",
            "value": " 190/190 [00:00&lt;00:00, 1.91kB/s]"
          }
        },
        "0b6a50dfc98741859ec28d3ade0d41db": {
          "model_module": "@jupyter-widgets/base",
          "model_name": "LayoutModel",
          "model_module_version": "1.2.0",
          "state": {
            "_model_module": "@jupyter-widgets/base",
            "_model_module_version": "1.2.0",
            "_model_name": "LayoutModel",
            "_view_count": null,
            "_view_module": "@jupyter-widgets/base",
            "_view_module_version": "1.2.0",
            "_view_name": "LayoutView",
            "align_content": null,
            "align_items": null,
            "align_self": null,
            "border": null,
            "bottom": null,
            "display": null,
            "flex": null,
            "flex_flow": null,
            "grid_area": null,
            "grid_auto_columns": null,
            "grid_auto_flow": null,
            "grid_auto_rows": null,
            "grid_column": null,
            "grid_gap": null,
            "grid_row": null,
            "grid_template_areas": null,
            "grid_template_columns": null,
            "grid_template_rows": null,
            "height": null,
            "justify_content": null,
            "justify_items": null,
            "left": null,
            "margin": null,
            "max_height": null,
            "max_width": null,
            "min_height": null,
            "min_width": null,
            "object_fit": null,
            "object_position": null,
            "order": null,
            "overflow": null,
            "overflow_x": null,
            "overflow_y": null,
            "padding": null,
            "right": null,
            "top": null,
            "visibility": null,
            "width": null
          }
        },
        "955f569fe7d54cc09cfb991ea5b9edfa": {
          "model_module": "@jupyter-widgets/base",
          "model_name": "LayoutModel",
          "model_module_version": "1.2.0",
          "state": {
            "_model_module": "@jupyter-widgets/base",
            "_model_module_version": "1.2.0",
            "_model_name": "LayoutModel",
            "_view_count": null,
            "_view_module": "@jupyter-widgets/base",
            "_view_module_version": "1.2.0",
            "_view_name": "LayoutView",
            "align_content": null,
            "align_items": null,
            "align_self": null,
            "border": null,
            "bottom": null,
            "display": null,
            "flex": null,
            "flex_flow": null,
            "grid_area": null,
            "grid_auto_columns": null,
            "grid_auto_flow": null,
            "grid_auto_rows": null,
            "grid_column": null,
            "grid_gap": null,
            "grid_row": null,
            "grid_template_areas": null,
            "grid_template_columns": null,
            "grid_template_rows": null,
            "height": null,
            "justify_content": null,
            "justify_items": null,
            "left": null,
            "margin": null,
            "max_height": null,
            "max_width": null,
            "min_height": null,
            "min_width": null,
            "object_fit": null,
            "object_position": null,
            "order": null,
            "overflow": null,
            "overflow_x": null,
            "overflow_y": null,
            "padding": null,
            "right": null,
            "top": null,
            "visibility": null,
            "width": null
          }
        },
        "e70a870910e74164b88ea2b0adacfff6": {
          "model_module": "@jupyter-widgets/controls",
          "model_name": "DescriptionStyleModel",
          "model_module_version": "1.5.0",
          "state": {
            "_model_module": "@jupyter-widgets/controls",
            "_model_module_version": "1.5.0",
            "_model_name": "DescriptionStyleModel",
            "_view_count": null,
            "_view_module": "@jupyter-widgets/base",
            "_view_module_version": "1.2.0",
            "_view_name": "StyleView",
            "description_width": ""
          }
        },
        "e5585566fd414422b6a365a3d2b17c9a": {
          "model_module": "@jupyter-widgets/base",
          "model_name": "LayoutModel",
          "model_module_version": "1.2.0",
          "state": {
            "_model_module": "@jupyter-widgets/base",
            "_model_module_version": "1.2.0",
            "_model_name": "LayoutModel",
            "_view_count": null,
            "_view_module": "@jupyter-widgets/base",
            "_view_module_version": "1.2.0",
            "_view_name": "LayoutView",
            "align_content": null,
            "align_items": null,
            "align_self": null,
            "border": null,
            "bottom": null,
            "display": null,
            "flex": null,
            "flex_flow": null,
            "grid_area": null,
            "grid_auto_columns": null,
            "grid_auto_flow": null,
            "grid_auto_rows": null,
            "grid_column": null,
            "grid_gap": null,
            "grid_row": null,
            "grid_template_areas": null,
            "grid_template_columns": null,
            "grid_template_rows": null,
            "height": null,
            "justify_content": null,
            "justify_items": null,
            "left": null,
            "margin": null,
            "max_height": null,
            "max_width": null,
            "min_height": null,
            "min_width": null,
            "object_fit": null,
            "object_position": null,
            "order": null,
            "overflow": null,
            "overflow_x": null,
            "overflow_y": null,
            "padding": null,
            "right": null,
            "top": null,
            "visibility": null,
            "width": null
          }
        },
        "0cdf03c51c50479a9065bebe3ad3e979": {
          "model_module": "@jupyter-widgets/controls",
          "model_name": "ProgressStyleModel",
          "model_module_version": "1.5.0",
          "state": {
            "_model_module": "@jupyter-widgets/controls",
            "_model_module_version": "1.5.0",
            "_model_name": "ProgressStyleModel",
            "_view_count": null,
            "_view_module": "@jupyter-widgets/base",
            "_view_module_version": "1.2.0",
            "_view_name": "StyleView",
            "bar_color": null,
            "description_width": ""
          }
        },
        "15bc4d251fdf44eda33095b07e317c5b": {
          "model_module": "@jupyter-widgets/base",
          "model_name": "LayoutModel",
          "model_module_version": "1.2.0",
          "state": {
            "_model_module": "@jupyter-widgets/base",
            "_model_module_version": "1.2.0",
            "_model_name": "LayoutModel",
            "_view_count": null,
            "_view_module": "@jupyter-widgets/base",
            "_view_module_version": "1.2.0",
            "_view_name": "LayoutView",
            "align_content": null,
            "align_items": null,
            "align_self": null,
            "border": null,
            "bottom": null,
            "display": null,
            "flex": null,
            "flex_flow": null,
            "grid_area": null,
            "grid_auto_columns": null,
            "grid_auto_flow": null,
            "grid_auto_rows": null,
            "grid_column": null,
            "grid_gap": null,
            "grid_row": null,
            "grid_template_areas": null,
            "grid_template_columns": null,
            "grid_template_rows": null,
            "height": null,
            "justify_content": null,
            "justify_items": null,
            "left": null,
            "margin": null,
            "max_height": null,
            "max_width": null,
            "min_height": null,
            "min_width": null,
            "object_fit": null,
            "object_position": null,
            "order": null,
            "overflow": null,
            "overflow_x": null,
            "overflow_y": null,
            "padding": null,
            "right": null,
            "top": null,
            "visibility": null,
            "width": null
          }
        },
        "5e31de1e7a404fecaef3dca67bbdcee4": {
          "model_module": "@jupyter-widgets/controls",
          "model_name": "DescriptionStyleModel",
          "model_module_version": "1.5.0",
          "state": {
            "_model_module": "@jupyter-widgets/controls",
            "_model_module_version": "1.5.0",
            "_model_name": "DescriptionStyleModel",
            "_view_count": null,
            "_view_module": "@jupyter-widgets/base",
            "_view_module_version": "1.2.0",
            "_view_name": "StyleView",
            "description_width": ""
          }
        },
        "7a4cc7c98879490abb4528cdfe2adc89": {
          "model_module": "@jupyter-widgets/controls",
          "model_name": "HBoxModel",
          "model_module_version": "1.5.0",
          "state": {
            "_dom_classes": [],
            "_model_module": "@jupyter-widgets/controls",
            "_model_module_version": "1.5.0",
            "_model_name": "HBoxModel",
            "_view_count": null,
            "_view_module": "@jupyter-widgets/controls",
            "_view_module_version": "1.5.0",
            "_view_name": "HBoxView",
            "box_style": "",
            "children": [
              "IPY_MODEL_fe7b07754aee4a78a6157b50e3e54d04",
              "IPY_MODEL_88028e4dd3db4c738f01315dce24d73e",
              "IPY_MODEL_e393db9b78f64085bfe6746cd3dc8bc9"
            ],
            "layout": "IPY_MODEL_355ddb7e837641d7af7d3dd0b91d528a"
          }
        },
        "fe7b07754aee4a78a6157b50e3e54d04": {
          "model_module": "@jupyter-widgets/controls",
          "model_name": "HTMLModel",
          "model_module_version": "1.5.0",
          "state": {
            "_dom_classes": [],
            "_model_module": "@jupyter-widgets/controls",
            "_model_module_version": "1.5.0",
            "_model_name": "HTMLModel",
            "_view_count": null,
            "_view_module": "@jupyter-widgets/controls",
            "_view_module_version": "1.5.0",
            "_view_name": "HTMLView",
            "description": "",
            "description_tooltip": null,
            "layout": "IPY_MODEL_3187154549574adca9d831a1cee9cf68",
            "placeholder": "​",
            "style": "IPY_MODEL_4a729d93dc7748428bc19a776e4821dc",
            "value": "Downloading: 100%"
          }
        },
        "88028e4dd3db4c738f01315dce24d73e": {
          "model_module": "@jupyter-widgets/controls",
          "model_name": "FloatProgressModel",
          "model_module_version": "1.5.0",
          "state": {
            "_dom_classes": [],
            "_model_module": "@jupyter-widgets/controls",
            "_model_module_version": "1.5.0",
            "_model_name": "FloatProgressModel",
            "_view_count": null,
            "_view_module": "@jupyter-widgets/controls",
            "_view_module_version": "1.5.0",
            "_view_name": "ProgressView",
            "bar_style": "success",
            "description": "",
            "description_tooltip": null,
            "layout": "IPY_MODEL_82ac8f7d79c84ca0b5b012f255470658",
            "max": 3951,
            "min": 0,
            "orientation": "horizontal",
            "style": "IPY_MODEL_513bc9230dd1446f9468f025b844387c",
            "value": 3951
          }
        },
        "e393db9b78f64085bfe6746cd3dc8bc9": {
          "model_module": "@jupyter-widgets/controls",
          "model_name": "HTMLModel",
          "model_module_version": "1.5.0",
          "state": {
            "_dom_classes": [],
            "_model_module": "@jupyter-widgets/controls",
            "_model_module_version": "1.5.0",
            "_model_name": "HTMLModel",
            "_view_count": null,
            "_view_module": "@jupyter-widgets/controls",
            "_view_module_version": "1.5.0",
            "_view_name": "HTMLView",
            "description": "",
            "description_tooltip": null,
            "layout": "IPY_MODEL_aa442d6d7944440c9a7158efa1b9ad47",
            "placeholder": "​",
            "style": "IPY_MODEL_d4b47d1adba2437d9a9ec06921276386",
            "value": " 3.95k/3.95k [00:00&lt;00:00, 124kB/s]"
          }
        },
        "355ddb7e837641d7af7d3dd0b91d528a": {
          "model_module": "@jupyter-widgets/base",
          "model_name": "LayoutModel",
          "model_module_version": "1.2.0",
          "state": {
            "_model_module": "@jupyter-widgets/base",
            "_model_module_version": "1.2.0",
            "_model_name": "LayoutModel",
            "_view_count": null,
            "_view_module": "@jupyter-widgets/base",
            "_view_module_version": "1.2.0",
            "_view_name": "LayoutView",
            "align_content": null,
            "align_items": null,
            "align_self": null,
            "border": null,
            "bottom": null,
            "display": null,
            "flex": null,
            "flex_flow": null,
            "grid_area": null,
            "grid_auto_columns": null,
            "grid_auto_flow": null,
            "grid_auto_rows": null,
            "grid_column": null,
            "grid_gap": null,
            "grid_row": null,
            "grid_template_areas": null,
            "grid_template_columns": null,
            "grid_template_rows": null,
            "height": null,
            "justify_content": null,
            "justify_items": null,
            "left": null,
            "margin": null,
            "max_height": null,
            "max_width": null,
            "min_height": null,
            "min_width": null,
            "object_fit": null,
            "object_position": null,
            "order": null,
            "overflow": null,
            "overflow_x": null,
            "overflow_y": null,
            "padding": null,
            "right": null,
            "top": null,
            "visibility": null,
            "width": null
          }
        },
        "3187154549574adca9d831a1cee9cf68": {
          "model_module": "@jupyter-widgets/base",
          "model_name": "LayoutModel",
          "model_module_version": "1.2.0",
          "state": {
            "_model_module": "@jupyter-widgets/base",
            "_model_module_version": "1.2.0",
            "_model_name": "LayoutModel",
            "_view_count": null,
            "_view_module": "@jupyter-widgets/base",
            "_view_module_version": "1.2.0",
            "_view_name": "LayoutView",
            "align_content": null,
            "align_items": null,
            "align_self": null,
            "border": null,
            "bottom": null,
            "display": null,
            "flex": null,
            "flex_flow": null,
            "grid_area": null,
            "grid_auto_columns": null,
            "grid_auto_flow": null,
            "grid_auto_rows": null,
            "grid_column": null,
            "grid_gap": null,
            "grid_row": null,
            "grid_template_areas": null,
            "grid_template_columns": null,
            "grid_template_rows": null,
            "height": null,
            "justify_content": null,
            "justify_items": null,
            "left": null,
            "margin": null,
            "max_height": null,
            "max_width": null,
            "min_height": null,
            "min_width": null,
            "object_fit": null,
            "object_position": null,
            "order": null,
            "overflow": null,
            "overflow_x": null,
            "overflow_y": null,
            "padding": null,
            "right": null,
            "top": null,
            "visibility": null,
            "width": null
          }
        },
        "4a729d93dc7748428bc19a776e4821dc": {
          "model_module": "@jupyter-widgets/controls",
          "model_name": "DescriptionStyleModel",
          "model_module_version": "1.5.0",
          "state": {
            "_model_module": "@jupyter-widgets/controls",
            "_model_module_version": "1.5.0",
            "_model_name": "DescriptionStyleModel",
            "_view_count": null,
            "_view_module": "@jupyter-widgets/base",
            "_view_module_version": "1.2.0",
            "_view_name": "StyleView",
            "description_width": ""
          }
        },
        "82ac8f7d79c84ca0b5b012f255470658": {
          "model_module": "@jupyter-widgets/base",
          "model_name": "LayoutModel",
          "model_module_version": "1.2.0",
          "state": {
            "_model_module": "@jupyter-widgets/base",
            "_model_module_version": "1.2.0",
            "_model_name": "LayoutModel",
            "_view_count": null,
            "_view_module": "@jupyter-widgets/base",
            "_view_module_version": "1.2.0",
            "_view_name": "LayoutView",
            "align_content": null,
            "align_items": null,
            "align_self": null,
            "border": null,
            "bottom": null,
            "display": null,
            "flex": null,
            "flex_flow": null,
            "grid_area": null,
            "grid_auto_columns": null,
            "grid_auto_flow": null,
            "grid_auto_rows": null,
            "grid_column": null,
            "grid_gap": null,
            "grid_row": null,
            "grid_template_areas": null,
            "grid_template_columns": null,
            "grid_template_rows": null,
            "height": null,
            "justify_content": null,
            "justify_items": null,
            "left": null,
            "margin": null,
            "max_height": null,
            "max_width": null,
            "min_height": null,
            "min_width": null,
            "object_fit": null,
            "object_position": null,
            "order": null,
            "overflow": null,
            "overflow_x": null,
            "overflow_y": null,
            "padding": null,
            "right": null,
            "top": null,
            "visibility": null,
            "width": null
          }
        },
        "513bc9230dd1446f9468f025b844387c": {
          "model_module": "@jupyter-widgets/controls",
          "model_name": "ProgressStyleModel",
          "model_module_version": "1.5.0",
          "state": {
            "_model_module": "@jupyter-widgets/controls",
            "_model_module_version": "1.5.0",
            "_model_name": "ProgressStyleModel",
            "_view_count": null,
            "_view_module": "@jupyter-widgets/base",
            "_view_module_version": "1.2.0",
            "_view_name": "StyleView",
            "bar_color": null,
            "description_width": ""
          }
        },
        "aa442d6d7944440c9a7158efa1b9ad47": {
          "model_module": "@jupyter-widgets/base",
          "model_name": "LayoutModel",
          "model_module_version": "1.2.0",
          "state": {
            "_model_module": "@jupyter-widgets/base",
            "_model_module_version": "1.2.0",
            "_model_name": "LayoutModel",
            "_view_count": null,
            "_view_module": "@jupyter-widgets/base",
            "_view_module_version": "1.2.0",
            "_view_name": "LayoutView",
            "align_content": null,
            "align_items": null,
            "align_self": null,
            "border": null,
            "bottom": null,
            "display": null,
            "flex": null,
            "flex_flow": null,
            "grid_area": null,
            "grid_auto_columns": null,
            "grid_auto_flow": null,
            "grid_auto_rows": null,
            "grid_column": null,
            "grid_gap": null,
            "grid_row": null,
            "grid_template_areas": null,
            "grid_template_columns": null,
            "grid_template_rows": null,
            "height": null,
            "justify_content": null,
            "justify_items": null,
            "left": null,
            "margin": null,
            "max_height": null,
            "max_width": null,
            "min_height": null,
            "min_width": null,
            "object_fit": null,
            "object_position": null,
            "order": null,
            "overflow": null,
            "overflow_x": null,
            "overflow_y": null,
            "padding": null,
            "right": null,
            "top": null,
            "visibility": null,
            "width": null
          }
        },
        "d4b47d1adba2437d9a9ec06921276386": {
          "model_module": "@jupyter-widgets/controls",
          "model_name": "DescriptionStyleModel",
          "model_module_version": "1.5.0",
          "state": {
            "_model_module": "@jupyter-widgets/controls",
            "_model_module_version": "1.5.0",
            "_model_name": "DescriptionStyleModel",
            "_view_count": null,
            "_view_module": "@jupyter-widgets/base",
            "_view_module_version": "1.2.0",
            "_view_name": "StyleView",
            "description_width": ""
          }
        },
        "2e39b15cdfff4532ae4225459d7f5dff": {
          "model_module": "@jupyter-widgets/controls",
          "model_name": "HBoxModel",
          "model_module_version": "1.5.0",
          "state": {
            "_dom_classes": [],
            "_model_module": "@jupyter-widgets/controls",
            "_model_module_version": "1.5.0",
            "_model_name": "HBoxModel",
            "_view_count": null,
            "_view_module": "@jupyter-widgets/controls",
            "_view_module_version": "1.5.0",
            "_view_name": "HBoxView",
            "box_style": "",
            "children": [
              "IPY_MODEL_a2aa5cacd2314869b2ef8f1d422a922e",
              "IPY_MODEL_8c26060d479a48489791887a95bc70d9",
              "IPY_MODEL_c21d0268e8754f7bbc738ed3c2f8e963"
            ],
            "layout": "IPY_MODEL_f3741dcd64e0426ebb7bdba3d990c88a"
          }
        },
        "a2aa5cacd2314869b2ef8f1d422a922e": {
          "model_module": "@jupyter-widgets/controls",
          "model_name": "HTMLModel",
          "model_module_version": "1.5.0",
          "state": {
            "_dom_classes": [],
            "_model_module": "@jupyter-widgets/controls",
            "_model_module_version": "1.5.0",
            "_model_name": "HTMLModel",
            "_view_count": null,
            "_view_module": "@jupyter-widgets/controls",
            "_view_module_version": "1.5.0",
            "_view_name": "HTMLView",
            "description": "",
            "description_tooltip": null,
            "layout": "IPY_MODEL_b7264f5f4d9c464c8b4ff0c3c81704c9",
            "placeholder": "​",
            "style": "IPY_MODEL_71aeb1a45283420fb717f0291413e4b6",
            "value": "Downloading: 100%"
          }
        },
        "8c26060d479a48489791887a95bc70d9": {
          "model_module": "@jupyter-widgets/controls",
          "model_name": "FloatProgressModel",
          "model_module_version": "1.5.0",
          "state": {
            "_dom_classes": [],
            "_model_module": "@jupyter-widgets/controls",
            "_model_module_version": "1.5.0",
            "_model_name": "FloatProgressModel",
            "_view_count": null,
            "_view_module": "@jupyter-widgets/controls",
            "_view_module_version": "1.5.0",
            "_view_name": "ProgressView",
            "bar_style": "success",
            "description": "",
            "description_tooltip": null,
            "layout": "IPY_MODEL_a47e3d0a64b04adaa7cdbc4aff76a930",
            "max": 2,
            "min": 0,
            "orientation": "horizontal",
            "style": "IPY_MODEL_99ccb6f28b2d4eb780e7c2cff536cb4e",
            "value": 2
          }
        },
        "c21d0268e8754f7bbc738ed3c2f8e963": {
          "model_module": "@jupyter-widgets/controls",
          "model_name": "HTMLModel",
          "model_module_version": "1.5.0",
          "state": {
            "_dom_classes": [],
            "_model_module": "@jupyter-widgets/controls",
            "_model_module_version": "1.5.0",
            "_model_name": "HTMLModel",
            "_view_count": null,
            "_view_module": "@jupyter-widgets/controls",
            "_view_module_version": "1.5.0",
            "_view_name": "HTMLView",
            "description": "",
            "description_tooltip": null,
            "layout": "IPY_MODEL_62a4bc3607964e9fb2db068f95370dfa",
            "placeholder": "​",
            "style": "IPY_MODEL_cf9da175d71a4e108bdeb1e76f6afe92",
            "value": " 2.00/2.00 [00:00&lt;00:00, 62.7B/s]"
          }
        },
        "f3741dcd64e0426ebb7bdba3d990c88a": {
          "model_module": "@jupyter-widgets/base",
          "model_name": "LayoutModel",
          "model_module_version": "1.2.0",
          "state": {
            "_model_module": "@jupyter-widgets/base",
            "_model_module_version": "1.2.0",
            "_model_name": "LayoutModel",
            "_view_count": null,
            "_view_module": "@jupyter-widgets/base",
            "_view_module_version": "1.2.0",
            "_view_name": "LayoutView",
            "align_content": null,
            "align_items": null,
            "align_self": null,
            "border": null,
            "bottom": null,
            "display": null,
            "flex": null,
            "flex_flow": null,
            "grid_area": null,
            "grid_auto_columns": null,
            "grid_auto_flow": null,
            "grid_auto_rows": null,
            "grid_column": null,
            "grid_gap": null,
            "grid_row": null,
            "grid_template_areas": null,
            "grid_template_columns": null,
            "grid_template_rows": null,
            "height": null,
            "justify_content": null,
            "justify_items": null,
            "left": null,
            "margin": null,
            "max_height": null,
            "max_width": null,
            "min_height": null,
            "min_width": null,
            "object_fit": null,
            "object_position": null,
            "order": null,
            "overflow": null,
            "overflow_x": null,
            "overflow_y": null,
            "padding": null,
            "right": null,
            "top": null,
            "visibility": null,
            "width": null
          }
        },
        "b7264f5f4d9c464c8b4ff0c3c81704c9": {
          "model_module": "@jupyter-widgets/base",
          "model_name": "LayoutModel",
          "model_module_version": "1.2.0",
          "state": {
            "_model_module": "@jupyter-widgets/base",
            "_model_module_version": "1.2.0",
            "_model_name": "LayoutModel",
            "_view_count": null,
            "_view_module": "@jupyter-widgets/base",
            "_view_module_version": "1.2.0",
            "_view_name": "LayoutView",
            "align_content": null,
            "align_items": null,
            "align_self": null,
            "border": null,
            "bottom": null,
            "display": null,
            "flex": null,
            "flex_flow": null,
            "grid_area": null,
            "grid_auto_columns": null,
            "grid_auto_flow": null,
            "grid_auto_rows": null,
            "grid_column": null,
            "grid_gap": null,
            "grid_row": null,
            "grid_template_areas": null,
            "grid_template_columns": null,
            "grid_template_rows": null,
            "height": null,
            "justify_content": null,
            "justify_items": null,
            "left": null,
            "margin": null,
            "max_height": null,
            "max_width": null,
            "min_height": null,
            "min_width": null,
            "object_fit": null,
            "object_position": null,
            "order": null,
            "overflow": null,
            "overflow_x": null,
            "overflow_y": null,
            "padding": null,
            "right": null,
            "top": null,
            "visibility": null,
            "width": null
          }
        },
        "71aeb1a45283420fb717f0291413e4b6": {
          "model_module": "@jupyter-widgets/controls",
          "model_name": "DescriptionStyleModel",
          "model_module_version": "1.5.0",
          "state": {
            "_model_module": "@jupyter-widgets/controls",
            "_model_module_version": "1.5.0",
            "_model_name": "DescriptionStyleModel",
            "_view_count": null,
            "_view_module": "@jupyter-widgets/base",
            "_view_module_version": "1.2.0",
            "_view_name": "StyleView",
            "description_width": ""
          }
        },
        "a47e3d0a64b04adaa7cdbc4aff76a930": {
          "model_module": "@jupyter-widgets/base",
          "model_name": "LayoutModel",
          "model_module_version": "1.2.0",
          "state": {
            "_model_module": "@jupyter-widgets/base",
            "_model_module_version": "1.2.0",
            "_model_name": "LayoutModel",
            "_view_count": null,
            "_view_module": "@jupyter-widgets/base",
            "_view_module_version": "1.2.0",
            "_view_name": "LayoutView",
            "align_content": null,
            "align_items": null,
            "align_self": null,
            "border": null,
            "bottom": null,
            "display": null,
            "flex": null,
            "flex_flow": null,
            "grid_area": null,
            "grid_auto_columns": null,
            "grid_auto_flow": null,
            "grid_auto_rows": null,
            "grid_column": null,
            "grid_gap": null,
            "grid_row": null,
            "grid_template_areas": null,
            "grid_template_columns": null,
            "grid_template_rows": null,
            "height": null,
            "justify_content": null,
            "justify_items": null,
            "left": null,
            "margin": null,
            "max_height": null,
            "max_width": null,
            "min_height": null,
            "min_width": null,
            "object_fit": null,
            "object_position": null,
            "order": null,
            "overflow": null,
            "overflow_x": null,
            "overflow_y": null,
            "padding": null,
            "right": null,
            "top": null,
            "visibility": null,
            "width": null
          }
        },
        "99ccb6f28b2d4eb780e7c2cff536cb4e": {
          "model_module": "@jupyter-widgets/controls",
          "model_name": "ProgressStyleModel",
          "model_module_version": "1.5.0",
          "state": {
            "_model_module": "@jupyter-widgets/controls",
            "_model_module_version": "1.5.0",
            "_model_name": "ProgressStyleModel",
            "_view_count": null,
            "_view_module": "@jupyter-widgets/base",
            "_view_module_version": "1.2.0",
            "_view_name": "StyleView",
            "bar_color": null,
            "description_width": ""
          }
        },
        "62a4bc3607964e9fb2db068f95370dfa": {
          "model_module": "@jupyter-widgets/base",
          "model_name": "LayoutModel",
          "model_module_version": "1.2.0",
          "state": {
            "_model_module": "@jupyter-widgets/base",
            "_model_module_version": "1.2.0",
            "_model_name": "LayoutModel",
            "_view_count": null,
            "_view_module": "@jupyter-widgets/base",
            "_view_module_version": "1.2.0",
            "_view_name": "LayoutView",
            "align_content": null,
            "align_items": null,
            "align_self": null,
            "border": null,
            "bottom": null,
            "display": null,
            "flex": null,
            "flex_flow": null,
            "grid_area": null,
            "grid_auto_columns": null,
            "grid_auto_flow": null,
            "grid_auto_rows": null,
            "grid_column": null,
            "grid_gap": null,
            "grid_row": null,
            "grid_template_areas": null,
            "grid_template_columns": null,
            "grid_template_rows": null,
            "height": null,
            "justify_content": null,
            "justify_items": null,
            "left": null,
            "margin": null,
            "max_height": null,
            "max_width": null,
            "min_height": null,
            "min_width": null,
            "object_fit": null,
            "object_position": null,
            "order": null,
            "overflow": null,
            "overflow_x": null,
            "overflow_y": null,
            "padding": null,
            "right": null,
            "top": null,
            "visibility": null,
            "width": null
          }
        },
        "cf9da175d71a4e108bdeb1e76f6afe92": {
          "model_module": "@jupyter-widgets/controls",
          "model_name": "DescriptionStyleModel",
          "model_module_version": "1.5.0",
          "state": {
            "_model_module": "@jupyter-widgets/controls",
            "_model_module_version": "1.5.0",
            "_model_name": "DescriptionStyleModel",
            "_view_count": null,
            "_view_module": "@jupyter-widgets/base",
            "_view_module_version": "1.2.0",
            "_view_name": "StyleView",
            "description_width": ""
          }
        },
        "8f8b1276cce44f0c8b7e455fe14efc6a": {
          "model_module": "@jupyter-widgets/controls",
          "model_name": "HBoxModel",
          "model_module_version": "1.5.0",
          "state": {
            "_dom_classes": [],
            "_model_module": "@jupyter-widgets/controls",
            "_model_module_version": "1.5.0",
            "_model_name": "HBoxModel",
            "_view_count": null,
            "_view_module": "@jupyter-widgets/controls",
            "_view_module_version": "1.5.0",
            "_view_name": "HBoxView",
            "box_style": "",
            "children": [
              "IPY_MODEL_49f13ad37fc14df5b504c326c1dbfd10",
              "IPY_MODEL_1330fec780ee4c5c9392c3482dd7a50f",
              "IPY_MODEL_58a77fe57cf148f4aa19d88221ca5690"
            ],
            "layout": "IPY_MODEL_e11a1ba2a44640e382dcc963db145ece"
          }
        },
        "49f13ad37fc14df5b504c326c1dbfd10": {
          "model_module": "@jupyter-widgets/controls",
          "model_name": "HTMLModel",
          "model_module_version": "1.5.0",
          "state": {
            "_dom_classes": [],
            "_model_module": "@jupyter-widgets/controls",
            "_model_module_version": "1.5.0",
            "_model_name": "HTMLModel",
            "_view_count": null,
            "_view_module": "@jupyter-widgets/controls",
            "_view_module_version": "1.5.0",
            "_view_name": "HTMLView",
            "description": "",
            "description_tooltip": null,
            "layout": "IPY_MODEL_330bd2c5e0e5482cb20c95be468f319d",
            "placeholder": "​",
            "style": "IPY_MODEL_58222d954f864c02a8d5707e74929fb2",
            "value": "Downloading: 100%"
          }
        },
        "1330fec780ee4c5c9392c3482dd7a50f": {
          "model_module": "@jupyter-widgets/controls",
          "model_name": "FloatProgressModel",
          "model_module_version": "1.5.0",
          "state": {
            "_dom_classes": [],
            "_model_module": "@jupyter-widgets/controls",
            "_model_module_version": "1.5.0",
            "_model_name": "FloatProgressModel",
            "_view_count": null,
            "_view_module": "@jupyter-widgets/controls",
            "_view_module_version": "1.5.0",
            "_view_name": "ProgressView",
            "bar_style": "success",
            "description": "",
            "description_tooltip": null,
            "layout": "IPY_MODEL_62b364df9ab0421284ebd04e4a81b991",
            "max": 625,
            "min": 0,
            "orientation": "horizontal",
            "style": "IPY_MODEL_8a3954c2b03c4857924799d57b227a3d",
            "value": 625
          }
        },
        "58a77fe57cf148f4aa19d88221ca5690": {
          "model_module": "@jupyter-widgets/controls",
          "model_name": "HTMLModel",
          "model_module_version": "1.5.0",
          "state": {
            "_dom_classes": [],
            "_model_module": "@jupyter-widgets/controls",
            "_model_module_version": "1.5.0",
            "_model_name": "HTMLModel",
            "_view_count": null,
            "_view_module": "@jupyter-widgets/controls",
            "_view_module_version": "1.5.0",
            "_view_name": "HTMLView",
            "description": "",
            "description_tooltip": null,
            "layout": "IPY_MODEL_ee2223dcbf6c459b837d462245e0f381",
            "placeholder": "​",
            "style": "IPY_MODEL_1ab5efe2e1c34455a4eb5cb6f98a6df5",
            "value": " 625/625 [00:00&lt;00:00, 13.9kB/s]"
          }
        },
        "e11a1ba2a44640e382dcc963db145ece": {
          "model_module": "@jupyter-widgets/base",
          "model_name": "LayoutModel",
          "model_module_version": "1.2.0",
          "state": {
            "_model_module": "@jupyter-widgets/base",
            "_model_module_version": "1.2.0",
            "_model_name": "LayoutModel",
            "_view_count": null,
            "_view_module": "@jupyter-widgets/base",
            "_view_module_version": "1.2.0",
            "_view_name": "LayoutView",
            "align_content": null,
            "align_items": null,
            "align_self": null,
            "border": null,
            "bottom": null,
            "display": null,
            "flex": null,
            "flex_flow": null,
            "grid_area": null,
            "grid_auto_columns": null,
            "grid_auto_flow": null,
            "grid_auto_rows": null,
            "grid_column": null,
            "grid_gap": null,
            "grid_row": null,
            "grid_template_areas": null,
            "grid_template_columns": null,
            "grid_template_rows": null,
            "height": null,
            "justify_content": null,
            "justify_items": null,
            "left": null,
            "margin": null,
            "max_height": null,
            "max_width": null,
            "min_height": null,
            "min_width": null,
            "object_fit": null,
            "object_position": null,
            "order": null,
            "overflow": null,
            "overflow_x": null,
            "overflow_y": null,
            "padding": null,
            "right": null,
            "top": null,
            "visibility": null,
            "width": null
          }
        },
        "330bd2c5e0e5482cb20c95be468f319d": {
          "model_module": "@jupyter-widgets/base",
          "model_name": "LayoutModel",
          "model_module_version": "1.2.0",
          "state": {
            "_model_module": "@jupyter-widgets/base",
            "_model_module_version": "1.2.0",
            "_model_name": "LayoutModel",
            "_view_count": null,
            "_view_module": "@jupyter-widgets/base",
            "_view_module_version": "1.2.0",
            "_view_name": "LayoutView",
            "align_content": null,
            "align_items": null,
            "align_self": null,
            "border": null,
            "bottom": null,
            "display": null,
            "flex": null,
            "flex_flow": null,
            "grid_area": null,
            "grid_auto_columns": null,
            "grid_auto_flow": null,
            "grid_auto_rows": null,
            "grid_column": null,
            "grid_gap": null,
            "grid_row": null,
            "grid_template_areas": null,
            "grid_template_columns": null,
            "grid_template_rows": null,
            "height": null,
            "justify_content": null,
            "justify_items": null,
            "left": null,
            "margin": null,
            "max_height": null,
            "max_width": null,
            "min_height": null,
            "min_width": null,
            "object_fit": null,
            "object_position": null,
            "order": null,
            "overflow": null,
            "overflow_x": null,
            "overflow_y": null,
            "padding": null,
            "right": null,
            "top": null,
            "visibility": null,
            "width": null
          }
        },
        "58222d954f864c02a8d5707e74929fb2": {
          "model_module": "@jupyter-widgets/controls",
          "model_name": "DescriptionStyleModel",
          "model_module_version": "1.5.0",
          "state": {
            "_model_module": "@jupyter-widgets/controls",
            "_model_module_version": "1.5.0",
            "_model_name": "DescriptionStyleModel",
            "_view_count": null,
            "_view_module": "@jupyter-widgets/base",
            "_view_module_version": "1.2.0",
            "_view_name": "StyleView",
            "description_width": ""
          }
        },
        "62b364df9ab0421284ebd04e4a81b991": {
          "model_module": "@jupyter-widgets/base",
          "model_name": "LayoutModel",
          "model_module_version": "1.2.0",
          "state": {
            "_model_module": "@jupyter-widgets/base",
            "_model_module_version": "1.2.0",
            "_model_name": "LayoutModel",
            "_view_count": null,
            "_view_module": "@jupyter-widgets/base",
            "_view_module_version": "1.2.0",
            "_view_name": "LayoutView",
            "align_content": null,
            "align_items": null,
            "align_self": null,
            "border": null,
            "bottom": null,
            "display": null,
            "flex": null,
            "flex_flow": null,
            "grid_area": null,
            "grid_auto_columns": null,
            "grid_auto_flow": null,
            "grid_auto_rows": null,
            "grid_column": null,
            "grid_gap": null,
            "grid_row": null,
            "grid_template_areas": null,
            "grid_template_columns": null,
            "grid_template_rows": null,
            "height": null,
            "justify_content": null,
            "justify_items": null,
            "left": null,
            "margin": null,
            "max_height": null,
            "max_width": null,
            "min_height": null,
            "min_width": null,
            "object_fit": null,
            "object_position": null,
            "order": null,
            "overflow": null,
            "overflow_x": null,
            "overflow_y": null,
            "padding": null,
            "right": null,
            "top": null,
            "visibility": null,
            "width": null
          }
        },
        "8a3954c2b03c4857924799d57b227a3d": {
          "model_module": "@jupyter-widgets/controls",
          "model_name": "ProgressStyleModel",
          "model_module_version": "1.5.0",
          "state": {
            "_model_module": "@jupyter-widgets/controls",
            "_model_module_version": "1.5.0",
            "_model_name": "ProgressStyleModel",
            "_view_count": null,
            "_view_module": "@jupyter-widgets/base",
            "_view_module_version": "1.2.0",
            "_view_name": "StyleView",
            "bar_color": null,
            "description_width": ""
          }
        },
        "ee2223dcbf6c459b837d462245e0f381": {
          "model_module": "@jupyter-widgets/base",
          "model_name": "LayoutModel",
          "model_module_version": "1.2.0",
          "state": {
            "_model_module": "@jupyter-widgets/base",
            "_model_module_version": "1.2.0",
            "_model_name": "LayoutModel",
            "_view_count": null,
            "_view_module": "@jupyter-widgets/base",
            "_view_module_version": "1.2.0",
            "_view_name": "LayoutView",
            "align_content": null,
            "align_items": null,
            "align_self": null,
            "border": null,
            "bottom": null,
            "display": null,
            "flex": null,
            "flex_flow": null,
            "grid_area": null,
            "grid_auto_columns": null,
            "grid_auto_flow": null,
            "grid_auto_rows": null,
            "grid_column": null,
            "grid_gap": null,
            "grid_row": null,
            "grid_template_areas": null,
            "grid_template_columns": null,
            "grid_template_rows": null,
            "height": null,
            "justify_content": null,
            "justify_items": null,
            "left": null,
            "margin": null,
            "max_height": null,
            "max_width": null,
            "min_height": null,
            "min_width": null,
            "object_fit": null,
            "object_position": null,
            "order": null,
            "overflow": null,
            "overflow_x": null,
            "overflow_y": null,
            "padding": null,
            "right": null,
            "top": null,
            "visibility": null,
            "width": null
          }
        },
        "1ab5efe2e1c34455a4eb5cb6f98a6df5": {
          "model_module": "@jupyter-widgets/controls",
          "model_name": "DescriptionStyleModel",
          "model_module_version": "1.5.0",
          "state": {
            "_model_module": "@jupyter-widgets/controls",
            "_model_module_version": "1.5.0",
            "_model_name": "DescriptionStyleModel",
            "_view_count": null,
            "_view_module": "@jupyter-widgets/base",
            "_view_module_version": "1.2.0",
            "_view_name": "StyleView",
            "description_width": ""
          }
        },
        "eae257fa67ac4a5f896735aeb0a91795": {
          "model_module": "@jupyter-widgets/controls",
          "model_name": "HBoxModel",
          "model_module_version": "1.5.0",
          "state": {
            "_dom_classes": [],
            "_model_module": "@jupyter-widgets/controls",
            "_model_module_version": "1.5.0",
            "_model_name": "HBoxModel",
            "_view_count": null,
            "_view_module": "@jupyter-widgets/controls",
            "_view_module_version": "1.5.0",
            "_view_name": "HBoxView",
            "box_style": "",
            "children": [
              "IPY_MODEL_3b165e27153a4a3e9c265af08c974f83",
              "IPY_MODEL_0eb747e8399a47f3934eacbfe5db3e02",
              "IPY_MODEL_fb72d168e88946e6ba74529579fa5510"
            ],
            "layout": "IPY_MODEL_abfb9ea4312a465eaade4e454c34a850"
          }
        },
        "3b165e27153a4a3e9c265af08c974f83": {
          "model_module": "@jupyter-widgets/controls",
          "model_name": "HTMLModel",
          "model_module_version": "1.5.0",
          "state": {
            "_dom_classes": [],
            "_model_module": "@jupyter-widgets/controls",
            "_model_module_version": "1.5.0",
            "_model_name": "HTMLModel",
            "_view_count": null,
            "_view_module": "@jupyter-widgets/controls",
            "_view_module_version": "1.5.0",
            "_view_name": "HTMLView",
            "description": "",
            "description_tooltip": null,
            "layout": "IPY_MODEL_3d8fd45cf58d4ed982d82a789f463d26",
            "placeholder": "​",
            "style": "IPY_MODEL_938c1a2c3da441dca3974735397a43c0",
            "value": "Downloading: 100%"
          }
        },
        "0eb747e8399a47f3934eacbfe5db3e02": {
          "model_module": "@jupyter-widgets/controls",
          "model_name": "FloatProgressModel",
          "model_module_version": "1.5.0",
          "state": {
            "_dom_classes": [],
            "_model_module": "@jupyter-widgets/controls",
            "_model_module_version": "1.5.0",
            "_model_name": "FloatProgressModel",
            "_view_count": null,
            "_view_module": "@jupyter-widgets/controls",
            "_view_module_version": "1.5.0",
            "_view_name": "ProgressView",
            "bar_style": "success",
            "description": "",
            "description_tooltip": null,
            "layout": "IPY_MODEL_bdc76e4c5c354ee393b52b9c9ca795e0",
            "max": 122,
            "min": 0,
            "orientation": "horizontal",
            "style": "IPY_MODEL_cff6e86268a9491bb5377120ab567ba3",
            "value": 122
          }
        },
        "fb72d168e88946e6ba74529579fa5510": {
          "model_module": "@jupyter-widgets/controls",
          "model_name": "HTMLModel",
          "model_module_version": "1.5.0",
          "state": {
            "_dom_classes": [],
            "_model_module": "@jupyter-widgets/controls",
            "_model_module_version": "1.5.0",
            "_model_name": "HTMLModel",
            "_view_count": null,
            "_view_module": "@jupyter-widgets/controls",
            "_view_module_version": "1.5.0",
            "_view_name": "HTMLView",
            "description": "",
            "description_tooltip": null,
            "layout": "IPY_MODEL_926bb60c98114de9a886cee861dcba59",
            "placeholder": "​",
            "style": "IPY_MODEL_189f9305833f452d98708f0579a9100e",
            "value": " 122/122 [00:00&lt;00:00, 3.40kB/s]"
          }
        },
        "abfb9ea4312a465eaade4e454c34a850": {
          "model_module": "@jupyter-widgets/base",
          "model_name": "LayoutModel",
          "model_module_version": "1.2.0",
          "state": {
            "_model_module": "@jupyter-widgets/base",
            "_model_module_version": "1.2.0",
            "_model_name": "LayoutModel",
            "_view_count": null,
            "_view_module": "@jupyter-widgets/base",
            "_view_module_version": "1.2.0",
            "_view_name": "LayoutView",
            "align_content": null,
            "align_items": null,
            "align_self": null,
            "border": null,
            "bottom": null,
            "display": null,
            "flex": null,
            "flex_flow": null,
            "grid_area": null,
            "grid_auto_columns": null,
            "grid_auto_flow": null,
            "grid_auto_rows": null,
            "grid_column": null,
            "grid_gap": null,
            "grid_row": null,
            "grid_template_areas": null,
            "grid_template_columns": null,
            "grid_template_rows": null,
            "height": null,
            "justify_content": null,
            "justify_items": null,
            "left": null,
            "margin": null,
            "max_height": null,
            "max_width": null,
            "min_height": null,
            "min_width": null,
            "object_fit": null,
            "object_position": null,
            "order": null,
            "overflow": null,
            "overflow_x": null,
            "overflow_y": null,
            "padding": null,
            "right": null,
            "top": null,
            "visibility": null,
            "width": null
          }
        },
        "3d8fd45cf58d4ed982d82a789f463d26": {
          "model_module": "@jupyter-widgets/base",
          "model_name": "LayoutModel",
          "model_module_version": "1.2.0",
          "state": {
            "_model_module": "@jupyter-widgets/base",
            "_model_module_version": "1.2.0",
            "_model_name": "LayoutModel",
            "_view_count": null,
            "_view_module": "@jupyter-widgets/base",
            "_view_module_version": "1.2.0",
            "_view_name": "LayoutView",
            "align_content": null,
            "align_items": null,
            "align_self": null,
            "border": null,
            "bottom": null,
            "display": null,
            "flex": null,
            "flex_flow": null,
            "grid_area": null,
            "grid_auto_columns": null,
            "grid_auto_flow": null,
            "grid_auto_rows": null,
            "grid_column": null,
            "grid_gap": null,
            "grid_row": null,
            "grid_template_areas": null,
            "grid_template_columns": null,
            "grid_template_rows": null,
            "height": null,
            "justify_content": null,
            "justify_items": null,
            "left": null,
            "margin": null,
            "max_height": null,
            "max_width": null,
            "min_height": null,
            "min_width": null,
            "object_fit": null,
            "object_position": null,
            "order": null,
            "overflow": null,
            "overflow_x": null,
            "overflow_y": null,
            "padding": null,
            "right": null,
            "top": null,
            "visibility": null,
            "width": null
          }
        },
        "938c1a2c3da441dca3974735397a43c0": {
          "model_module": "@jupyter-widgets/controls",
          "model_name": "DescriptionStyleModel",
          "model_module_version": "1.5.0",
          "state": {
            "_model_module": "@jupyter-widgets/controls",
            "_model_module_version": "1.5.0",
            "_model_name": "DescriptionStyleModel",
            "_view_count": null,
            "_view_module": "@jupyter-widgets/base",
            "_view_module_version": "1.2.0",
            "_view_name": "StyleView",
            "description_width": ""
          }
        },
        "bdc76e4c5c354ee393b52b9c9ca795e0": {
          "model_module": "@jupyter-widgets/base",
          "model_name": "LayoutModel",
          "model_module_version": "1.2.0",
          "state": {
            "_model_module": "@jupyter-widgets/base",
            "_model_module_version": "1.2.0",
            "_model_name": "LayoutModel",
            "_view_count": null,
            "_view_module": "@jupyter-widgets/base",
            "_view_module_version": "1.2.0",
            "_view_name": "LayoutView",
            "align_content": null,
            "align_items": null,
            "align_self": null,
            "border": null,
            "bottom": null,
            "display": null,
            "flex": null,
            "flex_flow": null,
            "grid_area": null,
            "grid_auto_columns": null,
            "grid_auto_flow": null,
            "grid_auto_rows": null,
            "grid_column": null,
            "grid_gap": null,
            "grid_row": null,
            "grid_template_areas": null,
            "grid_template_columns": null,
            "grid_template_rows": null,
            "height": null,
            "justify_content": null,
            "justify_items": null,
            "left": null,
            "margin": null,
            "max_height": null,
            "max_width": null,
            "min_height": null,
            "min_width": null,
            "object_fit": null,
            "object_position": null,
            "order": null,
            "overflow": null,
            "overflow_x": null,
            "overflow_y": null,
            "padding": null,
            "right": null,
            "top": null,
            "visibility": null,
            "width": null
          }
        },
        "cff6e86268a9491bb5377120ab567ba3": {
          "model_module": "@jupyter-widgets/controls",
          "model_name": "ProgressStyleModel",
          "model_module_version": "1.5.0",
          "state": {
            "_model_module": "@jupyter-widgets/controls",
            "_model_module_version": "1.5.0",
            "_model_name": "ProgressStyleModel",
            "_view_count": null,
            "_view_module": "@jupyter-widgets/base",
            "_view_module_version": "1.2.0",
            "_view_name": "StyleView",
            "bar_color": null,
            "description_width": ""
          }
        },
        "926bb60c98114de9a886cee861dcba59": {
          "model_module": "@jupyter-widgets/base",
          "model_name": "LayoutModel",
          "model_module_version": "1.2.0",
          "state": {
            "_model_module": "@jupyter-widgets/base",
            "_model_module_version": "1.2.0",
            "_model_name": "LayoutModel",
            "_view_count": null,
            "_view_module": "@jupyter-widgets/base",
            "_view_module_version": "1.2.0",
            "_view_name": "LayoutView",
            "align_content": null,
            "align_items": null,
            "align_self": null,
            "border": null,
            "bottom": null,
            "display": null,
            "flex": null,
            "flex_flow": null,
            "grid_area": null,
            "grid_auto_columns": null,
            "grid_auto_flow": null,
            "grid_auto_rows": null,
            "grid_column": null,
            "grid_gap": null,
            "grid_row": null,
            "grid_template_areas": null,
            "grid_template_columns": null,
            "grid_template_rows": null,
            "height": null,
            "justify_content": null,
            "justify_items": null,
            "left": null,
            "margin": null,
            "max_height": null,
            "max_width": null,
            "min_height": null,
            "min_width": null,
            "object_fit": null,
            "object_position": null,
            "order": null,
            "overflow": null,
            "overflow_x": null,
            "overflow_y": null,
            "padding": null,
            "right": null,
            "top": null,
            "visibility": null,
            "width": null
          }
        },
        "189f9305833f452d98708f0579a9100e": {
          "model_module": "@jupyter-widgets/controls",
          "model_name": "DescriptionStyleModel",
          "model_module_version": "1.5.0",
          "state": {
            "_model_module": "@jupyter-widgets/controls",
            "_model_module_version": "1.5.0",
            "_model_name": "DescriptionStyleModel",
            "_view_count": null,
            "_view_module": "@jupyter-widgets/base",
            "_view_module_version": "1.2.0",
            "_view_name": "StyleView",
            "description_width": ""
          }
        },
        "d7a39f5615754b848b5a0cf505f78b61": {
          "model_module": "@jupyter-widgets/controls",
          "model_name": "HBoxModel",
          "model_module_version": "1.5.0",
          "state": {
            "_dom_classes": [],
            "_model_module": "@jupyter-widgets/controls",
            "_model_module_version": "1.5.0",
            "_model_name": "HBoxModel",
            "_view_count": null,
            "_view_module": "@jupyter-widgets/controls",
            "_view_module_version": "1.5.0",
            "_view_name": "HBoxView",
            "box_style": "",
            "children": [
              "IPY_MODEL_f5b8fcff0e32472d896c5d49c40da770",
              "IPY_MODEL_8e1786eda80e43f59a645ea6d8747482",
              "IPY_MODEL_9024b8e85b62461093051655526499c3"
            ],
            "layout": "IPY_MODEL_c9d57dbea0e648ca872d2ec52c7e5f5a"
          }
        },
        "f5b8fcff0e32472d896c5d49c40da770": {
          "model_module": "@jupyter-widgets/controls",
          "model_name": "HTMLModel",
          "model_module_version": "1.5.0",
          "state": {
            "_dom_classes": [],
            "_model_module": "@jupyter-widgets/controls",
            "_model_module_version": "1.5.0",
            "_model_name": "HTMLModel",
            "_view_count": null,
            "_view_module": "@jupyter-widgets/controls",
            "_view_module_version": "1.5.0",
            "_view_name": "HTMLView",
            "description": "",
            "description_tooltip": null,
            "layout": "IPY_MODEL_f39a772e535c413ab3b01f89f7530979",
            "placeholder": "​",
            "style": "IPY_MODEL_6436a422717346c8aff5e12a6343587b",
            "value": "Downloading: 100%"
          }
        },
        "8e1786eda80e43f59a645ea6d8747482": {
          "model_module": "@jupyter-widgets/controls",
          "model_name": "FloatProgressModel",
          "model_module_version": "1.5.0",
          "state": {
            "_dom_classes": [],
            "_model_module": "@jupyter-widgets/controls",
            "_model_module_version": "1.5.0",
            "_model_name": "FloatProgressModel",
            "_view_count": null,
            "_view_module": "@jupyter-widgets/controls",
            "_view_module_version": "1.5.0",
            "_view_name": "ProgressView",
            "bar_style": "success",
            "description": "",
            "description_tooltip": null,
            "layout": "IPY_MODEL_55a7b95f44354e0894c4b74a8cac72ae",
            "max": 229,
            "min": 0,
            "orientation": "horizontal",
            "style": "IPY_MODEL_49587060e78948108010c1a78bc64639",
            "value": 229
          }
        },
        "9024b8e85b62461093051655526499c3": {
          "model_module": "@jupyter-widgets/controls",
          "model_name": "HTMLModel",
          "model_module_version": "1.5.0",
          "state": {
            "_dom_classes": [],
            "_model_module": "@jupyter-widgets/controls",
            "_model_module_version": "1.5.0",
            "_model_name": "HTMLModel",
            "_view_count": null,
            "_view_module": "@jupyter-widgets/controls",
            "_view_module_version": "1.5.0",
            "_view_name": "HTMLView",
            "description": "",
            "description_tooltip": null,
            "layout": "IPY_MODEL_dcba4e9311ef4cc0b4c66aec5f5559ef",
            "placeholder": "​",
            "style": "IPY_MODEL_1d3b143a07c547779f9b417997ac4c1d",
            "value": " 229/229 [00:00&lt;00:00, 7.04kB/s]"
          }
        },
        "c9d57dbea0e648ca872d2ec52c7e5f5a": {
          "model_module": "@jupyter-widgets/base",
          "model_name": "LayoutModel",
          "model_module_version": "1.2.0",
          "state": {
            "_model_module": "@jupyter-widgets/base",
            "_model_module_version": "1.2.0",
            "_model_name": "LayoutModel",
            "_view_count": null,
            "_view_module": "@jupyter-widgets/base",
            "_view_module_version": "1.2.0",
            "_view_name": "LayoutView",
            "align_content": null,
            "align_items": null,
            "align_self": null,
            "border": null,
            "bottom": null,
            "display": null,
            "flex": null,
            "flex_flow": null,
            "grid_area": null,
            "grid_auto_columns": null,
            "grid_auto_flow": null,
            "grid_auto_rows": null,
            "grid_column": null,
            "grid_gap": null,
            "grid_row": null,
            "grid_template_areas": null,
            "grid_template_columns": null,
            "grid_template_rows": null,
            "height": null,
            "justify_content": null,
            "justify_items": null,
            "left": null,
            "margin": null,
            "max_height": null,
            "max_width": null,
            "min_height": null,
            "min_width": null,
            "object_fit": null,
            "object_position": null,
            "order": null,
            "overflow": null,
            "overflow_x": null,
            "overflow_y": null,
            "padding": null,
            "right": null,
            "top": null,
            "visibility": null,
            "width": null
          }
        },
        "f39a772e535c413ab3b01f89f7530979": {
          "model_module": "@jupyter-widgets/base",
          "model_name": "LayoutModel",
          "model_module_version": "1.2.0",
          "state": {
            "_model_module": "@jupyter-widgets/base",
            "_model_module_version": "1.2.0",
            "_model_name": "LayoutModel",
            "_view_count": null,
            "_view_module": "@jupyter-widgets/base",
            "_view_module_version": "1.2.0",
            "_view_name": "LayoutView",
            "align_content": null,
            "align_items": null,
            "align_self": null,
            "border": null,
            "bottom": null,
            "display": null,
            "flex": null,
            "flex_flow": null,
            "grid_area": null,
            "grid_auto_columns": null,
            "grid_auto_flow": null,
            "grid_auto_rows": null,
            "grid_column": null,
            "grid_gap": null,
            "grid_row": null,
            "grid_template_areas": null,
            "grid_template_columns": null,
            "grid_template_rows": null,
            "height": null,
            "justify_content": null,
            "justify_items": null,
            "left": null,
            "margin": null,
            "max_height": null,
            "max_width": null,
            "min_height": null,
            "min_width": null,
            "object_fit": null,
            "object_position": null,
            "order": null,
            "overflow": null,
            "overflow_x": null,
            "overflow_y": null,
            "padding": null,
            "right": null,
            "top": null,
            "visibility": null,
            "width": null
          }
        },
        "6436a422717346c8aff5e12a6343587b": {
          "model_module": "@jupyter-widgets/controls",
          "model_name": "DescriptionStyleModel",
          "model_module_version": "1.5.0",
          "state": {
            "_model_module": "@jupyter-widgets/controls",
            "_model_module_version": "1.5.0",
            "_model_name": "DescriptionStyleModel",
            "_view_count": null,
            "_view_module": "@jupyter-widgets/base",
            "_view_module_version": "1.2.0",
            "_view_name": "StyleView",
            "description_width": ""
          }
        },
        "55a7b95f44354e0894c4b74a8cac72ae": {
          "model_module": "@jupyter-widgets/base",
          "model_name": "LayoutModel",
          "model_module_version": "1.2.0",
          "state": {
            "_model_module": "@jupyter-widgets/base",
            "_model_module_version": "1.2.0",
            "_model_name": "LayoutModel",
            "_view_count": null,
            "_view_module": "@jupyter-widgets/base",
            "_view_module_version": "1.2.0",
            "_view_name": "LayoutView",
            "align_content": null,
            "align_items": null,
            "align_self": null,
            "border": null,
            "bottom": null,
            "display": null,
            "flex": null,
            "flex_flow": null,
            "grid_area": null,
            "grid_auto_columns": null,
            "grid_auto_flow": null,
            "grid_auto_rows": null,
            "grid_column": null,
            "grid_gap": null,
            "grid_row": null,
            "grid_template_areas": null,
            "grid_template_columns": null,
            "grid_template_rows": null,
            "height": null,
            "justify_content": null,
            "justify_items": null,
            "left": null,
            "margin": null,
            "max_height": null,
            "max_width": null,
            "min_height": null,
            "min_width": null,
            "object_fit": null,
            "object_position": null,
            "order": null,
            "overflow": null,
            "overflow_x": null,
            "overflow_y": null,
            "padding": null,
            "right": null,
            "top": null,
            "visibility": null,
            "width": null
          }
        },
        "49587060e78948108010c1a78bc64639": {
          "model_module": "@jupyter-widgets/controls",
          "model_name": "ProgressStyleModel",
          "model_module_version": "1.5.0",
          "state": {
            "_model_module": "@jupyter-widgets/controls",
            "_model_module_version": "1.5.0",
            "_model_name": "ProgressStyleModel",
            "_view_count": null,
            "_view_module": "@jupyter-widgets/base",
            "_view_module_version": "1.2.0",
            "_view_name": "StyleView",
            "bar_color": null,
            "description_width": ""
          }
        },
        "dcba4e9311ef4cc0b4c66aec5f5559ef": {
          "model_module": "@jupyter-widgets/base",
          "model_name": "LayoutModel",
          "model_module_version": "1.2.0",
          "state": {
            "_model_module": "@jupyter-widgets/base",
            "_model_module_version": "1.2.0",
            "_model_name": "LayoutModel",
            "_view_count": null,
            "_view_module": "@jupyter-widgets/base",
            "_view_module_version": "1.2.0",
            "_view_name": "LayoutView",
            "align_content": null,
            "align_items": null,
            "align_self": null,
            "border": null,
            "bottom": null,
            "display": null,
            "flex": null,
            "flex_flow": null,
            "grid_area": null,
            "grid_auto_columns": null,
            "grid_auto_flow": null,
            "grid_auto_rows": null,
            "grid_column": null,
            "grid_gap": null,
            "grid_row": null,
            "grid_template_areas": null,
            "grid_template_columns": null,
            "grid_template_rows": null,
            "height": null,
            "justify_content": null,
            "justify_items": null,
            "left": null,
            "margin": null,
            "max_height": null,
            "max_width": null,
            "min_height": null,
            "min_width": null,
            "object_fit": null,
            "object_position": null,
            "order": null,
            "overflow": null,
            "overflow_x": null,
            "overflow_y": null,
            "padding": null,
            "right": null,
            "top": null,
            "visibility": null,
            "width": null
          }
        },
        "1d3b143a07c547779f9b417997ac4c1d": {
          "model_module": "@jupyter-widgets/controls",
          "model_name": "DescriptionStyleModel",
          "model_module_version": "1.5.0",
          "state": {
            "_model_module": "@jupyter-widgets/controls",
            "_model_module_version": "1.5.0",
            "_model_name": "DescriptionStyleModel",
            "_view_count": null,
            "_view_module": "@jupyter-widgets/base",
            "_view_module_version": "1.2.0",
            "_view_name": "StyleView",
            "description_width": ""
          }
        },
        "28c3bea0dcc441b5815b6d981953c484": {
          "model_module": "@jupyter-widgets/controls",
          "model_name": "HBoxModel",
          "model_module_version": "1.5.0",
          "state": {
            "_dom_classes": [],
            "_model_module": "@jupyter-widgets/controls",
            "_model_module_version": "1.5.0",
            "_model_name": "HBoxModel",
            "_view_count": null,
            "_view_module": "@jupyter-widgets/controls",
            "_view_module_version": "1.5.0",
            "_view_name": "HBoxView",
            "box_style": "",
            "children": [
              "IPY_MODEL_132631c61d554d9fa60b4b42f03adb36",
              "IPY_MODEL_60526794ac844d6bab33653ed0f9b060",
              "IPY_MODEL_6a6728cc2f3d45d2b7fac99c78908656"
            ],
            "layout": "IPY_MODEL_bf25796ace04495ca22e05182808861a"
          }
        },
        "132631c61d554d9fa60b4b42f03adb36": {
          "model_module": "@jupyter-widgets/controls",
          "model_name": "HTMLModel",
          "model_module_version": "1.5.0",
          "state": {
            "_dom_classes": [],
            "_model_module": "@jupyter-widgets/controls",
            "_model_module_version": "1.5.0",
            "_model_name": "HTMLModel",
            "_view_count": null,
            "_view_module": "@jupyter-widgets/controls",
            "_view_module_version": "1.5.0",
            "_view_name": "HTMLView",
            "description": "",
            "description_tooltip": null,
            "layout": "IPY_MODEL_88712a16013d4c06afa96974a40fabe3",
            "placeholder": "​",
            "style": "IPY_MODEL_e7312ddae89f431abb9b9674dea7a4bf",
            "value": "Downloading: 100%"
          }
        },
        "60526794ac844d6bab33653ed0f9b060": {
          "model_module": "@jupyter-widgets/controls",
          "model_name": "FloatProgressModel",
          "model_module_version": "1.5.0",
          "state": {
            "_dom_classes": [],
            "_model_module": "@jupyter-widgets/controls",
            "_model_module_version": "1.5.0",
            "_model_name": "FloatProgressModel",
            "_view_count": null,
            "_view_module": "@jupyter-widgets/controls",
            "_view_module_version": "1.5.0",
            "_view_name": "ProgressView",
            "bar_style": "success",
            "description": "",
            "description_tooltip": null,
            "layout": "IPY_MODEL_d887a884e33745e888cd1547b8da39be",
            "max": 438007537,
            "min": 0,
            "orientation": "horizontal",
            "style": "IPY_MODEL_1b8b1fdeec044a31b948f28b79300bff",
            "value": 438007537
          }
        },
        "6a6728cc2f3d45d2b7fac99c78908656": {
          "model_module": "@jupyter-widgets/controls",
          "model_name": "HTMLModel",
          "model_module_version": "1.5.0",
          "state": {
            "_dom_classes": [],
            "_model_module": "@jupyter-widgets/controls",
            "_model_module_version": "1.5.0",
            "_model_name": "HTMLModel",
            "_view_count": null,
            "_view_module": "@jupyter-widgets/controls",
            "_view_module_version": "1.5.0",
            "_view_name": "HTMLView",
            "description": "",
            "description_tooltip": null,
            "layout": "IPY_MODEL_b42ea5949b124c579c587c562f8d8ee6",
            "placeholder": "​",
            "style": "IPY_MODEL_0c50f9baf8d34619962ba93034fbb50c",
            "value": " 438M/438M [00:08&lt;00:00, 54.3MB/s]"
          }
        },
        "bf25796ace04495ca22e05182808861a": {
          "model_module": "@jupyter-widgets/base",
          "model_name": "LayoutModel",
          "model_module_version": "1.2.0",
          "state": {
            "_model_module": "@jupyter-widgets/base",
            "_model_module_version": "1.2.0",
            "_model_name": "LayoutModel",
            "_view_count": null,
            "_view_module": "@jupyter-widgets/base",
            "_view_module_version": "1.2.0",
            "_view_name": "LayoutView",
            "align_content": null,
            "align_items": null,
            "align_self": null,
            "border": null,
            "bottom": null,
            "display": null,
            "flex": null,
            "flex_flow": null,
            "grid_area": null,
            "grid_auto_columns": null,
            "grid_auto_flow": null,
            "grid_auto_rows": null,
            "grid_column": null,
            "grid_gap": null,
            "grid_row": null,
            "grid_template_areas": null,
            "grid_template_columns": null,
            "grid_template_rows": null,
            "height": null,
            "justify_content": null,
            "justify_items": null,
            "left": null,
            "margin": null,
            "max_height": null,
            "max_width": null,
            "min_height": null,
            "min_width": null,
            "object_fit": null,
            "object_position": null,
            "order": null,
            "overflow": null,
            "overflow_x": null,
            "overflow_y": null,
            "padding": null,
            "right": null,
            "top": null,
            "visibility": null,
            "width": null
          }
        },
        "88712a16013d4c06afa96974a40fabe3": {
          "model_module": "@jupyter-widgets/base",
          "model_name": "LayoutModel",
          "model_module_version": "1.2.0",
          "state": {
            "_model_module": "@jupyter-widgets/base",
            "_model_module_version": "1.2.0",
            "_model_name": "LayoutModel",
            "_view_count": null,
            "_view_module": "@jupyter-widgets/base",
            "_view_module_version": "1.2.0",
            "_view_name": "LayoutView",
            "align_content": null,
            "align_items": null,
            "align_self": null,
            "border": null,
            "bottom": null,
            "display": null,
            "flex": null,
            "flex_flow": null,
            "grid_area": null,
            "grid_auto_columns": null,
            "grid_auto_flow": null,
            "grid_auto_rows": null,
            "grid_column": null,
            "grid_gap": null,
            "grid_row": null,
            "grid_template_areas": null,
            "grid_template_columns": null,
            "grid_template_rows": null,
            "height": null,
            "justify_content": null,
            "justify_items": null,
            "left": null,
            "margin": null,
            "max_height": null,
            "max_width": null,
            "min_height": null,
            "min_width": null,
            "object_fit": null,
            "object_position": null,
            "order": null,
            "overflow": null,
            "overflow_x": null,
            "overflow_y": null,
            "padding": null,
            "right": null,
            "top": null,
            "visibility": null,
            "width": null
          }
        },
        "e7312ddae89f431abb9b9674dea7a4bf": {
          "model_module": "@jupyter-widgets/controls",
          "model_name": "DescriptionStyleModel",
          "model_module_version": "1.5.0",
          "state": {
            "_model_module": "@jupyter-widgets/controls",
            "_model_module_version": "1.5.0",
            "_model_name": "DescriptionStyleModel",
            "_view_count": null,
            "_view_module": "@jupyter-widgets/base",
            "_view_module_version": "1.2.0",
            "_view_name": "StyleView",
            "description_width": ""
          }
        },
        "d887a884e33745e888cd1547b8da39be": {
          "model_module": "@jupyter-widgets/base",
          "model_name": "LayoutModel",
          "model_module_version": "1.2.0",
          "state": {
            "_model_module": "@jupyter-widgets/base",
            "_model_module_version": "1.2.0",
            "_model_name": "LayoutModel",
            "_view_count": null,
            "_view_module": "@jupyter-widgets/base",
            "_view_module_version": "1.2.0",
            "_view_name": "LayoutView",
            "align_content": null,
            "align_items": null,
            "align_self": null,
            "border": null,
            "bottom": null,
            "display": null,
            "flex": null,
            "flex_flow": null,
            "grid_area": null,
            "grid_auto_columns": null,
            "grid_auto_flow": null,
            "grid_auto_rows": null,
            "grid_column": null,
            "grid_gap": null,
            "grid_row": null,
            "grid_template_areas": null,
            "grid_template_columns": null,
            "grid_template_rows": null,
            "height": null,
            "justify_content": null,
            "justify_items": null,
            "left": null,
            "margin": null,
            "max_height": null,
            "max_width": null,
            "min_height": null,
            "min_width": null,
            "object_fit": null,
            "object_position": null,
            "order": null,
            "overflow": null,
            "overflow_x": null,
            "overflow_y": null,
            "padding": null,
            "right": null,
            "top": null,
            "visibility": null,
            "width": null
          }
        },
        "1b8b1fdeec044a31b948f28b79300bff": {
          "model_module": "@jupyter-widgets/controls",
          "model_name": "ProgressStyleModel",
          "model_module_version": "1.5.0",
          "state": {
            "_model_module": "@jupyter-widgets/controls",
            "_model_module_version": "1.5.0",
            "_model_name": "ProgressStyleModel",
            "_view_count": null,
            "_view_module": "@jupyter-widgets/base",
            "_view_module_version": "1.2.0",
            "_view_name": "StyleView",
            "bar_color": null,
            "description_width": ""
          }
        },
        "b42ea5949b124c579c587c562f8d8ee6": {
          "model_module": "@jupyter-widgets/base",
          "model_name": "LayoutModel",
          "model_module_version": "1.2.0",
          "state": {
            "_model_module": "@jupyter-widgets/base",
            "_model_module_version": "1.2.0",
            "_model_name": "LayoutModel",
            "_view_count": null,
            "_view_module": "@jupyter-widgets/base",
            "_view_module_version": "1.2.0",
            "_view_name": "LayoutView",
            "align_content": null,
            "align_items": null,
            "align_self": null,
            "border": null,
            "bottom": null,
            "display": null,
            "flex": null,
            "flex_flow": null,
            "grid_area": null,
            "grid_auto_columns": null,
            "grid_auto_flow": null,
            "grid_auto_rows": null,
            "grid_column": null,
            "grid_gap": null,
            "grid_row": null,
            "grid_template_areas": null,
            "grid_template_columns": null,
            "grid_template_rows": null,
            "height": null,
            "justify_content": null,
            "justify_items": null,
            "left": null,
            "margin": null,
            "max_height": null,
            "max_width": null,
            "min_height": null,
            "min_width": null,
            "object_fit": null,
            "object_position": null,
            "order": null,
            "overflow": null,
            "overflow_x": null,
            "overflow_y": null,
            "padding": null,
            "right": null,
            "top": null,
            "visibility": null,
            "width": null
          }
        },
        "0c50f9baf8d34619962ba93034fbb50c": {
          "model_module": "@jupyter-widgets/controls",
          "model_name": "DescriptionStyleModel",
          "model_module_version": "1.5.0",
          "state": {
            "_model_module": "@jupyter-widgets/controls",
            "_model_module_version": "1.5.0",
            "_model_name": "DescriptionStyleModel",
            "_view_count": null,
            "_view_module": "@jupyter-widgets/base",
            "_view_module_version": "1.2.0",
            "_view_name": "StyleView",
            "description_width": ""
          }
        },
        "f4c3b605ac1b480ba3238b267d0140a7": {
          "model_module": "@jupyter-widgets/controls",
          "model_name": "HBoxModel",
          "model_module_version": "1.5.0",
          "state": {
            "_dom_classes": [],
            "_model_module": "@jupyter-widgets/controls",
            "_model_module_version": "1.5.0",
            "_model_name": "HBoxModel",
            "_view_count": null,
            "_view_module": "@jupyter-widgets/controls",
            "_view_module_version": "1.5.0",
            "_view_name": "HBoxView",
            "box_style": "",
            "children": [
              "IPY_MODEL_da184c2690044dba8191b4d081db5a0c",
              "IPY_MODEL_1955cbdcbd03463b9add5a3e9f293c48",
              "IPY_MODEL_5adddb597a1a48a7a0f64609d6fc2196"
            ],
            "layout": "IPY_MODEL_498a3cef18cc455a8f9ee355806eb10c"
          }
        },
        "da184c2690044dba8191b4d081db5a0c": {
          "model_module": "@jupyter-widgets/controls",
          "model_name": "HTMLModel",
          "model_module_version": "1.5.0",
          "state": {
            "_dom_classes": [],
            "_model_module": "@jupyter-widgets/controls",
            "_model_module_version": "1.5.0",
            "_model_name": "HTMLModel",
            "_view_count": null,
            "_view_module": "@jupyter-widgets/controls",
            "_view_module_version": "1.5.0",
            "_view_name": "HTMLView",
            "description": "",
            "description_tooltip": null,
            "layout": "IPY_MODEL_13940a1b377247c5bba0a75c357b7d5f",
            "placeholder": "​",
            "style": "IPY_MODEL_42a23427973a437eb2cebaf93dcf94d9",
            "value": "Downloading: 100%"
          }
        },
        "1955cbdcbd03463b9add5a3e9f293c48": {
          "model_module": "@jupyter-widgets/controls",
          "model_name": "FloatProgressModel",
          "model_module_version": "1.5.0",
          "state": {
            "_dom_classes": [],
            "_model_module": "@jupyter-widgets/controls",
            "_model_module_version": "1.5.0",
            "_model_name": "FloatProgressModel",
            "_view_count": null,
            "_view_module": "@jupyter-widgets/controls",
            "_view_module_version": "1.5.0",
            "_view_name": "ProgressView",
            "bar_style": "success",
            "description": "",
            "description_tooltip": null,
            "layout": "IPY_MODEL_3698cab9120a4b7b8d5ce2a70655205e",
            "max": 53,
            "min": 0,
            "orientation": "horizontal",
            "style": "IPY_MODEL_f3b8870e96a6401585633f3e89518c11",
            "value": 53
          }
        },
        "5adddb597a1a48a7a0f64609d6fc2196": {
          "model_module": "@jupyter-widgets/controls",
          "model_name": "HTMLModel",
          "model_module_version": "1.5.0",
          "state": {
            "_dom_classes": [],
            "_model_module": "@jupyter-widgets/controls",
            "_model_module_version": "1.5.0",
            "_model_name": "HTMLModel",
            "_view_count": null,
            "_view_module": "@jupyter-widgets/controls",
            "_view_module_version": "1.5.0",
            "_view_name": "HTMLView",
            "description": "",
            "description_tooltip": null,
            "layout": "IPY_MODEL_292abb8f89a749e184aa077ac57a5310",
            "placeholder": "​",
            "style": "IPY_MODEL_ccd0ae04b43e43e6839170f42de7522a",
            "value": " 53.0/53.0 [00:00&lt;00:00, 1.64kB/s]"
          }
        },
        "498a3cef18cc455a8f9ee355806eb10c": {
          "model_module": "@jupyter-widgets/base",
          "model_name": "LayoutModel",
          "model_module_version": "1.2.0",
          "state": {
            "_model_module": "@jupyter-widgets/base",
            "_model_module_version": "1.2.0",
            "_model_name": "LayoutModel",
            "_view_count": null,
            "_view_module": "@jupyter-widgets/base",
            "_view_module_version": "1.2.0",
            "_view_name": "LayoutView",
            "align_content": null,
            "align_items": null,
            "align_self": null,
            "border": null,
            "bottom": null,
            "display": null,
            "flex": null,
            "flex_flow": null,
            "grid_area": null,
            "grid_auto_columns": null,
            "grid_auto_flow": null,
            "grid_auto_rows": null,
            "grid_column": null,
            "grid_gap": null,
            "grid_row": null,
            "grid_template_areas": null,
            "grid_template_columns": null,
            "grid_template_rows": null,
            "height": null,
            "justify_content": null,
            "justify_items": null,
            "left": null,
            "margin": null,
            "max_height": null,
            "max_width": null,
            "min_height": null,
            "min_width": null,
            "object_fit": null,
            "object_position": null,
            "order": null,
            "overflow": null,
            "overflow_x": null,
            "overflow_y": null,
            "padding": null,
            "right": null,
            "top": null,
            "visibility": null,
            "width": null
          }
        },
        "13940a1b377247c5bba0a75c357b7d5f": {
          "model_module": "@jupyter-widgets/base",
          "model_name": "LayoutModel",
          "model_module_version": "1.2.0",
          "state": {
            "_model_module": "@jupyter-widgets/base",
            "_model_module_version": "1.2.0",
            "_model_name": "LayoutModel",
            "_view_count": null,
            "_view_module": "@jupyter-widgets/base",
            "_view_module_version": "1.2.0",
            "_view_name": "LayoutView",
            "align_content": null,
            "align_items": null,
            "align_self": null,
            "border": null,
            "bottom": null,
            "display": null,
            "flex": null,
            "flex_flow": null,
            "grid_area": null,
            "grid_auto_columns": null,
            "grid_auto_flow": null,
            "grid_auto_rows": null,
            "grid_column": null,
            "grid_gap": null,
            "grid_row": null,
            "grid_template_areas": null,
            "grid_template_columns": null,
            "grid_template_rows": null,
            "height": null,
            "justify_content": null,
            "justify_items": null,
            "left": null,
            "margin": null,
            "max_height": null,
            "max_width": null,
            "min_height": null,
            "min_width": null,
            "object_fit": null,
            "object_position": null,
            "order": null,
            "overflow": null,
            "overflow_x": null,
            "overflow_y": null,
            "padding": null,
            "right": null,
            "top": null,
            "visibility": null,
            "width": null
          }
        },
        "42a23427973a437eb2cebaf93dcf94d9": {
          "model_module": "@jupyter-widgets/controls",
          "model_name": "DescriptionStyleModel",
          "model_module_version": "1.5.0",
          "state": {
            "_model_module": "@jupyter-widgets/controls",
            "_model_module_version": "1.5.0",
            "_model_name": "DescriptionStyleModel",
            "_view_count": null,
            "_view_module": "@jupyter-widgets/base",
            "_view_module_version": "1.2.0",
            "_view_name": "StyleView",
            "description_width": ""
          }
        },
        "3698cab9120a4b7b8d5ce2a70655205e": {
          "model_module": "@jupyter-widgets/base",
          "model_name": "LayoutModel",
          "model_module_version": "1.2.0",
          "state": {
            "_model_module": "@jupyter-widgets/base",
            "_model_module_version": "1.2.0",
            "_model_name": "LayoutModel",
            "_view_count": null,
            "_view_module": "@jupyter-widgets/base",
            "_view_module_version": "1.2.0",
            "_view_name": "LayoutView",
            "align_content": null,
            "align_items": null,
            "align_self": null,
            "border": null,
            "bottom": null,
            "display": null,
            "flex": null,
            "flex_flow": null,
            "grid_area": null,
            "grid_auto_columns": null,
            "grid_auto_flow": null,
            "grid_auto_rows": null,
            "grid_column": null,
            "grid_gap": null,
            "grid_row": null,
            "grid_template_areas": null,
            "grid_template_columns": null,
            "grid_template_rows": null,
            "height": null,
            "justify_content": null,
            "justify_items": null,
            "left": null,
            "margin": null,
            "max_height": null,
            "max_width": null,
            "min_height": null,
            "min_width": null,
            "object_fit": null,
            "object_position": null,
            "order": null,
            "overflow": null,
            "overflow_x": null,
            "overflow_y": null,
            "padding": null,
            "right": null,
            "top": null,
            "visibility": null,
            "width": null
          }
        },
        "f3b8870e96a6401585633f3e89518c11": {
          "model_module": "@jupyter-widgets/controls",
          "model_name": "ProgressStyleModel",
          "model_module_version": "1.5.0",
          "state": {
            "_model_module": "@jupyter-widgets/controls",
            "_model_module_version": "1.5.0",
            "_model_name": "ProgressStyleModel",
            "_view_count": null,
            "_view_module": "@jupyter-widgets/base",
            "_view_module_version": "1.2.0",
            "_view_name": "StyleView",
            "bar_color": null,
            "description_width": ""
          }
        },
        "292abb8f89a749e184aa077ac57a5310": {
          "model_module": "@jupyter-widgets/base",
          "model_name": "LayoutModel",
          "model_module_version": "1.2.0",
          "state": {
            "_model_module": "@jupyter-widgets/base",
            "_model_module_version": "1.2.0",
            "_model_name": "LayoutModel",
            "_view_count": null,
            "_view_module": "@jupyter-widgets/base",
            "_view_module_version": "1.2.0",
            "_view_name": "LayoutView",
            "align_content": null,
            "align_items": null,
            "align_self": null,
            "border": null,
            "bottom": null,
            "display": null,
            "flex": null,
            "flex_flow": null,
            "grid_area": null,
            "grid_auto_columns": null,
            "grid_auto_flow": null,
            "grid_auto_rows": null,
            "grid_column": null,
            "grid_gap": null,
            "grid_row": null,
            "grid_template_areas": null,
            "grid_template_columns": null,
            "grid_template_rows": null,
            "height": null,
            "justify_content": null,
            "justify_items": null,
            "left": null,
            "margin": null,
            "max_height": null,
            "max_width": null,
            "min_height": null,
            "min_width": null,
            "object_fit": null,
            "object_position": null,
            "order": null,
            "overflow": null,
            "overflow_x": null,
            "overflow_y": null,
            "padding": null,
            "right": null,
            "top": null,
            "visibility": null,
            "width": null
          }
        },
        "ccd0ae04b43e43e6839170f42de7522a": {
          "model_module": "@jupyter-widgets/controls",
          "model_name": "DescriptionStyleModel",
          "model_module_version": "1.5.0",
          "state": {
            "_model_module": "@jupyter-widgets/controls",
            "_model_module_version": "1.5.0",
            "_model_name": "DescriptionStyleModel",
            "_view_count": null,
            "_view_module": "@jupyter-widgets/base",
            "_view_module_version": "1.2.0",
            "_view_name": "StyleView",
            "description_width": ""
          }
        },
        "0c8e71ce01c9432d97340786068b0fa1": {
          "model_module": "@jupyter-widgets/controls",
          "model_name": "HBoxModel",
          "model_module_version": "1.5.0",
          "state": {
            "_dom_classes": [],
            "_model_module": "@jupyter-widgets/controls",
            "_model_module_version": "1.5.0",
            "_model_name": "HBoxModel",
            "_view_count": null,
            "_view_module": "@jupyter-widgets/controls",
            "_view_module_version": "1.5.0",
            "_view_name": "HBoxView",
            "box_style": "",
            "children": [
              "IPY_MODEL_c264523fa20941878fa465754606256f",
              "IPY_MODEL_c22d92c51a744c02bd5fc4de4e66410b",
              "IPY_MODEL_7873918bc5f44876812eeef39f2c34c1"
            ],
            "layout": "IPY_MODEL_535aeac72ea64862b3facb4ef729a4fd"
          }
        },
        "c264523fa20941878fa465754606256f": {
          "model_module": "@jupyter-widgets/controls",
          "model_name": "HTMLModel",
          "model_module_version": "1.5.0",
          "state": {
            "_dom_classes": [],
            "_model_module": "@jupyter-widgets/controls",
            "_model_module_version": "1.5.0",
            "_model_name": "HTMLModel",
            "_view_count": null,
            "_view_module": "@jupyter-widgets/controls",
            "_view_module_version": "1.5.0",
            "_view_name": "HTMLView",
            "description": "",
            "description_tooltip": null,
            "layout": "IPY_MODEL_106dc7aa7b914011b3359f79d1927de5",
            "placeholder": "​",
            "style": "IPY_MODEL_d9dbed96886b420c932e59c6f39bb453",
            "value": "Downloading: 100%"
          }
        },
        "c22d92c51a744c02bd5fc4de4e66410b": {
          "model_module": "@jupyter-widgets/controls",
          "model_name": "FloatProgressModel",
          "model_module_version": "1.5.0",
          "state": {
            "_dom_classes": [],
            "_model_module": "@jupyter-widgets/controls",
            "_model_module_version": "1.5.0",
            "_model_name": "FloatProgressModel",
            "_view_count": null,
            "_view_module": "@jupyter-widgets/controls",
            "_view_module_version": "1.5.0",
            "_view_name": "ProgressView",
            "bar_style": "success",
            "description": "",
            "description_tooltip": null,
            "layout": "IPY_MODEL_556670d264664c4686cc758c9760fd06",
            "max": 112,
            "min": 0,
            "orientation": "horizontal",
            "style": "IPY_MODEL_b033c4ac57184d729f23496651de1984",
            "value": 112
          }
        },
        "7873918bc5f44876812eeef39f2c34c1": {
          "model_module": "@jupyter-widgets/controls",
          "model_name": "HTMLModel",
          "model_module_version": "1.5.0",
          "state": {
            "_dom_classes": [],
            "_model_module": "@jupyter-widgets/controls",
            "_model_module_version": "1.5.0",
            "_model_name": "HTMLModel",
            "_view_count": null,
            "_view_module": "@jupyter-widgets/controls",
            "_view_module_version": "1.5.0",
            "_view_name": "HTMLView",
            "description": "",
            "description_tooltip": null,
            "layout": "IPY_MODEL_89184e0578c4473d9fde29e72cf3d327",
            "placeholder": "​",
            "style": "IPY_MODEL_d70c406cbc414e13a10185d0f5298569",
            "value": " 112/112 [00:00&lt;00:00, 2.49kB/s]"
          }
        },
        "535aeac72ea64862b3facb4ef729a4fd": {
          "model_module": "@jupyter-widgets/base",
          "model_name": "LayoutModel",
          "model_module_version": "1.2.0",
          "state": {
            "_model_module": "@jupyter-widgets/base",
            "_model_module_version": "1.2.0",
            "_model_name": "LayoutModel",
            "_view_count": null,
            "_view_module": "@jupyter-widgets/base",
            "_view_module_version": "1.2.0",
            "_view_name": "LayoutView",
            "align_content": null,
            "align_items": null,
            "align_self": null,
            "border": null,
            "bottom": null,
            "display": null,
            "flex": null,
            "flex_flow": null,
            "grid_area": null,
            "grid_auto_columns": null,
            "grid_auto_flow": null,
            "grid_auto_rows": null,
            "grid_column": null,
            "grid_gap": null,
            "grid_row": null,
            "grid_template_areas": null,
            "grid_template_columns": null,
            "grid_template_rows": null,
            "height": null,
            "justify_content": null,
            "justify_items": null,
            "left": null,
            "margin": null,
            "max_height": null,
            "max_width": null,
            "min_height": null,
            "min_width": null,
            "object_fit": null,
            "object_position": null,
            "order": null,
            "overflow": null,
            "overflow_x": null,
            "overflow_y": null,
            "padding": null,
            "right": null,
            "top": null,
            "visibility": null,
            "width": null
          }
        },
        "106dc7aa7b914011b3359f79d1927de5": {
          "model_module": "@jupyter-widgets/base",
          "model_name": "LayoutModel",
          "model_module_version": "1.2.0",
          "state": {
            "_model_module": "@jupyter-widgets/base",
            "_model_module_version": "1.2.0",
            "_model_name": "LayoutModel",
            "_view_count": null,
            "_view_module": "@jupyter-widgets/base",
            "_view_module_version": "1.2.0",
            "_view_name": "LayoutView",
            "align_content": null,
            "align_items": null,
            "align_self": null,
            "border": null,
            "bottom": null,
            "display": null,
            "flex": null,
            "flex_flow": null,
            "grid_area": null,
            "grid_auto_columns": null,
            "grid_auto_flow": null,
            "grid_auto_rows": null,
            "grid_column": null,
            "grid_gap": null,
            "grid_row": null,
            "grid_template_areas": null,
            "grid_template_columns": null,
            "grid_template_rows": null,
            "height": null,
            "justify_content": null,
            "justify_items": null,
            "left": null,
            "margin": null,
            "max_height": null,
            "max_width": null,
            "min_height": null,
            "min_width": null,
            "object_fit": null,
            "object_position": null,
            "order": null,
            "overflow": null,
            "overflow_x": null,
            "overflow_y": null,
            "padding": null,
            "right": null,
            "top": null,
            "visibility": null,
            "width": null
          }
        },
        "d9dbed96886b420c932e59c6f39bb453": {
          "model_module": "@jupyter-widgets/controls",
          "model_name": "DescriptionStyleModel",
          "model_module_version": "1.5.0",
          "state": {
            "_model_module": "@jupyter-widgets/controls",
            "_model_module_version": "1.5.0",
            "_model_name": "DescriptionStyleModel",
            "_view_count": null,
            "_view_module": "@jupyter-widgets/base",
            "_view_module_version": "1.2.0",
            "_view_name": "StyleView",
            "description_width": ""
          }
        },
        "556670d264664c4686cc758c9760fd06": {
          "model_module": "@jupyter-widgets/base",
          "model_name": "LayoutModel",
          "model_module_version": "1.2.0",
          "state": {
            "_model_module": "@jupyter-widgets/base",
            "_model_module_version": "1.2.0",
            "_model_name": "LayoutModel",
            "_view_count": null,
            "_view_module": "@jupyter-widgets/base",
            "_view_module_version": "1.2.0",
            "_view_name": "LayoutView",
            "align_content": null,
            "align_items": null,
            "align_self": null,
            "border": null,
            "bottom": null,
            "display": null,
            "flex": null,
            "flex_flow": null,
            "grid_area": null,
            "grid_auto_columns": null,
            "grid_auto_flow": null,
            "grid_auto_rows": null,
            "grid_column": null,
            "grid_gap": null,
            "grid_row": null,
            "grid_template_areas": null,
            "grid_template_columns": null,
            "grid_template_rows": null,
            "height": null,
            "justify_content": null,
            "justify_items": null,
            "left": null,
            "margin": null,
            "max_height": null,
            "max_width": null,
            "min_height": null,
            "min_width": null,
            "object_fit": null,
            "object_position": null,
            "order": null,
            "overflow": null,
            "overflow_x": null,
            "overflow_y": null,
            "padding": null,
            "right": null,
            "top": null,
            "visibility": null,
            "width": null
          }
        },
        "b033c4ac57184d729f23496651de1984": {
          "model_module": "@jupyter-widgets/controls",
          "model_name": "ProgressStyleModel",
          "model_module_version": "1.5.0",
          "state": {
            "_model_module": "@jupyter-widgets/controls",
            "_model_module_version": "1.5.0",
            "_model_name": "ProgressStyleModel",
            "_view_count": null,
            "_view_module": "@jupyter-widgets/base",
            "_view_module_version": "1.2.0",
            "_view_name": "StyleView",
            "bar_color": null,
            "description_width": ""
          }
        },
        "89184e0578c4473d9fde29e72cf3d327": {
          "model_module": "@jupyter-widgets/base",
          "model_name": "LayoutModel",
          "model_module_version": "1.2.0",
          "state": {
            "_model_module": "@jupyter-widgets/base",
            "_model_module_version": "1.2.0",
            "_model_name": "LayoutModel",
            "_view_count": null,
            "_view_module": "@jupyter-widgets/base",
            "_view_module_version": "1.2.0",
            "_view_name": "LayoutView",
            "align_content": null,
            "align_items": null,
            "align_self": null,
            "border": null,
            "bottom": null,
            "display": null,
            "flex": null,
            "flex_flow": null,
            "grid_area": null,
            "grid_auto_columns": null,
            "grid_auto_flow": null,
            "grid_auto_rows": null,
            "grid_column": null,
            "grid_gap": null,
            "grid_row": null,
            "grid_template_areas": null,
            "grid_template_columns": null,
            "grid_template_rows": null,
            "height": null,
            "justify_content": null,
            "justify_items": null,
            "left": null,
            "margin": null,
            "max_height": null,
            "max_width": null,
            "min_height": null,
            "min_width": null,
            "object_fit": null,
            "object_position": null,
            "order": null,
            "overflow": null,
            "overflow_x": null,
            "overflow_y": null,
            "padding": null,
            "right": null,
            "top": null,
            "visibility": null,
            "width": null
          }
        },
        "d70c406cbc414e13a10185d0f5298569": {
          "model_module": "@jupyter-widgets/controls",
          "model_name": "DescriptionStyleModel",
          "model_module_version": "1.5.0",
          "state": {
            "_model_module": "@jupyter-widgets/controls",
            "_model_module_version": "1.5.0",
            "_model_name": "DescriptionStyleModel",
            "_view_count": null,
            "_view_module": "@jupyter-widgets/base",
            "_view_module_version": "1.2.0",
            "_view_name": "StyleView",
            "description_width": ""
          }
        },
        "dc3d1c27f39d433e886c744259ae4bca": {
          "model_module": "@jupyter-widgets/controls",
          "model_name": "HBoxModel",
          "model_module_version": "1.5.0",
          "state": {
            "_dom_classes": [],
            "_model_module": "@jupyter-widgets/controls",
            "_model_module_version": "1.5.0",
            "_model_name": "HBoxModel",
            "_view_count": null,
            "_view_module": "@jupyter-widgets/controls",
            "_view_module_version": "1.5.0",
            "_view_name": "HBoxView",
            "box_style": "",
            "children": [
              "IPY_MODEL_ab12981eb159475aa16cb803537b022d",
              "IPY_MODEL_ec5a9699cfea4248a0cbae24d587cd89",
              "IPY_MODEL_120f1ee30589458e96cb24364042bee7"
            ],
            "layout": "IPY_MODEL_56e115152d6d4335ae31637ed9cd3340"
          }
        },
        "ab12981eb159475aa16cb803537b022d": {
          "model_module": "@jupyter-widgets/controls",
          "model_name": "HTMLModel",
          "model_module_version": "1.5.0",
          "state": {
            "_dom_classes": [],
            "_model_module": "@jupyter-widgets/controls",
            "_model_module_version": "1.5.0",
            "_model_name": "HTMLModel",
            "_view_count": null,
            "_view_module": "@jupyter-widgets/controls",
            "_view_module_version": "1.5.0",
            "_view_name": "HTMLView",
            "description": "",
            "description_tooltip": null,
            "layout": "IPY_MODEL_5b5fdedc2ffd486d8bf47e271858725f",
            "placeholder": "​",
            "style": "IPY_MODEL_d482be96e8dd4e9e9c1d3ca6db40e470",
            "value": "Downloading: 100%"
          }
        },
        "ec5a9699cfea4248a0cbae24d587cd89": {
          "model_module": "@jupyter-widgets/controls",
          "model_name": "FloatProgressModel",
          "model_module_version": "1.5.0",
          "state": {
            "_dom_classes": [],
            "_model_module": "@jupyter-widgets/controls",
            "_model_module_version": "1.5.0",
            "_model_name": "FloatProgressModel",
            "_view_count": null,
            "_view_module": "@jupyter-widgets/controls",
            "_view_module_version": "1.5.0",
            "_view_name": "ProgressView",
            "bar_style": "success",
            "description": "",
            "description_tooltip": null,
            "layout": "IPY_MODEL_dba04a732f5b4723b2ef471fed1be9ad",
            "max": 466081,
            "min": 0,
            "orientation": "horizontal",
            "style": "IPY_MODEL_dac186be2e3f4c4caed849931ded3166",
            "value": 466081
          }
        },
        "120f1ee30589458e96cb24364042bee7": {
          "model_module": "@jupyter-widgets/controls",
          "model_name": "HTMLModel",
          "model_module_version": "1.5.0",
          "state": {
            "_dom_classes": [],
            "_model_module": "@jupyter-widgets/controls",
            "_model_module_version": "1.5.0",
            "_model_name": "HTMLModel",
            "_view_count": null,
            "_view_module": "@jupyter-widgets/controls",
            "_view_module_version": "1.5.0",
            "_view_name": "HTMLView",
            "description": "",
            "description_tooltip": null,
            "layout": "IPY_MODEL_5b6bd8e0d55148f5a36ad93e8f9a6bcc",
            "placeholder": "​",
            "style": "IPY_MODEL_fbb689311da1423cb3598a56af624cff",
            "value": " 466k/466k [00:00&lt;00:00, 604kB/s]"
          }
        },
        "56e115152d6d4335ae31637ed9cd3340": {
          "model_module": "@jupyter-widgets/base",
          "model_name": "LayoutModel",
          "model_module_version": "1.2.0",
          "state": {
            "_model_module": "@jupyter-widgets/base",
            "_model_module_version": "1.2.0",
            "_model_name": "LayoutModel",
            "_view_count": null,
            "_view_module": "@jupyter-widgets/base",
            "_view_module_version": "1.2.0",
            "_view_name": "LayoutView",
            "align_content": null,
            "align_items": null,
            "align_self": null,
            "border": null,
            "bottom": null,
            "display": null,
            "flex": null,
            "flex_flow": null,
            "grid_area": null,
            "grid_auto_columns": null,
            "grid_auto_flow": null,
            "grid_auto_rows": null,
            "grid_column": null,
            "grid_gap": null,
            "grid_row": null,
            "grid_template_areas": null,
            "grid_template_columns": null,
            "grid_template_rows": null,
            "height": null,
            "justify_content": null,
            "justify_items": null,
            "left": null,
            "margin": null,
            "max_height": null,
            "max_width": null,
            "min_height": null,
            "min_width": null,
            "object_fit": null,
            "object_position": null,
            "order": null,
            "overflow": null,
            "overflow_x": null,
            "overflow_y": null,
            "padding": null,
            "right": null,
            "top": null,
            "visibility": null,
            "width": null
          }
        },
        "5b5fdedc2ffd486d8bf47e271858725f": {
          "model_module": "@jupyter-widgets/base",
          "model_name": "LayoutModel",
          "model_module_version": "1.2.0",
          "state": {
            "_model_module": "@jupyter-widgets/base",
            "_model_module_version": "1.2.0",
            "_model_name": "LayoutModel",
            "_view_count": null,
            "_view_module": "@jupyter-widgets/base",
            "_view_module_version": "1.2.0",
            "_view_name": "LayoutView",
            "align_content": null,
            "align_items": null,
            "align_self": null,
            "border": null,
            "bottom": null,
            "display": null,
            "flex": null,
            "flex_flow": null,
            "grid_area": null,
            "grid_auto_columns": null,
            "grid_auto_flow": null,
            "grid_auto_rows": null,
            "grid_column": null,
            "grid_gap": null,
            "grid_row": null,
            "grid_template_areas": null,
            "grid_template_columns": null,
            "grid_template_rows": null,
            "height": null,
            "justify_content": null,
            "justify_items": null,
            "left": null,
            "margin": null,
            "max_height": null,
            "max_width": null,
            "min_height": null,
            "min_width": null,
            "object_fit": null,
            "object_position": null,
            "order": null,
            "overflow": null,
            "overflow_x": null,
            "overflow_y": null,
            "padding": null,
            "right": null,
            "top": null,
            "visibility": null,
            "width": null
          }
        },
        "d482be96e8dd4e9e9c1d3ca6db40e470": {
          "model_module": "@jupyter-widgets/controls",
          "model_name": "DescriptionStyleModel",
          "model_module_version": "1.5.0",
          "state": {
            "_model_module": "@jupyter-widgets/controls",
            "_model_module_version": "1.5.0",
            "_model_name": "DescriptionStyleModel",
            "_view_count": null,
            "_view_module": "@jupyter-widgets/base",
            "_view_module_version": "1.2.0",
            "_view_name": "StyleView",
            "description_width": ""
          }
        },
        "dba04a732f5b4723b2ef471fed1be9ad": {
          "model_module": "@jupyter-widgets/base",
          "model_name": "LayoutModel",
          "model_module_version": "1.2.0",
          "state": {
            "_model_module": "@jupyter-widgets/base",
            "_model_module_version": "1.2.0",
            "_model_name": "LayoutModel",
            "_view_count": null,
            "_view_module": "@jupyter-widgets/base",
            "_view_module_version": "1.2.0",
            "_view_name": "LayoutView",
            "align_content": null,
            "align_items": null,
            "align_self": null,
            "border": null,
            "bottom": null,
            "display": null,
            "flex": null,
            "flex_flow": null,
            "grid_area": null,
            "grid_auto_columns": null,
            "grid_auto_flow": null,
            "grid_auto_rows": null,
            "grid_column": null,
            "grid_gap": null,
            "grid_row": null,
            "grid_template_areas": null,
            "grid_template_columns": null,
            "grid_template_rows": null,
            "height": null,
            "justify_content": null,
            "justify_items": null,
            "left": null,
            "margin": null,
            "max_height": null,
            "max_width": null,
            "min_height": null,
            "min_width": null,
            "object_fit": null,
            "object_position": null,
            "order": null,
            "overflow": null,
            "overflow_x": null,
            "overflow_y": null,
            "padding": null,
            "right": null,
            "top": null,
            "visibility": null,
            "width": null
          }
        },
        "dac186be2e3f4c4caed849931ded3166": {
          "model_module": "@jupyter-widgets/controls",
          "model_name": "ProgressStyleModel",
          "model_module_version": "1.5.0",
          "state": {
            "_model_module": "@jupyter-widgets/controls",
            "_model_module_version": "1.5.0",
            "_model_name": "ProgressStyleModel",
            "_view_count": null,
            "_view_module": "@jupyter-widgets/base",
            "_view_module_version": "1.2.0",
            "_view_name": "StyleView",
            "bar_color": null,
            "description_width": ""
          }
        },
        "5b6bd8e0d55148f5a36ad93e8f9a6bcc": {
          "model_module": "@jupyter-widgets/base",
          "model_name": "LayoutModel",
          "model_module_version": "1.2.0",
          "state": {
            "_model_module": "@jupyter-widgets/base",
            "_model_module_version": "1.2.0",
            "_model_name": "LayoutModel",
            "_view_count": null,
            "_view_module": "@jupyter-widgets/base",
            "_view_module_version": "1.2.0",
            "_view_name": "LayoutView",
            "align_content": null,
            "align_items": null,
            "align_self": null,
            "border": null,
            "bottom": null,
            "display": null,
            "flex": null,
            "flex_flow": null,
            "grid_area": null,
            "grid_auto_columns": null,
            "grid_auto_flow": null,
            "grid_auto_rows": null,
            "grid_column": null,
            "grid_gap": null,
            "grid_row": null,
            "grid_template_areas": null,
            "grid_template_columns": null,
            "grid_template_rows": null,
            "height": null,
            "justify_content": null,
            "justify_items": null,
            "left": null,
            "margin": null,
            "max_height": null,
            "max_width": null,
            "min_height": null,
            "min_width": null,
            "object_fit": null,
            "object_position": null,
            "order": null,
            "overflow": null,
            "overflow_x": null,
            "overflow_y": null,
            "padding": null,
            "right": null,
            "top": null,
            "visibility": null,
            "width": null
          }
        },
        "fbb689311da1423cb3598a56af624cff": {
          "model_module": "@jupyter-widgets/controls",
          "model_name": "DescriptionStyleModel",
          "model_module_version": "1.5.0",
          "state": {
            "_model_module": "@jupyter-widgets/controls",
            "_model_module_version": "1.5.0",
            "_model_name": "DescriptionStyleModel",
            "_view_count": null,
            "_view_module": "@jupyter-widgets/base",
            "_view_module_version": "1.2.0",
            "_view_name": "StyleView",
            "description_width": ""
          }
        },
        "5cf645bd24cc4482a6adc68c5113efa2": {
          "model_module": "@jupyter-widgets/controls",
          "model_name": "HBoxModel",
          "model_module_version": "1.5.0",
          "state": {
            "_dom_classes": [],
            "_model_module": "@jupyter-widgets/controls",
            "_model_module_version": "1.5.0",
            "_model_name": "HBoxModel",
            "_view_count": null,
            "_view_module": "@jupyter-widgets/controls",
            "_view_module_version": "1.5.0",
            "_view_name": "HBoxView",
            "box_style": "",
            "children": [
              "IPY_MODEL_8fc232d02ba4455cbac3d2cc22ae7a78",
              "IPY_MODEL_0893f0eead78411caee3825d00420f14",
              "IPY_MODEL_69b514205c7f4f73a0114adedd8f9662"
            ],
            "layout": "IPY_MODEL_932aadf7c9b148ab92d9acf3322b6ad2"
          }
        },
        "8fc232d02ba4455cbac3d2cc22ae7a78": {
          "model_module": "@jupyter-widgets/controls",
          "model_name": "HTMLModel",
          "model_module_version": "1.5.0",
          "state": {
            "_dom_classes": [],
            "_model_module": "@jupyter-widgets/controls",
            "_model_module_version": "1.5.0",
            "_model_name": "HTMLModel",
            "_view_count": null,
            "_view_module": "@jupyter-widgets/controls",
            "_view_module_version": "1.5.0",
            "_view_name": "HTMLView",
            "description": "",
            "description_tooltip": null,
            "layout": "IPY_MODEL_6410296b703942ecb27a7e62cc7cbb1f",
            "placeholder": "​",
            "style": "IPY_MODEL_70a30555184d43f897a1ec6c318d7d3b",
            "value": "Downloading: 100%"
          }
        },
        "0893f0eead78411caee3825d00420f14": {
          "model_module": "@jupyter-widgets/controls",
          "model_name": "FloatProgressModel",
          "model_module_version": "1.5.0",
          "state": {
            "_dom_classes": [],
            "_model_module": "@jupyter-widgets/controls",
            "_model_module_version": "1.5.0",
            "_model_name": "FloatProgressModel",
            "_view_count": null,
            "_view_module": "@jupyter-widgets/controls",
            "_view_module_version": "1.5.0",
            "_view_name": "ProgressView",
            "bar_style": "success",
            "description": "",
            "description_tooltip": null,
            "layout": "IPY_MODEL_bf2e5a6ae63e4d8a8bf9eca9750c172d",
            "max": 399,
            "min": 0,
            "orientation": "horizontal",
            "style": "IPY_MODEL_773cd1b179fe43dc89792e4fd4d1ec35",
            "value": 399
          }
        },
        "69b514205c7f4f73a0114adedd8f9662": {
          "model_module": "@jupyter-widgets/controls",
          "model_name": "HTMLModel",
          "model_module_version": "1.5.0",
          "state": {
            "_dom_classes": [],
            "_model_module": "@jupyter-widgets/controls",
            "_model_module_version": "1.5.0",
            "_model_name": "HTMLModel",
            "_view_count": null,
            "_view_module": "@jupyter-widgets/controls",
            "_view_module_version": "1.5.0",
            "_view_name": "HTMLView",
            "description": "",
            "description_tooltip": null,
            "layout": "IPY_MODEL_47706cabe0934177b4a77a62272b271f",
            "placeholder": "​",
            "style": "IPY_MODEL_74a812f3fdeb4b6187dd748ece833e62",
            "value": " 399/399 [00:00&lt;00:00, 13.2kB/s]"
          }
        },
        "932aadf7c9b148ab92d9acf3322b6ad2": {
          "model_module": "@jupyter-widgets/base",
          "model_name": "LayoutModel",
          "model_module_version": "1.2.0",
          "state": {
            "_model_module": "@jupyter-widgets/base",
            "_model_module_version": "1.2.0",
            "_model_name": "LayoutModel",
            "_view_count": null,
            "_view_module": "@jupyter-widgets/base",
            "_view_module_version": "1.2.0",
            "_view_name": "LayoutView",
            "align_content": null,
            "align_items": null,
            "align_self": null,
            "border": null,
            "bottom": null,
            "display": null,
            "flex": null,
            "flex_flow": null,
            "grid_area": null,
            "grid_auto_columns": null,
            "grid_auto_flow": null,
            "grid_auto_rows": null,
            "grid_column": null,
            "grid_gap": null,
            "grid_row": null,
            "grid_template_areas": null,
            "grid_template_columns": null,
            "grid_template_rows": null,
            "height": null,
            "justify_content": null,
            "justify_items": null,
            "left": null,
            "margin": null,
            "max_height": null,
            "max_width": null,
            "min_height": null,
            "min_width": null,
            "object_fit": null,
            "object_position": null,
            "order": null,
            "overflow": null,
            "overflow_x": null,
            "overflow_y": null,
            "padding": null,
            "right": null,
            "top": null,
            "visibility": null,
            "width": null
          }
        },
        "6410296b703942ecb27a7e62cc7cbb1f": {
          "model_module": "@jupyter-widgets/base",
          "model_name": "LayoutModel",
          "model_module_version": "1.2.0",
          "state": {
            "_model_module": "@jupyter-widgets/base",
            "_model_module_version": "1.2.0",
            "_model_name": "LayoutModel",
            "_view_count": null,
            "_view_module": "@jupyter-widgets/base",
            "_view_module_version": "1.2.0",
            "_view_name": "LayoutView",
            "align_content": null,
            "align_items": null,
            "align_self": null,
            "border": null,
            "bottom": null,
            "display": null,
            "flex": null,
            "flex_flow": null,
            "grid_area": null,
            "grid_auto_columns": null,
            "grid_auto_flow": null,
            "grid_auto_rows": null,
            "grid_column": null,
            "grid_gap": null,
            "grid_row": null,
            "grid_template_areas": null,
            "grid_template_columns": null,
            "grid_template_rows": null,
            "height": null,
            "justify_content": null,
            "justify_items": null,
            "left": null,
            "margin": null,
            "max_height": null,
            "max_width": null,
            "min_height": null,
            "min_width": null,
            "object_fit": null,
            "object_position": null,
            "order": null,
            "overflow": null,
            "overflow_x": null,
            "overflow_y": null,
            "padding": null,
            "right": null,
            "top": null,
            "visibility": null,
            "width": null
          }
        },
        "70a30555184d43f897a1ec6c318d7d3b": {
          "model_module": "@jupyter-widgets/controls",
          "model_name": "DescriptionStyleModel",
          "model_module_version": "1.5.0",
          "state": {
            "_model_module": "@jupyter-widgets/controls",
            "_model_module_version": "1.5.0",
            "_model_name": "DescriptionStyleModel",
            "_view_count": null,
            "_view_module": "@jupyter-widgets/base",
            "_view_module_version": "1.2.0",
            "_view_name": "StyleView",
            "description_width": ""
          }
        },
        "bf2e5a6ae63e4d8a8bf9eca9750c172d": {
          "model_module": "@jupyter-widgets/base",
          "model_name": "LayoutModel",
          "model_module_version": "1.2.0",
          "state": {
            "_model_module": "@jupyter-widgets/base",
            "_model_module_version": "1.2.0",
            "_model_name": "LayoutModel",
            "_view_count": null,
            "_view_module": "@jupyter-widgets/base",
            "_view_module_version": "1.2.0",
            "_view_name": "LayoutView",
            "align_content": null,
            "align_items": null,
            "align_self": null,
            "border": null,
            "bottom": null,
            "display": null,
            "flex": null,
            "flex_flow": null,
            "grid_area": null,
            "grid_auto_columns": null,
            "grid_auto_flow": null,
            "grid_auto_rows": null,
            "grid_column": null,
            "grid_gap": null,
            "grid_row": null,
            "grid_template_areas": null,
            "grid_template_columns": null,
            "grid_template_rows": null,
            "height": null,
            "justify_content": null,
            "justify_items": null,
            "left": null,
            "margin": null,
            "max_height": null,
            "max_width": null,
            "min_height": null,
            "min_width": null,
            "object_fit": null,
            "object_position": null,
            "order": null,
            "overflow": null,
            "overflow_x": null,
            "overflow_y": null,
            "padding": null,
            "right": null,
            "top": null,
            "visibility": null,
            "width": null
          }
        },
        "773cd1b179fe43dc89792e4fd4d1ec35": {
          "model_module": "@jupyter-widgets/controls",
          "model_name": "ProgressStyleModel",
          "model_module_version": "1.5.0",
          "state": {
            "_model_module": "@jupyter-widgets/controls",
            "_model_module_version": "1.5.0",
            "_model_name": "ProgressStyleModel",
            "_view_count": null,
            "_view_module": "@jupyter-widgets/base",
            "_view_module_version": "1.2.0",
            "_view_name": "StyleView",
            "bar_color": null,
            "description_width": ""
          }
        },
        "47706cabe0934177b4a77a62272b271f": {
          "model_module": "@jupyter-widgets/base",
          "model_name": "LayoutModel",
          "model_module_version": "1.2.0",
          "state": {
            "_model_module": "@jupyter-widgets/base",
            "_model_module_version": "1.2.0",
            "_model_name": "LayoutModel",
            "_view_count": null,
            "_view_module": "@jupyter-widgets/base",
            "_view_module_version": "1.2.0",
            "_view_name": "LayoutView",
            "align_content": null,
            "align_items": null,
            "align_self": null,
            "border": null,
            "bottom": null,
            "display": null,
            "flex": null,
            "flex_flow": null,
            "grid_area": null,
            "grid_auto_columns": null,
            "grid_auto_flow": null,
            "grid_auto_rows": null,
            "grid_column": null,
            "grid_gap": null,
            "grid_row": null,
            "grid_template_areas": null,
            "grid_template_columns": null,
            "grid_template_rows": null,
            "height": null,
            "justify_content": null,
            "justify_items": null,
            "left": null,
            "margin": null,
            "max_height": null,
            "max_width": null,
            "min_height": null,
            "min_width": null,
            "object_fit": null,
            "object_position": null,
            "order": null,
            "overflow": null,
            "overflow_x": null,
            "overflow_y": null,
            "padding": null,
            "right": null,
            "top": null,
            "visibility": null,
            "width": null
          }
        },
        "74a812f3fdeb4b6187dd748ece833e62": {
          "model_module": "@jupyter-widgets/controls",
          "model_name": "DescriptionStyleModel",
          "model_module_version": "1.5.0",
          "state": {
            "_model_module": "@jupyter-widgets/controls",
            "_model_module_version": "1.5.0",
            "_model_name": "DescriptionStyleModel",
            "_view_count": null,
            "_view_module": "@jupyter-widgets/base",
            "_view_module_version": "1.2.0",
            "_view_name": "StyleView",
            "description_width": ""
          }
        },
        "d074d59adcfe4f2997218742a49f3c24": {
          "model_module": "@jupyter-widgets/controls",
          "model_name": "HBoxModel",
          "model_module_version": "1.5.0",
          "state": {
            "_dom_classes": [],
            "_model_module": "@jupyter-widgets/controls",
            "_model_module_version": "1.5.0",
            "_model_name": "HBoxModel",
            "_view_count": null,
            "_view_module": "@jupyter-widgets/controls",
            "_view_module_version": "1.5.0",
            "_view_name": "HBoxView",
            "box_style": "",
            "children": [
              "IPY_MODEL_6ee2901ba72c444aae771cf07a8ba9a6",
              "IPY_MODEL_37b8d7574e0a4b619e7c728f7e7feca9",
              "IPY_MODEL_0b3b2cbcd7524e39a727b72c5ea9d7ba"
            ],
            "layout": "IPY_MODEL_12d7e8390f784f94a59c6c315baa21cf"
          }
        },
        "6ee2901ba72c444aae771cf07a8ba9a6": {
          "model_module": "@jupyter-widgets/controls",
          "model_name": "HTMLModel",
          "model_module_version": "1.5.0",
          "state": {
            "_dom_classes": [],
            "_model_module": "@jupyter-widgets/controls",
            "_model_module_version": "1.5.0",
            "_model_name": "HTMLModel",
            "_view_count": null,
            "_view_module": "@jupyter-widgets/controls",
            "_view_module_version": "1.5.0",
            "_view_name": "HTMLView",
            "description": "",
            "description_tooltip": null,
            "layout": "IPY_MODEL_b91c2b2194fd4770a845cf87652a2e6f",
            "placeholder": "​",
            "style": "IPY_MODEL_4e8bcec8c80b4295b82229c172245e61",
            "value": "Downloading: 100%"
          }
        },
        "37b8d7574e0a4b619e7c728f7e7feca9": {
          "model_module": "@jupyter-widgets/controls",
          "model_name": "FloatProgressModel",
          "model_module_version": "1.5.0",
          "state": {
            "_dom_classes": [],
            "_model_module": "@jupyter-widgets/controls",
            "_model_module_version": "1.5.0",
            "_model_name": "FloatProgressModel",
            "_view_count": null,
            "_view_module": "@jupyter-widgets/controls",
            "_view_module_version": "1.5.0",
            "_view_name": "ProgressView",
            "bar_style": "success",
            "description": "",
            "description_tooltip": null,
            "layout": "IPY_MODEL_46d346d1f5ac4c60a647c6f01a6ef04b",
            "max": 231508,
            "min": 0,
            "orientation": "horizontal",
            "style": "IPY_MODEL_241fcbc3ae0a4cdd9619cc4408564818",
            "value": 231508
          }
        },
        "0b3b2cbcd7524e39a727b72c5ea9d7ba": {
          "model_module": "@jupyter-widgets/controls",
          "model_name": "HTMLModel",
          "model_module_version": "1.5.0",
          "state": {
            "_dom_classes": [],
            "_model_module": "@jupyter-widgets/controls",
            "_model_module_version": "1.5.0",
            "_model_name": "HTMLModel",
            "_view_count": null,
            "_view_module": "@jupyter-widgets/controls",
            "_view_module_version": "1.5.0",
            "_view_name": "HTMLView",
            "description": "",
            "description_tooltip": null,
            "layout": "IPY_MODEL_16d0d0db24e94a41b11f0c64ccca1cf8",
            "placeholder": "​",
            "style": "IPY_MODEL_1414e0c877f34e8c8f282b986da045d8",
            "value": " 232k/232k [00:00&lt;00:00, 228kB/s]"
          }
        },
        "12d7e8390f784f94a59c6c315baa21cf": {
          "model_module": "@jupyter-widgets/base",
          "model_name": "LayoutModel",
          "model_module_version": "1.2.0",
          "state": {
            "_model_module": "@jupyter-widgets/base",
            "_model_module_version": "1.2.0",
            "_model_name": "LayoutModel",
            "_view_count": null,
            "_view_module": "@jupyter-widgets/base",
            "_view_module_version": "1.2.0",
            "_view_name": "LayoutView",
            "align_content": null,
            "align_items": null,
            "align_self": null,
            "border": null,
            "bottom": null,
            "display": null,
            "flex": null,
            "flex_flow": null,
            "grid_area": null,
            "grid_auto_columns": null,
            "grid_auto_flow": null,
            "grid_auto_rows": null,
            "grid_column": null,
            "grid_gap": null,
            "grid_row": null,
            "grid_template_areas": null,
            "grid_template_columns": null,
            "grid_template_rows": null,
            "height": null,
            "justify_content": null,
            "justify_items": null,
            "left": null,
            "margin": null,
            "max_height": null,
            "max_width": null,
            "min_height": null,
            "min_width": null,
            "object_fit": null,
            "object_position": null,
            "order": null,
            "overflow": null,
            "overflow_x": null,
            "overflow_y": null,
            "padding": null,
            "right": null,
            "top": null,
            "visibility": null,
            "width": null
          }
        },
        "b91c2b2194fd4770a845cf87652a2e6f": {
          "model_module": "@jupyter-widgets/base",
          "model_name": "LayoutModel",
          "model_module_version": "1.2.0",
          "state": {
            "_model_module": "@jupyter-widgets/base",
            "_model_module_version": "1.2.0",
            "_model_name": "LayoutModel",
            "_view_count": null,
            "_view_module": "@jupyter-widgets/base",
            "_view_module_version": "1.2.0",
            "_view_name": "LayoutView",
            "align_content": null,
            "align_items": null,
            "align_self": null,
            "border": null,
            "bottom": null,
            "display": null,
            "flex": null,
            "flex_flow": null,
            "grid_area": null,
            "grid_auto_columns": null,
            "grid_auto_flow": null,
            "grid_auto_rows": null,
            "grid_column": null,
            "grid_gap": null,
            "grid_row": null,
            "grid_template_areas": null,
            "grid_template_columns": null,
            "grid_template_rows": null,
            "height": null,
            "justify_content": null,
            "justify_items": null,
            "left": null,
            "margin": null,
            "max_height": null,
            "max_width": null,
            "min_height": null,
            "min_width": null,
            "object_fit": null,
            "object_position": null,
            "order": null,
            "overflow": null,
            "overflow_x": null,
            "overflow_y": null,
            "padding": null,
            "right": null,
            "top": null,
            "visibility": null,
            "width": null
          }
        },
        "4e8bcec8c80b4295b82229c172245e61": {
          "model_module": "@jupyter-widgets/controls",
          "model_name": "DescriptionStyleModel",
          "model_module_version": "1.5.0",
          "state": {
            "_model_module": "@jupyter-widgets/controls",
            "_model_module_version": "1.5.0",
            "_model_name": "DescriptionStyleModel",
            "_view_count": null,
            "_view_module": "@jupyter-widgets/base",
            "_view_module_version": "1.2.0",
            "_view_name": "StyleView",
            "description_width": ""
          }
        },
        "46d346d1f5ac4c60a647c6f01a6ef04b": {
          "model_module": "@jupyter-widgets/base",
          "model_name": "LayoutModel",
          "model_module_version": "1.2.0",
          "state": {
            "_model_module": "@jupyter-widgets/base",
            "_model_module_version": "1.2.0",
            "_model_name": "LayoutModel",
            "_view_count": null,
            "_view_module": "@jupyter-widgets/base",
            "_view_module_version": "1.2.0",
            "_view_name": "LayoutView",
            "align_content": null,
            "align_items": null,
            "align_self": null,
            "border": null,
            "bottom": null,
            "display": null,
            "flex": null,
            "flex_flow": null,
            "grid_area": null,
            "grid_auto_columns": null,
            "grid_auto_flow": null,
            "grid_auto_rows": null,
            "grid_column": null,
            "grid_gap": null,
            "grid_row": null,
            "grid_template_areas": null,
            "grid_template_columns": null,
            "grid_template_rows": null,
            "height": null,
            "justify_content": null,
            "justify_items": null,
            "left": null,
            "margin": null,
            "max_height": null,
            "max_width": null,
            "min_height": null,
            "min_width": null,
            "object_fit": null,
            "object_position": null,
            "order": null,
            "overflow": null,
            "overflow_x": null,
            "overflow_y": null,
            "padding": null,
            "right": null,
            "top": null,
            "visibility": null,
            "width": null
          }
        },
        "241fcbc3ae0a4cdd9619cc4408564818": {
          "model_module": "@jupyter-widgets/controls",
          "model_name": "ProgressStyleModel",
          "model_module_version": "1.5.0",
          "state": {
            "_model_module": "@jupyter-widgets/controls",
            "_model_module_version": "1.5.0",
            "_model_name": "ProgressStyleModel",
            "_view_count": null,
            "_view_module": "@jupyter-widgets/base",
            "_view_module_version": "1.2.0",
            "_view_name": "StyleView",
            "bar_color": null,
            "description_width": ""
          }
        },
        "16d0d0db24e94a41b11f0c64ccca1cf8": {
          "model_module": "@jupyter-widgets/base",
          "model_name": "LayoutModel",
          "model_module_version": "1.2.0",
          "state": {
            "_model_module": "@jupyter-widgets/base",
            "_model_module_version": "1.2.0",
            "_model_name": "LayoutModel",
            "_view_count": null,
            "_view_module": "@jupyter-widgets/base",
            "_view_module_version": "1.2.0",
            "_view_name": "LayoutView",
            "align_content": null,
            "align_items": null,
            "align_self": null,
            "border": null,
            "bottom": null,
            "display": null,
            "flex": null,
            "flex_flow": null,
            "grid_area": null,
            "grid_auto_columns": null,
            "grid_auto_flow": null,
            "grid_auto_rows": null,
            "grid_column": null,
            "grid_gap": null,
            "grid_row": null,
            "grid_template_areas": null,
            "grid_template_columns": null,
            "grid_template_rows": null,
            "height": null,
            "justify_content": null,
            "justify_items": null,
            "left": null,
            "margin": null,
            "max_height": null,
            "max_width": null,
            "min_height": null,
            "min_width": null,
            "object_fit": null,
            "object_position": null,
            "order": null,
            "overflow": null,
            "overflow_x": null,
            "overflow_y": null,
            "padding": null,
            "right": null,
            "top": null,
            "visibility": null,
            "width": null
          }
        },
        "1414e0c877f34e8c8f282b986da045d8": {
          "model_module": "@jupyter-widgets/controls",
          "model_name": "DescriptionStyleModel",
          "model_module_version": "1.5.0",
          "state": {
            "_model_module": "@jupyter-widgets/controls",
            "_model_module_version": "1.5.0",
            "_model_name": "DescriptionStyleModel",
            "_view_count": null,
            "_view_module": "@jupyter-widgets/base",
            "_view_module_version": "1.2.0",
            "_view_name": "StyleView",
            "description_width": ""
          }
        }
      }
    }
  },
  "nbformat": 4,
  "nbformat_minor": 0
}